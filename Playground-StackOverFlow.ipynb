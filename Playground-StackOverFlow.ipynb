{
 "cells": [
  {
   "cell_type": "code",
   "execution_count": 1,
   "id": "97ac1d3f",
   "metadata": {},
   "outputs": [
    {
     "data": {
      "text/html": [
       "\n",
       "            <div>\n",
       "                <p><b>SparkSession - hive</b></p>\n",
       "                \n",
       "        <div>\n",
       "            <p><b>SparkContext</b></p>\n",
       "\n",
       "            <p><a href=\"http://ip-172-31-2-35.us-east-2.compute.internal:4040\">Spark UI</a></p>\n",
       "\n",
       "            <dl>\n",
       "              <dt>Version</dt>\n",
       "                <dd><code>v3.3.0-amzn-1</code></dd>\n",
       "              <dt>Master</dt>\n",
       "                <dd><code>yarn</code></dd>\n",
       "              <dt>AppName</dt>\n",
       "                <dd><code>PySparkShell</code></dd>\n",
       "            </dl>\n",
       "        </div>\n",
       "        \n",
       "            </div>\n",
       "        "
      ],
      "text/plain": [
       "<pyspark.sql.session.SparkSession at 0x7ff5fc0d7ad0>"
      ]
     },
     "execution_count": 1,
     "metadata": {},
     "output_type": "execute_result"
    }
   ],
   "source": [
    "spark"
   ]
  },
  {
   "cell_type": "markdown",
   "id": "7bced328",
   "metadata": {},
   "source": [
    "## Processing `Comments.xml`"
   ]
  },
  {
   "cell_type": "code",
   "execution_count": 2,
   "id": "dbdfb075",
   "metadata": {},
   "outputs": [],
   "source": [
    "import pyspark.sql.functions as F\n",
    "from pyspark.sql.types import StructType, StructField, IntegerType, StringType, TimestampType, LongType\n",
    "from datetime import datetime"
   ]
  },
  {
   "cell_type": "code",
   "execution_count": 3,
   "id": "682af470",
   "metadata": {},
   "outputs": [],
   "source": [
    "# Dataset path \n",
    "dataset_bucket = 's3://stackoverflow-dataset-2023/dataset/raw-samples/'\n",
    "dataset_comments = f\"{dataset_bucket}Comments-sample.xml\""
   ]
  },
  {
   "cell_type": "code",
   "execution_count": 4,
   "id": "b8883e4b",
   "metadata": {},
   "outputs": [],
   "source": [
    "# Load the data as an RDD\n",
    "rdd = spark.sparkContext.textFile(dataset_comments)\n",
    "\n",
    "parsed_rdd = rdd.map(lambda row: row.strip()) \\\n",
    "   .filter(lambda row: row.startswith(\"<row\")) \\\n",
    "   .filter(lambda row: \"UserDisplayName=\" not in row) \\\n",
    "   .map(lambda row: row[4:-3]) \\\n",
    "   .map(lambda row: row.strip()) \\\n",
    "   .map(lambda row: (int(row.split('\"')[1]), int(row.split('\"')[3]), int(row.split('\"')[5]), row.split('\"')[7], datetime.strptime(row.split('\"')[9], \"%Y-%m-%dT%H:%M:%S.%f\"), int(row.split('\"')[11]), row.split('\"')[13])) \n"
   ]
  },
  {
   "cell_type": "code",
   "execution_count": 5,
   "id": "3684af50",
   "metadata": {},
   "outputs": [
    {
     "name": "stderr",
     "output_type": "stream",
     "text": [
      "                                                                                \r"
     ]
    },
    {
     "data": {
      "text/plain": [
       "1989"
      ]
     },
     "execution_count": 5,
     "metadata": {},
     "output_type": "execute_result"
    }
   ],
   "source": [
    "parsed_rdd.count()"
   ]
  },
  {
   "cell_type": "code",
   "execution_count": null,
   "id": "f0927ec1",
   "metadata": {},
   "outputs": [],
   "source": []
  },
  {
   "cell_type": "code",
   "execution_count": 6,
   "id": "8e55c53a",
   "metadata": {},
   "outputs": [],
   "source": [
    "# Define the schema for the DataFrame\n",
    "my_schema = StructType([\n",
    "    StructField(\"Id\", LongType()),\n",
    "    StructField(\"PostId\", LongType()),\n",
    "    StructField(\"Score\", LongType()),\n",
    "    StructField(\"Text\", StringType()),\n",
    "    StructField(\"CreationDate\", TimestampType()),\n",
    "    StructField(\"UserId\", LongType()),\n",
    "    StructField(\"ContentLicense\", StringType())\n",
    "])\n",
    "\n",
    "# Convert the RDD to a DataFrame\n",
    "df = parsed_rdd.toDF(my_schema)"
   ]
  },
  {
   "cell_type": "code",
   "execution_count": 7,
   "id": "e286eb59",
   "metadata": {},
   "outputs": [
    {
     "name": "stderr",
     "output_type": "stream",
     "text": [
      "                                                                                \r"
     ]
    },
    {
     "data": {
      "text/plain": [
       "1989"
      ]
     },
     "execution_count": 7,
     "metadata": {},
     "output_type": "execute_result"
    }
   ],
   "source": [
    "df.count()"
   ]
  },
  {
   "cell_type": "code",
   "execution_count": 8,
   "id": "8a56a81d",
   "metadata": {},
   "outputs": [
    {
     "name": "stdout",
     "output_type": "stream",
     "text": [
      "root\n",
      " |-- Id: long (nullable = true)\n",
      " |-- PostId: long (nullable = true)\n",
      " |-- Score: long (nullable = true)\n",
      " |-- Text: string (nullable = true)\n",
      " |-- CreationDate: timestamp (nullable = true)\n",
      " |-- UserId: long (nullable = true)\n",
      " |-- ContentLicense: string (nullable = true)\n",
      "\n"
     ]
    }
   ],
   "source": [
    "df.printSchema()"
   ]
  },
  {
   "cell_type": "code",
   "execution_count": 9,
   "id": "73134b6e",
   "metadata": {},
   "outputs": [
    {
     "name": "stderr",
     "output_type": "stream",
     "text": [
      "                                                                                \r"
     ]
    }
   ],
   "source": [
    "# Dataset path \n",
    "output_bucket = 's3://stackoverflow-dataset-2023/dataset/raw-samples-processed/'\n",
    "output_folder_name = f\"{output_bucket}Comments-sample-parquet\"\n",
    "\n",
    "# save dataframe as csv\n",
    "df.write \\\n",
    "  .format('parquet') \\\n",
    "  .option('header', True) \\\n",
    "  .mode('overwrite') \\\n",
    "  .save(output_folder_name)"
   ]
  },
  {
   "cell_type": "markdown",
   "id": "615bb987",
   "metadata": {},
   "source": [
    "## Verifying the data by reading from S3"
   ]
  },
  {
   "cell_type": "code",
   "execution_count": 10,
   "id": "d81f9f17",
   "metadata": {},
   "outputs": [],
   "source": [
    "df = spark.read \\\n",
    "         .option(\"header\", True) \\\n",
    "         .option(\"inferSchema\", True) \\\n",
    "         .parquet(output_folder_name)"
   ]
  },
  {
   "cell_type": "code",
   "execution_count": 11,
   "id": "7c766055",
   "metadata": {},
   "outputs": [
    {
     "name": "stdout",
     "output_type": "stream",
     "text": [
      "root\n",
      " |-- Id: long (nullable = true)\n",
      " |-- PostId: long (nullable = true)\n",
      " |-- Score: long (nullable = true)\n",
      " |-- Text: string (nullable = true)\n",
      " |-- CreationDate: timestamp (nullable = true)\n",
      " |-- UserId: long (nullable = true)\n",
      " |-- ContentLicense: string (nullable = true)\n",
      "\n"
     ]
    }
   ],
   "source": [
    "df.printSchema()"
   ]
  },
  {
   "cell_type": "code",
   "execution_count": 12,
   "id": "a0078bd2",
   "metadata": {},
   "outputs": [
    {
     "name": "stderr",
     "output_type": "stream",
     "text": [
      "\r",
      "[Stage 6:>                                                          (0 + 1) / 1]\r"
     ]
    },
    {
     "name": "stdout",
     "output_type": "stream",
     "text": [
      "+---------+--------+-----+--------------------+--------------------+--------+--------------+\n",
      "|       Id|  PostId|Score|                Text|        CreationDate|  UserId|ContentLicense|\n",
      "+---------+--------+-----+--------------------+--------------------+--------+--------------+\n",
      "|131809104|74679059|    0|Thanks for this, ...|2022-12-04 17:35:...| 2451763|  CC BY-SA 4.0|\n",
      "|131809105|74679059|    0|That being said, ...|2022-12-04 17:35:...| 2451763|  CC BY-SA 4.0|\n",
      "|131809107|74671427|    0|I follow the step...|2022-12-04 17:35:...|20432719|  CC BY-SA 4.0|\n",
      "|131809108|74606162|    0|Your answer could...|2022-12-04 17:35:...|      -1|  CC BY-SA 4.0|\n",
      "|131809109|74679006|    0|I want the data t...|2022-12-04 17:35:...|19874197|  CC BY-SA 4.0|\n",
      "|131809110|74677453|    0|see https://stack...|2022-12-04 17:35:...|10802527|  CC BY-SA 4.0|\n",
      "|131809111|74679042|    0|I added the &quot...|2022-12-04 17:35:...|20431208|  CC BY-SA 4.0|\n",
      "|131809113|74678997|    0|What would be the...|2022-12-04 17:35:...| 2836621|  CC BY-SA 4.0|\n",
      "|131809114|74679094|    0|@curlywei Not sur...|2022-12-04 17:35:...| 2189130|  CC BY-SA 4.0|\n",
      "|131809115|74678164|    0|@ChrisHamilton - ...|2022-12-04 17:35:...|20683291|  CC BY-SA 4.0|\n",
      "|131809116|74679061|    0|do you want me to...|2022-12-04 17:35:...|19561914|  CC BY-SA 4.0|\n",
      "|131809117|74678404|    0|the red squiggly ...|2022-12-04 17:35:...| 2109233|  CC BY-SA 4.0|\n",
      "|131809119|74662043|    0|This issue seems ...|2022-12-04 17:35:...|15747414|  CC BY-SA 4.0|\n",
      "|131809121|74679008|    0|yes the transferr...|2022-12-04 17:35:...|20683790|  CC BY-SA 4.0|\n",
      "|131809122|74679052|    0|make minimal and ...|2022-12-04 17:35:...|20430449|  CC BY-SA 4.0|\n",
      "|131809123|74663786|    0|No. I understand ...|2022-12-04 17:35:...|  947889|  CC BY-SA 4.0|\n",
      "|131809126|74638534|    1|@StavBodik If you...|2022-12-04 17:36:...|17167312|  CC BY-SA 4.0|\n",
      "|131809127|74671712|    0|Thank you @MarkB....|2022-12-04 17:36:...| 2325014|  CC BY-SA 4.0|\n",
      "|131809128|74670445|    0|@r2evans-GONAVYBE...|2022-12-04 17:36:...|12505251|  CC BY-SA 4.0|\n",
      "|131809129|74679139|    0|Please do not off...|2022-12-04 17:36:...|  277267|  CC BY-SA 4.0|\n",
      "+---------+--------+-----+--------------------+--------------------+--------+--------------+\n",
      "only showing top 20 rows\n",
      "\n"
     ]
    },
    {
     "name": "stderr",
     "output_type": "stream",
     "text": [
      "\r",
      "                                                                                \r"
     ]
    }
   ],
   "source": [
    "df.show()"
   ]
  },
  {
   "cell_type": "code",
   "execution_count": 13,
   "id": "d92abbc3",
   "metadata": {},
   "outputs": [
    {
     "name": "stderr",
     "output_type": "stream",
     "text": [
      "                                                                                \r"
     ]
    },
    {
     "data": {
      "text/plain": [
       "1989"
      ]
     },
     "execution_count": 13,
     "metadata": {},
     "output_type": "execute_result"
    }
   ],
   "source": [
    "df.count()"
   ]
  },
  {
   "cell_type": "code",
   "execution_count": null,
   "id": "382d24e1",
   "metadata": {},
   "outputs": [],
   "source": []
  }
 ],
 "metadata": {
  "kernelspec": {
   "display_name": "Python 3 (ipykernel)",
   "language": "python",
   "name": "python3"
  },
  "language_info": {
   "codemirror_mode": {
    "name": "ipython",
    "version": 3
   },
   "file_extension": ".py",
   "mimetype": "text/x-python",
   "name": "python",
   "nbconvert_exporter": "python",
   "pygments_lexer": "ipython3",
   "version": "3.7.16"
  }
 },
 "nbformat": 4,
 "nbformat_minor": 5
}
