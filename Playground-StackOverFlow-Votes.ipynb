{
 "cells": [
  {
   "cell_type": "code",
   "execution_count": 1,
   "id": "97ac1d3f",
   "metadata": {},
   "outputs": [
    {
     "data": {
      "text/html": [
       "\n",
       "            <div>\n",
       "                <p><b>SparkSession - hive</b></p>\n",
       "                \n",
       "        <div>\n",
       "            <p><b>SparkContext</b></p>\n",
       "\n",
       "            <p><a href=\"http://ip-172-31-2-35.us-east-2.compute.internal:4040\">Spark UI</a></p>\n",
       "\n",
       "            <dl>\n",
       "              <dt>Version</dt>\n",
       "                <dd><code>v3.3.0-amzn-1</code></dd>\n",
       "              <dt>Master</dt>\n",
       "                <dd><code>yarn</code></dd>\n",
       "              <dt>AppName</dt>\n",
       "                <dd><code>PySparkShell</code></dd>\n",
       "            </dl>\n",
       "        </div>\n",
       "        \n",
       "            </div>\n",
       "        "
      ],
      "text/plain": [
       "<pyspark.sql.session.SparkSession at 0x7ff5fc0d7ad0>"
      ]
     },
     "execution_count": 1,
     "metadata": {},
     "output_type": "execute_result"
    }
   ],
   "source": [
    "spark"
   ]
  },
  {
   "cell_type": "markdown",
   "id": "7bced328",
   "metadata": {},
   "source": [
    "## Processing `Votes.xml`"
   ]
  },
  {
   "cell_type": "code",
   "execution_count": 1,
   "id": "dbdfb075",
   "metadata": {},
   "outputs": [],
   "source": [
    "import pyspark.sql.functions as F\n",
    "from pyspark.sql.types import StructType, StructField, IntegerType, StringType, TimestampType, LongType\n",
    "from datetime import datetime"
   ]
  },
  {
   "cell_type": "code",
   "execution_count": 2,
   "id": "682af470",
   "metadata": {},
   "outputs": [],
   "source": [
    "# Dataset path \n",
    "dataset_bucket = 's3://stackoverflow-dataset-2023/dataset/raw/2023/'\n",
    "dataset_file = f\"{dataset_bucket}/Votes.xml\""
   ]
  },
  {
   "cell_type": "code",
   "execution_count": 3,
   "id": "0996fa5a",
   "metadata": {},
   "outputs": [],
   "source": [
    "rdd = spark.sparkContext.textFile(dataset_file)\n"
   ]
  },
  {
   "cell_type": "code",
   "execution_count": 4,
   "id": "95a9dff4",
   "metadata": {},
   "outputs": [],
   "source": [
    "def row_parser(row):\n",
    "    \n",
    "    fields = [\n",
    "                \"Id=\",\n",
    "                \"PostId=\",\n",
    "                \"VoteTypeId=\",\n",
    "                \"UserId=\",\n",
    "                \"TagName=\",\n",
    "                \"Count=\",\n",
    "                \"CreationDate=\",\n",
    "                \"ExcerptPostId=\",\n",
    "                \"WikiPostId=\",\n",
    "                \"BountyAmount=\", \n",
    "            ]\n",
    "    \n",
    "    row_field = dict.fromkeys(fields, None)\n",
    "    row_list = [ i.strip() for i in row.split('\"')[:-1] ]\n",
    "    \n",
    "    for i in range(0, len(row_list), 2):\n",
    "        if row_list[i] == 'CreationDate=':\n",
    "            row_field[row_list[i]] = datetime.strptime(row_list[i+1], \"%Y-%m-%dT%H:%M:%S.%f\")\n",
    "        else:\n",
    "            row_field[row_list[i]] = row_list[i+1]\n",
    "        \n",
    "    \n",
    "    return tuple(row_field.values())"
   ]
  },
  {
   "cell_type": "code",
   "execution_count": 5,
   "id": "17b540b3",
   "metadata": {},
   "outputs": [],
   "source": [
    "parsed_rdd = rdd.map(lambda row: row.strip()) \\\n",
    "   .filter(lambda row: row.startswith(\"<row\")) \\\n",
    "   .map(lambda row: row[4:-3]) \\\n",
    "   .map(lambda row: row.strip()) \\\n",
    "   .map(row_parser)"
   ]
  },
  {
   "cell_type": "code",
   "execution_count": 6,
   "id": "78fb26d8",
   "metadata": {},
   "outputs": [
    {
     "name": "stderr",
     "output_type": "stream",
     "text": [
      "                                                                                \r"
     ]
    },
    {
     "data": {
      "text/plain": [
       "228077281"
      ]
     },
     "execution_count": 6,
     "metadata": {},
     "output_type": "execute_result"
    }
   ],
   "source": [
    "parsed_rdd.count()"
   ]
  },
  {
   "cell_type": "code",
   "execution_count": 5,
   "id": "aa22bb95",
   "metadata": {
    "scrolled": true
   },
   "outputs": [
    {
     "name": "stderr",
     "output_type": "stream",
     "text": [
      "                                                                                \r"
     ]
    },
    {
     "data": {
      "text/plain": [
       "224535501"
      ]
     },
     "execution_count": 5,
     "metadata": {},
     "output_type": "execute_result"
    }
   ],
   "source": [
    "parsed_rdd.count()"
   ]
  },
  {
   "cell_type": "code",
   "execution_count": 7,
   "id": "eed56127",
   "metadata": {},
   "outputs": [],
   "source": [
    "# Define the schema for the DataFrame\n",
    "schema_votes = StructType([\n",
    "    StructField(\"Id\", StringType()),\n",
    "    StructField(\"PostId\", StringType()),\n",
    "    StructField(\"VoteTypeId\", StringType()),\n",
    "    StructField(\"UserId\", StringType()),\n",
    "    StructField(\"TagName\", StringType()),\n",
    "    StructField(\"Count\", StringType()),\n",
    "    StructField(\"CreationDate\", TimestampType()),\n",
    "    StructField(\"ExcerptPostId\", StringType()),\n",
    "    StructField(\"WikiPostId\", StringType()),\n",
    "    StructField(\"BountyAmount\", StringType()),\n",
    "])\n",
    "\n",
    "# Convert the RDD to a DataFrame\n",
    "df = parsed_rdd.toDF(schema_votes)"
   ]
  },
  {
   "cell_type": "code",
   "execution_count": 8,
   "id": "2eb524f2",
   "metadata": {},
   "outputs": [
    {
     "name": "stdout",
     "output_type": "stream",
     "text": [
      "root\n",
      " |-- Id: string (nullable = true)\n",
      " |-- PostId: string (nullable = true)\n",
      " |-- VoteTypeId: string (nullable = true)\n",
      " |-- UserId: string (nullable = true)\n",
      " |-- TagName: string (nullable = true)\n",
      " |-- Count: string (nullable = true)\n",
      " |-- CreationDate: timestamp (nullable = true)\n",
      " |-- ExcerptPostId: string (nullable = true)\n",
      " |-- WikiPostId: string (nullable = true)\n",
      " |-- BountyAmount: string (nullable = true)\n",
      "\n"
     ]
    }
   ],
   "source": [
    "df.printSchema()"
   ]
  },
  {
   "cell_type": "code",
   "execution_count": 9,
   "id": "ceb3ca18",
   "metadata": {
    "collapsed": true
   },
   "outputs": [
    {
     "name": "stderr",
     "output_type": "stream",
     "text": [
      "[Stage 1:>                                                          (0 + 1) / 1]\r"
     ]
    },
    {
     "name": "stdout",
     "output_type": "stream",
     "text": [
      "+---+------+----------+------+-------+-----+-------------------+-------------+----------+------------+\n",
      "| Id|PostId|VoteTypeId|UserId|TagName|Count|       CreationDate|ExcerptPostId|WikiPostId|BountyAmount|\n",
      "+---+------+----------+------+-------+-----+-------------------+-------------+----------+------------+\n",
      "|  1|     1|         2|  null|   null| null|2008-07-31 00:00:00|         null|      null|        null|\n",
      "|  2|     3|         2|  null|   null| null|2008-07-31 00:00:00|         null|      null|        null|\n",
      "|  3|     2|         2|  null|   null| null|2008-07-31 00:00:00|         null|      null|        null|\n",
      "|  4|     4|         2|  null|   null| null|2008-07-31 00:00:00|         null|      null|        null|\n",
      "|  5|     6|         2|  null|   null| null|2008-07-31 00:00:00|         null|      null|        null|\n",
      "|  6|     7|         2|  null|   null| null|2008-07-31 00:00:00|         null|      null|        null|\n",
      "|  7|    13|         2|  null|   null| null|2008-08-01 00:00:00|         null|      null|        null|\n",
      "|  9|     4|         2|  null|   null| null|2008-08-01 00:00:00|         null|      null|        null|\n",
      "| 10|    12|         2|  null|   null| null|2008-08-01 00:00:00|         null|      null|        null|\n",
      "| 11|    13|         2|  null|   null| null|2008-08-01 00:00:00|         null|      null|        null|\n",
      "| 16|    19|         2|  null|   null| null|2008-08-01 00:00:00|         null|      null|        null|\n",
      "| 19|    15|         2|  null|   null| null|2008-08-01 00:00:00|         null|      null|        null|\n",
      "| 20|    15|         3|  null|   null| null|2008-08-01 00:00:00|         null|      null|        null|\n",
      "| 26|    15|         3|  null|   null| null|2008-08-01 00:00:00|         null|      null|        null|\n",
      "| 27|    22|         3|  null|   null| null|2008-08-01 00:00:00|         null|      null|        null|\n",
      "| 32|    25|         2|  null|   null| null|2008-08-01 00:00:00|         null|      null|        null|\n",
      "| 33|    35|         3|  null|   null| null|2008-08-01 00:00:00|         null|      null|        null|\n",
      "| 34|     7|         2|  null|   null| null|2008-08-01 00:00:00|         null|      null|        null|\n",
      "| 35|    15|         2|  null|   null| null|2008-08-01 00:00:00|         null|      null|        null|\n",
      "| 37|     7|         2|  null|   null| null|2008-08-01 00:00:00|         null|      null|        null|\n",
      "+---+------+----------+------+-------+-----+-------------------+-------------+----------+------------+\n",
      "only showing top 20 rows\n",
      "\n"
     ]
    },
    {
     "name": "stderr",
     "output_type": "stream",
     "text": [
      "\r",
      "                                                                                \r"
     ]
    }
   ],
   "source": [
    "df.show()"
   ]
  },
  {
   "cell_type": "code",
   "execution_count": 12,
   "id": "d7bc0ba6",
   "metadata": {},
   "outputs": [
    {
     "name": "stderr",
     "output_type": "stream",
     "text": [
      "                                                                                \r"
     ]
    },
    {
     "data": {
      "text/plain": [
       "228077281"
      ]
     },
     "execution_count": 12,
     "metadata": {},
     "output_type": "execute_result"
    }
   ],
   "source": [
    "df = df \\\n",
    "    .withColumn('Id', F.col('Id').cast('int')) \\\n",
    "    .withColumn('PostId', F.col('PostId').cast('int')) \\\n",
    "    .withColumn('VoteTypeId', F.col('VoteTypeId').cast('int')) \\\n",
    "    .withColumn('Count', F.col('Count').cast('int')) \\\n",
    "    .withColumn('ExcerptPostId', F.col('ExcerptPostId').cast('int')) \\\n",
    "    .withColumn('WikiPostId', F.col('WikiPostId').cast('int')) \\\n",
    "    .withColumn('BountyAmount', F.col('BountyAmount').cast('int')) \n",
    "\n",
    "\n",
    "df.count()"
   ]
  },
  {
   "cell_type": "code",
   "execution_count": 13,
   "id": "5d9ffaca",
   "metadata": {},
   "outputs": [
    {
     "name": "stdout",
     "output_type": "stream",
     "text": [
      "root\n",
      " |-- Id: integer (nullable = true)\n",
      " |-- PostId: integer (nullable = true)\n",
      " |-- VoteTypeId: integer (nullable = true)\n",
      " |-- UserId: string (nullable = true)\n",
      " |-- TagName: string (nullable = true)\n",
      " |-- Count: integer (nullable = true)\n",
      " |-- CreationDate: timestamp (nullable = true)\n",
      " |-- ExcerptPostId: integer (nullable = true)\n",
      " |-- WikiPostId: integer (nullable = true)\n",
      " |-- BountyAmount: integer (nullable = true)\n",
      "\n"
     ]
    }
   ],
   "source": [
    "df.printSchema()"
   ]
  },
  {
   "cell_type": "code",
   "execution_count": null,
   "id": "bc8aa089",
   "metadata": {},
   "outputs": [],
   "source": [
    "df.count()"
   ]
  },
  {
   "cell_type": "code",
   "execution_count": null,
   "id": "bec2bd33",
   "metadata": {},
   "outputs": [],
   "source": []
  },
  {
   "cell_type": "code",
   "execution_count": 14,
   "id": "785de399",
   "metadata": {},
   "outputs": [
    {
     "name": "stderr",
     "output_type": "stream",
     "text": [
      "                                                                                \r"
     ]
    }
   ],
   "source": [
    "# Dataset path \n",
    "output_bucket = 's3://stackoverflow-dataset-2023/dataset/raw-processed/2023'\n",
    "output_folder_name = f\"{output_bucket}/Votes-parquet\"\n",
    "\n",
    "# save dataframe as csv\n",
    "df.write \\\n",
    "  .format('parquet') \\\n",
    "  .option('header', True) \\\n",
    "  .mode('overwrite') \\\n",
    "  .save(output_folder_name)"
   ]
  },
  {
   "cell_type": "code",
   "execution_count": null,
   "id": "b90f89d9",
   "metadata": {},
   "outputs": [],
   "source": []
  }
 ],
 "metadata": {
  "kernelspec": {
   "display_name": "Python 3 (ipykernel)",
   "language": "python",
   "name": "python3"
  },
  "language_info": {
   "codemirror_mode": {
    "name": "ipython",
    "version": 3
   },
   "file_extension": ".py",
   "mimetype": "text/x-python",
   "name": "python",
   "nbconvert_exporter": "python",
   "pygments_lexer": "ipython3",
   "version": "3.7.16"
  }
 },
 "nbformat": 4,
 "nbformat_minor": 5
}
