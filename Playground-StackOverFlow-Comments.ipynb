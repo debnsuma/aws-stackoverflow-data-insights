{
 "cells": [
  {
   "cell_type": "code",
   "execution_count": 1,
   "id": "97ac1d3f",
   "metadata": {},
   "outputs": [
    {
     "data": {
      "text/html": [
       "\n",
       "            <div>\n",
       "                <p><b>SparkSession - hive</b></p>\n",
       "                \n",
       "        <div>\n",
       "            <p><b>SparkContext</b></p>\n",
       "\n",
       "            <p><a href=\"http://ip-172-31-2-35.us-east-2.compute.internal:4040\">Spark UI</a></p>\n",
       "\n",
       "            <dl>\n",
       "              <dt>Version</dt>\n",
       "                <dd><code>v3.3.0-amzn-1</code></dd>\n",
       "              <dt>Master</dt>\n",
       "                <dd><code>yarn</code></dd>\n",
       "              <dt>AppName</dt>\n",
       "                <dd><code>PySparkShell</code></dd>\n",
       "            </dl>\n",
       "        </div>\n",
       "        \n",
       "            </div>\n",
       "        "
      ],
      "text/plain": [
       "<pyspark.sql.session.SparkSession at 0x7ff5fc0d7ad0>"
      ]
     },
     "execution_count": 1,
     "metadata": {},
     "output_type": "execute_result"
    }
   ],
   "source": [
    "spark"
   ]
  },
  {
   "cell_type": "markdown",
   "id": "7bced328",
   "metadata": {},
   "source": [
    "## Processing `Comments.xml`"
   ]
  },
  {
   "cell_type": "code",
   "execution_count": 1,
   "id": "dbdfb075",
   "metadata": {},
   "outputs": [],
   "source": [
    "import pyspark.sql.functions as F\n",
    "from pyspark.sql.types import StructType, StructField, IntegerType, StringType, TimestampType, LongType\n",
    "from datetime import datetime"
   ]
  },
  {
   "cell_type": "code",
   "execution_count": 2,
   "id": "682af470",
   "metadata": {},
   "outputs": [],
   "source": [
    "# Dataset path \n",
    "dataset_bucket = 's3://stackoverflow-dataset-2023/dataset/raw'\n",
    "dataset_comments = f\"{dataset_bucket}/Comments.xml\""
   ]
  },
  {
   "cell_type": "code",
   "execution_count": 66,
   "id": "cec8d5c7",
   "metadata": {},
   "outputs": [],
   "source": [
    "rdd = spark.sparkContext.textFile(dataset_comments)\n",
    "\n",
    "parsed_rdd = rdd.map(lambda row: row.strip()) \\\n",
    "                .filter(lambda row: row.startswith(\"<row\")) \\\n",
    "                .filter(lambda row: \"UserDisplayName=\" not in row) \\\n",
    "                .map(lambda row: row[4:-3]) \\\n",
    "                .map(lambda row: row.strip()) \\\n",
    "                .filter(lambda row: len(row.split('\"')) == 15) \\\n",
    "                .map(lambda row: (int(row.split('\"')[1]), int(row.split('\"')[3]), int(row.split('\"')[5]), row.split('\"')[7], datetime.strptime(row.split('\"')[9], \"%Y-%m-%dT%H:%M:%S.%f\"), int(row.split('\"')[11]), row.split('\"')[13])) \n"
   ]
  },
  {
   "cell_type": "code",
   "execution_count": 68,
   "id": "4f28370b",
   "metadata": {},
   "outputs": [],
   "source": [
    "# Define the schema for the DataFrame\n",
    "my_schema = StructType([\n",
    "    StructField(\"Id\", LongType()),\n",
    "    StructField(\"PostId\", LongType()),\n",
    "    StructField(\"Score\", LongType()),\n",
    "    StructField(\"Text\", StringType()),\n",
    "    StructField(\"CreationDate\", TimestampType()),\n",
    "    StructField(\"UserId\", LongType()),\n",
    "    StructField(\"ContentLicense\", StringType())\n",
    "])\n",
    "\n",
    "# Convert the RDD to a DataFrame\n",
    "df = parsed_rdd.toDF(my_schema)"
   ]
  },
  {
   "cell_type": "code",
   "execution_count": 69,
   "id": "ae23a1b1",
   "metadata": {},
   "outputs": [
    {
     "name": "stdout",
     "output_type": "stream",
     "text": [
      "root\n",
      " |-- Id: long (nullable = true)\n",
      " |-- PostId: long (nullable = true)\n",
      " |-- Score: long (nullable = true)\n",
      " |-- Text: string (nullable = true)\n",
      " |-- CreationDate: timestamp (nullable = true)\n",
      " |-- UserId: long (nullable = true)\n",
      " |-- ContentLicense: string (nullable = true)\n",
      "\n"
     ]
    }
   ],
   "source": [
    "df.printSchema()"
   ]
  },
  {
   "cell_type": "code",
   "execution_count": 70,
   "id": "d7654e77",
   "metadata": {},
   "outputs": [
    {
     "name": "stderr",
     "output_type": "stream",
     "text": [
      "                                                                                \r"
     ]
    }
   ],
   "source": [
    "# Dataset path \n",
    "output_bucket = 's3://stackoverflow-dataset-2023/dataset/raw-processed'\n",
    "output_folder_name = f\"{output_bucket}/Comments-parquet\"\n",
    "\n",
    "# save dataframe as csv\n",
    "df.write \\\n",
    "  .format('parquet') \\\n",
    "  .option('header', True) \\\n",
    "  .mode('overwrite') \\\n",
    "  .save(output_folder_name)"
   ]
  },
  {
   "cell_type": "markdown",
   "id": "faec480d",
   "metadata": {},
   "source": [
    "## Verifying the data by reading from S3"
   ]
  },
  {
   "cell_type": "code",
   "execution_count": 71,
   "id": "4a593cfb",
   "metadata": {},
   "outputs": [
    {
     "name": "stderr",
     "output_type": "stream",
     "text": [
      "\r",
      "[Stage 32:>                                                         (0 + 1) / 1]\r",
      "\r",
      "                                                                                \r"
     ]
    }
   ],
   "source": [
    "df = spark.read \\\n",
    "         .option(\"header\", True) \\\n",
    "         .option(\"inferSchema\", True) \\\n",
    "         .parquet(output_folder_name)"
   ]
  },
  {
   "cell_type": "code",
   "execution_count": 72,
   "id": "10d502d7",
   "metadata": {
    "scrolled": true
   },
   "outputs": [
    {
     "name": "stderr",
     "output_type": "stream",
     "text": [
      "\r",
      "[Stage 33:>                                                         (0 + 1) / 1]\r"
     ]
    },
    {
     "name": "stdout",
     "output_type": "stream",
     "text": [
      "+-------+-------+-----+--------------------+--------------------+------+--------------+\n",
      "|     Id| PostId|Score|                Text|        CreationDate|UserId|ContentLicense|\n",
      "+-------+-------+-----+--------------------+--------------------+------+--------------+\n",
      "|3289318|3192701|    0|@ckv - area51 is ...|2010-07-07 07:31:...|  1583|  CC BY-SA 2.5|\n",
      "|3289319|3183199|    0|@Alex: that optim...|2010-07-07 07:31:...| 84270|  CC BY-SA 2.5|\n",
      "|3289321|1573241|    1|I also see this p...|2010-07-07 07:32:...|108238|  CC BY-SA 2.5|\n",
      "|3289323|3192624|    0|Do'h!!. I see wha...|2010-07-07 07:32:...|342817|  CC BY-SA 2.5|\n",
      "|3289324|3192156|    1|All the solutions...|2010-07-07 07:32:...|270287|  CC BY-SA 2.5|\n",
      "|3289325|3192701|    1|@Oded: he means t...|2010-07-07 07:32:...|130758|  CC BY-SA 2.5|\n",
      "|3289326|3192196|    0|-1: Doesn't follo...|2010-07-07 07:32:...|239916|  CC BY-SA 2.5|\n",
      "|3289327|3192719|    0|I also applied th...|2010-07-07 07:32:...|295264|  CC BY-SA 2.5|\n",
      "|3289329|3181607|    0|I don't know how ...|2010-07-07 07:34:...|375291|  CC BY-SA 2.5|\n",
      "|3289330|3192719|    0|@metal gear solid...|2010-07-07 07:34:...|295264|  CC BY-SA 2.5|\n",
      "|3289331|3187453|    0|why IList&lt;T&gt...|2010-07-07 07:34:...|305813|  CC BY-SA 2.5|\n",
      "|3289332|3185558|    0|Not on maps from ...|2010-07-07 07:34:...|324584|  CC BY-SA 2.5|\n",
      "|3289333| 815387|    1|Interestingly, th...|2010-07-07 07:34:...|355294|  CC BY-SA 2.5|\n",
      "|3289334|3192693|    1|Yep, joda time is...|2010-07-07 07:34:...|373254|  CC BY-SA 2.5|\n",
      "|3289335|3085976|    1|@pastacool - sorr...|2010-07-07 07:34:...|194489|  CC BY-SA 2.5|\n",
      "|3289336|3192701|    0|I'll propose one ...|2010-07-07 07:34:...|377476|  CC BY-SA 2.5|\n",
      "|3289338|3192407|    0|What Delphi versi...|2010-07-07 07:34:...| 20786|  CC BY-SA 2.5|\n",
      "|3289340|3192291|    0|+1..for elegant s...|2010-07-07 07:35:...|364412|  CC BY-SA 2.5|\n",
      "|3289342|3183896|    0|If my problem is ...|2010-07-07 07:35:...| 86689|  CC BY-SA 2.5|\n",
      "|3289343|3192549|    0|The only alternat...|2010-07-07 07:35:...|139985|  CC BY-SA 2.5|\n",
      "+-------+-------+-----+--------------------+--------------------+------+--------------+\n",
      "only showing top 20 rows\n",
      "\n"
     ]
    },
    {
     "name": "stderr",
     "output_type": "stream",
     "text": [
      "\r",
      "                                                                                \r"
     ]
    }
   ],
   "source": [
    "df.show()"
   ]
  },
  {
   "cell_type": "code",
   "execution_count": null,
   "id": "fd828c17",
   "metadata": {},
   "outputs": [],
   "source": []
  }
 ],
 "metadata": {
  "kernelspec": {
   "display_name": "Python 3 (ipykernel)",
   "language": "python",
   "name": "python3"
  },
  "language_info": {
   "codemirror_mode": {
    "name": "ipython",
    "version": 3
   },
   "file_extension": ".py",
   "mimetype": "text/x-python",
   "name": "python",
   "nbconvert_exporter": "python",
   "pygments_lexer": "ipython3",
   "version": "3.7.16"
  }
 },
 "nbformat": 4,
 "nbformat_minor": 5
}
