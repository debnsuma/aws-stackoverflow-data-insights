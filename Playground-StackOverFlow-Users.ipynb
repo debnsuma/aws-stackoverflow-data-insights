{
 "cells": [
  {
   "cell_type": "code",
   "execution_count": 1,
   "id": "a3b2e7c4",
   "metadata": {},
   "outputs": [
    {
     "data": {
      "text/html": [
       "\n",
       "            <div>\n",
       "                <p><b>SparkSession - hive</b></p>\n",
       "                \n",
       "        <div>\n",
       "            <p><b>SparkContext</b></p>\n",
       "\n",
       "            <p><a href=\"http://ip-172-31-2-35.us-east-2.compute.internal:4045\">Spark UI</a></p>\n",
       "\n",
       "            <dl>\n",
       "              <dt>Version</dt>\n",
       "                <dd><code>v3.3.0-amzn-1</code></dd>\n",
       "              <dt>Master</dt>\n",
       "                <dd><code>yarn</code></dd>\n",
       "              <dt>AppName</dt>\n",
       "                <dd><code>PySparkShell</code></dd>\n",
       "            </dl>\n",
       "        </div>\n",
       "        \n",
       "            </div>\n",
       "        "
      ],
      "text/plain": [
       "<pyspark.sql.session.SparkSession at 0x7f0d880aaad0>"
      ]
     },
     "execution_count": 1,
     "metadata": {},
     "output_type": "execute_result"
    }
   ],
   "source": [
    "spark"
   ]
  },
  {
   "cell_type": "markdown",
   "id": "c99bb33f",
   "metadata": {},
   "source": [
    "## Processing `Comments.xml`"
   ]
  },
  {
   "cell_type": "code",
   "execution_count": 1,
   "id": "5b925e2d",
   "metadata": {},
   "outputs": [],
   "source": [
    "import pyspark.sql.functions as F\n",
    "from pyspark.sql.types import StructType, StructField, IntegerType, StringType, TimestampType, LongType\n",
    "from datetime import datetime"
   ]
  },
  {
   "cell_type": "code",
   "execution_count": 2,
   "id": "8afe9503",
   "metadata": {},
   "outputs": [],
   "source": [
    "# Dataset path \n",
    "dataset_bucket = 's3://stackoverflow-dataset-2023/dataset/raw'\n",
    "dataset_comments = f\"{dataset_bucket}/Users.xml\""
   ]
  },
  {
   "cell_type": "code",
   "execution_count": 3,
   "id": "4492b4a9",
   "metadata": {},
   "outputs": [
    {
     "name": "stderr",
     "output_type": "stream",
     "text": [
      "23/03/08 04:35:31 WARN YarnScheduler: Initial job has not accepted any resources; check your cluster UI to ensure that workers are registered and have sufficient resources\n",
      "23/03/08 04:35:46 WARN YarnScheduler: Initial job has not accepted any resources; check your cluster UI to ensure that workers are registered and have sufficient resources\n",
      "                                                                                \r"
     ]
    },
    {
     "data": {
      "text/plain": [
       "19307024"
      ]
     },
     "execution_count": 3,
     "metadata": {},
     "output_type": "execute_result"
    }
   ],
   "source": [
    "rdd = spark.sparkContext.textFile(dataset_comments)\n",
    "\n",
    "rdd.count()"
   ]
  },
  {
   "cell_type": "code",
   "execution_count": 71,
   "id": "bff9f0c3",
   "metadata": {},
   "outputs": [],
   "source": [
    "\n",
    "def row_parser(row):\n",
    "    row_len = len(row.split('\"')) \n",
    "    result = [None] * 13\n",
    "    \n",
    "    \n",
    "    if row_len == 27:\n",
    "        result = (int(row.split('\"')[1]), \n",
    "                  int(row.split('\"')[3]),\n",
    "                  datetime.strptime(row.split('\"')[5], \"%Y-%m-%dT%H:%M:%S.%f\"), \n",
    "                  row.split('\"')[7], \n",
    "                  datetime.strptime(row.split('\"')[9], \"%Y-%m-%dT%H:%M:%S.%f\"), \n",
    "                  row.split('\"')[11], \n",
    "                  row.split('\"')[13], \n",
    "                  row.split('\"')[15],  \n",
    "                  row.split('\"')[17],\n",
    "                  row.split('\"')[19], \n",
    "                  row.split('\"')[21],  \n",
    "                  row.split('\"')[23],\n",
    "                  row.split('\"')[25], \n",
    "        ) \n",
    "\n",
    "    elif row_len == 25:\n",
    "        result = (int(row.split('\"')[1]), \n",
    "                  int(row.split('\"')[3]),\n",
    "                  datetime.strptime(row.split('\"')[5], \"%Y-%m-%dT%H:%M:%S.%f\"), \n",
    "                  row.split('\"')[7], \n",
    "                  datetime.strptime(row.split('\"')[9], \"%Y-%m-%dT%H:%M:%S.%f\"), \n",
    "                  row.split('\"')[11], \n",
    "                  row.split('\"')[13], \n",
    "                  row.split('\"')[15],  \n",
    "                  row.split('\"')[17],\n",
    "                  row.split('\"')[19], \n",
    "                  row.split('\"')[21],  \n",
    "                  row.split('\"')[23],\n",
    "                  None\n",
    "        ) \n",
    "\n",
    "    elif row_len == 23:\n",
    "        result = (int(row.split('\"')[1]), \n",
    "                  int(row.split('\"')[3]),\n",
    "                  datetime.strptime(row.split('\"')[5], \"%Y-%m-%dT%H:%M:%S.%f\"), \n",
    "                  row.split('\"')[7], \n",
    "                  datetime.strptime(row.split('\"')[9], \"%Y-%m-%dT%H:%M:%S.%f\"), \n",
    "                  row.split('\"')[11], \n",
    "                  row.split('\"')[13], \n",
    "                  row.split('\"')[15],  \n",
    "                  row.split('\"')[17],\n",
    "                  row.split('\"')[19], \n",
    "                  row.split('\"')[21],\n",
    "                  None, \n",
    "                  None\n",
    "        ) \n",
    "\n",
    "    elif row_len == 21:\n",
    "        result = (int(row.split('\"')[1]), \n",
    "                  int(row.split('\"')[3]),\n",
    "                  datetime.strptime(row.split('\"')[5], \"%Y-%m-%dT%H:%M:%S.%f\"), \n",
    "                  row.split('\"')[7], \n",
    "                  datetime.strptime(row.split('\"')[9], \"%Y-%m-%dT%H:%M:%S.%f\"), \n",
    "                  row.split('\"')[11], \n",
    "                  row.split('\"')[13], \n",
    "                  row.split('\"')[15],  \n",
    "                  row.split('\"')[17],\n",
    "                  row.split('\"')[19],\n",
    "                  None,\n",
    "                  None,\n",
    "                  None\n",
    "                  )      \n",
    "        \n",
    "    elif row_len == 19:\n",
    "        result = (int(row.split('\"')[1]), \n",
    "                  int(row.split('\"')[3]),\n",
    "                  datetime.strptime(row.split('\"')[5], \"%Y-%m-%dT%H:%M:%S.%f\"), \n",
    "                  row.split('\"')[7], \n",
    "                  datetime.strptime(row.split('\"')[9], \"%Y-%m-%dT%H:%M:%S.%f\"), \n",
    "                  row.split('\"')[11], \n",
    "                  row.split('\"')[13], \n",
    "                  row.split('\"')[15],  \n",
    "                  row.split('\"')[17],\n",
    "                  None,\n",
    "                  None,\n",
    "                  None,\n",
    "                  None\n",
    "                  )      \n",
    "        \n",
    "    elif row_len == 17:\n",
    "        result = (int(row.split('\"')[1]), \n",
    "                  int(row.split('\"')[3]),\n",
    "                  datetime.strptime(row.split('\"')[5], \"%Y-%m-%dT%H:%M:%S.%f\"), \n",
    "                  row.split('\"')[7], \n",
    "                  datetime.strptime(row.split('\"')[9], \"%Y-%m-%dT%H:%M:%S.%f\"), \n",
    "                  row.split('\"')[11], \n",
    "                  row.split('\"')[13], \n",
    "                  row.split('\"')[15],\n",
    "                  None,\n",
    "                  None,\n",
    "                  None,\n",
    "                  None, \n",
    "                  None\n",
    "                  )          \n",
    "        \n",
    "    return result"
   ]
  },
  {
   "cell_type": "code",
   "execution_count": 72,
   "id": "38eab96b",
   "metadata": {},
   "outputs": [],
   "source": [
    "parsed_rdd = rdd.map(lambda row: row.strip()) \\\n",
    "   .filter(lambda row: row.startswith(\"<row\")) \\\n",
    "   .map(lambda row: row[4:-3]) \\\n",
    "   .map(lambda row: row.strip()) \\\n",
    "   .map(row_parser)\n"
   ]
  },
  {
   "cell_type": "code",
   "execution_count": 73,
   "id": "40ee1f1b",
   "metadata": {},
   "outputs": [],
   "source": [
    "# Define the schema for the DataFrame\n",
    "schema_users = StructType([\n",
    "    StructField(\"Id\", LongType()),\n",
    "    StructField(\"Reputation\", LongType()),\n",
    "    StructField(\"CreationDate\", TimestampType()),\n",
    "    StructField(\"DisplayName\", StringType()),\n",
    "    StructField(\"LastAccessDate\", TimestampType()),\n",
    "    StructField(\"WebsiteUrl\", StringType()),\n",
    "    StructField(\"Location\", StringType()),\n",
    "    StructField(\"AboutMe\", StringType()),\n",
    "    StructField(\"Views\", StringType()),\n",
    "    StructField(\"UpVotes\", StringType()),\n",
    "    StructField(\"DownVotes\", StringType()),\n",
    "    StructField(\"ProfileImageUrl\", StringType()),\n",
    "    StructField(\"AccountId\", StringType())\n",
    "])"
   ]
  },
  {
   "cell_type": "code",
   "execution_count": 74,
   "id": "10e05581",
   "metadata": {},
   "outputs": [],
   "source": [
    "# Convert the RDD to a DataFrame\n",
    "df = parsed_rdd.toDF(schema_users)"
   ]
  },
  {
   "cell_type": "code",
   "execution_count": null,
   "id": "f774aced",
   "metadata": {},
   "outputs": [],
   "source": [
    "# Dataset path \n",
    "output_bucket = 's3://stackoverflow-dataset-2023/dataset/raw-processed'\n",
    "output_folder_name = f\"{output_bucket}/Users-parquet\"\n",
    "\n",
    "# save dataframe as csv\n",
    "df.write \\\n",
    "  .format('parquet') \\\n",
    "  .option('header', True) \\\n",
    "  .mode('overwrite') \\\n",
    "  .save(output_folder_name)\n",
    "\n",
    "df.show()\n"
   ]
  }
 ],
 "metadata": {
  "kernelspec": {
   "display_name": "Python 3 (ipykernel)",
   "language": "python",
   "name": "python3"
  },
  "language_info": {
   "codemirror_mode": {
    "name": "ipython",
    "version": 3
   },
   "file_extension": ".py",
   "mimetype": "text/x-python",
   "name": "python",
   "nbconvert_exporter": "python",
   "pygments_lexer": "ipython3",
   "version": "3.7.16"
  }
 },
 "nbformat": 4,
 "nbformat_minor": 5
}
