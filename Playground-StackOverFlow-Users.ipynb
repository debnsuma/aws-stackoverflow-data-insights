{
 "cells": [
  {
   "cell_type": "code",
   "execution_count": 1,
   "id": "a3b2e7c4",
   "metadata": {},
   "outputs": [
    {
     "data": {
      "text/html": [
       "\n",
       "            <div>\n",
       "                <p><b>SparkSession - hive</b></p>\n",
       "                \n",
       "        <div>\n",
       "            <p><b>SparkContext</b></p>\n",
       "\n",
       "            <p><a href=\"http://ip-172-31-2-35.us-east-2.compute.internal:4045\">Spark UI</a></p>\n",
       "\n",
       "            <dl>\n",
       "              <dt>Version</dt>\n",
       "                <dd><code>v3.3.0-amzn-1</code></dd>\n",
       "              <dt>Master</dt>\n",
       "                <dd><code>yarn</code></dd>\n",
       "              <dt>AppName</dt>\n",
       "                <dd><code>PySparkShell</code></dd>\n",
       "            </dl>\n",
       "        </div>\n",
       "        \n",
       "            </div>\n",
       "        "
      ],
      "text/plain": [
       "<pyspark.sql.session.SparkSession at 0x7f0d880aaad0>"
      ]
     },
     "execution_count": 1,
     "metadata": {},
     "output_type": "execute_result"
    }
   ],
   "source": [
    "spark"
   ]
  },
  {
   "cell_type": "markdown",
   "id": "c99bb33f",
   "metadata": {},
   "source": [
    "## Processing `Users.xml`"
   ]
  },
  {
   "cell_type": "code",
   "execution_count": 7,
   "id": "5b925e2d",
   "metadata": {},
   "outputs": [],
   "source": [
    "import pyspark.sql.functions as F\n",
    "from pyspark.sql.types import StructType, StructField, IntegerType, StringType, TimestampType, LongType\n",
    "from datetime import datetime"
   ]
  },
  {
   "cell_type": "code",
   "execution_count": 2,
   "id": "8afe9503",
   "metadata": {},
   "outputs": [],
   "source": [
    "# Dataset path \n",
    "dataset_bucket = 's3://stackoverflow-dataset-2023/dataset/raw/2023/'\n",
    "dataset_comments = f\"{dataset_bucket}/Users.xml\""
   ]
  },
  {
   "cell_type": "code",
   "execution_count": 3,
   "id": "6a999965",
   "metadata": {},
   "outputs": [],
   "source": [
    "def row_parser(row):\n",
    "    \n",
    "    fields = [\n",
    "                \"Id=\",\n",
    "                \"Reputation=\",\n",
    "                \"CreationDate=\",\n",
    "                \"DisplayName=\",\n",
    "                \"LastAccessDate=\",\n",
    "                \"WebsiteUrl=\",\n",
    "                \"Location=\",\n",
    "                \"AboutMe=\",\n",
    "                \"Views=\",\n",
    "                \"UpVotes=\",\n",
    "                \"DownVotes=\",\n",
    "                \"ProfileImageUrl=\",\n",
    "                \"AccountId=\"\n",
    "            ]\n",
    "    \n",
    "    row_field = dict.fromkeys(fields, None)\n",
    "    row_list = [ i.strip() for i in row.split('\"')[:-1] ]\n",
    "    \n",
    "    for i in range(0, len(row_list), 2):\n",
    "        if row_list[i] in [\"LastAccessDate=\", \"CreationDate=\"]:\n",
    "            row_field[row_list[i]] = datetime.strptime(row_list[i+1], \"%Y-%m-%dT%H:%M:%S.%f\")\n",
    "        else:\n",
    "            row_field[row_list[i]] = row_list[i+1]\n",
    "        \n",
    "    \n",
    "    return tuple(row_field.values())"
   ]
  },
  {
   "cell_type": "code",
   "execution_count": 4,
   "id": "194a6a74",
   "metadata": {},
   "outputs": [],
   "source": [
    "rdd = spark.sparkContext.textFile(dataset_comments)\n"
   ]
  },
  {
   "cell_type": "code",
   "execution_count": 5,
   "id": "38eab96b",
   "metadata": {},
   "outputs": [],
   "source": [
    "parsed_rdd = rdd.map(lambda row: row.strip()) \\\n",
    "   .filter(lambda row: row.startswith(\"<row\")) \\\n",
    "   .map(lambda row: row[4:-3]) \\\n",
    "   .map(lambda row: row.strip()) \\\n",
    "   .map(row_parser)\n"
   ]
  },
  {
   "cell_type": "code",
   "execution_count": 9,
   "id": "8e485017",
   "metadata": {},
   "outputs": [
    {
     "name": "stderr",
     "output_type": "stream",
     "text": [
      "                                                                                \r"
     ]
    },
    {
     "data": {
      "text/plain": [
       "19942787"
      ]
     },
     "execution_count": 9,
     "metadata": {},
     "output_type": "execute_result"
    }
   ],
   "source": [
    "parsed_rdd.count()"
   ]
  },
  {
   "cell_type": "code",
   "execution_count": 10,
   "id": "40ee1f1b",
   "metadata": {},
   "outputs": [],
   "source": [
    "# Define the schema for the DataFrame\n",
    "schema_users = StructType([\n",
    "    StructField(\"Id\", StringType()),\n",
    "    StructField(\"Reputation\", StringType()),\n",
    "    StructField(\"CreationDate\", TimestampType()),\n",
    "    StructField(\"DisplayName\", StringType()),\n",
    "    StructField(\"LastAccessDate\", TimestampType()),\n",
    "    StructField(\"WebsiteUrl\", StringType()),\n",
    "    StructField(\"Location\", StringType()),\n",
    "    StructField(\"AboutMe\", StringType()),\n",
    "    StructField(\"Views\", StringType()),\n",
    "    StructField(\"UpVotes\", StringType()),\n",
    "    StructField(\"DownVotes\", StringType()),\n",
    "    StructField(\"ProfileImageUrl\", StringType()),\n",
    "    StructField(\"AccountId\", StringType())\n",
    "])"
   ]
  },
  {
   "cell_type": "code",
   "execution_count": 11,
   "id": "10e05581",
   "metadata": {},
   "outputs": [],
   "source": [
    "# Convert the RDD to a DataFrame\n",
    "df = parsed_rdd.toDF(schema_users)"
   ]
  },
  {
   "cell_type": "code",
   "execution_count": 12,
   "id": "4703b76b",
   "metadata": {},
   "outputs": [
    {
     "name": "stdout",
     "output_type": "stream",
     "text": [
      "root\n",
      " |-- Id: string (nullable = true)\n",
      " |-- Reputation: string (nullable = true)\n",
      " |-- CreationDate: timestamp (nullable = true)\n",
      " |-- DisplayName: string (nullable = true)\n",
      " |-- LastAccessDate: timestamp (nullable = true)\n",
      " |-- WebsiteUrl: string (nullable = true)\n",
      " |-- Location: string (nullable = true)\n",
      " |-- AboutMe: string (nullable = true)\n",
      " |-- Views: string (nullable = true)\n",
      " |-- UpVotes: string (nullable = true)\n",
      " |-- DownVotes: string (nullable = true)\n",
      " |-- ProfileImageUrl: string (nullable = true)\n",
      " |-- AccountId: string (nullable = true)\n",
      "\n"
     ]
    }
   ],
   "source": [
    "df.printSchema()"
   ]
  },
  {
   "cell_type": "code",
   "execution_count": 13,
   "id": "81a55db9",
   "metadata": {},
   "outputs": [
    {
     "name": "stderr",
     "output_type": "stream",
     "text": [
      "\r",
      "[Stage 1:>                                                          (0 + 1) / 1]\r"
     ]
    },
    {
     "name": "stdout",
     "output_type": "stream",
     "text": [
      "+-----+----------+--------------------+---------------+--------------------+--------------------+--------------------+--------------------+------+-------+---------+---------------+---------+\n",
      "|   Id|Reputation|        CreationDate|    DisplayName|      LastAccessDate|          WebsiteUrl|            Location|             AboutMe| Views|UpVotes|DownVotes|ProfileImageUrl|AccountId|\n",
      "+-----+----------+--------------------+---------------+--------------------+--------------------+--------------------+--------------------+------+-------+---------+---------------+---------+\n",
      "|-1014|         1|2023-02-17 19:52:...|     R Language|2023-02-17 19:52:...|                null|                null|&lt;p&gt;A collec...|     0|      0|        0|           null|     null|\n",
      "|-1013|         1|2023-02-17 19:25:...|          CI/CD|2023-02-17 19:25:...|                null|                null|&lt;p&gt;A collec...|     0|      0|        0|           null|     null|\n",
      "|-1012|         1|2023-02-15 23:24:...|          Audio|2023-02-15 23:24:...|                null|                null|&lt;p&gt;Official...|     0|      0|        0|           null|     null|\n",
      "|-1011|         1|2022-11-09 20:49:...|            AWS|2022-11-09 20:49:...|                null|                null|&lt;p&gt;Amazon W...|     0|      0|        0|           null|     null|\n",
      "|-1010|         1|2022-10-25 19:18:...|Microsoft Azure|2022-10-25 19:18:...|                null|                null|&lt;p&gt;On-premi...|     0|      0|        0|           null|     null|\n",
      "|-1009|         1|2022-05-17 15:06:...|           WSO2|2022-05-17 15:06:...|                null|                null|&lt;p&gt;WSO2 sol...|     0|      0|        0|           null|     null|\n",
      "|-1008|         1|2022-01-31 19:45:...|         Twilio|2022-01-31 19:45:...|                null|                null|&lt;p&gt;Twilio h...|     0|      0|        0|           null|     null|\n",
      "|-1007|         1|2021-09-30 18:39:...|   AudioBubble2|2021-09-30 18:39:...|                null|                null|&lt;p&gt;Official...|     0|      0|        0|           null|     null|\n",
      "|-1006|         1|2021-09-27 19:40:...|          Intel|2021-09-27 19:40:...|                null|                null|&lt;p&gt;A space ...|     0|      0|        0|           null|     null|\n",
      "|-1005|         1|2021-07-29 14:07:...|         GitLab|2021-07-29 14:07:...|                null|                null|&lt;p&gt;GitLab i...|     0|      0|        0|           null|     null|\n",
      "|-1004|         1|2021-07-27 17:02:...|    AudioBubble|2021-07-27 17:02:...|                null|                null|&lt;p&gt;Official...|     0|      0|        0|           null|     null|\n",
      "|-1003|         1|2021-05-28 13:16:...|    Go Language|2021-05-28 13:16:...|                null|                null|&lt;p&gt;The offi...|     0|      0|        0|           null|     null|\n",
      "|-1002|         1|2021-05-12 18:16:...|   Google Cloud|2021-05-12 18:16:...|                null|                null|&lt;p&gt;Google C...|     0|      0|        0|           null|     null|\n",
      "|   -1|         1| 2008-07-31 00:00:00|      Community|2008-08-26 00:16:...|https://meta.stac...|  on the server farm|&lt;p&gt;Hi, I'm ...|127553| 591286|  1486341|           null|       -1|\n",
      "|    1|     63031|2008-07-31 14:22:...|    Jeff Atwood|2023-01-27 20:51:...|https://blog.codi...|      El Cerrito, CA|&lt;p&gt;&lt;a hr...|592599|   3407|     1312|           null|        1|\n",
      "|    2|      6076|2008-07-31 14:22:...|   Geoff Dalgas|2023-03-03 16:55:...|http://stackoverf...|       Corvallis, OR|&lt;p&gt;Dev #2 w...| 31851|    671|       88|           null|        2|\n",
      "|    3|     15657|2008-07-31 14:22:...|   Jarrod Dixon|2022-12-14 04:49:...|http://jarroddixo...|Johnson City, TN,...|&lt;p&gt;Former &...| 29678|   7932|      100|           null|        3|\n",
      "|    4|     33192|2008-07-31 14:22:...|   Joel Spolsky|2023-02-02 15:58:...|https://joelonsof...|        New York, NY|&lt;p&gt;In 2000 ...| 83720|    855|      100|           null|        4|\n",
      "|    5|     52021|2008-07-31 14:22:...|   Jon Galloway|2023-03-01 20:55:...|http://weblogs.as...|       San Diego, CA|&lt;p&gt;Technica...| 14856|    790|       34|           null|        5|\n",
      "|    8|      1777|2008-07-31 21:33:...|   Eggs McLaren|2018-04-09 02:04:...|                    |                    |&lt;p&gt;This is ...|  9055|     12|        9|           null|        6|\n",
      "+-----+----------+--------------------+---------------+--------------------+--------------------+--------------------+--------------------+------+-------+---------+---------------+---------+\n",
      "only showing top 20 rows\n",
      "\n"
     ]
    },
    {
     "name": "stderr",
     "output_type": "stream",
     "text": [
      "\r",
      "                                                                                \r"
     ]
    }
   ],
   "source": [
    "df.show()"
   ]
  },
  {
   "cell_type": "code",
   "execution_count": 14,
   "id": "f9a8fcac",
   "metadata": {},
   "outputs": [
    {
     "name": "stderr",
     "output_type": "stream",
     "text": [
      "                                                                                \r"
     ]
    },
    {
     "data": {
      "text/plain": [
       "19942787"
      ]
     },
     "execution_count": 14,
     "metadata": {},
     "output_type": "execute_result"
    }
   ],
   "source": [
    "df = df \\\n",
    "    .withColumn('Id', F.col('Id').cast('int')) \\\n",
    "    .withColumn('Reputation', F.col('Reputation').cast('int')) \\\n",
    "    .withColumn('Views', F.col('Views').cast('int')) \\\n",
    "    .withColumn('UpVotes', F.col('UpVotes').cast('int')) \\\n",
    "    .withColumn('DownVotes', F.col('DownVotes').cast('int')) \\\n",
    "    .withColumn('AccountId', F.col('AccountId').cast('int')) \n",
    "\n",
    "df.count()"
   ]
  },
  {
   "cell_type": "code",
   "execution_count": 135,
   "id": "c1eed354",
   "metadata": {},
   "outputs": [
    {
     "name": "stdout",
     "output_type": "stream",
     "text": [
      "root\n",
      " |-- Id: integer (nullable = true)\n",
      " |-- Reputation: integer (nullable = true)\n",
      " |-- CreationDate: timestamp (nullable = true)\n",
      " |-- DisplayName: string (nullable = true)\n",
      " |-- LastAccessDate: timestamp (nullable = true)\n",
      " |-- WebsiteUrl: string (nullable = true)\n",
      " |-- Location: string (nullable = true)\n",
      " |-- AboutMe: string (nullable = true)\n",
      " |-- Views: integer (nullable = true)\n",
      " |-- UpVotes: integer (nullable = true)\n",
      " |-- DownVotes: integer (nullable = true)\n",
      " |-- ProfileImageUrl: string (nullable = true)\n",
      " |-- AccountId: integer (nullable = true)\n",
      "\n"
     ]
    }
   ],
   "source": [
    "df.printSchema()"
   ]
  },
  {
   "cell_type": "code",
   "execution_count": 136,
   "id": "5cb3b1d6",
   "metadata": {},
   "outputs": [
    {
     "name": "stderr",
     "output_type": "stream",
     "text": [
      "\r",
      "[Stage 78:>                                                         (0 + 1) / 1]\r"
     ]
    },
    {
     "name": "stdout",
     "output_type": "stream",
     "text": [
      "+-----+----------+--------------------+----------------+--------------------+--------------------+--------------------+--------------------+------+-------+---------+--------------------+---------+\n",
      "|   Id|Reputation|        CreationDate|     DisplayName|      LastAccessDate|          WebsiteUrl|            Location|             AboutMe| Views|UpVotes|DownVotes|     ProfileImageUrl|AccountId|\n",
      "+-----+----------+--------------------+----------------+--------------------+--------------------+--------------------+--------------------+------+-------+---------+--------------------+---------+\n",
      "|-1011|         1|2022-11-09 20:49:...|             AWS|2022-11-09 20:49:...|                null|                null|&lt;p&gt;Amazon W...|     0|      0|        0|                null|     null|\n",
      "|-1010|         1|2022-10-25 19:18:...| Microsoft Azure|2022-10-25 19:18:...|                null|                null|&lt;p&gt;Azure Co...|     0|      0|        0|                null|     null|\n",
      "|-1009|         1|2022-05-17 15:06:...|            WSO2|2022-05-17 15:06:...|                null|                null|&lt;p&gt;WSO2 sol...|     0|      0|        0|                null|     null|\n",
      "|-1008|         1|2022-01-31 19:45:...|          Twilio|2022-01-31 19:45:...|                null|                null|&lt;p&gt;Twilio h...|     0|      0|        0|                null|     null|\n",
      "|-1007|         1|2021-09-30 18:39:...|    AudioBubble2|2021-09-30 18:39:...|                null|                null|&lt;p&gt;Official...|     0|      0|        0|                null|     null|\n",
      "|-1006|         1|2021-09-27 19:40:...|           Intel|2021-09-27 19:40:...|                null|                null|&lt;p&gt;A space ...|     0|      0|        0|                null|     null|\n",
      "|-1005|         1|2021-07-29 14:07:...|          GitLab|2021-07-29 14:07:...|                null|                null|&lt;p&gt;GitLab i...|     0|      0|        0|                null|     null|\n",
      "|-1004|         1|2021-07-27 17:02:...|     AudioBubble|2021-07-27 17:02:...|                null|                null|&lt;p&gt;Official...|     0|      0|        0|                null|     null|\n",
      "|-1003|         1|2021-05-28 13:16:...|     Go Language|2021-05-28 13:16:...|                null|                null|&lt;p&gt;The offi...|     0|      0|        0|                null|     null|\n",
      "|-1002|         1|2021-05-12 18:16:...|    Google Cloud|2021-05-12 18:16:...|                null|                null|&lt;p&gt;Google C...|     0|      0|        0|                null|     null|\n",
      "|   -1|         1| 2008-07-31 00:00:00|       Community|2008-08-26 00:16:...|https://meta.stac...|  on the server farm|&lt;p&gt;Hi, I'm ...|115570| 575542|  1468464|                null|       -1|\n",
      "|    1|     62831|2008-07-31 14:22:...|     Jeff Atwood|2022-10-16 23:22:...|https://blog.codi...|      El Cerrito, CA|&lt;p&gt;&lt;a hr...|591800|   3405|     1312|                null|        1|\n",
      "|    2|      6046|2008-07-31 14:22:...|    Geoff Dalgas|2022-11-30 22:05:...|http://stackoverf...|       Corvallis, OR|&lt;p&gt;Dev #2 w...| 31564|    671|       88|https://i.stack.i...|        2|\n",
      "|    3|     15647|2008-07-31 14:22:...|    Jarrod Dixon|2022-05-25 22:56:...|http://jarroddixo...|Johnson City, TN,...|&lt;p&gt;Former &...| 29473|   7925|      100|https://i.stack.i...|        3|\n",
      "|    4|     33074|2008-07-31 14:22:...|    Joel Spolsky|2022-12-04 20:06:...|https://joelonsof...|        New York, NY|&lt;p&gt;In 2000 ...| 83442|    855|      100|https://i.stack.i...|        4|\n",
      "|    5|     51781|2008-07-31 14:22:...|    Jon Galloway|2022-06-03 22:32:...|http://weblogs.as...|       San Diego, CA|&lt;p&gt;Technica...| 14725|    789|       34|                null|        5|\n",
      "|    8|      1777|2008-07-31 21:33:...|    Eggs McLaren|2018-04-09 02:04:...|                    |                    |&lt;p&gt;This is ...|  8948|     12|        9|                null|        6|\n",
      "|    9|     24982|2008-07-31 21:35:...|     Kevin Dente|2022-12-02 21:19:...|                    |Lafayette, CA, Un...|&lt;p&gt;Independ...|  7391|     47|        4|                null|        7|\n",
      "|   10|       101|2008-07-31 21:57:...|Sneakers O'Toole|2021-06-03 15:31:...|https://www.youtu...|Morganton, North ...|&lt;p&gt;I'm not ...|  5054|      0|        0|                null|        8|\n",
      "|   11|      4953|2008-08-01 00:59:...|  Anonymous User|2008-08-01 00:59:...|                null|                null|                null|  3232|      0|        0|                null|   561854|\n",
      "+-----+----------+--------------------+----------------+--------------------+--------------------+--------------------+--------------------+------+-------+---------+--------------------+---------+\n",
      "only showing top 20 rows\n",
      "\n"
     ]
    },
    {
     "name": "stderr",
     "output_type": "stream",
     "text": [
      "\r",
      "                                                                                \r"
     ]
    }
   ],
   "source": [
    "df.show()"
   ]
  },
  {
   "cell_type": "code",
   "execution_count": null,
   "id": "cc72374c",
   "metadata": {},
   "outputs": [],
   "source": []
  },
  {
   "cell_type": "code",
   "execution_count": 16,
   "id": "f774aced",
   "metadata": {},
   "outputs": [
    {
     "name": "stderr",
     "output_type": "stream",
     "text": [
      "[Stage 6:>                                                          (0 + 1) / 1]\r"
     ]
    },
    {
     "name": "stdout",
     "output_type": "stream",
     "text": [
      "+-----+----------+--------------------+---------------+--------------------+--------------------+--------------------+--------------------+------+-------+---------+---------------+---------+\n",
      "|   Id|Reputation|        CreationDate|    DisplayName|      LastAccessDate|          WebsiteUrl|            Location|             AboutMe| Views|UpVotes|DownVotes|ProfileImageUrl|AccountId|\n",
      "+-----+----------+--------------------+---------------+--------------------+--------------------+--------------------+--------------------+------+-------+---------+---------------+---------+\n",
      "|-1014|         1|2023-02-17 19:52:...|     R Language|2023-02-17 19:52:...|                null|                null|&lt;p&gt;A collec...|     0|      0|        0|           null|     null|\n",
      "|-1013|         1|2023-02-17 19:25:...|          CI/CD|2023-02-17 19:25:...|                null|                null|&lt;p&gt;A collec...|     0|      0|        0|           null|     null|\n",
      "|-1012|         1|2023-02-15 23:24:...|          Audio|2023-02-15 23:24:...|                null|                null|&lt;p&gt;Official...|     0|      0|        0|           null|     null|\n",
      "|-1011|         1|2022-11-09 20:49:...|            AWS|2022-11-09 20:49:...|                null|                null|&lt;p&gt;Amazon W...|     0|      0|        0|           null|     null|\n",
      "|-1010|         1|2022-10-25 19:18:...|Microsoft Azure|2022-10-25 19:18:...|                null|                null|&lt;p&gt;On-premi...|     0|      0|        0|           null|     null|\n",
      "|-1009|         1|2022-05-17 15:06:...|           WSO2|2022-05-17 15:06:...|                null|                null|&lt;p&gt;WSO2 sol...|     0|      0|        0|           null|     null|\n",
      "|-1008|         1|2022-01-31 19:45:...|         Twilio|2022-01-31 19:45:...|                null|                null|&lt;p&gt;Twilio h...|     0|      0|        0|           null|     null|\n",
      "|-1007|         1|2021-09-30 18:39:...|   AudioBubble2|2021-09-30 18:39:...|                null|                null|&lt;p&gt;Official...|     0|      0|        0|           null|     null|\n",
      "|-1006|         1|2021-09-27 19:40:...|          Intel|2021-09-27 19:40:...|                null|                null|&lt;p&gt;A space ...|     0|      0|        0|           null|     null|\n",
      "|-1005|         1|2021-07-29 14:07:...|         GitLab|2021-07-29 14:07:...|                null|                null|&lt;p&gt;GitLab i...|     0|      0|        0|           null|     null|\n",
      "|-1004|         1|2021-07-27 17:02:...|    AudioBubble|2021-07-27 17:02:...|                null|                null|&lt;p&gt;Official...|     0|      0|        0|           null|     null|\n",
      "|-1003|         1|2021-05-28 13:16:...|    Go Language|2021-05-28 13:16:...|                null|                null|&lt;p&gt;The offi...|     0|      0|        0|           null|     null|\n",
      "|-1002|         1|2021-05-12 18:16:...|   Google Cloud|2021-05-12 18:16:...|                null|                null|&lt;p&gt;Google C...|     0|      0|        0|           null|     null|\n",
      "|   -1|         1| 2008-07-31 00:00:00|      Community|2008-08-26 00:16:...|https://meta.stac...|  on the server farm|&lt;p&gt;Hi, I'm ...|127553| 591286|  1486341|           null|       -1|\n",
      "|    1|     63031|2008-07-31 14:22:...|    Jeff Atwood|2023-01-27 20:51:...|https://blog.codi...|      El Cerrito, CA|&lt;p&gt;&lt;a hr...|592599|   3407|     1312|           null|        1|\n",
      "|    2|      6076|2008-07-31 14:22:...|   Geoff Dalgas|2023-03-03 16:55:...|http://stackoverf...|       Corvallis, OR|&lt;p&gt;Dev #2 w...| 31851|    671|       88|           null|        2|\n",
      "|    3|     15657|2008-07-31 14:22:...|   Jarrod Dixon|2022-12-14 04:49:...|http://jarroddixo...|Johnson City, TN,...|&lt;p&gt;Former &...| 29678|   7932|      100|           null|        3|\n",
      "|    4|     33192|2008-07-31 14:22:...|   Joel Spolsky|2023-02-02 15:58:...|https://joelonsof...|        New York, NY|&lt;p&gt;In 2000 ...| 83720|    855|      100|           null|        4|\n",
      "|    5|     52021|2008-07-31 14:22:...|   Jon Galloway|2023-03-01 20:55:...|http://weblogs.as...|       San Diego, CA|&lt;p&gt;Technica...| 14856|    790|       34|           null|        5|\n",
      "|    8|      1777|2008-07-31 21:33:...|   Eggs McLaren|2018-04-09 02:04:...|                    |                    |&lt;p&gt;This is ...|  9055|     12|        9|           null|        6|\n",
      "+-----+----------+--------------------+---------------+--------------------+--------------------+--------------------+--------------------+------+-------+---------+---------------+---------+\n",
      "only showing top 20 rows\n",
      "\n"
     ]
    },
    {
     "name": "stderr",
     "output_type": "stream",
     "text": [
      "\r",
      "                                                                                \r"
     ]
    }
   ],
   "source": [
    "# Dataset path \n",
    "output_bucket = 's3://stackoverflow-dataset-2023/dataset/raw-processed/2023'\n",
    "output_folder_name = f\"{output_bucket}/Users-parquet\"\n",
    "\n",
    "# save dataframe as csv\n",
    "df.write \\\n",
    "  .format('parquet') \\\n",
    "  .option('header', True) \\\n",
    "  .mode('overwrite') \\\n",
    "  .save(output_folder_name)\n",
    "\n",
    "df.show()\n"
   ]
  },
  {
   "cell_type": "code",
   "execution_count": null,
   "id": "c1a70651",
   "metadata": {},
   "outputs": [],
   "source": []
  }
 ],
 "metadata": {
  "kernelspec": {
   "display_name": "Python 3 (ipykernel)",
   "language": "python",
   "name": "python3"
  },
  "language_info": {
   "codemirror_mode": {
    "name": "ipython",
    "version": 3
   },
   "file_extension": ".py",
   "mimetype": "text/x-python",
   "name": "python",
   "nbconvert_exporter": "python",
   "pygments_lexer": "ipython3",
   "version": "3.7.16"
  }
 },
 "nbformat": 4,
 "nbformat_minor": 5
}
