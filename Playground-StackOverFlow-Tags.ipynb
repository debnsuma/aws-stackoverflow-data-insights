{
 "cells": [
  {
   "cell_type": "code",
   "execution_count": 1,
   "id": "97ac1d3f",
   "metadata": {},
   "outputs": [
    {
     "data": {
      "text/html": [
       "\n",
       "            <div>\n",
       "                <p><b>SparkSession - hive</b></p>\n",
       "                \n",
       "        <div>\n",
       "            <p><b>SparkContext</b></p>\n",
       "\n",
       "            <p><a href=\"http://ip-172-31-2-35.us-east-2.compute.internal:4040\">Spark UI</a></p>\n",
       "\n",
       "            <dl>\n",
       "              <dt>Version</dt>\n",
       "                <dd><code>v3.3.0-amzn-1</code></dd>\n",
       "              <dt>Master</dt>\n",
       "                <dd><code>yarn</code></dd>\n",
       "              <dt>AppName</dt>\n",
       "                <dd><code>PySparkShell</code></dd>\n",
       "            </dl>\n",
       "        </div>\n",
       "        \n",
       "            </div>\n",
       "        "
      ],
      "text/plain": [
       "<pyspark.sql.session.SparkSession at 0x7ff5fc0d7ad0>"
      ]
     },
     "execution_count": 1,
     "metadata": {},
     "output_type": "execute_result"
    }
   ],
   "source": [
    "spark"
   ]
  },
  {
   "cell_type": "markdown",
   "id": "7bced328",
   "metadata": {},
   "source": [
    "## Processing `Comments.xml`"
   ]
  },
  {
   "cell_type": "code",
   "execution_count": 53,
   "id": "dbdfb075",
   "metadata": {},
   "outputs": [],
   "source": [
    "import pyspark.sql.functions as F\n",
    "from pyspark.sql.types import StructType, StructField, IntegerType, StringType, TimestampType, LongType\n",
    "from datetime import datetime"
   ]
  },
  {
   "cell_type": "code",
   "execution_count": 54,
   "id": "682af470",
   "metadata": {},
   "outputs": [],
   "source": [
    "# Dataset path \n",
    "dataset_bucket = 's3://stackoverflow-dataset-2023/dataset/raw/'\n",
    "dataset_comments = f\"{dataset_bucket}/Tags.xml\""
   ]
  },
  {
   "cell_type": "code",
   "execution_count": 55,
   "id": "0996fa5a",
   "metadata": {},
   "outputs": [],
   "source": [
    "rdd = spark.sparkContext.textFile(dataset_comments)"
   ]
  },
  {
   "cell_type": "code",
   "execution_count": 56,
   "id": "9d01dd9c",
   "metadata": {},
   "outputs": [],
   "source": [
    "parsed_rdd = rdd.map(lambda row: row.strip()) \\\n",
    "   .filter(lambda row: row.startswith(\"<row\")) \\\n",
    "   .map(lambda row: row[4:-3]) \\\n",
    "   .map(lambda row: row.strip()) \\\n",
    "   .map(lambda row: (int(row.split('\"')[1]), row.split('\"')[3], int(row.split('\"')[5]), int(row.split('\"')[7]), int(row.split('\"')[9])) if len(row) == 11 else (int(row.split('\"')[1]), row.split('\"')[3], int(row.split('\"')[5]), None, None)) "
   ]
  },
  {
   "cell_type": "code",
   "execution_count": 57,
   "id": "6e050960",
   "metadata": {
    "scrolled": true
   },
   "outputs": [
    {
     "name": "stderr",
     "output_type": "stream",
     "text": [
      "\r",
      "[Stage 24:>                                                         (0 + 2) / 2]\r",
      "\r",
      "                                                                                \r"
     ]
    },
    {
     "data": {
      "text/plain": [
       "64155"
      ]
     },
     "execution_count": 57,
     "metadata": {},
     "output_type": "execute_result"
    }
   ],
   "source": [
    "parsed_rdd.count()"
   ]
  },
  {
   "cell_type": "code",
   "execution_count": 61,
   "id": "eed56127",
   "metadata": {},
   "outputs": [],
   "source": [
    "# Define the schema for the DataFrame\n",
    "schema_tags = StructType([\n",
    "    StructField(\"Id\", LongType()),\n",
    "    StructField(\"TagName\", StringType()),\n",
    "    StructField(\"Count\", LongType()),\n",
    "    StructField(\"ExcerptPostId\", LongType()),\n",
    "    StructField(\"WikiPostId\", LongType())\n",
    "])\n",
    "\n",
    "# Convert the RDD to a DataFrame\n",
    "df = parsed_rdd.toDF(schema_tags)"
   ]
  },
  {
   "cell_type": "code",
   "execution_count": 62,
   "id": "2eb524f2",
   "metadata": {},
   "outputs": [
    {
     "name": "stdout",
     "output_type": "stream",
     "text": [
      "root\n",
      " |-- Id: long (nullable = true)\n",
      " |-- TagName: string (nullable = true)\n",
      " |-- Count: long (nullable = true)\n",
      " |-- ExcerptPostId: long (nullable = true)\n",
      " |-- WikiPostId: long (nullable = true)\n",
      "\n"
     ]
    }
   ],
   "source": [
    "df.printSchema()"
   ]
  },
  {
   "cell_type": "code",
   "execution_count": 63,
   "id": "785de399",
   "metadata": {},
   "outputs": [
    {
     "name": "stderr",
     "output_type": "stream",
     "text": [
      "                                                                                \r"
     ]
    }
   ],
   "source": [
    "# Dataset path \n",
    "output_bucket = 's3://stackoverflow-dataset-2023/dataset/raw-processed'\n",
    "output_folder_name = f\"{output_bucket}/Tags-parquet\"\n",
    "\n",
    "# save dataframe as csv\n",
    "df.write \\\n",
    "  .format('parquet') \\\n",
    "  .option('header', True) \\\n",
    "  .mode('overwrite') \\\n",
    "  .save(output_folder_name)"
   ]
  },
  {
   "cell_type": "markdown",
   "id": "7feb0a39",
   "metadata": {},
   "source": [
    "## Verifying the data by reading from S3"
   ]
  },
  {
   "cell_type": "code",
   "execution_count": 65,
   "id": "b8f266fc",
   "metadata": {},
   "outputs": [
    {
     "name": "stderr",
     "output_type": "stream",
     "text": [
      "\r",
      "[Stage 30:>                                                         (0 + 1) / 1]\r",
      "\r",
      "                                                                                \r"
     ]
    }
   ],
   "source": [
    "df = spark.read \\\n",
    "         .option(\"header\", True) \\\n",
    "         .option(\"inferSchema\", True) \\\n",
    "         .parquet(output_folder_name)"
   ]
  },
  {
   "cell_type": "code",
   "execution_count": 66,
   "id": "b0af52e2",
   "metadata": {},
   "outputs": [
    {
     "name": "stdout",
     "output_type": "stream",
     "text": [
      "+-----+-------------------+-----+-------------+----------+\n",
      "|   Id|            TagName|Count|ExcerptPostId|WikiPostId|\n",
      "+-----+-------------------+-----+-------------+----------+\n",
      "|97196|      chef-template|   21|         null|      null|\n",
      "|97197|          openbadge|   15|         null|      null|\n",
      "|97199|               rhom|    2|         null|      null|\n",
      "|97200|     kendo-dropdown|  353|         null|      null|\n",
      "|97202|    easy-thumbnails|   58|         null|      null|\n",
      "|97203|          todataurl|  202|         null|      null|\n",
      "|97208|            go-flag|   19|         null|      null|\n",
      "|97211|         stripe.net|  133|         null|      null|\n",
      "|97212|             midori|   26|         null|      null|\n",
      "|97213|              bento|   14|         null|      null|\n",
      "|97215|             fedext|   38|         null|      null|\n",
      "|97218|       browser-link|   84|         null|      null|\n",
      "|97222|      atomicinteger|  116|         null|      null|\n",
      "|97223|revealing-prototype|   11|         null|      null|\n",
      "|97225|              dplyr|33458|         null|      null|\n",
      "|97227|    visual-c++-2013|   64|         null|      null|\n",
      "|97230|        web-console|   57|         null|      null|\n",
      "|97239|       gmaps4rails2|   50|         null|      null|\n",
      "|97242|           datecell|    3|         null|      null|\n",
      "|97247|              druid|  555|         null|      null|\n",
      "+-----+-------------------+-----+-------------+----------+\n",
      "only showing top 20 rows\n",
      "\n"
     ]
    },
    {
     "name": "stderr",
     "output_type": "stream",
     "text": [
      "\r",
      "[Stage 31:>                                                         (0 + 1) / 1]\r",
      "\r",
      "                                                                                \r"
     ]
    }
   ],
   "source": [
    "df.show()"
   ]
  },
  {
   "cell_type": "code",
   "execution_count": null,
   "id": "4ecba29a",
   "metadata": {},
   "outputs": [],
   "source": []
  }
 ],
 "metadata": {
  "kernelspec": {
   "display_name": "Python 3 (ipykernel)",
   "language": "python",
   "name": "python3"
  },
  "language_info": {
   "codemirror_mode": {
    "name": "ipython",
    "version": 3
   },
   "file_extension": ".py",
   "mimetype": "text/x-python",
   "name": "python",
   "nbconvert_exporter": "python",
   "pygments_lexer": "ipython3",
   "version": "3.7.16"
  }
 },
 "nbformat": 4,
 "nbformat_minor": 5
}
