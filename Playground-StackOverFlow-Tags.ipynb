{
 "cells": [
  {
   "cell_type": "code",
   "execution_count": 1,
   "id": "97ac1d3f",
   "metadata": {},
   "outputs": [
    {
     "data": {
      "text/html": [
       "\n",
       "            <div>\n",
       "                <p><b>SparkSession - hive</b></p>\n",
       "                \n",
       "        <div>\n",
       "            <p><b>SparkContext</b></p>\n",
       "\n",
       "            <p><a href=\"http://ip-172-31-2-35.us-east-2.compute.internal:4040\">Spark UI</a></p>\n",
       "\n",
       "            <dl>\n",
       "              <dt>Version</dt>\n",
       "                <dd><code>v3.3.0-amzn-1</code></dd>\n",
       "              <dt>Master</dt>\n",
       "                <dd><code>yarn</code></dd>\n",
       "              <dt>AppName</dt>\n",
       "                <dd><code>PySparkShell</code></dd>\n",
       "            </dl>\n",
       "        </div>\n",
       "        \n",
       "            </div>\n",
       "        "
      ],
      "text/plain": [
       "<pyspark.sql.session.SparkSession at 0x7ff5fc0d7ad0>"
      ]
     },
     "execution_count": 1,
     "metadata": {},
     "output_type": "execute_result"
    }
   ],
   "source": [
    "spark"
   ]
  },
  {
   "cell_type": "markdown",
   "id": "7bced328",
   "metadata": {},
   "source": [
    "## Processing `Tags.xml`"
   ]
  },
  {
   "cell_type": "code",
   "execution_count": 2,
   "id": "dbdfb075",
   "metadata": {},
   "outputs": [],
   "source": [
    "import pyspark.sql.functions as F\n",
    "from pyspark.sql.types import StructType, StructField, IntegerType, StringType, TimestampType, LongType\n",
    "from datetime import datetime"
   ]
  },
  {
   "cell_type": "code",
   "execution_count": 3,
   "id": "682af470",
   "metadata": {},
   "outputs": [],
   "source": [
    "# Dataset path \n",
    "dataset_bucket = 's3://stackoverflow-dataset-2023/dataset/raw'\n",
    "dataset_comments = f\"{dataset_bucket}/Tags.xml\""
   ]
  },
  {
   "cell_type": "code",
   "execution_count": 4,
   "id": "0996fa5a",
   "metadata": {},
   "outputs": [],
   "source": [
    "rdd = spark.sparkContext.textFile(dataset_comments)"
   ]
  },
  {
   "cell_type": "code",
   "execution_count": 5,
   "id": "23ed9ff5",
   "metadata": {},
   "outputs": [],
   "source": [
    "def row_parser(row):\n",
    "    \n",
    "    fields = [\n",
    "                \"Id=\",\n",
    "                \"TagName=\",\n",
    "                \"Count=\",\n",
    "                \"ExcerptPostId=\",\n",
    "                \"WikiPostId=\"\n",
    "            ]\n",
    "    \n",
    "    row_field = dict.fromkeys(fields, None)\n",
    "    row_list = [ i.strip() for i in row.split('\"')[:-1] ]\n",
    "    \n",
    "    for i in range(0, len(row_list), 2):\n",
    "        row_field[row_list[i]] = row_list[i+1]\n",
    "    \n",
    "    \n",
    "    return tuple(row_field.values())"
   ]
  },
  {
   "cell_type": "code",
   "execution_count": 6,
   "id": "9bf58050",
   "metadata": {},
   "outputs": [
    {
     "name": "stderr",
     "output_type": "stream",
     "text": [
      "                                                                                \r"
     ]
    },
    {
     "data": {
      "text/plain": [
       "64155"
      ]
     },
     "execution_count": 6,
     "metadata": {},
     "output_type": "execute_result"
    }
   ],
   "source": [
    "parsed_rdd = rdd.map(lambda row: row.strip()) \\\n",
    "   .filter(lambda row: row.startswith(\"<row\")) \\\n",
    "   .map(lambda row: row[4:-3]) \\\n",
    "   .map(lambda row: row.strip()) \\\n",
    "   .map(row_parser)\n",
    "\n",
    "parsed_rdd.count()"
   ]
  },
  {
   "cell_type": "code",
   "execution_count": 7,
   "id": "eed56127",
   "metadata": {},
   "outputs": [],
   "source": [
    "# Define the schema for the DataFrame\n",
    "schema_tags = StructType([\n",
    "    StructField(\"Id\", StringType()),\n",
    "    StructField(\"TagName\", StringType()),\n",
    "    StructField(\"Count\", StringType()),\n",
    "    StructField(\"ExcerptPostId\", StringType()),\n",
    "    StructField(\"WikiPostId\", StringType())\n",
    "])\n",
    "\n",
    "# Convert the RDD to a DataFrame\n",
    "df = parsed_rdd.toDF(schema_tags)"
   ]
  },
  {
   "cell_type": "code",
   "execution_count": 8,
   "id": "2eb524f2",
   "metadata": {},
   "outputs": [
    {
     "name": "stdout",
     "output_type": "stream",
     "text": [
      "root\n",
      " |-- Id: string (nullable = true)\n",
      " |-- TagName: string (nullable = true)\n",
      " |-- Count: string (nullable = true)\n",
      " |-- ExcerptPostId: string (nullable = true)\n",
      " |-- WikiPostId: string (nullable = true)\n",
      "\n"
     ]
    }
   ],
   "source": [
    "df.printSchema()"
   ]
  },
  {
   "cell_type": "code",
   "execution_count": 9,
   "id": "a665cc33",
   "metadata": {},
   "outputs": [
    {
     "name": "stderr",
     "output_type": "stream",
     "text": [
      "\r",
      "[Stage 1:>                                                          (0 + 1) / 1]\r"
     ]
    },
    {
     "name": "stdout",
     "output_type": "stream",
     "text": [
      "+---+----------+-------+-------------+----------+\n",
      "| Id|   TagName|  Count|ExcerptPostId|WikiPostId|\n",
      "+---+----------+-------+-------------+----------+\n",
      "|  1|      .net| 326206|      3624959|   3607476|\n",
      "|  2|      html|1156034|      3673183|   3673182|\n",
      "|  3|javascript|2453736|      3624960|   3607052|\n",
      "|  4|       css| 779112|      3644670|   3644669|\n",
      "|  5|       php|1451338|      3624936|   3607050|\n",
      "|  8|         c| 390095|      3624961|   3607013|\n",
      "|  9|        c#|1571218|      3624962|   3607007|\n",
      "| 10|       c++| 783573|      3624963|   3606997|\n",
      "| 12|      ruby| 226594|      3624964|   3607043|\n",
      "| 14|      lisp|   6834|      3656743|   3656742|\n",
      "| 16|    python|2071403|      3624965|   3607014|\n",
      "| 17|      java|1878099|      3624966|   3607018|\n",
      "| 18|     regex| 254923|      3624967|   3607017|\n",
      "| 19|       xml| 211315|      3624968|   3607588|\n",
      "| 21|     mysql| 655007|      3624969|   3607033|\n",
      "| 22|       sql| 650214|      3625226|   3607304|\n",
      "| 23|      tsql|  71604|      4777787|   4777786|\n",
      "| 26|        j#|     62|      8355939|   8355938|\n",
      "| 27|   browser|  26159|      5388160|   5388159|\n",
      "| 28|      linq|  85123|      4890031|   4890030|\n",
      "+---+----------+-------+-------------+----------+\n",
      "only showing top 20 rows\n",
      "\n"
     ]
    },
    {
     "name": "stderr",
     "output_type": "stream",
     "text": [
      "\r",
      "                                                                                \r"
     ]
    }
   ],
   "source": [
    "df.show()"
   ]
  },
  {
   "cell_type": "code",
   "execution_count": 10,
   "id": "8dbc020e",
   "metadata": {},
   "outputs": [
    {
     "name": "stderr",
     "output_type": "stream",
     "text": [
      "                                                                                \r"
     ]
    },
    {
     "data": {
      "text/plain": [
       "64155"
      ]
     },
     "execution_count": 10,
     "metadata": {},
     "output_type": "execute_result"
    }
   ],
   "source": [
    "df = df \\\n",
    "    .withColumn('Id', F.col('Id').cast('int')) \\\n",
    "    .withColumn('Count', F.col('Count').cast('int')) \\\n",
    "    .withColumn('ExcerptPostId', F.col('ExcerptPostId').cast('int')) \\\n",
    "    .withColumn('WikiPostId', F.col('WikiPostId').cast('int')) \n",
    "\n",
    "df.count()"
   ]
  },
  {
   "cell_type": "code",
   "execution_count": 11,
   "id": "0ab86feb",
   "metadata": {},
   "outputs": [
    {
     "name": "stdout",
     "output_type": "stream",
     "text": [
      "root\n",
      " |-- Id: integer (nullable = true)\n",
      " |-- TagName: string (nullable = true)\n",
      " |-- Count: integer (nullable = true)\n",
      " |-- ExcerptPostId: integer (nullable = true)\n",
      " |-- WikiPostId: integer (nullable = true)\n",
      "\n"
     ]
    }
   ],
   "source": [
    "df.printSchema()"
   ]
  },
  {
   "cell_type": "code",
   "execution_count": 12,
   "id": "9c883cb5",
   "metadata": {},
   "outputs": [
    {
     "name": "stderr",
     "output_type": "stream",
     "text": [
      "\r",
      "[Stage 5:>                                                          (0 + 1) / 1]\r"
     ]
    },
    {
     "name": "stdout",
     "output_type": "stream",
     "text": [
      "+---+----------+-------+-------------+----------+\n",
      "| Id|   TagName|  Count|ExcerptPostId|WikiPostId|\n",
      "+---+----------+-------+-------------+----------+\n",
      "|  1|      .net| 326206|      3624959|   3607476|\n",
      "|  2|      html|1156034|      3673183|   3673182|\n",
      "|  3|javascript|2453736|      3624960|   3607052|\n",
      "|  4|       css| 779112|      3644670|   3644669|\n",
      "|  5|       php|1451338|      3624936|   3607050|\n",
      "|  8|         c| 390095|      3624961|   3607013|\n",
      "|  9|        c#|1571218|      3624962|   3607007|\n",
      "| 10|       c++| 783573|      3624963|   3606997|\n",
      "| 12|      ruby| 226594|      3624964|   3607043|\n",
      "| 14|      lisp|   6834|      3656743|   3656742|\n",
      "| 16|    python|2071403|      3624965|   3607014|\n",
      "| 17|      java|1878099|      3624966|   3607018|\n",
      "| 18|     regex| 254923|      3624967|   3607017|\n",
      "| 19|       xml| 211315|      3624968|   3607588|\n",
      "| 21|     mysql| 655007|      3624969|   3607033|\n",
      "| 22|       sql| 650214|      3625226|   3607304|\n",
      "| 23|      tsql|  71604|      4777787|   4777786|\n",
      "| 26|        j#|     62|      8355939|   8355938|\n",
      "| 27|   browser|  26159|      5388160|   5388159|\n",
      "| 28|      linq|  85123|      4890031|   4890030|\n",
      "+---+----------+-------+-------------+----------+\n",
      "only showing top 20 rows\n",
      "\n"
     ]
    },
    {
     "name": "stderr",
     "output_type": "stream",
     "text": [
      "\r",
      "                                                                                \r"
     ]
    }
   ],
   "source": [
    "df.show()"
   ]
  },
  {
   "cell_type": "code",
   "execution_count": 13,
   "id": "53e5e690",
   "metadata": {},
   "outputs": [
    {
     "name": "stderr",
     "output_type": "stream",
     "text": [
      "\r",
      "[Stage 6:>                                                          (0 + 2) / 2]\r"
     ]
    },
    {
     "name": "stdout",
     "output_type": "stream",
     "text": [
      "+-----+----------+-------+-------------+----------+\n",
      "|   Id|   TagName|  Count|ExcerptPostId|WikiPostId|\n",
      "+-----+----------+-------+-------------+----------+\n",
      "|    3|javascript|2453736|      3624960|   3607052|\n",
      "|   16|    python|2071403|      3624965|   3607014|\n",
      "|   17|      java|1878099|      3624966|   3607018|\n",
      "|    9|        c#|1571218|      3624962|   3607007|\n",
      "|    5|       php|1451338|      3624936|   3607050|\n",
      "| 1386|   android|1393144|      3625001|   3607484|\n",
      "|    2|      html|1156034|      3673183|   3673182|\n",
      "|  820|    jquery|1031377|      3625262|   3607053|\n",
      "|   10|       c++| 783573|      3624963|   3606997|\n",
      "|    4|       css| 779112|      3644670|   3644669|\n",
      "|58338|       ios| 677317|      4536664|   4536663|\n",
      "|   21|     mysql| 655007|      3624969|   3607033|\n",
      "|   22|       sql| 650214|      3625226|   3607304|\n",
      "| 4452|         r| 473435|      3625322|   3607736|\n",
      "|46426|   node.js| 450209|      4238969|   4238968|\n",
      "|92497|   reactjs| 430730|     16880335|  16880334|\n",
      "|  114|    arrays| 403847|      4969094|   4969093|\n",
      "|    8|         c| 390095|      3624961|   3607013|\n",
      "|   96|   asp.net| 371246|      3625232|   3607037|\n",
      "| 1508|      json| 350223|      4889848|   4889847|\n",
      "+-----+----------+-------+-------------+----------+\n",
      "only showing top 20 rows\n",
      "\n"
     ]
    },
    {
     "name": "stderr",
     "output_type": "stream",
     "text": [
      "\r",
      "[Stage 6:=============================>                             (1 + 1) / 2]\r",
      "\r",
      "                                                                                \r"
     ]
    }
   ],
   "source": [
    "df.orderBy(F.desc('Count')).show()"
   ]
  },
  {
   "cell_type": "code",
   "execution_count": 14,
   "id": "785de399",
   "metadata": {},
   "outputs": [
    {
     "name": "stderr",
     "output_type": "stream",
     "text": [
      "                                                                                \r"
     ]
    }
   ],
   "source": [
    "# Dataset path \n",
    "output_bucket = 's3://stackoverflow-dataset-2023/dataset/raw-processed'\n",
    "output_folder_name = f\"{output_bucket}/Tags-parquet\"\n",
    "\n",
    "# save dataframe as csv\n",
    "df.write \\\n",
    "  .format('parquet') \\\n",
    "  .option('header', True) \\\n",
    "  .mode('overwrite') \\\n",
    "  .save(output_folder_name)"
   ]
  },
  {
   "cell_type": "markdown",
   "id": "7feb0a39",
   "metadata": {},
   "source": [
    "## Verifying the data by reading from S3"
   ]
  },
  {
   "cell_type": "code",
   "execution_count": 15,
   "id": "b8f266fc",
   "metadata": {},
   "outputs": [],
   "source": [
    "df = spark.read \\\n",
    "         .option(\"header\", True) \\\n",
    "         .option(\"inferSchema\", True) \\\n",
    "         .parquet(output_folder_name)"
   ]
  },
  {
   "cell_type": "code",
   "execution_count": 16,
   "id": "b0af52e2",
   "metadata": {},
   "outputs": [
    {
     "name": "stderr",
     "output_type": "stream",
     "text": [
      "\r",
      "[Stage 9:>                                                          (0 + 1) / 1]\r",
      "\r",
      "                                                                                \r"
     ]
    },
    {
     "name": "stdout",
     "output_type": "stream",
     "text": [
      "+-----+--------------------+-----+-------------+----------+\n",
      "|   Id|             TagName|Count|ExcerptPostId|WikiPostId|\n",
      "+-----+--------------------+-----+-------------+----------+\n",
      "|97196|       chef-template|   21|         null|      null|\n",
      "|97197|           openbadge|   15|     19533613|  19533612|\n",
      "|97199|                rhom|    2|         null|      null|\n",
      "|97200|      kendo-dropdown|  353|     23653918|  23653917|\n",
      "|97202|     easy-thumbnails|   58|     19540558|  19540557|\n",
      "|97203|           todataurl|  202|     35613258|  35613257|\n",
      "|97208|             go-flag|   19|     45148577|  45148576|\n",
      "|97211|          stripe.net|  133|     19545780|  19545779|\n",
      "|97212|              midori|   26|     19545676|  19545675|\n",
      "|97213|               bento|   14|         null|      null|\n",
      "|97215|              fedext|   38|     19547016|  19547015|\n",
      "|97218|        browser-link|   84|     19552377|  19552376|\n",
      "|97222|       atomicinteger|  116|     67507147|  67507146|\n",
      "|97223| revealing-prototype|   11|         null|      null|\n",
      "|97225|               dplyr|33458|     21178955|  21178954|\n",
      "|97227|     visual-c++-2013|   64|     20765163|  20765162|\n",
      "|97230|         web-console|   57|     19558816|  19558815|\n",
      "|97239|        gmaps4rails2|   50|         null|      null|\n",
      "|97242|            datecell|    3|     19605641|  19605640|\n",
      "|97247|               druid|  555|     19566459|  19566458|\n",
      "|97250|            boundbox|    3|     19643962|  19643961|\n",
      "|97251|        ng-bind-html|  243|     26858153|  26858152|\n",
      "|97252|            runscope|   25|     26617194|  26617193|\n",
      "|97253|        grails-cache|    6|     19570260|  19570259|\n",
      "|97254|   django-supervisor|   18|         null|      null|\n",
      "|97256|         chrome-sync|   12|     20935884|  20935883|\n",
      "|97257|          sidewaffle|   24|     19571218|  19571217|\n",
      "|97258|         css-content|  175|     19572181|  19572180|\n",
      "|97260|             f#-fake|  226|     22484814|  22484813|\n",
      "|97261|             statnet|   82|     21714369|  21714368|\n",
      "|97262|                vsql|   50|     21170617|  21170616|\n",
      "|97264|         vivagraphjs|   30|     21506719|  21506718|\n",
      "|97265|             scrooge|   26|     19613745|  19613744|\n",
      "|97267|    font-awesome-3.2|   17|         null|      null|\n",
      "|97268|      font-awesome-4|   79|         null|      null|\n",
      "|97271|market-basket-ana...|  151|     26735728|  26735727|\n",
      "|97272|       cart-analysis|   42|     19578528|  19578527|\n",
      "|97277|            rategate|    2|     29959396|  29959395|\n",
      "|97281|            everlive|   16|         null|      null|\n",
      "|97282|          boost.test|   21|     25232208|  25232207|\n",
      "|97285|             topcoat|   15|     19595803|  19595802|\n",
      "|97292|           mosquitto| 1347|     19596108|  19596107|\n",
      "|97293|      devexpress-wpf|  162|     37166592|  37166591|\n",
      "|97295|            argonaut|   88|     23904165|  23904164|\n",
      "|97296|   bundle-identifier|  245|     32629507|  32629506|\n",
      "|97298|                 kdf|   29|     19592771|  19592770|\n",
      "|97302|  grunt-contrib-haml|    4|     20462985|  20462984|\n",
      "|97304|grunt-contrib-uglify|  243|     22415236|  22415235|\n",
      "|97310|                 swp|    4|     19595980|  19595979|\n",
      "|97312|         subdocument|  288|     19596535|  19596534|\n",
      "|97313|variablesizedwrap...|    9|     19596686|  19596685|\n",
      "|97314|     particle-engine|    7|         null|      null|\n",
      "|97318|exchange-manageme...|   46|     19599100|  19599099|\n",
      "|97321|             zentyal|   14|     19714447|  19714446|\n",
      "|97324|              gomock|   57|     20483887|  20483886|\n",
      "|97326|hibernate-postgresql|    6|     20447979|  20447978|\n",
      "|97328|           stapes.js|    3|     19604242|  19604241|\n",
      "|97334|   stable-identifier|    2|     20484078|  20484077|\n",
      "|97335|                mnpp|    3|     19613093|  19613092|\n",
      "|97336|             xna-3.0|   48|     19608210|  19608209|\n",
      "|97338|        os-detection|   26|     19609807|  19609806|\n",
      "|97339|     voice-detection|   17|     19611869|  19611868|\n",
      "|97345|             razor-3|   24|     20484124|  20484123|\n",
      "|97346|      mysql2psql-gem|    5|         null|      null|\n",
      "|97347|      xaml-resources|   15|         null|      null|\n",
      "|97353|          xcode5.0.1|   57|     19790707|  19790706|\n",
      "|97355|      video-tracking|  120|     19619175|  19619174|\n",
      "|97359|             diffbot|   14|     19625062|  19625061|\n",
      "|97360|          six-python|   13|     19789615|  19789614|\n",
      "|97362|                blcr|    9|     19625590|  19625589|\n",
      "|97363|             pg-jdbc|   30|     19647014|  19647013|\n",
      "|97365|            phmagick|    2|     19629197|  19629196|\n",
      "|97367|       objective-git|   16|     20109469|  20109468|\n",
      "|97368|         yandex-maps|  121|     19637753|  19637752|\n",
      "|97373|              yowsup|   62|     19637620|  19637619|\n",
      "|97377|        netbeans-7.4|   51|     19823554|  19823553|\n",
      "|97380|     has-one-through|   32|         null|      null|\n",
      "|97384|            hello.js|   99|     19660134|  19660133|\n",
      "|97386|    mongoose-plugins|   78|     19845033|  19845032|\n",
      "|97389|           rollapply|  242|     41900126|  41900125|\n",
      "|97393|               cnode|    7|     58981074|  58981073|\n",
      "|97395| cfbundledisplayname|   25|         null|      null|\n",
      "|97398|           nextuntil|   33|     39611467|  39611466|\n",
      "|97399|          wheel-menu|    2|     19650713|  19650712|\n",
      "|97400|             prepros|   66|     19653677|  19653676|\n",
      "|97401|      restartmanager|   20|         null|      null|\n",
      "|97402|           quickfixj|  311|     21755322|  21755321|\n",
      "|97403|        jasidepanels|   24|     31379235|  31379234|\n",
      "|97407|             osmosis|   77|     19664601|  19664600|\n",
      "|97409|        imagehandler|   15|         null|      null|\n",
      "|97410|                nana|   30|     19660076|  19660075|\n",
      "|97416|       schemacrawler|  103|     19659997|  19659996|\n",
      "|97417|            snap.svg|  782|     19663096|  19663095|\n",
      "|97420|              znodes|   15|         null|      null|\n",
      "|97423|    mathnet-numerics|  221|     19665300|  19665299|\n",
      "|97426|       python-ggplot|  200|     19666705|  19666704|\n",
      "|97428|            omnigrid|    2|     19667660|  19667659|\n",
      "|97429|         f#-charting|   15|     19668622|  19668621|\n",
      "|97435|          pagoda-box|   20|         null|      null|\n",
      "|97436|                 mqx|   19|     19676900|  19676899|\n",
      "+-----+--------------------+-----+-------------+----------+\n",
      "only showing top 100 rows\n",
      "\n"
     ]
    }
   ],
   "source": [
    "df.show(100)"
   ]
  },
  {
   "cell_type": "code",
   "execution_count": 17,
   "id": "4ecba29a",
   "metadata": {},
   "outputs": [
    {
     "name": "stdout",
     "output_type": "stream",
     "text": [
      "root\n",
      " |-- Id: integer (nullable = true)\n",
      " |-- TagName: string (nullable = true)\n",
      " |-- Count: integer (nullable = true)\n",
      " |-- ExcerptPostId: integer (nullable = true)\n",
      " |-- WikiPostId: integer (nullable = true)\n",
      "\n"
     ]
    }
   ],
   "source": [
    "df.printSchema()"
   ]
  },
  {
   "cell_type": "code",
   "execution_count": 18,
   "id": "4c6ae87e",
   "metadata": {},
   "outputs": [
    {
     "name": "stderr",
     "output_type": "stream",
     "text": [
      "                                                                                \r"
     ]
    },
    {
     "name": "stdout",
     "output_type": "stream",
     "text": [
      "+-----+----------+-------+-------------+----------+\n",
      "|   Id|   TagName|  Count|ExcerptPostId|WikiPostId|\n",
      "+-----+----------+-------+-------------+----------+\n",
      "|    3|javascript|2453736|      3624960|   3607052|\n",
      "|   16|    python|2071403|      3624965|   3607014|\n",
      "|   17|      java|1878099|      3624966|   3607018|\n",
      "|    9|        c#|1571218|      3624962|   3607007|\n",
      "|    5|       php|1451338|      3624936|   3607050|\n",
      "| 1386|   android|1393144|      3625001|   3607484|\n",
      "|    2|      html|1156034|      3673183|   3673182|\n",
      "|  820|    jquery|1031377|      3625262|   3607053|\n",
      "|   10|       c++| 783573|      3624963|   3606997|\n",
      "|    4|       css| 779112|      3644670|   3644669|\n",
      "|58338|       ios| 677317|      4536664|   4536663|\n",
      "|   21|     mysql| 655007|      3624969|   3607033|\n",
      "|   22|       sql| 650214|      3625226|   3607304|\n",
      "| 4452|         r| 473435|      3625322|   3607736|\n",
      "|46426|   node.js| 450209|      4238969|   4238968|\n",
      "|92497|   reactjs| 430730|     16880335|  16880334|\n",
      "|  114|    arrays| 403847|      4969094|   4969093|\n",
      "|    8|         c| 390095|      3624961|   3607013|\n",
      "|   96|   asp.net| 371246|      3625232|   3607037|\n",
      "| 1508|      json| 350223|      4889848|   4889847|\n",
      "+-----+----------+-------+-------------+----------+\n",
      "only showing top 20 rows\n",
      "\n"
     ]
    }
   ],
   "source": [
    "df.orderBy(F.desc('Count')).show()"
   ]
  },
  {
   "cell_type": "code",
   "execution_count": 20,
   "id": "449a89b5",
   "metadata": {},
   "outputs": [],
   "source": [
    "list_of_keywords = ['aws', 'AWS', 'amazon', 'Amazon', 'amz']\n"
   ]
  },
  {
   "cell_type": "code",
   "execution_count": 21,
   "id": "3135851a",
   "metadata": {
    "scrolled": true
   },
   "outputs": [],
   "source": [
    "df_tags_with_amazon = df.select(F.col(\"Id\"), F.col(\"TagName\"), F.col(\"Count\")) \\\n",
    "                       .filter(F.col(\"TagName\").startswith('aws') | F.col(\"TagName\").isin(list_of_keywords)) \\"
   ]
  },
  {
   "cell_type": "code",
   "execution_count": 22,
   "id": "e491ee1c",
   "metadata": {},
   "outputs": [
    {
     "name": "stderr",
     "output_type": "stream",
     "text": [
      "\r",
      "[Stage 11:>                                                         (0 + 2) / 2]\r",
      "\r",
      "[Stage 11:=============================>                            (1 + 1) / 2]\r"
     ]
    },
    {
     "name": "stdout",
     "output_type": "stream",
     "text": [
      "+------+--------------------+-----+\n",
      "|    Id|             TagName|Count|\n",
      "+------+--------------------+-----+\n",
      "|108737|          aws-lambda|28291|\n",
      "|113256|     aws-api-gateway| 6989|\n",
      "|107211|             aws-sdk| 5948|\n",
      "| 99166|             aws-cli| 4076|\n",
      "|  1688|              amazon| 4054|\n",
      "|130293|         aws-amplify| 3866|\n",
      "|128181|            aws-glue| 3554|\n",
      "|133995|             aws-cdk| 2804|\n",
      "|130125|         aws-appsync| 1674|\n",
      "|130040|         aws-fargate| 1499|\n",
      "|114449|    aws-codepipeline| 1400|\n",
      "|123484|       aws-codebuild| 1342|\n",
      "|123710|  aws-step-functions| 1261|\n",
      "|115200|             aws-iot| 1167|\n",
      "|132737|      aws-serverless| 1108|\n",
      "|108181|     aws-code-deploy| 1028|\n",
      "|133429|             aws-sam|  856|\n",
      "|135716|aws-application-l...|  803|\n",
      "|115018|  aws-security-group|  765|\n",
      "|132552| aws-secrets-manager|  731|\n",
      "|132248|   aws-load-balancer|  716|\n",
      "|125258|          aws-sdk-js|  609|\n",
      "| 92026|        aws-opsworks|  543|\n",
      "|112389|        aws-java-sdk|  528|\n",
      "|114185|      aws-codecommit|  526|\n",
      "|146089|    aws-event-bridge|  498|\n",
      "|128297|         aws-sam-cli|  468|\n",
      "|123053|      aws-sdk-nodejs|  460|\n",
      "|130173|             aws-ssm|  456|\n",
      "|129593|   aws-elasticsearch|  445|\n",
      "|135649|aws-glue-data-cat...|  412|\n",
      "|121854|             aws-dms|  399|\n",
      "|111886|             aws-kms|  375|\n",
      "|124227|           aws-batch|  362|\n",
      "|137333|      aws-documentdb|  357|\n",
      "|114134|     aws-device-farm|  356|\n",
      "|123506|            aws-xray|  332|\n",
      "|137855|   aws-lambda-layers|  325|\n",
      "|140763|     aws-amplify-cli|  318|\n",
      "|142472|    aws-auto-scaling|  314|\n",
      "|139448|             aws-msk|  295|\n",
      "|144776|      aws-glue-spark|  290|\n",
      "| 99915|         aws-php-sdk|  289|\n",
      "|130186|          aws-cloud9|  269|\n",
      "|137241|aws-cloudwatch-lo...|  256|\n",
      "|124430|          aws-sdk-go|  254|\n",
      "|131300|     aws-lambda-edge|  252|\n",
      "|124821|        aws-pinpoint|  247|\n",
      "|117558|aws-certificate-m...|  221|\n",
      "|141206|aws-cloudformatio...|  220|\n",
      "|125257|         aws-sdk-net|  216|\n",
      "|139169|aws-aurora-server...|  212|\n",
      "|131722|       aws-userpools|  202|\n",
      "|126577|             aws-sts|  197|\n",
      "|141800|        aws-policies|  189|\n",
      "|130961|             aws-elb|  177|\n",
      "|130757|             aws-iam|  176|\n",
      "|117056|       aws-mobilehub|  168|\n",
      "|100823|      aws-powershell|  159|\n",
      "|127408|   aws-organizations|  154|\n",
      "|131771| aws-parameter-store|  153|\n",
      "|147573|        aws-iot-core|  149|\n",
      "|129144|    aws-sdk-java-2.0|  134|\n",
      "|146900|      aws-databricks|  130|\n",
      "|137836|   aws-media-convert|  128|\n",
      "|124913|             aws-vpc|  127|\n",
      "|115770|             aws-rds|  127|\n",
      "|129198|         aws-billing|  123|\n",
      "|132472|      aws-transcribe|  122|\n",
      "|132102|             aws-lex|  121|\n",
      "|140249|          aws-config|  115|\n",
      "|124674|         aws-sdk-cpp|  114|\n",
      "|136186|    aws-java-sdk-2.x|  112|\n",
      "|135200|         aws-sdk-ios|  112|\n",
      "|126758|             aws-ebs|  112|\n",
      "|130900|             aws-ecr|  111|\n",
      "|139602| aws-systems-manager|  108|\n",
      "| 10189|             awstats|  104|\n",
      "|145316|    aws-codeartifact|  104|\n",
      "|122808|        aws-sdk-ruby|  103|\n",
      "|126004|        aws-codestar|   97|\n",
      "|134529|             aws-alb|   94|\n",
      "|144350|     aws-elasticache|   92|\n",
      "|129774|             aws-ecs|   91|\n",
      "|136642|aws-documentdb-mo...|   91|\n",
      "|127424|         aws-regions|   86|\n",
      "|106659|awss3transfermanager|   85|\n",
      "|147669|  aws-iot-greengrass|   83|\n",
      "|132672|   aws-data-pipeline|   77|\n",
      "|150853|        aws-sqs-fifo|   76|\n",
      "|144908|       aws-chime-sdk|   73|\n",
      "|138464|             aws-acm|   73|\n",
      "|140764|  aws-amplify-sdk-js|   72|\n",
      "|139195|             aws-sso|   70|\n",
      "|141748|             aws-vpn|   67|\n",
      "|134837|         aws-toolkit|   66|\n",
      "|144785|        aws-http-api|   64|\n",
      "|148193|             aws-nlb|   64|\n",
      "|141018|     aws-nat-gateway|   64|\n",
      "|140973|  aws-lake-formation|   62|\n",
      "|145573|     aws-credentials|   59|\n",
      "|139059|          aws-backup|   56|\n",
      "|154709|   aws-data-wrangler|   54|\n",
      "|117447|awss3transferutility|   54|\n",
      "|150929|          aws-devops|   53|\n",
      "| 88362|     aws-marketplace|   52|\n",
      "|153033|         aws-kinesis|   51|\n",
      "|143728|   aws-glue-workflow|   50|\n",
      "|126047| aws-service-catalog|   49|\n",
      "|139117|aws-ec2-instance-...|   49|\n",
      "|155974|      aws-cdk-python|   49|\n",
      "|124236|   aws-access-policy|   48|\n",
      "|142398|        aws-sdk-java|   48|\n",
      "|151057|aws-appsync-resolver|   46|\n",
      "|140784|aws-amplify-sdk-a...|   45|\n",
      "|156196|      aws-iam-policy|   44|\n",
      "|123733|aws-reserved-inst...|   44|\n",
      "|126044| aws-storage-gateway|   44|\n",
      "|150444|       aws-sdk-js-v3|   43|\n",
      "|142910|      aws-media-live|   43|\n",
      "|126046|  aws-direct-connect|   42|\n",
      "|152884|         aws-neptune|   39|\n",
      "|139603| aws-session-manager|   38|\n",
      "|149281|     aws-vpc-peering|   37|\n",
      "|126462|       aws-appstream|   37|\n",
      "|141761|aws-rds-data-service|   37|\n",
      "|115729|aws-directory-ser...|   36|\n",
      "|146448|      aws-app-config|   34|\n",
      "|135412|   aws-iot-analytics|   34|\n",
      "|144940|   aws-control-tower|   34|\n",
      "|123196|        aws-sdk-mock|   34|\n",
      "|140711|        aws-app-mesh|   33|\n",
      "|142095|aws-code-deploy-a...|   31|\n",
      "|150733|    aws-private-link|   31|\n",
      "|156004|        aws-datasync|   30|\n",
      "|150021| aws-glue-connection|   30|\n",
      "|150944|         aws-chatbot|   30|\n",
      "|133349|       aws-elemental|   29|\n",
      "|129317|             aws-sct|   29|\n",
      "|137859|        aws-cloudmap|   27|\n",
      "|150479|   aws-state-machine|   27|\n",
      "|152040|           aws-roles|   27|\n",
      "|155311|        aws-pipeline|   27|\n",
      "|151959|      aws-networking|   26|\n",
      "|148910|aws-lambda-contai...|   26|\n",
      "|145441|        aws-rest-api|   25|\n",
      "|119119|           awsdeploy|   24|\n",
      "|154520|   aws-cost-explorer|   24|\n",
      "|134650|     aws-appsync-ios|   24|\n",
      "|153537|     aws-msk-connect|   24|\n",
      "|153301|       aws-sdk-go-v2|   23|\n",
      "|140237|aws-java-sdk-dyna...|   23|\n",
      "|142976|    aws-security-hub|   23|\n",
      "|148879|      aws-cloudshell|   23|\n",
      "|152349| aws-transfer-family|   22|\n",
      "|149638|     aws-permissions|   22|\n",
      "|151505|       aws-signature|   22|\n",
      "|138622|     aws-fsx-windows|   21|\n",
      "|147078|    aws-mediapackage|   20|\n",
      "|149549|        aws-deeplens|   20|\n",
      "|134822|aws-elastictransc...|   19|\n",
      "|132947|       aws-lambda-go|   19|\n",
      "|127457|  aws-resource-group|   18|\n",
      "|153098|         aws-copilot|   18|\n",
      "|146373|aws-global-accele...|   18|\n",
      "|151961|     aws-route-table|   18|\n",
      "|154086|        aws-databrew|   17|\n",
      "|138387|aws-iam-authentic...|   17|\n",
      "|153708|   aws-identitypools|   17|\n",
      "|159062|        aws-sdk-rust|   16|\n",
      "|155275|         aws-glue3.0|   16|\n",
      "|147077|   aws-mediaservices|   16|\n",
      "|144784|  aws-jwt-authorizer|   15|\n",
      "|147076|      aws-mediastore|   15|\n",
      "|151960|    aws-site-to-site|   15|\n",
      "|141799|            aws-sftp|   14|\n",
      "|118982|             aws-ios|   14|\n",
      "|136895|    aws-landing-zone|   14|\n",
      "|158168|  aws-cdk-typescript|   12|\n",
      "|158019|       aws-s3-client|   12|\n",
      "|142636|     aws-amplify-vue|   11|\n",
      "|153651| aws-acm-certificate|   11|\n",
      "|154164|              aws.s3|   10|\n",
      "|134237|     aws-sdk-android|   10|\n",
      "|136514|     aws-mediatailor|   10|\n",
      "|152492|     awscognitotoken|   10|\n",
      "| 80097|             aws-lib|    8|\n",
      "|152114|      aws-automation|    8|\n",
      "|126043|        aws-snowball|    8|\n",
      "|149039|     aws-cdk-context|    8|\n",
      "|124760|           aws-shell|    7|\n",
      "|129685|        aws-redshift|    7|\n",
      "|133551|aws-visual-studio...|    7|\n",
      "|136595|            aws-nuke|    7|\n",
      "|152978|    aws-iot-sitewise|    7|\n",
      "|147574|      aws-iot-events|    6|\n",
      "|150992|      aws-emr-studio|    6|\n",
      "|157558|       aws-datastore|    6|\n",
      "|152647|             aws-asg|    6|\n",
      "|101895|               aws4c|    6|\n",
      "|155964|             aws-scp|    6|\n",
      "|127537|       aws-vm-import|    6|\n",
      "|153099|     aws-copilot-cli|    5|\n",
      "|151803|   aws-feature-store|    5|\n",
      "|140885|aws-lambda-puppeteer|    5|\n",
      "|148579|        aws-codeguru|    5|\n",
      "|151896|          aws-limits|    4|\n",
      "|153464|aws-lambda-integr...|    4|\n",
      "|153479|             aws-dax|    4|\n",
      "|139076|     aws-step-config|    4|\n",
      "|148673|           aws-steps|    4|\n",
      "|113905|       aws-ruby-flow|    3|\n",
      "|157831|  aws-ebs-csi-driver|    3|\n",
      "|150982|             aws-cdn|    3|\n",
      "|153765|             aws-fis|    3|\n",
      "|156682|        aws-govcloud|    2|\n",
      "|147079|    aws-mediaconnect|    2|\n",
      "|158502|           aws-vault|    2|\n",
      "|150243|        aws-iot-jobs|    2|\n",
      "|158556|     aws-azure-login|    2|\n",
      "|156858|            aws4auth|    2|\n",
      "|151823|        awstimestamp|    2|\n",
      "|158954|  aws-service-quotas|    2|\n",
      "|154550|aws-rails-provisi...|    2|\n",
      "|156738|aws-secretsmanage...|    1|\n",
      "|157464|aws-cloudformatio...|    1|\n",
      "|157649|aws-application-d...|    1|\n",
      "|158818|       aws-deepracer|    1|\n",
      "|158698|             aws-arn|    1|\n",
      "|159107|awssecretsmanager...|    1|\n",
      "+------+--------------------+-----+\n",
      "\n"
     ]
    },
    {
     "name": "stderr",
     "output_type": "stream",
     "text": [
      "\r",
      "                                                                                \r"
     ]
    }
   ],
   "source": [
    "df_tags_with_amazon.orderBy(F.desc(F.col(\"Count\"))).show(230)"
   ]
  },
  {
   "cell_type": "code",
   "execution_count": null,
   "id": "73917185",
   "metadata": {},
   "outputs": [],
   "source": []
  }
 ],
 "metadata": {
  "kernelspec": {
   "display_name": "Python 3 (ipykernel)",
   "language": "python",
   "name": "python3"
  },
  "language_info": {
   "codemirror_mode": {
    "name": "ipython",
    "version": 3
   },
   "file_extension": ".py",
   "mimetype": "text/x-python",
   "name": "python",
   "nbconvert_exporter": "python",
   "pygments_lexer": "ipython3",
   "version": "3.7.16"
  }
 },
 "nbformat": 4,
 "nbformat_minor": 5
}
