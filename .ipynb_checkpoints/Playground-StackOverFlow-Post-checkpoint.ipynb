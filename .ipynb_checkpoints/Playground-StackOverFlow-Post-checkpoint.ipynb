{
 "cells": [
  {
   "cell_type": "code",
   "execution_count": 1,
   "id": "97ac1d3f",
   "metadata": {},
   "outputs": [
    {
     "data": {
      "text/html": [
       "\n",
       "            <div>\n",
       "                <p><b>SparkSession - hive</b></p>\n",
       "                \n",
       "        <div>\n",
       "            <p><b>SparkContext</b></p>\n",
       "\n",
       "            <p><a href=\"http://ip-172-31-2-35.us-east-2.compute.internal:4040\">Spark UI</a></p>\n",
       "\n",
       "            <dl>\n",
       "              <dt>Version</dt>\n",
       "                <dd><code>v3.3.0-amzn-1</code></dd>\n",
       "              <dt>Master</dt>\n",
       "                <dd><code>yarn</code></dd>\n",
       "              <dt>AppName</dt>\n",
       "                <dd><code>PySparkShell</code></dd>\n",
       "            </dl>\n",
       "        </div>\n",
       "        \n",
       "            </div>\n",
       "        "
      ],
      "text/plain": [
       "<pyspark.sql.session.SparkSession at 0x7f7171257ad0>"
      ]
     },
     "execution_count": 1,
     "metadata": {},
     "output_type": "execute_result"
    }
   ],
   "source": [
    "spark"
   ]
  },
  {
   "cell_type": "markdown",
   "id": "7bced328",
   "metadata": {},
   "source": [
    "## Processing `Post.xml`"
   ]
  },
  {
   "cell_type": "code",
   "execution_count": 1,
   "id": "dbdfb075",
   "metadata": {},
   "outputs": [],
   "source": [
    "import pyspark.sql.functions as F\n",
    "from pyspark.sql.types import StructType, StructField, IntegerType, StringType, TimestampType, LongType\n",
    "from datetime import datetime"
   ]
  },
  {
   "cell_type": "code",
   "execution_count": 3,
   "id": "682af470",
   "metadata": {},
   "outputs": [],
   "source": [
    "# Dataset path \n",
    "dataset_bucket = 's3://stackoverflow-dataset-2023/dataset/raw/2023/'\n",
    "dataset_comments = f\"{dataset_bucket}/Posts.xml\""
   ]
  },
  {
   "cell_type": "code",
   "execution_count": 4,
   "id": "0996fa5a",
   "metadata": {},
   "outputs": [],
   "source": [
    "rdd = spark.sparkContext.textFile(dataset_comments)"
   ]
  },
  {
   "cell_type": "code",
   "execution_count": 163,
   "id": "d094ac86",
   "metadata": {},
   "outputs": [],
   "source": [
    "def row_parser(row):\n",
    "    \n",
    "    fields = ['Id=',\n",
    "             'PostTypeId=',\n",
    "             'ParentId=',\n",
    "             'AcceptedAnswerId=',\n",
    "             'CreationDate=',\n",
    "             'DeletionDate=', \n",
    "             'Score=',\n",
    "             'ViewCount=',\n",
    "             'Body=',\n",
    "             'OwnerUserId=',\n",
    "             'OwnerDisplayName=',\n",
    "             'LastEditorUserId=',\n",
    "             'LastEditorDisplayName=',\n",
    "             'LastEditDate=',\n",
    "             'LastActivityDate=',\n",
    "             'Title=',\n",
    "             'Tags=',\n",
    "             'AnswerCount=',\n",
    "             'CommentCount=',\n",
    "             'FavoriteCount=',\n",
    "             'ClosedDate=',\n",
    "             'CommunityOwnedDate=', \n",
    "             'ContentLicense=']\n",
    "    \n",
    "    row_field = dict.fromkeys(fields, None)\n",
    "    row_list = [ i.strip() for i in row.split('\"')[:-1] ]\n",
    "    \n",
    "    for i in range(0, len(row_list), 2):\n",
    "        if row_list[i] in ['ClosedDate=', 'CreationDate=', 'LastEditDate=', 'LastActivityDate=', 'CommunityOwnedDate=', 'DeletionDate=']:\n",
    "            row_field[row_list[i]] = datetime.strptime(row_list[i+1], \"%Y-%m-%dT%H:%M:%S.%f\")\n",
    "        \n",
    "        else:\n",
    "            row_field[row_list[i]] = row_list[i+1]\n",
    "        \n",
    "    \n",
    "    return tuple(row_field.values())"
   ]
  },
  {
   "cell_type": "code",
   "execution_count": 164,
   "id": "7a3bf8eb",
   "metadata": {},
   "outputs": [],
   "source": [
    "parsed_rdd = rdd.map(lambda row: row.strip()) \\\n",
    "   .filter(lambda row: row.startswith(\"<row\")) \\\n",
    "   .map(lambda row: row[4:-3]) \\\n",
    "   .map(lambda row: row.strip()) \\\n",
    "   .map(row_parser)"
   ]
  },
  {
   "cell_type": "code",
   "execution_count": 165,
   "id": "9e58e9dc",
   "metadata": {},
   "outputs": [],
   "source": [
    "# Define the schema for the DataFrame\n",
    "schema_post = StructType([\n",
    "    StructField('Id', StringType()),\n",
    "    StructField('PostTypeId', StringType()),\n",
    "    StructField('ParentId', StringType()),\n",
    "    StructField('AcceptedAnswerId', StringType()),\n",
    "    StructField('CreationDate', TimestampType()),\n",
    "    StructField('DeletionDate', TimestampType()),\n",
    "    StructField('Score', StringType()),\n",
    "    StructField('ViewCount', StringType()),\n",
    "    StructField('Body', StringType()),\n",
    "    StructField('OwnerUserId', StringType()),\n",
    "    StructField('OwnerDisplayName', StringType()),\n",
    "    StructField('LastEditorUserId', StringType()),\n",
    "    StructField('LastEditorDisplayName', StringType()),\n",
    "    StructField('LastEditDate', TimestampType()),\n",
    "    StructField('LastActivityDate', TimestampType()),\n",
    "    StructField('Title', StringType()),\n",
    "    StructField('Tags', StringType()),\n",
    "    StructField('AnswerCount', StringType()),\n",
    "    StructField('CommentCount', StringType()),\n",
    "    StructField('FavoriteCount', StringType()),\n",
    "    StructField('ClosedDate', TimestampType()),\n",
    "    StructField('CommunityOwnedDate', TimestampType()),\n",
    "    StructField('ContentLicense', StringType())\n",
    "])"
   ]
  },
  {
   "cell_type": "code",
   "execution_count": 166,
   "id": "a6c216e2",
   "metadata": {},
   "outputs": [],
   "source": [
    "# Convert the RDD to a DataFrame\n",
    "df = parsed_rdd.toDF(schema_post)"
   ]
  },
  {
   "cell_type": "code",
   "execution_count": 167,
   "id": "f93a920b",
   "metadata": {
    "scrolled": false
   },
   "outputs": [
    {
     "name": "stdout",
     "output_type": "stream",
     "text": [
      "root\n",
      " |-- Id: string (nullable = true)\n",
      " |-- PostTypeId: string (nullable = true)\n",
      " |-- ParentId: string (nullable = true)\n",
      " |-- AcceptedAnswerId: string (nullable = true)\n",
      " |-- CreationDate: timestamp (nullable = true)\n",
      " |-- DeletionDate: timestamp (nullable = true)\n",
      " |-- Score: string (nullable = true)\n",
      " |-- ViewCount: string (nullable = true)\n",
      " |-- Body: string (nullable = true)\n",
      " |-- OwnerUserId: string (nullable = true)\n",
      " |-- OwnerDisplayName: string (nullable = true)\n",
      " |-- LastEditorUserId: string (nullable = true)\n",
      " |-- LastEditorDisplayName: string (nullable = true)\n",
      " |-- LastEditDate: timestamp (nullable = true)\n",
      " |-- LastActivityDate: timestamp (nullable = true)\n",
      " |-- Title: string (nullable = true)\n",
      " |-- Tags: string (nullable = true)\n",
      " |-- AnswerCount: string (nullable = true)\n",
      " |-- CommentCount: string (nullable = true)\n",
      " |-- FavoriteCount: string (nullable = true)\n",
      " |-- ClosedDate: timestamp (nullable = true)\n",
      " |-- CommunityOwnedDate: timestamp (nullable = true)\n",
      " |-- ContentLicense: string (nullable = true)\n",
      "\n"
     ]
    }
   ],
   "source": [
    "df.printSchema()"
   ]
  },
  {
   "cell_type": "code",
   "execution_count": 168,
   "id": "b0326fd1",
   "metadata": {},
   "outputs": [
    {
     "name": "stderr",
     "output_type": "stream",
     "text": [
      "                                                                                \r"
     ]
    },
    {
     "data": {
      "text/plain": [
       "58329356"
      ]
     },
     "execution_count": 168,
     "metadata": {},
     "output_type": "execute_result"
    }
   ],
   "source": [
    "df.count()"
   ]
  },
  {
   "cell_type": "code",
   "execution_count": 169,
   "id": "748ae7e6",
   "metadata": {},
   "outputs": [
    {
     "name": "stderr",
     "output_type": "stream",
     "text": [
      "                                                                                \r"
     ]
    },
    {
     "data": {
      "text/plain": [
       "58329356"
      ]
     },
     "execution_count": 169,
     "metadata": {},
     "output_type": "execute_result"
    }
   ],
   "source": [
    "df = df \\\n",
    "    .withColumn('Id', F.col('Id').cast('int')) \\\n",
    "    .withColumn('PostTypeId', F.col('PostTypeId').cast('int')) \\\n",
    "    .withColumn('ParentId', F.col('ParentId').cast('int')) \\\n",
    "    .withColumn('AcceptedAnswerId', F.col('AcceptedAnswerId').cast('int')) \\\n",
    "    .withColumn('Score', F.col('Score').cast('int')) \\\n",
    "    .withColumn('ViewCount', F.col('ViewCount').cast('int')) \\\n",
    "    .withColumn('OwnerUserId', F.col('OwnerUserId').cast('int')) \\\n",
    "    .withColumn('LastEditorUserId', F.col('LastEditorUserId').cast('int')) \\\n",
    "    .withColumn('AnswerCount', F.col('AnswerCount').cast('int')) \\\n",
    "    .withColumn('CommentCount', F.col('CommentCount').cast('int')) \\\n",
    "    .withColumn('FavoriteCount', F.col('FavoriteCount').cast('int')) \n",
    "\n",
    "df.count()"
   ]
  },
  {
   "cell_type": "code",
   "execution_count": 12,
   "id": "8c4eaaab",
   "metadata": {},
   "outputs": [
    {
     "name": "stderr",
     "output_type": "stream",
     "text": [
      "[Stage 6:>                                                          (0 + 1) / 1]\r"
     ]
    },
    {
     "name": "stdout",
     "output_type": "stream",
     "text": [
      "+---+-----------------+------+--------------------+--------------------+------+---------------+-------+--------------------+--------------+\n",
      "| Id|PostHistoryTypeId|PostId|        RevisionGUID|        CreationDate|UserId|UserDisplayName|Comment|                Text|ContentLicense|\n",
      "+---+-----------------+------+--------------------+--------------------+------+---------------+-------+--------------------+--------------+\n",
      "|  6|                2|     7|c30df0f4-a2d9-426...|2008-07-31 22:17:...|     9|           null|   null|The explicit cast...|  CC BY-SA 2.5|\n",
      "| 12|                1|    17|0421fb42-a29a-4cb...|2008-08-01 05:09:...|     2|           null|   null|Binary Data in MYSQL|  CC BY-SA 2.5|\n",
      "| 13|                3|    17|0421fb42-a29a-4cb...|2008-08-01 05:09:...|     2|           null|   null|&lt;database&gt;&...|  CC BY-SA 2.5|\n",
      "| 14|                2|    17|0421fb42-a29a-4cb...|2008-08-01 05:09:...|     2|           null|   null|How do I store bi...|  CC BY-SA 2.5|\n",
      "| 16|                2|    18|0cfdfa19-039f-464...|2008-08-01 05:12:...|  null|         phpguy|   null|For a table like ...|  CC BY-SA 2.5|\n",
      "| 17|                1|    25|617afb21-e2be-477...|2008-08-01 12:13:...|    23|           null|   null|How to use the C ...|  CC BY-SA 2.5|\n",
      "| 18|                3|    25|617afb21-e2be-477...|2008-08-01 12:13:...|    23|           null|   null|&lt;c++&gt;&lt;c&...|  CC BY-SA 2.5|\n",
      "| 19|                2|    25|617afb21-e2be-477...|2008-08-01 12:13:...|    23|           null|   null|I've been having ...|  CC BY-SA 2.5|\n",
      "| 21|                2|    29|d4041f3b-1619-4b3...|2008-08-01 12:19:...|    19|           null|   null|There are no HTTP...|  CC BY-SA 2.5|\n",
      "| 22|                2|    30|60100e19-92ec-442...|2008-08-01 12:22:...|    13|           null|   null|I've had no troub...|  CC BY-SA 2.5|\n",
      "| 23|                2|    31|5dda610a-0a7a-4fe...|2008-08-01 12:22:...|  null|        maclema|   null|Does the parent d...|  CC BY-SA 2.5|\n",
      "| 25|                2|    33|b05fc0ef-9eee-4ef...|2008-08-01 12:26:...|    13|           null|   null|`Math.Floor` roun...|  CC BY-SA 2.5|\n",
      "| 26|                1|    34|c2579e01-1223-48a...|2008-08-01 12:30:...|  null|        maclema|   null|Unloading a ByteA...|  CC BY-SA 2.5|\n",
      "| 27|                3|    34|c2579e01-1223-48a...|2008-08-01 12:30:...|  null|        maclema|   null|&lt;apache-flex&g...|  CC BY-SA 2.5|\n",
      "| 28|                2|    34|c2579e01-1223-48a...|2008-08-01 12:30:...|  null|        maclema|   null|Does anyone know ...|  CC BY-SA 2.5|\n",
      "| 37|                2|    44|aabf9c4a-ebb4-437...|2008-08-01 12:55:...|    35|           null|   null|Consider using a ...|  CC BY-SA 2.5|\n",
      "| 40|                2|    49|e7eeec01-306e-460...|2008-08-01 13:02:...|    43|           null|   null|Here is one hack ...|  CC BY-SA 2.5|\n",
      "| 42|                2|    51|c4128c3e-fbe8-4eb...|2008-08-01 13:07:...|    17|           null|   null|Why don't you wan...|  CC BY-SA 2.5|\n",
      "| 43|                2|    52|25e071df-8581-4cf...|2008-08-01 13:08:...|    23|           null|   null|Have a look at th...|  CC BY-SA 2.5|\n",
      "| 44|                2|    53|e7a9a615-b7e7-444...|2008-08-01 13:08:...|    34|           null|   null|(I'm not positive...|  CC BY-SA 2.5|\n",
      "+---+-----------------+------+--------------------+--------------------+------+---------------+-------+--------------------+--------------+\n",
      "only showing top 20 rows\n",
      "\n"
     ]
    },
    {
     "name": "stderr",
     "output_type": "stream",
     "text": [
      "\r",
      "                                                                                \r"
     ]
    }
   ],
   "source": [
    "# Dataset path \n",
    "output_bucket = 's3://stackoverflow-dataset-2023/dataset/raw-processed/2023'\n",
    "output_folder_name = f\"{output_bucket}/Post-parquet\"\n",
    "\n",
    "# save dataframe as csv\n",
    "df.write \\\n",
    "  .format('parquet') \\\n",
    "  .option('header', True) \\\n",
    "  .mode('overwrite') \\\n",
    "  .save(output_folder_name)\n",
    "\n",
    "df.show()"
   ]
  },
  {
   "cell_type": "code",
   "execution_count": null,
   "id": "f8b851fa",
   "metadata": {},
   "outputs": [],
   "source": []
  }
 ],
 "metadata": {
  "kernelspec": {
   "display_name": "Python 3 (ipykernel)",
   "language": "python",
   "name": "python3"
  },
  "language_info": {
   "codemirror_mode": {
    "name": "ipython",
    "version": 3
   },
   "file_extension": ".py",
   "mimetype": "text/x-python",
   "name": "python",
   "nbconvert_exporter": "python",
   "pygments_lexer": "ipython3",
   "version": "3.7.16"
  }
 },
 "nbformat": 4,
 "nbformat_minor": 5
}
