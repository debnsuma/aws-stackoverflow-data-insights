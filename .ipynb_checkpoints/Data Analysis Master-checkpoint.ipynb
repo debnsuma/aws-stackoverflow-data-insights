{
 "cells": [
  {
   "cell_type": "code",
   "execution_count": 1,
   "id": "1c904c5d",
   "metadata": {
    "slideshow": {
     "slide_type": "subslide"
    }
   },
   "outputs": [
    {
     "data": {
      "text/html": [
       "\n",
       "            <div>\n",
       "                <p><b>SparkSession - hive</b></p>\n",
       "                \n",
       "        <div>\n",
       "            <p><b>SparkContext</b></p>\n",
       "\n",
       "            <p><a href=\"http://ip-172-31-2-35.us-east-2.compute.internal:4040\">Spark UI</a></p>\n",
       "\n",
       "            <dl>\n",
       "              <dt>Version</dt>\n",
       "                <dd><code>v3.3.0-amzn-1</code></dd>\n",
       "              <dt>Master</dt>\n",
       "                <dd><code>yarn</code></dd>\n",
       "              <dt>AppName</dt>\n",
       "                <dd><code>PySparkShell</code></dd>\n",
       "            </dl>\n",
       "        </div>\n",
       "        \n",
       "            </div>\n",
       "        "
      ],
      "text/plain": [
       "<pyspark.sql.session.SparkSession at 0x7f16b0157b10>"
      ]
     },
     "execution_count": 1,
     "metadata": {},
     "output_type": "execute_result"
    }
   ],
   "source": [
    "spark"
   ]
  },
  {
   "cell_type": "code",
   "execution_count": 136,
   "id": "2ea75710",
   "metadata": {},
   "outputs": [],
   "source": [
    "import pyspark.sql.functions as F\n",
    "import pyspark.sql.window as W"
   ]
  },
  {
   "cell_type": "markdown",
   "id": "405fd336",
   "metadata": {
    "slideshow": {
     "slide_type": "slide"
    }
   },
   "source": [
    "# Loading the Data "
   ]
  },
  {
   "cell_type": "code",
   "execution_count": 55,
   "id": "b95d41e3",
   "metadata": {
    "slideshow": {
     "slide_type": "slide"
    }
   },
   "outputs": [],
   "source": [
    "# Dataset path \n",
    "dataset_bucket = 's3://stackoverflow-dataset-2023/dataset/raw-processed'\n",
    "\n",
    "# All folders \n",
    "votes_dataset_file = f\"{dataset_bucket}/Votes-parquet\"\n",
    "badges_dataset_file = f\"{dataset_bucket}/Badges-parquet\"\n",
    "comments_dataset_file = f\"{dataset_bucket}/Comments-parquet\"\n",
    "post_history_dataset_file = f\"{dataset_bucket}/PostHistory-parquet\"\n",
    "tags_dataset_file = f\"{dataset_bucket}/Tags-parquet\"\n",
    "users_dataset_file = f\"{dataset_bucket}/Users-parquet\"\n"
   ]
  },
  {
   "cell_type": "code",
   "execution_count": 88,
   "id": "dbd8a2ba",
   "metadata": {
    "slideshow": {
     "slide_type": "slide"
    }
   },
   "outputs": [
    {
     "name": "stderr",
     "output_type": "stream",
     "text": [
      "                                                                                \r"
     ]
    }
   ],
   "source": [
    "# Votes\n",
    "df_votes = spark.read \\\n",
    "         .option(\"header\", True) \\\n",
    "         .option(\"inferSchema\", True) \\\n",
    "         .parquet(votes_dataset_file)\n",
    "\n",
    "# Badges\n",
    "df_badges = spark.read \\\n",
    "         .option(\"header\", True) \\\n",
    "         .option(\"inferSchema\", True) \\\n",
    "         .parquet(badges_dataset_file)\n",
    "\n",
    "# Comments\n",
    "df_comments = spark.read \\\n",
    "         .option(\"header\", True) \\\n",
    "         .option(\"inferSchema\", True) \\\n",
    "         .parquet(comments_dataset_file)\n",
    "\n",
    "# PostHistory \n",
    "df_post_history = spark.read \\\n",
    "         .option(\"header\", True) \\\n",
    "         .option(\"inferSchema\", True) \\\n",
    "         .parquet(post_history_dataset_file)\n",
    "\n",
    "# Tags\n",
    "df_tags = spark.read \\\n",
    "         .option(\"header\", True) \\\n",
    "         .option(\"inferSchema\", True) \\\n",
    "         .parquet(tags_dataset_file)\n",
    "\n",
    "# Users\n",
    "df_users = spark.read \\\n",
    "         .option(\"header\", True) \\\n",
    "         .option(\"inferSchema\", True) \\\n",
    "         .parquet(users_dataset_file)"
   ]
  },
  {
   "cell_type": "markdown",
   "id": "0374a388",
   "metadata": {
    "slideshow": {
     "slide_type": "slide"
    }
   },
   "source": [
    "# Validating the `loaded` Data"
   ]
  },
  {
   "cell_type": "markdown",
   "id": "efbbc03e",
   "metadata": {
    "slideshow": {
     "slide_type": "slide"
    }
   },
   "source": [
    "## 1. `Votes` Data "
   ]
  },
  {
   "cell_type": "code",
   "execution_count": 12,
   "id": "0f59143b",
   "metadata": {
    "slideshow": {
     "slide_type": "slide"
    }
   },
   "outputs": [
    {
     "name": "stderr",
     "output_type": "stream",
     "text": [
      "                                                                                \r"
     ]
    },
    {
     "name": "stdout",
     "output_type": "stream",
     "text": [
      "No. of Records in the Votes table : 224535501\n"
     ]
    }
   ],
   "source": [
    "print(f\"No. of Records in the Votes table : {df_votes.count()}\")"
   ]
  },
  {
   "cell_type": "code",
   "execution_count": 13,
   "id": "bbd573c4",
   "metadata": {
    "slideshow": {
     "slide_type": "slide"
    }
   },
   "outputs": [
    {
     "name": "stderr",
     "output_type": "stream",
     "text": [
      "\r",
      "[Stage 27:>                                                         (0 + 1) / 1]\r"
     ]
    },
    {
     "name": "stdout",
     "output_type": "stream",
     "text": [
      "+--------+--------+----------+------+-------+-----+-------------------+-------------+----------+------------+\n",
      "|      Id|  PostId|VoteTypeId|UserId|TagName|Count|       CreationDate|ExcerptPostId|WikiPostId|BountyAmount|\n",
      "+--------+--------+----------+------+-------+-----+-------------------+-------------+----------+------------+\n",
      "|71634912|24754128|        10|  null|   null| null|2014-07-15 00:00:00|         null|      null|        null|\n",
      "|71634913|16804205|         2|  null|   null| null|2014-07-15 00:00:00|         null|      null|        null|\n",
      "|71634914|24760404|         2|  null|   null| null|2014-07-15 00:00:00|         null|      null|        null|\n",
      "|71634915|24760384|         3|  null|   null| null|2014-07-15 00:00:00|         null|      null|        null|\n",
      "|71634916|15191659|         2|  null|   null| null|2014-07-15 00:00:00|         null|      null|        null|\n",
      "|71634918| 1150180|         2|  null|   null| null|2014-07-15 00:00:00|         null|      null|        null|\n",
      "|71634919| 4049562|         2|  null|   null| null|2014-07-15 00:00:00|         null|      null|        null|\n",
      "|71634920| 2049502|         2|  null|   null| null|2014-07-15 00:00:00|         null|      null|        null|\n",
      "|71634921|24757353|         3|  null|   null| null|2014-07-15 00:00:00|         null|      null|        null|\n",
      "|71634922|18938940|         2|  null|   null| null|2014-07-15 00:00:00|         null|      null|        null|\n",
      "|71634923|24760404|         2|  null|   null| null|2014-07-15 00:00:00|         null|      null|        null|\n",
      "|71634924|18273223|         3|  null|   null| null|2014-07-15 00:00:00|         null|      null|        null|\n",
      "|71634925|13656194|         2|  null|   null| null|2014-07-15 00:00:00|         null|      null|        null|\n",
      "|71634926|24754547|        10|  null|   null| null|2014-07-15 00:00:00|         null|      null|        null|\n",
      "|71634927|24662713|        10|  null|   null| null|2014-07-15 00:00:00|         null|      null|        null|\n",
      "|71634928|13440179|         2|  null|   null| null|2014-07-15 00:00:00|         null|      null|        null|\n",
      "|71634930|24760358|         3|  null|   null| null|2014-07-15 00:00:00|         null|      null|        null|\n",
      "|71634931|24753092|         2|  null|   null| null|2014-07-15 00:00:00|         null|      null|        null|\n",
      "|71634932|10146653|         2|  null|   null| null|2014-07-15 00:00:00|         null|      null|        null|\n",
      "|71634933|20065669|         2|  null|   null| null|2014-07-15 00:00:00|         null|      null|        null|\n",
      "|71634934|12133313|         2|  null|   null| null|2014-07-15 00:00:00|         null|      null|        null|\n",
      "|71634935|14329954|        16|  null|   null| null|2014-07-15 00:00:00|         null|      null|        null|\n",
      "|71634936|24760150|        16|  null|   null| null|2014-07-15 00:00:00|         null|      null|        null|\n",
      "|71634937|24760394|         3|  null|   null| null|2014-07-15 00:00:00|         null|      null|        null|\n",
      "|71634938| 7509303|         2|  null|   null| null|2014-07-15 00:00:00|         null|      null|        null|\n",
      "|71634939|24759479|         2|  null|   null| null|2014-07-15 00:00:00|         null|      null|        null|\n",
      "|71634940|24445659|         2|  null|   null| null|2014-07-15 00:00:00|         null|      null|        null|\n",
      "|71634941|24749359|        10|  null|   null| null|2014-07-15 00:00:00|         null|      null|        null|\n",
      "|71634942|24760351|         3|  null|   null| null|2014-07-15 00:00:00|         null|      null|        null|\n",
      "|71634943|24759468|         2|  null|   null| null|2014-07-15 00:00:00|         null|      null|        null|\n",
      "|71634944|24760136|        16|  null|   null| null|2014-07-15 00:00:00|         null|      null|        null|\n",
      "|71634945|23858477|        10|  null|   null| null|2014-07-15 00:00:00|         null|      null|        null|\n",
      "|71634946| 7811370|         2|  null|   null| null|2014-07-15 00:00:00|         null|      null|        null|\n",
      "|71634949|24759178|         1|  null|   null| null|2014-07-15 00:00:00|         null|      null|        null|\n",
      "|71634950|16216250|         2|  null|   null| null|2014-07-15 00:00:00|         null|      null|        null|\n",
      "|71634951| 7811437|         2|  null|   null| null|2014-07-15 00:00:00|         null|      null|        null|\n",
      "|71634952| 4038195|         2|  null|   null| null|2014-07-15 00:00:00|         null|      null|        null|\n",
      "|71634953|24760362|        16|  null|   null| null|2014-07-15 00:00:00|         null|      null|        null|\n",
      "|71634954|24760175|         2|  null|   null| null|2014-07-15 00:00:00|         null|      null|        null|\n",
      "|71634955|24760229|         3|  null|   null| null|2014-07-15 00:00:00|         null|      null|        null|\n",
      "|71634956|24760169|         2|  null|   null| null|2014-07-15 00:00:00|         null|      null|        null|\n",
      "|71634957| 7811284|         2|  null|   null| null|2014-07-15 00:00:00|         null|      null|        null|\n",
      "|71634958|24760060|         3|  null|   null| null|2014-07-15 00:00:00|         null|      null|        null|\n",
      "|71634959|24757286|         2|  null|   null| null|2014-07-15 00:00:00|         null|      null|        null|\n",
      "|71634960|24760295|        10|  null|   null| null|2014-07-15 00:00:00|         null|      null|        null|\n",
      "|71634961|19499638|         2|  null|   null| null|2014-07-15 00:00:00|         null|      null|        null|\n",
      "|71634962| 3068558|         2|  null|   null| null|2014-07-15 00:00:00|         null|      null|        null|\n",
      "|71634963|24760326|         2|  null|   null| null|2014-07-15 00:00:00|         null|      null|        null|\n",
      "|71634964|23407200|         2|  null|   null| null|2014-07-15 00:00:00|         null|      null|        null|\n",
      "|71634965| 8343147|         2|  null|   null| null|2014-07-15 00:00:00|         null|      null|        null|\n",
      "|71634966| 8342725|         2|  null|   null| null|2014-07-15 00:00:00|         null|      null|        null|\n",
      "|71634967|24080724|         1|  null|   null| null|2014-07-15 00:00:00|         null|      null|        null|\n",
      "|71634968|11900828|         2|  null|   null| null|2014-07-15 00:00:00|         null|      null|        null|\n",
      "|71634969|15862943|         2|  null|   null| null|2014-07-15 00:00:00|         null|      null|        null|\n",
      "|71634970|11900911|         2|  null|   null| null|2014-07-15 00:00:00|         null|      null|        null|\n",
      "|71634971|24759927|         1|  null|   null| null|2014-07-15 00:00:00|         null|      null|        null|\n",
      "|71634972|24757799|         1|  null|   null| null|2014-07-15 00:00:00|         null|      null|        null|\n",
      "|71634973|  800010|         3|  null|   null| null|2014-07-15 00:00:00|         null|      null|        null|\n",
      "|71634975|24760343|        16|  null|   null| null|2014-07-15 00:00:00|         null|      null|        null|\n",
      "|71634976|13771176|         2|  null|   null| null|2014-07-15 00:00:00|         null|      null|        null|\n",
      "|71634978|10702732|         2|  null|   null| null|2014-07-15 00:00:00|         null|      null|        null|\n",
      "|71634980|20086347|         2|  null|   null| null|2014-07-15 00:00:00|         null|      null|        null|\n",
      "|71634981| 2330620|         2|  null|   null| null|2014-07-15 00:00:00|         null|      null|        null|\n",
      "|71634982|24760037|         2|  null|   null| null|2014-07-15 00:00:00|         null|      null|        null|\n",
      "|71634983|24758762|        10|  null|   null| null|2014-07-15 00:00:00|         null|      null|        null|\n",
      "|71634984| 2461515|         2|  null|   null| null|2014-07-15 00:00:00|         null|      null|        null|\n",
      "|71634985| 7685471|         2|  null|   null| null|2014-07-15 00:00:00|         null|      null|        null|\n",
      "|71634986|24756305|         2|  null|   null| null|2014-07-15 00:00:00|         null|      null|        null|\n",
      "|71634987|20016032|         2|  null|   null| null|2014-07-15 00:00:00|         null|      null|        null|\n",
      "|71634988|24760412|         3|  null|   null| null|2014-07-15 00:00:00|         null|      null|        null|\n",
      "|71634989| 5683592|         2|  null|   null| null|2014-07-15 00:00:00|         null|      null|        null|\n",
      "|71634990|20691099|         2|  null|   null| null|2014-07-15 00:00:00|         null|      null|        null|\n",
      "|71634991| 2224643|         2|  null|   null| null|2014-07-15 00:00:00|         null|      null|        null|\n",
      "|71634993|24760217|         2|  null|   null| null|2014-07-15 00:00:00|         null|      null|        null|\n",
      "|71634994|24760116|         3|  null|   null| null|2014-07-15 00:00:00|         null|      null|        null|\n",
      "|71634995| 4609491|         2|  null|   null| null|2014-07-15 00:00:00|         null|      null|        null|\n",
      "|71634996| 4681021|         2|  null|   null| null|2014-07-15 00:00:00|         null|      null|        null|\n",
      "|71634997| 3275772|         2|  null|   null| null|2014-07-15 00:00:00|         null|      null|        null|\n",
      "|71634998| 2175811|         2|  null|   null| null|2014-07-15 00:00:00|         null|      null|        null|\n",
      "|71634999|24760074|         1|  null|   null| null|2014-07-15 00:00:00|         null|      null|        null|\n",
      "|71635000| 2131949|         2|  null|   null| null|2014-07-15 00:00:00|         null|      null|        null|\n",
      "|71635001| 4480304|         2|  null|   null| null|2014-07-15 00:00:00|         null|      null|        null|\n",
      "|71635002|24760074|         2|  null|   null| null|2014-07-15 00:00:00|         null|      null|        null|\n",
      "|71635003| 4480318|         2|  null|   null| null|2014-07-15 00:00:00|         null|      null|        null|\n",
      "|71635004|19815279|         3|  null|   null| null|2014-07-15 00:00:00|         null|      null|        null|\n",
      "|71635005|24753310|         1|  null|   null| null|2014-07-15 00:00:00|         null|      null|        null|\n",
      "|71635006| 2472694|         2|  null|   null| null|2014-07-15 00:00:00|         null|      null|        null|\n",
      "|71635007| 4485194|         2|  null|   null| null|2014-07-15 00:00:00|         null|      null|        null|\n",
      "|71635008| 7752347|         2|  null|   null| null|2014-07-15 00:00:00|         null|      null|        null|\n",
      "|71635009|  952952|         2|  null|   null| null|2014-07-15 00:00:00|         null|      null|        null|\n",
      "|71635010|14207953|         2|  null|   null| null|2014-07-15 00:00:00|         null|      null|        null|\n",
      "|71635012|24704870|        16|  null|   null| null|2014-07-15 00:00:00|         null|      null|        null|\n",
      "|71635013|  141108|         2|  null|   null| null|2014-07-15 00:00:00|         null|      null|        null|\n",
      "|71635014|24760107|         3|  null|   null| null|2014-07-15 00:00:00|         null|      null|        null|\n",
      "|71635015|24760314|         2|  null|   null| null|2014-07-15 00:00:00|         null|      null|        null|\n",
      "|71635016|24760279|         2|  null|   null| null|2014-07-15 00:00:00|         null|      null|        null|\n",
      "|71635017|24682929|         2|  null|   null| null|2014-07-15 00:00:00|         null|      null|        null|\n",
      "|71635018| 1125325|         2|  null|   null| null|2014-07-15 00:00:00|         null|      null|        null|\n",
      "|71635019|18620858|         2|  null|   null| null|2014-07-15 00:00:00|         null|      null|        null|\n",
      "|71635021| 3992188|         2|  null|   null| null|2014-07-15 00:00:00|         null|      null|        null|\n",
      "+--------+--------+----------+------+-------+-----+-------------------+-------------+----------+------------+\n",
      "only showing top 100 rows\n",
      "\n"
     ]
    },
    {
     "name": "stderr",
     "output_type": "stream",
     "text": [
      "\r",
      "                                                                                \r"
     ]
    }
   ],
   "source": [
    "df_votes.show(100)"
   ]
  },
  {
   "cell_type": "markdown",
   "id": "ae7676ab",
   "metadata": {
    "slideshow": {
     "slide_type": "slide"
    }
   },
   "source": [
    "## 2. `Badges` Data"
   ]
  },
  {
   "cell_type": "code",
   "execution_count": 14,
   "id": "ac26a6bd",
   "metadata": {
    "slideshow": {
     "slide_type": "slide"
    }
   },
   "outputs": [
    {
     "name": "stderr",
     "output_type": "stream",
     "text": [
      "[Stage 28:=========================>                             (10 + 12) / 22]\r"
     ]
    },
    {
     "name": "stdout",
     "output_type": "stream",
     "text": [
      "No. of Records in the Badges table : 47062506\n"
     ]
    },
    {
     "name": "stderr",
     "output_type": "stream",
     "text": [
      "\r",
      "                                                                                \r"
     ]
    }
   ],
   "source": [
    "print(f\"No. of Records in the Badges table : {df_badges.count()}\")"
   ]
  },
  {
   "cell_type": "code",
   "execution_count": 15,
   "id": "e6a8f66b",
   "metadata": {
    "slideshow": {
     "slide_type": "slide"
    }
   },
   "outputs": [
    {
     "name": "stderr",
     "output_type": "stream",
     "text": [
      "\r",
      "[Stage 31:>                                                         (0 + 1) / 1]\r"
     ]
    },
    {
     "name": "stdout",
     "output_type": "stream",
     "text": [
      "+-----+------+-------+--------------------+-----+--------+\n",
      "|   Id|UserId|   Name|                Date|Class|TagBased|\n",
      "+-----+------+-------+--------------------+-----+--------+\n",
      "|82946|  3718|Teacher|2008-09-15 08:55:...|    3|   false|\n",
      "|82947|   994|Teacher|2008-09-15 08:55:...|    3|   false|\n",
      "|82949|  3893|Teacher|2008-09-15 08:55:...|    3|   false|\n",
      "|82950|  4591|Teacher|2008-09-15 08:55:...|    3|   false|\n",
      "|82951|  5196|Teacher|2008-09-15 08:55:...|    3|   false|\n",
      "|82952|  2635|Teacher|2008-09-15 08:55:...|    3|   false|\n",
      "|82953|  1113|Teacher|2008-09-15 08:55:...|    3|   false|\n",
      "|82954|  4182|Teacher|2008-09-15 08:55:...|    3|   false|\n",
      "|82955|   164|Teacher|2008-09-15 08:55:...|    3|   false|\n",
      "|82956|   652|Teacher|2008-09-15 08:55:...|    3|   false|\n",
      "|82957|  5246|Teacher|2008-09-15 08:55:...|    3|   false|\n",
      "|82958|   509|Teacher|2008-09-15 08:55:...|    3|   false|\n",
      "|82959|   670|Teacher|2008-09-15 08:55:...|    3|   false|\n",
      "|82960|  5024|Teacher|2008-09-15 08:55:...|    3|   false|\n",
      "|82961|  1284|Teacher|2008-09-15 08:55:...|    3|   false|\n",
      "|82962|  2907|Teacher|2008-09-15 08:55:...|    3|   false|\n",
      "|82963|  4097|Teacher|2008-09-15 08:55:...|    3|   false|\n",
      "|82964|  3205|Teacher|2008-09-15 08:55:...|    3|   false|\n",
      "|82965|   986|Teacher|2008-09-15 08:55:...|    3|   false|\n",
      "|82966|  4666|Teacher|2008-09-15 08:55:...|    3|   false|\n",
      "|82967|   883|Teacher|2008-09-15 08:55:...|    3|   false|\n",
      "|82968|  1261|Teacher|2008-09-15 08:55:...|    3|   false|\n",
      "|82969|  1635|Teacher|2008-09-15 08:55:...|    3|   false|\n",
      "|82970|  4262|Teacher|2008-09-15 08:55:...|    3|   false|\n",
      "|82971|  4997|Teacher|2008-09-15 08:55:...|    3|   false|\n",
      "|82972|   122|Teacher|2008-09-15 08:55:...|    3|   false|\n",
      "|82973|   782|Teacher|2008-09-15 08:55:...|    3|   false|\n",
      "|82974|  1693|Teacher|2008-09-15 08:55:...|    3|   false|\n",
      "|82975|  5806|Teacher|2008-09-15 08:55:...|    3|   false|\n",
      "|82976|  3494|Teacher|2008-09-15 08:55:...|    3|   false|\n",
      "|82977|  2839|Teacher|2008-09-15 08:55:...|    3|   false|\n",
      "|82978|  2626|Teacher|2008-09-15 08:55:...|    3|   false|\n",
      "|82979|  1120|Teacher|2008-09-15 08:55:...|    3|   false|\n",
      "|82980|  1304|Teacher|2008-09-15 08:55:...|    3|   false|\n",
      "|82981|  5504|Teacher|2008-09-15 08:55:...|    3|   false|\n",
      "|82982|  2482|Teacher|2008-09-15 08:55:...|    3|   false|\n",
      "|82983|  2147|Teacher|2008-09-15 08:55:...|    3|   false|\n",
      "|82985|  3594|Teacher|2008-09-15 08:55:...|    3|   false|\n",
      "|82986|  3659|Teacher|2008-09-15 08:55:...|    3|   false|\n",
      "|82987|    58|Teacher|2008-09-15 08:55:...|    3|   false|\n",
      "|82988|  2586|Teacher|2008-09-15 08:55:...|    3|   false|\n",
      "|82989|  1390|Teacher|2008-09-15 08:55:...|    3|   false|\n",
      "|82990|   581|Teacher|2008-09-15 08:55:...|    3|   false|\n",
      "|82992|  2137|Teacher|2008-09-15 08:55:...|    3|   false|\n",
      "|82993|   372|Teacher|2008-09-15 08:55:...|    3|   false|\n",
      "|82994|  3272|Teacher|2008-09-15 08:55:...|    3|   false|\n",
      "|82995|   969|Teacher|2008-09-15 08:55:...|    3|   false|\n",
      "|82996|  1620|Teacher|2008-09-15 08:55:...|    3|   false|\n",
      "|82997|  1065|Teacher|2008-09-15 08:55:...|    3|   false|\n",
      "|82998|  2535|Teacher|2008-09-15 08:55:...|    3|   false|\n",
      "|82999|  4574|Teacher|2008-09-15 08:55:...|    3|   false|\n",
      "|83000|  5855|Teacher|2008-09-15 08:55:...|    3|   false|\n",
      "|83001|  2133|Teacher|2008-09-15 08:55:...|    3|   false|\n",
      "|83002|  4531|Teacher|2008-09-15 08:55:...|    3|   false|\n",
      "|83003|  5181|Teacher|2008-09-15 08:55:...|    3|   false|\n",
      "|83004|  4925|Teacher|2008-09-15 08:55:...|    3|   false|\n",
      "|83005|  1175|Teacher|2008-09-15 08:55:...|    3|   false|\n",
      "|83006|  1536|Teacher|2008-09-15 08:55:...|    3|   false|\n",
      "|83007|  3394|Teacher|2008-09-15 08:55:...|    3|   false|\n",
      "|83008|   511|Teacher|2008-09-15 08:55:...|    3|   false|\n",
      "|83009|  2528|Teacher|2008-09-15 08:55:...|    3|   false|\n",
      "|83010|  1048|Teacher|2008-09-15 08:55:...|    3|   false|\n",
      "|83011|  1647|Teacher|2008-09-15 08:55:...|    3|   false|\n",
      "|83012|   578|Teacher|2008-09-15 08:55:...|    3|   false|\n",
      "|83013|  2723|Teacher|2008-09-15 08:55:...|    3|   false|\n",
      "|83014|  1486|Teacher|2008-09-15 08:55:...|    3|   false|\n",
      "|83015|  1621|Teacher|2008-09-15 08:55:...|    3|   false|\n",
      "|83016|  5100|Teacher|2008-09-15 08:55:...|    3|   false|\n",
      "|83017|  1597|Teacher|2008-09-15 08:55:...|    3|   false|\n",
      "|83018|  2918|Teacher|2008-09-15 08:55:...|    3|   false|\n",
      "|83019|  5961|Teacher|2008-09-15 08:55:...|    3|   false|\n",
      "|83021|  1785|Teacher|2008-09-15 08:55:...|    3|   false|\n",
      "|83022|   196|Teacher|2008-09-15 08:55:...|    3|   false|\n",
      "|83023|  6120|Teacher|2008-09-15 08:55:...|    3|   false|\n",
      "|83024|  1882|Teacher|2008-09-15 08:55:...|    3|   false|\n",
      "|83025|  1482|Teacher|2008-09-15 08:55:...|    3|   false|\n",
      "|83026|  1677|Teacher|2008-09-15 08:55:...|    3|   false|\n",
      "|83027|  1855|Teacher|2008-09-15 08:55:...|    3|   false|\n",
      "|83028|  6009|Teacher|2008-09-15 08:55:...|    3|   false|\n",
      "|83029|   829|Teacher|2008-09-15 08:55:...|    3|   false|\n",
      "|83030|  1417|Teacher|2008-09-15 08:55:...|    3|   false|\n",
      "|83031|  1534|Teacher|2008-09-15 08:55:...|    3|   false|\n",
      "|83032|  2692|Teacher|2008-09-15 08:55:...|    3|   false|\n",
      "|83033|  5083|Teacher|2008-09-15 08:55:...|    3|   false|\n",
      "|83034|  5412|Teacher|2008-09-15 08:55:...|    3|   false|\n",
      "|83035|  3911|Teacher|2008-09-15 08:55:...|    3|   false|\n",
      "|83036|    72|Teacher|2008-09-15 08:55:...|    3|   false|\n",
      "|83037|  3358|Teacher|2008-09-15 08:55:...|    3|   false|\n",
      "|83038|  5729|Teacher|2008-09-15 08:55:...|    3|   false|\n",
      "|83039|  4257|Teacher|2008-09-15 08:55:...|    3|   false|\n",
      "|83041|  5128|Teacher|2008-09-15 08:55:...|    3|   false|\n",
      "|83042|  6280|Teacher|2008-09-15 08:55:...|    3|   false|\n",
      "|83043|   541|Teacher|2008-09-15 08:55:...|    3|   false|\n",
      "|83044|  3905|Teacher|2008-09-15 08:55:...|    3|   false|\n",
      "|83045|   437|Teacher|2008-09-15 08:55:...|    3|   false|\n",
      "|83046|  1875|Teacher|2008-09-15 08:55:...|    3|   false|\n",
      "|83047|  2846|Teacher|2008-09-15 08:55:...|    3|   false|\n",
      "|83048|  5240|Teacher|2008-09-15 08:55:...|    3|   false|\n",
      "|83049|  3636|Teacher|2008-09-15 08:55:...|    3|   false|\n",
      "|83062|  4421|Teacher|2008-09-15 08:55:...|    3|   false|\n",
      "+-----+------+-------+--------------------+-----+--------+\n",
      "only showing top 100 rows\n",
      "\n"
     ]
    },
    {
     "name": "stderr",
     "output_type": "stream",
     "text": [
      "\r",
      "                                                                                \r"
     ]
    }
   ],
   "source": [
    "df_badges.show(100)"
   ]
  },
  {
   "cell_type": "markdown",
   "id": "9bd30471",
   "metadata": {
    "slideshow": {
     "slide_type": "slide"
    }
   },
   "source": [
    "## 3. `Comments` Data"
   ]
  },
  {
   "cell_type": "code",
   "execution_count": 16,
   "id": "debbbe65",
   "metadata": {
    "slideshow": {
     "slide_type": "slide"
    }
   },
   "outputs": [
    {
     "name": "stderr",
     "output_type": "stream",
     "text": [
      "[Stage 32:===================================================>   (93 + 7) / 100]\r"
     ]
    },
    {
     "name": "stdout",
     "output_type": "stream",
     "text": [
      "No. of Records in the Comments table : 87478597\n"
     ]
    },
    {
     "name": "stderr",
     "output_type": "stream",
     "text": [
      "\r",
      "                                                                                \r"
     ]
    }
   ],
   "source": [
    "print(f\"No. of Records in the Comments table : {df_comments.count()}\")"
   ]
  },
  {
   "cell_type": "code",
   "execution_count": 17,
   "id": "e0892f7c",
   "metadata": {
    "slideshow": {
     "slide_type": "slide"
    }
   },
   "outputs": [
    {
     "name": "stderr",
     "output_type": "stream",
     "text": [
      "\r",
      "[Stage 35:>                                                         (0 + 1) / 1]\r"
     ]
    },
    {
     "name": "stdout",
     "output_type": "stream",
     "text": [
      "+-------+-------+-----+--------------------+--------------------+---------------+-------+--------------+\n",
      "|     Id| PostId|Score|                Text|        CreationDate|UserDisplayName| UserId|ContentLicense|\n",
      "+-------+-------+-----+--------------------+--------------------+---------------+-------+--------------+\n",
      "|2685365|2667377|    1|possible duplicat...|2010-04-19 12:50:...|           null| 123111|  CC BY-SA 2.5|\n",
      "|2685367|2662875|    0|mhm, so you are s...|2010-04-19 12:50:...|           null| 257022|  CC BY-SA 2.5|\n",
      "|2685368|2667420|    0|I meant '*a'. It ...|2010-04-19 12:50:...|           null| 232371|  CC BY-SA 2.5|\n",
      "|2685369|2667150|    0|also , how can I ...|2010-04-19 12:50:...|           null| 249593|  CC BY-SA 2.5|\n",
      "|2685374|2667462|    0|It also wasn't my...|2010-04-19 12:50:...|           null| 320335|  CC BY-SA 2.5|\n",
      "|2685375|2667465|    0|is there any way ...|2010-04-19 12:50:...|           null| 140223|  CC BY-SA 2.5|\n",
      "|2685378|2665907|    1|Windows automatic...|2010-04-19 12:51:...|           null| 292411|  CC BY-SA 2.5|\n",
      "|2685380|2666784|    0|http://help.adobe...|2010-04-19 12:51:...|           null| 320187|  CC BY-SA 2.5|\n",
      "|2685383|2666696|    0|my hosting provid...|2010-04-19 12:51:...|           null| 143139|  CC BY-SA 2.5|\n",
      "|2685386|2667452|    0|is there any alte...| 2010-04-19 12:52:07|           null| 140223|  CC BY-SA 2.5|\n",
      "|2685387|2667434|    0|@gnm in c/c++ poi...|2010-04-19 12:52:...|           null| 242888|  CC BY-SA 2.5|\n",
      "|2685388|2664495|    0|I had no idea the...|2010-04-19 12:52:...|           null| 236293|  CC BY-SA 2.5|\n",
      "|2685389|2667465|    0|@Jebli, no there ...|2010-04-19 12:52:...|           null|  29407|  CC BY-SA 2.5|\n",
      "|2685390|2666412|    0|thank you. it wor...|2010-04-19 12:52:...|           null| 320026|  CC BY-SA 2.5|\n",
      "|2685392|2654368|    0|If it is &quot;we...|2010-04-19 12:52:...|           null| 254279|  CC BY-SA 2.5|\n",
      "|2685394|2663967|    0|This code shows y...|2010-04-19 12:52:...|           null| 151445|  CC BY-SA 2.5|\n",
      "|2685395|2667040|    0|Yeah, I don't kno...|2010-04-19 12:52:...|           null|  83446|  CC BY-SA 2.5|\n",
      "|2685397|2666923|    0|Others have point...|2010-04-19 12:52:...|           null| 308425|  CC BY-SA 2.5|\n",
      "|2685399|2667274|    0|Actually, yeah, t...|2010-04-19 12:52:...|           null| 241462|  CC BY-SA 2.5|\n",
      "|2685400|2667447|    3|This would be a g...|2010-04-19 12:52:...|           null| 165297|  CC BY-SA 2.5|\n",
      "|2685402|2667465|    0|@Nick, modified m...|2010-04-19 12:52:...|           null|  29407|  CC BY-SA 2.5|\n",
      "|2685404|2664232|   10|If you've got a c...|2010-04-19 12:53:...|           null| 301832|  CC BY-SA 2.5|\n",
      "|2685405|2667464|    0|Myez, its the OCD...|2010-04-19 12:53:...|           null|  14728|  CC BY-SA 2.5|\n",
      "|2685406|2667420|    0|It has name becau...|2010-04-19 12:53:...|           null| 232371|  CC BY-SA 2.5|\n",
      "|2685408|2667457|    0|The UI can only u...|2010-04-19 12:53:...|           null| 174375|  CC BY-SA 2.5|\n",
      "|2685410|2666810|    0|Yes both are set ...|2010-04-19 12:53:...|           null|  82197|  CC BY-SA 2.5|\n",
      "|2685414|2667420|    0|Yeah, and it shou...|2010-04-19 12:54:...|           null| 232371|  CC BY-SA 2.5|\n",
      "|2685419|2667192|    0|@edosoft: it's no...|2010-04-19 12:54:...|           null|  55159|  CC BY-SA 2.5|\n",
      "|2685420|2667453|    0|Thanks - seems li...|2010-04-19 12:55:...|           null|  14728|  CC BY-SA 2.5|\n",
      "|2685423|2667431|    0|The way I've trie...|2010-04-19 12:55:...|           null| 320336|  CC BY-SA 2.5|\n",
      "|2685424|2665907|    1|You can call Inva...|2010-04-19 12:55:...|           null| 292411|  CC BY-SA 2.5|\n",
      "|2685425|2667166|    0|but execl() doesn...|2010-04-19 12:55:...|           null| 303605|  CC BY-SA 2.5|\n",
      "|2685429|2666299|    4|The next version ...|2010-04-19 12:56:...|           null| 165216|  CC BY-SA 2.5|\n",
      "|2685431|2666923|    0|&quot;Sorry but t...|2010-04-19 12:56:...|           null|  89771|  CC BY-SA 2.5|\n",
      "|2685432|2629974|    0|It's faster for m...|2010-04-19 12:57:...|           null| 245020|  CC BY-SA 2.5|\n",
      "|2685433|2664050|    0|I forgot to menti...|2010-04-19 12:57:...|           null| 220761|  CC BY-SA 2.5|\n",
      "|2685435|2665350|    1|I can't think of ...|2010-04-19 12:57:...|           null| 145346|  CC BY-SA 2.5|\n",
      "|2685436|2667500|    0|Do you have the s...|2010-04-19 12:58:...|           anon|   null|  CC BY-SA 2.5|\n",
      "|2685439|2665297|    1|Oh now that's a n...|2010-04-19 12:58:...|           null|   9647|  CC BY-SA 2.5|\n",
      "|2685440|2667420|    2|@Minner: How abou...|2010-04-19 12:58:...|           null| 140719|  CC BY-SA 2.5|\n",
      "|2685441|2667494|    1|you should really...|2010-04-19 12:58:...|           null| 131527|  CC BY-SA 2.5|\n",
      "|2685442|2666459|    0|Yeah, this is why...|2010-04-19 12:58:...|           null|  49478|  CC BY-SA 2.5|\n",
      "|2685444|2667501|    0|This should not b...|2010-04-19 12:58:...|           null| 305270|  CC BY-SA 2.5|\n",
      "|2685445|2667166|    0|@Skuja As Let_Me_...|2010-04-19 12:59:...|           null| 127893|  CC BY-SA 2.5|\n",
      "|2685446|2667307|    0|The =nil doesn't ...|2010-04-19 12:59:...|           null| 138622|  CC BY-SA 2.5|\n",
      "|2685448|2667457|    0|You can change Fu...|2010-04-19 12:59:...|           null| 174375|  CC BY-SA 2.5|\n",
      "|2685449|2667306|    0|Did you try to in...|2010-04-19 12:59:...|           null| 285587|  CC BY-SA 2.5|\n",
      "|2685450|2667486|    0|on click of the s...|2010-04-19 12:59:...|           null|2922388|  CC BY-SA 2.5|\n",
      "|2685455|2666267|    0|@plasmuska, indee...|2010-04-19 13:00:...|           null| 128165|  CC BY-SA 2.5|\n",
      "|2685456|2662875|    0|It doesn't need t...|2010-04-19 13:00:...|           null| 271917|  CC BY-SA 2.5|\n",
      "|2685457|2662282|    0|If you enable DEB...|2010-04-19 13:00:...|           null|  92713|  CC BY-SA 2.5|\n",
      "|2685458|2667499|    0|FWIW: you could f...|2010-04-19 13:00:...|           null|  44330|  CC BY-SA 2.5|\n",
      "|2685459|1773358|    0|You can add the `...|2010-04-19 13:00:...|           null|   1190|  CC BY-SA 2.5|\n",
      "|2685460|2666652|    0|thanks a lot. I k...| 2010-04-19 13:00:31|           null| 284305|  CC BY-SA 2.5|\n",
      "|2685461|2667457|    3|@SLC: This is onl...|2010-04-19 13:00:...|           null|  82187|  CC BY-SA 2.5|\n",
      "|2685462|2667306|    0|If I knew how to ...|2010-04-19 13:00:...|           null| 295815|  CC BY-SA 2.5|\n",
      "|2685463| 707892|   14|Just remember tha...|2010-04-19 13:00:...|           null|  37055|  CC BY-SA 2.5|\n",
      "|2685464|2667434|    9|@gnm: The advanta...|2010-04-19 13:00:...|           null| 140719|  CC BY-SA 2.5|\n",
      "|2685466|2667457|    0|@SLC: The `Sub` o...|2010-04-19 13:01:...|           null|  82187|  CC BY-SA 2.5|\n",
      "|2685468|2666810|    0|Have you moved da...|2010-04-19 13:01:...|           null|  22194|  CC BY-SA 2.5|\n",
      "|2685469|2667532|    1|This can't be it,...|2010-04-19 13:01:...|           null| 276101|  CC BY-SA 2.5|\n",
      "|2685471|2667532|    1|Am I missing some...|2010-04-19 13:01:...|           null|  97614|  CC BY-SA 2.5|\n",
      "|2685472|2667499|    2|Catching of `Null...|2010-04-19 13:01:...|           null|   4725|  CC BY-SA 2.5|\n",
      "|2685473|2667499|    0|This is a clear r...|2010-04-19 13:02:...|           null| 121747|  CC BY-SA 2.5|\n",
      "|2685474|2667532|    0|I would also take...|2010-04-19 13:02:...|           null| 314215|  CC BY-SA 2.5|\n",
      "|2685476|2667434|    3|@Vivek: I don't s...|2010-04-19 13:02:...|           null| 140719|  CC BY-SA 2.5|\n",
      "|2685477|2667002|    0|+1 for tested sol...|2010-04-19 13:02:...|           null| 207036|  CC BY-SA 2.5|\n",
      "|2685479|2660218|    0|I'm using the Tim...|2010-04-19 13:03:...|           null| 287316|  CC BY-SA 2.5|\n",
      "|2685480|2667447|    0|@Amarghosh : inde...|2010-04-19 13:03:...|           null| 175296|  CC BY-SA 2.5|\n",
      "|2685481|2667500|    0|@Neil: yes, it's ...|2010-04-19 13:03:...|           null|  75889|  CC BY-SA 2.5|\n",
      "|2685482| 202114|    1|Maybe I was not c...|2010-04-19 13:03:...|           null|  26564|  CC BY-SA 2.5|\n",
      "|2685483|2661174|    0|This is a good id...|2010-04-19 13:03:...|           null| 283114|  CC BY-SA 2.5|\n",
      "|2685485|2667490|    1|What do you mean ...|2010-04-19 13:03:...|           null| 118133|  CC BY-SA 2.5|\n",
      "|2685486|2667150|    0|I've modified my ...|2010-04-19 13:04:...|           null| 107031|  CC BY-SA 2.5|\n",
      "|2685487|2667378|    1|Thanks for explan...|2010-04-19 13:04:...|           null| 240338|  CC BY-SA 2.5|\n",
      "|2685489|2667499|    0|@Jack That and ju...|2010-04-19 13:04:...|           null|   4725|  CC BY-SA 2.5|\n",
      "|2685491|2667500|    4|Just change the n...|2010-04-19 13:05:...|           anon|   null|  CC BY-SA 2.5|\n",
      "|2685492|2667557|    2|@Chris: This will...|2010-04-19 13:05:...|           null|  82187|  CC BY-SA 2.5|\n",
      "|2685493|2667566|    0|Except for `/weir...|2010-04-19 13:05:...|           null|  34397|  CC BY-SA 2.5|\n",
      "|2685494|2662508|    1|“Two or three par...|2010-04-19 13:05:...|           null|  20578|  CC BY-SA 2.5|\n",
      "|2685495|2666459|    0|@Anthony: There a...|2010-04-19 13:05:...|           null|  18771|  CC BY-SA 2.5|\n",
      "|2685496|2659586|    2|Thanks! Works per...|2010-04-19 13:05:...|           null| 220761|  CC BY-SA 2.5|\n",
      "|2685497|2667418|    0|I +1d this becaus...|2010-04-19 13:05:...|           null|  11635|  CC BY-SA 2.5|\n",
      "|2685498|2662919|    0|thx for ur help, ...|2010-04-19 13:05:...|           null| 319081|  CC BY-SA 2.5|\n",
      "|2685499|2667555|    0|@Donal Fellows : ...|2010-04-19 13:05:...|           null| 175296|  CC BY-SA 2.5|\n",
      "|2685500|2666955|    0|was this an upgra...|2010-04-19 13:06:...|           null|  29676|  CC BY-SA 2.5|\n",
      "|2685502|2666562|    0|it works to me pr...|2010-04-19 13:06:...|           null| 267269|  CC BY-SA 2.5|\n",
      "|2685504|2667133|    0|did you implement...|2010-04-19 13:06:...|           null| 231768|  CC BY-SA 2.5|\n",
      "|2685505|2667532|    0|I was assuming th...|2010-04-19 13:06:...|           null|    974|  CC BY-SA 2.5|\n",
      "|2685506|2666205|    0|Hi. Thanks this l...|2010-04-19 13:06:...|           null| 283538|  CC BY-SA 2.5|\n",
      "|2685508|2667557|    0|Yes that's exactl...|2010-04-19 13:07:...|           null|  37055|  CC BY-SA 2.5|\n",
      "|2685509|2666216|    1|Indeed.  It is im...|2010-04-19 13:07:...|           null| 247533|  CC BY-SA 2.5|\n",
      "|2685511|2667398|    0|Not getting an er...|2010-04-19 13:07:...|           null| 309956|  CC BY-SA 2.5|\n",
      "|2685512|2667338|    0|@Digital Craft St...|2010-04-19 13:07:...|           null|  18771|  CC BY-SA 2.5|\n",
      "|2685513|2667566|    0|@SLaks - The prob...|2010-04-19 13:07:...|           null|  13249|  CC BY-SA 2.5|\n",
      "|2685514|2666628|    0|Try doing a ping ...|2010-04-19 13:08:...|           null| 119895|  CC BY-SA 2.5|\n",
      "|2685515|2665610|    1|These were defini...|2010-04-19 13:08:...|           null|  13154|  CC BY-SA 2.5|\n",
      "|2685516|2667571|    2|The single charac...|2010-04-19 13:08:...|           null|  21886|  CC BY-SA 2.5|\n",
      "|2685517|2667552|    0|CTRL+SHIFT+S does...|2010-04-19 13:08:...|           null| 176755|  CC BY-SA 2.5|\n",
      "|2685518|2667325|    0|This prompted me ...|2010-04-19 13:08:...|           null|  11635|  CC BY-SA 2.5|\n",
      "+-------+-------+-----+--------------------+--------------------+---------------+-------+--------------+\n",
      "only showing top 100 rows\n",
      "\n"
     ]
    },
    {
     "name": "stderr",
     "output_type": "stream",
     "text": [
      "\r",
      "                                                                                \r"
     ]
    }
   ],
   "source": [
    "df_comments.show(100)"
   ]
  },
  {
   "cell_type": "markdown",
   "id": "6eb460ad",
   "metadata": {
    "slideshow": {
     "slide_type": "slide"
    }
   },
   "source": [
    "## 4. `Post History` Data"
   ]
  },
  {
   "cell_type": "code",
   "execution_count": 18,
   "id": "929ccb1c",
   "metadata": {
    "slideshow": {
     "slide_type": "slide"
    }
   },
   "outputs": [
    {
     "name": "stderr",
     "output_type": "stream",
     "text": [
      "[Stage 36:=====================================================>(471 + 4) / 475]\r"
     ]
    },
    {
     "name": "stdout",
     "output_type": "stream",
     "text": [
      "No. of Records in the PostHistory table : 117255126\n"
     ]
    },
    {
     "name": "stderr",
     "output_type": "stream",
     "text": [
      "\r",
      "                                                                                \r"
     ]
    }
   ],
   "source": [
    "print(f\"No. of Records in the PostHistory table : {df_post_history.count()}\")"
   ]
  },
  {
   "cell_type": "code",
   "execution_count": 19,
   "id": "a068e475",
   "metadata": {
    "slideshow": {
     "slide_type": "slide"
    }
   },
   "outputs": [
    {
     "name": "stderr",
     "output_type": "stream",
     "text": [
      "\r",
      "[Stage 39:>                                                         (0 + 1) / 1]\r"
     ]
    },
    {
     "name": "stdout",
     "output_type": "stream",
     "text": [
      "+---------+-----------------+--------+--------------------+--------------------+------+----------------+--------------------+--------------------+--------------+\n",
      "|       Id|PostHistoryTypeId|  PostId|        RevisionGUID|        CreationDate|UserId| UserDisplayName|             Comment|                Text|ContentLicense|\n",
      "+---------+-----------------+--------+--------------------+--------------------+------+----------------+--------------------+--------------------+--------------+\n",
      "|146175008|                5|42248528|ebad5287-e4ae-454...|2017-05-23 10:29:...|  null|URL Rewriter Bot|replaced http://s...|## Background ##&...|  CC BY-SA 3.0|\n",
      "|146175009|                5| 2176210|0aa181ad-5b55-40d...|2017-05-23 10:29:...|  null|URL Rewriter Bot|replaced http://s...|You are fetching ...|  CC BY-SA 3.0|\n",
      "|146175010|                5| 1031042|c860038f-254c-483...|2017-05-23 10:29:...|  null|URL Rewriter Bot|replaced http://s...|A bit more specif...|  CC BY-SA 3.0|\n",
      "|146175011|                5|35979640|274be6d6-b708-461...|2017-05-23 10:29:...|  null|URL Rewriter Bot|replaced http://s...|Try doing:&#xA;&#...|  CC BY-SA 3.0|\n",
      "|146175012|                5|42277696|ef3468cf-b96b-429...|2017-05-23 10:29:...|  null|URL Rewriter Bot|replaced http://s...|I can display the...|  CC BY-SA 3.0|\n",
      "|146175013|                5|39970168|9c4aed7c-b0ed-436...|2017-05-23 10:29:...|  null|URL Rewriter Bot|replaced http://s...|This is an _equal...|  CC BY-SA 3.0|\n",
      "|146175016|                5| 1056465|6965f031-75f5-4e9...|2017-05-23 10:29:...|  null|URL Rewriter Bot|replaced http://s...|If your enums can...|  CC BY-SA 3.0|\n",
      "|146175017|                5| 2178108|dc833c95-1705-49c...|2017-05-23 10:29:...|  null|URL Rewriter Bot|replaced http://s...|Wikipedia says bu...|  CC BY-SA 3.0|\n",
      "|146175018|                5|42278327|d177f05b-94af-4e2...|2017-05-23 10:29:...|  null|URL Rewriter Bot|replaced http://s...|I have domain on ...|  CC BY-SA 3.0|\n",
      "|146175020|                5|40013991|54073ffd-d4a0-4ef...|2017-05-23 10:29:...|  null|URL Rewriter Bot|replaced http://s...|I am trying to us...|  CC BY-SA 3.0|\n",
      "|146175021|                5|42280964|3c2271a9-2de3-4fe...|2017-05-23 10:29:...|  null|URL Rewriter Bot|replaced http://s...|I found an altern...|  CC BY-SA 3.0|\n",
      "|146175022|                5| 2181744|3d4835e1-9a78-452...|2017-05-23 10:29:...|  null|URL Rewriter Bot|replaced http://s...|I would wait for ...|  CC BY-SA 3.0|\n",
      "|146175023|                5| 1061911|5cef1ccf-7f33-439...|2017-05-23 10:29:...|  null|URL Rewriter Bot|replaced http://s...|How well does Dja...|  CC BY-SA 3.0|\n",
      "|146175025|                5|36070317|73f92e51-22ae-49c...|2017-05-23 10:29:...|  null|URL Rewriter Bot|replaced http://s...|You could click t...|  CC BY-SA 3.0|\n",
      "|146175026|                5|42283790|d25a256d-1668-494...|2017-05-23 10:29:...|  null|URL Rewriter Bot|replaced http://s...|You `return` insi...|  CC BY-SA 3.0|\n",
      "|146175027|                5|42281774|f1b1b9d6-b805-475...|2017-05-23 10:29:...|  null|URL Rewriter Bot|replaced http://s...|Did you see any o...|  CC BY-SA 3.0|\n",
      "|146175028|                5| 2202427|c6c1b740-010c-40a...|2017-05-23 10:29:...|  null|URL Rewriter Bot|replaced http://s...|You should take a...|  CC BY-SA 3.0|\n",
      "|146175029|                5|40350447|b7ab4f27-b20a-4d3...|2017-05-23 10:29:...|  null|URL Rewriter Bot|replaced http://s...|I'm using google ...|  CC BY-SA 3.0|\n",
      "|146175030|                5|40080519|d12c997b-851e-42c...|2017-05-23 10:29:...|  null|URL Rewriter Bot|replaced http://s...|The alternative (...|  CC BY-SA 3.0|\n",
      "|146175031|                5| 1064259|3faa733e-17bd-453...|2017-05-23 10:29:...|  null|URL Rewriter Bot|replaced http://s...|I am in the proce...|  CC BY-SA 3.0|\n",
      "|146175032|                5|36156859|c15d44c9-ff31-41b...|2017-05-23 10:29:...|  null|URL Rewriter Bot|replaced http://s...|The constant `SKE...|  CC BY-SA 3.0|\n",
      "|146175033|                5|41054094|e7c271ed-9244-41e...|2017-05-23 10:29:...|  null|URL Rewriter Bot|replaced http://s...|I have just insta...|  CC BY-SA 3.0|\n",
      "|146175034|                5|42281989|2062521e-c472-477...|2017-05-23 10:29:...|  null|URL Rewriter Bot|replaced http://s...|I think what you ...|  CC BY-SA 3.0|\n",
      "|146175035|                5| 2343007|2714e766-80bf-4f0...|2017-05-23 10:29:...|  null|URL Rewriter Bot|replaced http://s...|Your claim that &...|  CC BY-SA 3.0|\n",
      "|146175036|                5|40482926|00d0a744-e025-453...|2017-05-23 10:29:...|  null|URL Rewriter Bot|replaced http://s...|**EDIT** In fact ...|  CC BY-SA 3.0|\n",
      "|146175037|                5|42286427|8368ce19-111d-462...|2017-05-23 10:29:...|  null|URL Rewriter Bot|replaced http://s...|For those coming ...|  CC BY-SA 3.0|\n",
      "|146175038|                5| 1064978|0a5374fe-b038-4c9...|2017-05-23 10:29:...|  null|URL Rewriter Bot|replaced http://s...|One of my friend ...|  CC BY-SA 3.0|\n",
      "|146175039|                5|41270823|471c2abc-d6fe-45e...|2017-05-23 10:29:...|  null|URL Rewriter Bot|replaced http://s...|I have implemente...|  CC BY-SA 3.0|\n",
      "|146175040|                5|36194246|217dc6dc-548e-4dd...|2017-05-23 10:29:...|  null|URL Rewriter Bot|replaced http://s...|I want to set one...|  CC BY-SA 3.0|\n",
      "|146175041|                5|40869781|a9080299-5375-479...|2017-05-23 10:29:...|  null|URL Rewriter Bot|replaced http://s...|In a comment to [...|  CC BY-SA 3.0|\n",
      "|146175042|                5| 2351385|5d15fd28-6c39-465...|2017-05-23 10:29:...|  null|URL Rewriter Bot|replaced http://s...|Thanks to everyon...|  CC BY-SA 3.0|\n",
      "|146175043|                5| 1067562|7fcb13d5-c0be-410...|2017-05-23 10:29:...|  null|URL Rewriter Bot|replaced http://s...|As [Greg pointed ...|  CC BY-SA 3.0|\n",
      "|146175044|                5|41458588|ebc147cf-b621-431...|2017-05-23 10:29:...|  null|URL Rewriter Bot|replaced http://s...|You could use `St...|  CC BY-SA 3.0|\n",
      "|146175045|                5|36235178|89586f30-576f-49b...|2017-05-23 10:29:...|  null|URL Rewriter Bot|replaced http://s...|I've a CSV file w...|  CC BY-SA 3.0|\n",
      "|146175046|                5| 2373723|cdd86f79-4f96-45a...|2017-05-23 10:29:...|  null|URL Rewriter Bot|replaced http://s...|There are two que...|  CC BY-SA 3.0|\n",
      "|146175047|                5|41539337|44ed562f-838e-4da...|2017-05-23 10:29:...|  null|URL Rewriter Bot|replaced http://s...|Looks like you ha...|  CC BY-SA 3.0|\n",
      "|146175048|                5|42282827|51754bcc-bb7b-4a4...|2017-05-23 10:29:...|  null|URL Rewriter Bot|replaced http://s...|I've cloned down ...|  CC BY-SA 3.0|\n",
      "|146175049|                5|36478942|39a3528b-df6e-4ff...|2017-05-23 10:29:...|  null|URL Rewriter Bot|replaced http://s...|The problem is yo...|  CC BY-SA 3.0|\n",
      "|146175050|                5|41592275|161fe43f-65a5-405...|2017-05-23 10:29:...|  null|URL Rewriter Bot|replaced http://s...|The `ConcurrentDi...|  CC BY-SA 3.0|\n",
      "|146175053|                5| 1073161|f9405a51-7128-48f...|2017-05-23 10:29:...|  null|URL Rewriter Bot|replaced http://s...|Linux is the most...|  CC BY-SA 3.0|\n",
      "|146175054|                5| 2389643|e76b01bc-cc62-450...|2017-05-23 10:29:...|  null|URL Rewriter Bot|replaced http://s...|This is what's ha...|  CC BY-SA 3.0|\n",
      "|146175055|                5|36495763|ed03dec0-7e67-400...|2017-05-23 10:29:...|  null|URL Rewriter Bot|replaced http://s...|I am attempting t...|  CC BY-SA 3.0|\n",
      "|146175056|                5|41610195|5fa43d63-6550-45e...|2017-05-23 10:29:...|  null|URL Rewriter Bot|replaced http://s...|Controls points t...|  CC BY-SA 3.0|\n",
      "|146175057|                5|42284304|0e66fef8-2410-408...|2017-05-23 10:29:...|  null|URL Rewriter Bot|replaced http://s...|There are 2 thing...|  CC BY-SA 3.0|\n",
      "|146175059|                5|36634489|25bcc35a-60f1-4bd...|2017-05-23 10:29:...|  null|URL Rewriter Bot|replaced http://s...|If you're using L...|  CC BY-SA 3.0|\n",
      "|146175060|                5| 2423466|cff58553-e837-488...|2017-05-23 10:29:...|  null|URL Rewriter Bot|replaced http://s...|I want to setup m...|  CC BY-SA 3.0|\n",
      "|146175061|                5|42288658|589e1e4f-4827-40b...|2017-05-23 10:29:...|  null|URL Rewriter Bot|replaced http://s...|To use XMLHttpReq...|  CC BY-SA 3.0|\n",
      "|146175062|                5| 1074430|775f9794-db9c-4be...|2017-05-23 10:29:...|  null|URL Rewriter Bot|replaced http://s...|From [here][1]:&#...|  CC BY-SA 3.0|\n",
      "|146175067|                5| 1076652|496f4374-cc70-4ce...|2017-05-23 10:29:...|  null|URL Rewriter Bot|replaced http://s...|Am I correct in a...|  CC BY-SA 3.0|\n",
      "|146175068|                5|36748807|52d9d7e8-0130-4ba...|2017-05-23 10:29:...|  null|URL Rewriter Bot|replaced http://s...|I'm working with ...|  CC BY-SA 3.0|\n",
      "|146175071|                5| 2438901|09ae3230-826d-4ef...|2017-05-23 10:29:...|  null|URL Rewriter Bot|replaced http://s...|&gt; Looks like s...|  CC BY-SA 3.0|\n",
      "|146175072|                5|42287417|a30e4545-5499-4fd...|2017-05-23 10:29:...|  null|URL Rewriter Bot|replaced http://s...|I’ve been struggl...|  CC BY-SA 3.0|\n",
      "|146175073|                5| 1087317|eaa0078a-ad3c-4c7...|2017-05-23 10:29:...|  null|URL Rewriter Bot|replaced http://s...|*This seemed to s...|  CC BY-SA 3.0|\n",
      "|146175076|                5|42287462|82892c26-f5ba-490...|2017-05-23 10:29:...|  null|URL Rewriter Bot|replaced http://s...|I am trying to wr...|  CC BY-SA 3.0|\n",
      "|146175077|                5| 1105903|05da04e0-dae5-4b0...|2017-05-23 10:29:...|  null|URL Rewriter Bot|replaced http://s...|Actually, the FOP...|  CC BY-SA 3.0|\n",
      "|146175078|                5| 2439188|b9ecb2dc-562a-468...|2017-05-23 10:29:...|  null|URL Rewriter Bot|replaced http://s...|You're only seein...|  CC BY-SA 3.0|\n",
      "|146175079|                5|41646895|19206e57-d644-4eb...|2017-05-23 10:29:...|  null|URL Rewriter Bot|replaced http://s...|I just figured it...|  CC BY-SA 3.0|\n",
      "|146175081|                5|42291513|9db04bc2-218a-473...|2017-05-23 10:29:...|  null|URL Rewriter Bot|replaced http://s...|I have a button w...|  CC BY-SA 3.0|\n",
      "|146175082|                5|37291148|ce49ec57-ba05-46b...|2017-05-23 10:29:...|  null|URL Rewriter Bot|replaced http://s...|I have recently d...|  CC BY-SA 3.0|\n",
      "|146175083|                5| 1124919|1df9fb27-2115-4d3...|2017-05-23 10:29:...|  null|URL Rewriter Bot|replaced http://s...|As with any langu...|  CC BY-SA 3.0|\n",
      "|146175085|                5|42292097|af27a48e-e99e-424...|2017-05-23 10:29:...|  null|URL Rewriter Bot|replaced http://s...|With a help from ...|  CC BY-SA 3.0|\n",
      "|146175087|                5|37761775|45f48210-8d93-404...|2017-05-23 10:29:...|  null|URL Rewriter Bot|replaced http://s...|No! It can't be e...|  CC BY-SA 3.0|\n",
      "|146175088|                5| 2464182|83ac5d59-ac1b-486...|2017-05-23 10:29:...|  null|URL Rewriter Bot|replaced http://s...|I have a legacy W...|  CC BY-SA 3.0|\n",
      "|146175089|                5| 1137977|103ba5de-ff86-41a...|2017-05-23 10:29:...|  null|URL Rewriter Bot|replaced http://s...|Hi already wrote ...|  CC BY-SA 3.0|\n",
      "|146175090|                5|42292134|359990a9-f954-41f...|2017-05-23 10:29:...|  null|URL Rewriter Bot|replaced http://s...|Replace SimpleMai...|  CC BY-SA 3.0|\n",
      "|146175092|                5|41755885|c35c1b23-2481-44a...|2017-05-23 10:29:...|  null|URL Rewriter Bot|replaced http://s...|My system is OSX ...|  CC BY-SA 3.0|\n",
      "|146175093|                5|37774474|44014db8-982a-4f6...|2017-05-23 10:29:...|  null|URL Rewriter Bot|replaced http://s...|The [64-bit ABI][...|  CC BY-SA 3.0|\n",
      "|146175094|                5|42296219|9f96cdcf-2f24-450...|2017-05-23 10:29:...|  null|URL Rewriter Bot|replaced http://s...|This is where the...|  CC BY-SA 3.0|\n",
      "|146175095|                5| 2494088|2f70489c-65bf-4a5...|2017-05-23 10:29:...|  null|URL Rewriter Bot|replaced http://s...|XSD expressly [pr...|  CC BY-SA 3.0|\n",
      "|146175096|                5| 1138688|7c34bbc8-8d7f-4f4...|2017-05-23 10:29:...|  null|URL Rewriter Bot|replaced http://s...|A module's [impor...|  CC BY-SA 3.0|\n",
      "|146175097|                5|41898032|2285fc49-71ab-42c...|2017-05-23 10:29:...|  null|URL Rewriter Bot|replaced http://s...|I have encountere...|  CC BY-SA 3.0|\n",
      "|146175098|                5|41862590|9dbcfaa8-fcbd-417...|2017-05-23 10:29:...|  null|URL Rewriter Bot|replaced http://s...|**Entity Framewor...|  CC BY-SA 3.0|\n",
      "|146175100|                5|42292268|e77cbc4a-c1ad-414...|2017-05-23 10:29:...|  null|URL Rewriter Bot|replaced http://s...|You can use [rela...|  CC BY-SA 3.0|\n",
      "|146175101|                5|42297533|86d85bda-4231-40a...|2017-05-23 10:29:...|  null|URL Rewriter Bot|replaced http://s...|You cannot get Em...|  CC BY-SA 3.0|\n",
      "|146175102|                5| 2499074|7d0f0894-3629-4c1...|2017-05-23 10:29:...|  null|URL Rewriter Bot|replaced http://s...|The fundamental i...|  CC BY-SA 3.0|\n",
      "|146175103|                5| 1143352|353ca000-83a0-469...|2017-05-23 10:29:...|  null|URL Rewriter Bot|replaced http://s...|If `tar`ing them ...|  CC BY-SA 3.0|\n",
      "|146175104|                5|38247937|1e3e5d99-16b7-404...|2017-05-23 10:29:...|  null|URL Rewriter Bot|replaced http://s...|Started using [Go...|  CC BY-SA 3.0|\n",
      "|146175105|                5|41970482|0ac3dc9b-fe33-4c7...|2017-05-23 10:29:...|  null|URL Rewriter Bot|replaced http://s...|Could anyone shar...|  CC BY-SA 3.0|\n",
      "|146175106|                5|41890634|ba8f5bf3-9bf3-4e0...|2017-05-23 10:29:...|  null|URL Rewriter Bot|replaced http://s...|yes you can use t...|  CC BY-SA 3.0|\n",
      "|146175107|                5|42292969|d9bc03e0-48f6-43a...|2017-05-23 10:29:...|  null|URL Rewriter Bot|replaced http://s...|I'm just invoking...|  CC BY-SA 3.0|\n",
      "|146175108|                5| 2505779|1c225856-e1a8-434...|2017-05-23 10:29:...|  null|URL Rewriter Bot|replaced http://s...|You could use: &#...|  CC BY-SA 3.0|\n",
      "|146175109|                5|38628969|429d1a02-95ec-434...|2017-05-23 10:29:...|  null|URL Rewriter Bot|replaced http://s...|I was reading thi...|  CC BY-SA 3.0|\n",
      "|146175111|                5|41983640|499967e1-5fbe-41c...|2017-05-23 10:29:...|  null|URL Rewriter Bot|replaced http://s...|The other [two][1...|  CC BY-SA 3.0|\n",
      "|146175112|                5|42300873|e42a9588-1264-46d...|2017-05-23 10:29:...|  null|URL Rewriter Bot|replaced http://s...|I have a View who...|  CC BY-SA 3.0|\n",
      "|146175113|                5|41893648|f9322ff0-219e-466...|2017-05-23 10:29:...|  null|URL Rewriter Bot|replaced http://s...|As [suggested by ...|  CC BY-SA 3.0|\n",
      "|146175114|                5| 2506141|1c5a28a2-b2c6-4e9...|2017-05-23 10:29:...|  null|URL Rewriter Bot|replaced http://s...|You could try and...|  CC BY-SA 3.0|\n",
      "|146175115|                5|38777407|6da20452-2981-4b0...|2017-05-23 10:29:...|  null|URL Rewriter Bot|replaced http://s...|The 2011 answer i...|  CC BY-SA 3.0|\n",
      "|146175116|                5| 1154736|1fe65a90-3e22-4d9...|2017-05-23 10:29:...|  null|URL Rewriter Bot|replaced http://s...|Note that there i...|  CC BY-SA 3.0|\n",
      "|146175117|                5|42053904|65c02d8b-1870-43d...|2017-05-23 10:29:...|  null|URL Rewriter Bot|replaced http://s...|Probably you'll w...|  CC BY-SA 3.0|\n",
      "|146175118|                5|41994062|e8b48754-9b16-457...|2017-05-23 10:29:...|  null|URL Rewriter Bot|replaced http://s...|I came across thi...|  CC BY-SA 3.0|\n",
      "|146175119|                5|42303322|ccfdfdd2-07a5-4fb...|2017-05-23 10:29:...|  null|URL Rewriter Bot|replaced http://s...|You can just use ...|  CC BY-SA 3.0|\n",
      "|146175121|                5|42109496|fcf07413-5c03-4e5...|2017-05-23 10:29:...|  null|URL Rewriter Bot|replaced http://s...|Following regex s...|  CC BY-SA 3.0|\n",
      "|146175122|                5| 1169585|189e6eed-a46c-4f6...|2017-05-23 10:29:...|  null|URL Rewriter Bot|replaced http://s...|For loops in R ar...|  CC BY-SA 3.0|\n",
      "|146175123|                5|42004584|0334af05-f457-4c4...|2017-05-23 10:29:...|  null|URL Rewriter Bot|replaced http://s...|I am trying to ma...|  CC BY-SA 3.0|\n",
      "|146175126|                5| 2519217|f0ba80cf-9448-445...|2017-05-23 10:29:...|  null|URL Rewriter Bot|replaced http://s...|Posted in this qu...|  CC BY-SA 3.0|\n",
      "|146175127|                5| 1174446|d079c951-2f79-4b1...|2017-05-23 10:29:...|  null|URL Rewriter Bot|replaced http://s...|In addition to [@...|  CC BY-SA 3.0|\n",
      "|146175128|                5|39384503|3f7cf08a-4696-447...|2017-05-23 10:29:...|  null|URL Rewriter Bot|replaced http://s...|As [JoshSGoman co...|  CC BY-SA 3.0|\n",
      "|146175129|                5|42043105|09aa976a-14b1-407...|2017-05-23 10:29:...|  null|URL Rewriter Bot|replaced http://s...|The first method ...|  CC BY-SA 3.0|\n",
      "|146175130|                5|42165900|c10bcaeb-1b8d-47c...|2017-05-23 10:29:...|  null|URL Rewriter Bot|replaced http://s...|As far as I know ...|  CC BY-SA 3.0|\n",
      "|146175131|                5|42304015|9b4ff9bd-6bef-486...|2017-05-23 10:29:...|  null|URL Rewriter Bot|replaced http://s...|`json.load()` exp...|  CC BY-SA 3.0|\n",
      "+---------+-----------------+--------+--------------------+--------------------+------+----------------+--------------------+--------------------+--------------+\n",
      "only showing top 100 rows\n",
      "\n"
     ]
    },
    {
     "name": "stderr",
     "output_type": "stream",
     "text": [
      "\r",
      "                                                                                \r"
     ]
    }
   ],
   "source": [
    "df_post_history.show(100)"
   ]
  },
  {
   "cell_type": "markdown",
   "id": "d3c8b000",
   "metadata": {
    "slideshow": {
     "slide_type": "slide"
    }
   },
   "source": [
    "## 5. `Tags` Data "
   ]
  },
  {
   "cell_type": "code",
   "execution_count": 89,
   "id": "dda7de52",
   "metadata": {
    "slideshow": {
     "slide_type": "slide"
    }
   },
   "outputs": [
    {
     "name": "stderr",
     "output_type": "stream",
     "text": [
      "\r",
      "[Stage 132:>                                                        (0 + 2) / 2]\r"
     ]
    },
    {
     "name": "stdout",
     "output_type": "stream",
     "text": [
      "No. of Records in the Tags table : 64155\n"
     ]
    },
    {
     "name": "stderr",
     "output_type": "stream",
     "text": [
      "\r",
      "                                                                                \r"
     ]
    }
   ],
   "source": [
    "print(f\"No. of Records in the Tags table : {df_tags.count()}\")"
   ]
  },
  {
   "cell_type": "code",
   "execution_count": 58,
   "id": "2afa63a1",
   "metadata": {
    "slideshow": {
     "slide_type": "slide"
    }
   },
   "outputs": [
    {
     "name": "stderr",
     "output_type": "stream",
     "text": [
      "\r",
      "[Stage 93:>                                                         (0 + 1) / 1]\r"
     ]
    },
    {
     "name": "stdout",
     "output_type": "stream",
     "text": [
      "+-----+--------------------+-----+-------------+----------+\n",
      "|   Id|             TagName|Count|ExcerptPostId|WikiPostId|\n",
      "+-----+--------------------+-----+-------------+----------+\n",
      "|97196|       chef-template|   21|         null|      null|\n",
      "|97197|           openbadge|   15|     19533613|  19533612|\n",
      "|97199|                rhom|    2|         null|      null|\n",
      "|97200|      kendo-dropdown|  353|     23653918|  23653917|\n",
      "|97202|     easy-thumbnails|   58|     19540558|  19540557|\n",
      "|97203|           todataurl|  202|     35613258|  35613257|\n",
      "|97208|             go-flag|   19|     45148577|  45148576|\n",
      "|97211|          stripe.net|  133|     19545780|  19545779|\n",
      "|97212|              midori|   26|     19545676|  19545675|\n",
      "|97213|               bento|   14|         null|      null|\n",
      "|97215|              fedext|   38|     19547016|  19547015|\n",
      "|97218|        browser-link|   84|     19552377|  19552376|\n",
      "|97222|       atomicinteger|  116|     67507147|  67507146|\n",
      "|97223| revealing-prototype|   11|         null|      null|\n",
      "|97225|               dplyr|33458|     21178955|  21178954|\n",
      "|97227|     visual-c++-2013|   64|     20765163|  20765162|\n",
      "|97230|         web-console|   57|     19558816|  19558815|\n",
      "|97239|        gmaps4rails2|   50|         null|      null|\n",
      "|97242|            datecell|    3|     19605641|  19605640|\n",
      "|97247|               druid|  555|     19566459|  19566458|\n",
      "|97250|            boundbox|    3|     19643962|  19643961|\n",
      "|97251|        ng-bind-html|  243|     26858153|  26858152|\n",
      "|97252|            runscope|   25|     26617194|  26617193|\n",
      "|97253|        grails-cache|    6|     19570260|  19570259|\n",
      "|97254|   django-supervisor|   18|         null|      null|\n",
      "|97256|         chrome-sync|   12|     20935884|  20935883|\n",
      "|97257|          sidewaffle|   24|     19571218|  19571217|\n",
      "|97258|         css-content|  175|     19572181|  19572180|\n",
      "|97260|             f#-fake|  226|     22484814|  22484813|\n",
      "|97261|             statnet|   82|     21714369|  21714368|\n",
      "|97262|                vsql|   50|     21170617|  21170616|\n",
      "|97264|         vivagraphjs|   30|     21506719|  21506718|\n",
      "|97265|             scrooge|   26|     19613745|  19613744|\n",
      "|97267|    font-awesome-3.2|   17|         null|      null|\n",
      "|97268|      font-awesome-4|   79|         null|      null|\n",
      "|97271|market-basket-ana...|  151|     26735728|  26735727|\n",
      "|97272|       cart-analysis|   42|     19578528|  19578527|\n",
      "|97277|            rategate|    2|     29959396|  29959395|\n",
      "|97281|            everlive|   16|         null|      null|\n",
      "|97282|          boost.test|   21|     25232208|  25232207|\n",
      "|97285|             topcoat|   15|     19595803|  19595802|\n",
      "|97292|           mosquitto| 1347|     19596108|  19596107|\n",
      "|97293|      devexpress-wpf|  162|     37166592|  37166591|\n",
      "|97295|            argonaut|   88|     23904165|  23904164|\n",
      "|97296|   bundle-identifier|  245|     32629507|  32629506|\n",
      "|97298|                 kdf|   29|     19592771|  19592770|\n",
      "|97302|  grunt-contrib-haml|    4|     20462985|  20462984|\n",
      "|97304|grunt-contrib-uglify|  243|     22415236|  22415235|\n",
      "|97310|                 swp|    4|     19595980|  19595979|\n",
      "|97312|         subdocument|  288|     19596535|  19596534|\n",
      "|97313|variablesizedwrap...|    9|     19596686|  19596685|\n",
      "|97314|     particle-engine|    7|         null|      null|\n",
      "|97318|exchange-manageme...|   46|     19599100|  19599099|\n",
      "|97321|             zentyal|   14|     19714447|  19714446|\n",
      "|97324|              gomock|   57|     20483887|  20483886|\n",
      "|97326|hibernate-postgresql|    6|     20447979|  20447978|\n",
      "|97328|           stapes.js|    3|     19604242|  19604241|\n",
      "|97334|   stable-identifier|    2|     20484078|  20484077|\n",
      "|97335|                mnpp|    3|     19613093|  19613092|\n",
      "|97336|             xna-3.0|   48|     19608210|  19608209|\n",
      "|97338|        os-detection|   26|     19609807|  19609806|\n",
      "|97339|     voice-detection|   17|     19611869|  19611868|\n",
      "|97345|             razor-3|   24|     20484124|  20484123|\n",
      "|97346|      mysql2psql-gem|    5|         null|      null|\n",
      "|97347|      xaml-resources|   15|         null|      null|\n",
      "|97353|          xcode5.0.1|   57|     19790707|  19790706|\n",
      "|97355|      video-tracking|  120|     19619175|  19619174|\n",
      "|97359|             diffbot|   14|     19625062|  19625061|\n",
      "|97360|          six-python|   13|     19789615|  19789614|\n",
      "|97362|                blcr|    9|     19625590|  19625589|\n",
      "|97363|             pg-jdbc|   30|     19647014|  19647013|\n",
      "|97365|            phmagick|    2|     19629197|  19629196|\n",
      "|97367|       objective-git|   16|     20109469|  20109468|\n",
      "|97368|         yandex-maps|  121|     19637753|  19637752|\n",
      "|97373|              yowsup|   62|     19637620|  19637619|\n",
      "|97377|        netbeans-7.4|   51|     19823554|  19823553|\n",
      "|97380|     has-one-through|   32|         null|      null|\n",
      "|97384|            hello.js|   99|     19660134|  19660133|\n",
      "|97386|    mongoose-plugins|   78|     19845033|  19845032|\n",
      "|97389|           rollapply|  242|     41900126|  41900125|\n",
      "|97393|               cnode|    7|     58981074|  58981073|\n",
      "|97395| cfbundledisplayname|   25|         null|      null|\n",
      "|97398|           nextuntil|   33|     39611467|  39611466|\n",
      "|97399|          wheel-menu|    2|     19650713|  19650712|\n",
      "|97400|             prepros|   66|     19653677|  19653676|\n",
      "|97401|      restartmanager|   20|         null|      null|\n",
      "|97402|           quickfixj|  311|     21755322|  21755321|\n",
      "|97403|        jasidepanels|   24|     31379235|  31379234|\n",
      "|97407|             osmosis|   77|     19664601|  19664600|\n",
      "|97409|        imagehandler|   15|         null|      null|\n",
      "|97410|                nana|   30|     19660076|  19660075|\n",
      "|97416|       schemacrawler|  103|     19659997|  19659996|\n",
      "|97417|            snap.svg|  782|     19663096|  19663095|\n",
      "|97420|              znodes|   15|         null|      null|\n",
      "|97423|    mathnet-numerics|  221|     19665300|  19665299|\n",
      "|97426|       python-ggplot|  200|     19666705|  19666704|\n",
      "|97428|            omnigrid|    2|     19667660|  19667659|\n",
      "|97429|         f#-charting|   15|     19668622|  19668621|\n",
      "|97435|          pagoda-box|   20|         null|      null|\n",
      "|97436|                 mqx|   19|     19676900|  19676899|\n",
      "+-----+--------------------+-----+-------------+----------+\n",
      "only showing top 100 rows\n",
      "\n"
     ]
    },
    {
     "name": "stderr",
     "output_type": "stream",
     "text": [
      "\r",
      "                                                                                \r"
     ]
    }
   ],
   "source": [
    "df_tags.show(100)"
   ]
  },
  {
   "cell_type": "markdown",
   "id": "48e3558f",
   "metadata": {
    "slideshow": {
     "slide_type": "slide"
    }
   },
   "source": [
    "## 6. `Users` Data"
   ]
  },
  {
   "cell_type": "code",
   "execution_count": 22,
   "id": "c3929f86",
   "metadata": {
    "slideshow": {
     "slide_type": "slide"
    }
   },
   "outputs": [
    {
     "name": "stderr",
     "output_type": "stream",
     "text": [
      "[Stage 44:=====================================================>  (21 + 1) / 22]\r"
     ]
    },
    {
     "name": "stdout",
     "output_type": "stream",
     "text": [
      "No. of Records in the Users table : 19307021\n"
     ]
    },
    {
     "name": "stderr",
     "output_type": "stream",
     "text": [
      "\r",
      "                                                                                \r"
     ]
    }
   ],
   "source": [
    "print(f\"No. of Records in the Users table : {df_users.count()}\")"
   ]
  },
  {
   "cell_type": "code",
   "execution_count": 23,
   "id": "69c4954e",
   "metadata": {
    "slideshow": {
     "slide_type": "slide"
    }
   },
   "outputs": [
    {
     "name": "stderr",
     "output_type": "stream",
     "text": [
      "\r",
      "[Stage 47:>                                                         (0 + 1) / 1]\r"
     ]
    },
    {
     "name": "stdout",
     "output_type": "stream",
     "text": [
      "+-------+----------+--------------------+----------------+--------------------+--------------------+--------------------+--------------------+-----+-------+---------+--------------------+---------+\n",
      "|     Id|Reputation|        CreationDate|     DisplayName|      LastAccessDate|          WebsiteUrl|            Location|             AboutMe|Views|UpVotes|DownVotes|     ProfileImageUrl|AccountId|\n",
      "+-------+----------+--------------------+----------------+--------------------+--------------------+--------------------+--------------------+-----+-------+---------+--------------------+---------+\n",
      "|3360619|        13|2014-02-27 13:10:...|    Summoner1337|2019-08-28 15:41:...|                    |                null|                    |   15|      0|        0|https://www.grava...|  4093109|\n",
      "|3360620|        11|2014-02-27 13:10:...|           Yasir|2014-03-12 05:51:...|                    |                null|&lt;p&gt;Trying t...|    1|      0|        0|https://www.grava...|  4093112|\n",
      "|3360621|         1|2014-02-27 13:11:...|         drigani|2019-07-19 09:44:...|                    |               Italy|                    |    9|      0|        0|                null|  4093113|\n",
      "|3360622|         1|2014-02-27 13:11:...|     user3360622|2014-02-27 13:11:...|                null|                null|                null|    0|      0|        0|                null|  1082143|\n",
      "|3360623|         1|2014-02-27 13:11:...|            Zoey|2019-01-12 05:10:...|                    |                null|                    |    2|      0|        0|https://www.grava...|  4093114|\n",
      "|3360624|         3|2014-02-27 13:11:...|         UNiXMIT|2022-11-16 21:50:...|                    |                null|                    |    7|      0|        0|https://i.stack.i...|  2835291|\n",
      "|3360625|       101|2014-02-27 13:12:...|           YuriS|2022-01-24 16:52:...|                    |                null|                    |    1|      1|        0|https://www.grava...|  4093115|\n",
      "|3360626|         1|2014-02-27 13:12:...|          Zoidby|2018-09-28 11:48:...|                    |        Oslo, Norway|                    |    1|      0|        0|https://www.grava...|  4093116|\n",
      "|3360627|        49|2014-02-27 13:12:...|         Grishka|2015-12-29 21:48:...|                    |                null|                    |    9|      0|        0|https://www.grava...|  4093117|\n",
      "|3360628|         1|2014-02-27 13:12:...|     user3360628|2014-02-27 13:12:...|                null|                null|                null|    0|      0|        0|https://graph.fac...|  4093118|\n",
      "|3360629|         1|2014-02-27 13:12:...|     user3360629|2014-02-27 13:58:...|                null|                null|                null|    0|      0|        0|https://graph.fac...|  4093119|\n",
      "|3360630|       245|2014-02-27 13:13:...|          dodger|2020-12-02 19:21:...|                    |Reston, VA, Unite...|&lt;p&gt;I am bat...|   75|     16|        0|https://www.grava...|  4093120|\n",
      "|3360631|         1|2014-02-27 13:13:...|     user3360631|2018-04-26 08:48:...|                null|                null|                null|    0|      0|        0|https://www.grava...|  4093121|\n",
      "|3360632|         1|2014-02-27 13:13:...|     user3360632|2014-05-08 14:06:...|                null|                null|                null|    1|      0|        0|https://graph.fac...|  4093122|\n",
      "|3360633|        13|2014-02-27 13:13:...|         brokaer|2020-09-21 09:02:...|                    |             Denmark|                    |    5|      0|        0|https://www.grava...|  4093123|\n",
      "|3360634|         1|2014-02-27 13:14:...|     user3360634|2014-02-27 13:14:...|                null|                null|                null|    0|      0|        0|https://www.grava...|  4093126|\n",
      "|3360635|         1|2014-02-27 13:14:...|          namiko|2014-04-23 10:42:...|                    |                null|                    |   15|      0|        0|https://www.grava...|  4093128|\n",
      "|3360636|       975|2014-02-27 13:14:...|   AL - Lil Hunk|2022-11-15 17:19:...|https://www.linke...|Grand Prairie, TX...|&lt;p&gt;Born in ...|  210|    246|        7|https://i.stack.i...|  4093131|\n",
      "|3360637|         1|2014-02-27 13:15:...|          Aurens|2014-05-22 09:58:...|                    |                null|                    |    0|      0|        0|https://www.grava...|  4093133|\n",
      "|3360638|         1|2014-02-27 13:15:...|     user3360638|2020-02-04 14:13:...|                null|                null|                null|    3|      0|        0|https://www.grava...|  4093134|\n",
      "|3360639|       107|2014-02-27 13:16:...|Shane Richardson|2022-11-26 11:45:...| http://shanerich.me|       West Virginia|&lt;p&gt;Full Sta...|    7|      9|        0|https://i.stack.i...|  4093136|\n",
      "|3360640|        21|2014-02-27 13:16:...|            vron|2014-02-27 13:16:...|                null|                null|                null|    1|      0|        0|                null|  4093137|\n",
      "|3360641|         1|2014-02-27 13:16:...|          Daniel|2014-03-24 16:29:...|http://www.action.sk|            Slovakia|                    |    1|      0|        0|https://i.stack.i...|  4093138|\n",
      "|3360642|        26|2014-02-27 13:17:...|          jurajo|2014-02-27 13:17:...|                null|                null|                null|    2|      0|        0|                null|  4093139|\n",
      "|3360643|         1|2014-02-27 13:17:...|     user3360643|2014-04-02 12:51:...|                null|                null|                null|    0|      0|        0|https://graph.fac...|  4093140|\n",
      "|3360644|         1|2014-02-27 13:17:...|     user3360644|2014-05-27 09:44:...|                null|                null|                null|    2|      0|        0|https://www.grava...|  4093141|\n",
      "|3360645|        63|2014-02-27 13:17:...|         ferewuz|2018-08-13 16:44:...|                    |                null|                    |    2|      2|        0|https://www.grava...|  4093142|\n",
      "|3360646|        11|2014-02-27 13:18:...|           Pranx|2021-07-22 10:31:...|                    |                null|&lt;p&gt;Java Dev...|    5|      0|        0|https://www.grava...|  4093146|\n",
      "|3360647|         1|2014-02-27 13:18:...|     user3360647|2018-08-23 13:22:...|                null|                null|                null|    0|      0|        0|https://www.grava...|  4093147|\n",
      "|3360648|         3|2014-02-27 13:18:...|      CodesWhite|2021-09-11 20:25:...|                null|              Israel|                null|    5|      0|        0|https://www.grava...|  4093148|\n",
      "|3360649|         1|2014-02-27 13:18:...|     user3360649|2014-02-27 13:34:...|http://www.mtubuz...|               Delhi|&lt;p&gt;I love e...|    0|      0|        0|https://i.stack.i...|  4093149|\n",
      "|3360650|         3|2014-02-27 13:18:...|           Steve|2022-11-29 19:24:...|                    |                null|                    |    3|      0|        0|https://www.grava...|  4093150|\n",
      "|3360651|         1|2014-02-27 13:19:...|           Rob F|2019-02-08 10:25:...|                    |Cape Town, South ...|                    |    1|      0|        0|https://www.grava...|  4093152|\n",
      "|3360652|         1|2014-02-27 13:19:...|       Rodrigo S|2022-12-02 16:58:...|                    |                null|                    |    1|      0|        0|https://www.grava...|  4093153|\n",
      "|3360653|         1|2014-02-27 13:19:...|emilio.giuffrida|2020-09-05 10:29:...|http://www.aetnad...|Orvieto, Province...|                    |    1|      0|        0|https://www.grava...|  4093156|\n",
      "|3360654|         1|2014-02-27 13:20:...|     user3360654|2014-03-04 13:36:...|                null|                null|                null|    1|      0|        0|https://www.grava...|  4093158|\n",
      "|3360655|         1|2014-02-27 13:20:...|     user3360655|2014-02-27 13:20:...|                null|                null|                null|    0|      0|        0|https://www.grava...|  4093160|\n",
      "|3360656|        23|2014-02-27 13:20:...|     user3360656|2021-07-05 01:47:...|                null|                null|                null|    2|      3|        0|https://www.grava...|  4093161|\n",
      "|3360657|        43|2014-02-27 13:21:...|            Mats|2022-12-01 18:41:...|                    |                null|                    |   21|      6|        0|https://www.grava...|   359953|\n",
      "|3360658|        76|2014-02-27 13:21:...|   Yuriy Manoylo|2017-09-12 08:09:...|                    |                null|                    |   19|      0|        0|https://www.grava...|   154932|\n",
      "|3360660|         1|2014-02-27 13:21:...|     user3360660|2014-03-01 05:43:...|                null|                null|                null|    1|      0|        0|https://www.grava...|  4093166|\n",
      "|3360661|         1|2014-02-27 13:21:...|          Hanzal|2022-04-04 09:58:...|                null|                null|                null|    0|      0|        0|https://www.grava...|  4093167|\n",
      "|3360662|        11|2014-02-27 13:22:...|     user3360662|2019-02-16 16:03:...|                null|                null|                null|    7|      0|        0|https://www.grava...|  4093168|\n",
      "|3360663|         1|2014-02-27 13:22:...|             Dee|2017-06-10 11:56:...|                    |                null|                    |    6|      0|        0|https://i.stack.i...|  4093169|\n",
      "|3360664|         1|2014-02-27 13:22:...|            zulu|2022-12-01 08:18:...|                    |                null|                    |    0|      0|        0|https://www.grava...|  4093170|\n",
      "|3360665|        11|2014-02-27 13:22:...|      justoneguy|2014-03-26 08:05:...|                    |                null|                    |    2|      0|        0|https://www.grava...|  4093171|\n",
      "|3360666|       912|2014-02-27 13:22:...|         Gladhus|2020-03-17 17:24:...|http://stackoverf...|    Montreal, Canada|&lt;p&gt;Software...|  112|    466|      257|https://i.stack.i...|  4093172|\n",
      "|3360668|        91|2014-02-27 13:23:...|         kkomash|2022-12-04 21:31:...|                    |              Russia|                    |    3|     14|        0|https://i.stack.i...|  4093175|\n",
      "|3360669|        11|2013-10-13 17:57:...|          Jovian|2021-11-04 10:06:...|                    |                null|                    |    5|      0|        0|https://www.grava...|  3432744|\n",
      "|3360670|         1|2014-02-27 13:23:...|     user3360670|2014-02-27 13:23:...|                null|                null|                null|    0|      0|        0|https://www.grava...|  4093178|\n",
      "|3360671|         1|2014-02-27 13:24:...|     user3360671|2014-04-24 11:55:...|                null|                null|                null|    0|      0|        0|https://www.grava...|  4093181|\n",
      "|3360672|         1|2014-02-27 13:25:...|Morteza Parvaneh|2015-12-18 21:10:...|                    |        Tehran, Iran|                    |    1|      0|        0|https://i.stack.i...|   177154|\n",
      "|3360673|        11|2014-02-27 13:25:...|   Andrew McGraw|2021-11-02 22:24:...|                    |London, United Ki...|                    |    8|      0|        0|https://www.grava...|  4093184|\n",
      "|3360674|         1|2014-02-27 13:25:...|     user3360674|2015-10-26 10:37:...|                null|                null|                null|    0|      0|        0|https://www.grava...|  4093185|\n",
      "|3360675|         1|2014-02-27 13:25:...|     user3360675|2014-03-13 10:03:...|                null|                null|                null|    0|      0|        0|https://www.grava...|  4093186|\n",
      "|3360677|         1|2014-02-27 13:25:...|     user3360677|2014-06-20 14:27:...|                    |                null|                    |    0|      0|        0|https://www.grava...|  4093188|\n",
      "|3360678|       158|2014-02-27 13:26:...|     Cyberknight|2022-11-24 15:57:...|                    |                null|                    |   44|     78|       22|https://www.grava...|  4093189|\n",
      "|3360679|        21|2014-02-27 13:26:...|        Mike Yin|2017-09-19 06:03:...|https://plus.goog...|                null|                    |    3|      0|        0|                null|  4093190|\n",
      "|3360680|        11|2014-02-27 13:26:...|        conq_dev|2022-07-12 23:39:...|http://tabsoft.me...|                null|                    |    0|      0|        0|https://www.grava...|  4093192|\n",
      "|3360681|         1|2014-02-27 13:26:...|     user3360681|2014-11-11 17:01:...|                    |                null|                    |    3|      0|        0|https://www.grava...|  4093194|\n",
      "|3360682|        11|2014-02-27 13:27:...|          Stoiko|2021-06-21 14:11:...|                    |     Sofia, Bulgaria|&lt;p&gt;linux, g...|    6|      0|        0|https://www.grava...|  4093195|\n",
      "|3360683|       407|2014-02-27 13:27:...|           Jalal|2018-04-20 13:42:...|                    |                null|                    |   34|     11|        0|https://i.stack.i...|  4093196|\n",
      "|3360684|         1|2014-02-27 13:27:...|     user3360684|2014-03-27 14:48:...|                null|                null|                null|    0|      0|        0|https://www.grava...|  4093197|\n",
      "|3360685|         3|2014-02-27 13:28:...|          niyama|2014-04-10 10:11:...|                    |                null|                    |   38|      0|        0|https://i.stack.i...|  4093199|\n",
      "|3360686|         1|2014-02-27 13:28:...|     user3360686|2014-02-27 13:49:...|                null|                null|                null|    0|      0|        0|https://www.grava...|  4093200|\n",
      "|3360687|       652|2014-02-27 13:28:...|           Anton| 2022-12-04 19:55:18|                    |             Ukraine|&lt;p&gt;.NET Dev...|   55|     60|        9|https://www.grava...|  4093201|\n",
      "|3360689|         3|2014-02-27 13:28:...|            Andy|2015-05-27 08:44:...|                    |                null|                    |    2|      0|        0|https://www.grava...|  4093202|\n",
      "|3360690|        31|2014-02-27 13:28:...|             ban|2014-03-10 14:20:...|                null|                null|                null|    1|      0|        0|https://www.grava...|  4093203|\n",
      "|3360691|         1|2014-02-27 13:28:...|     user3360691|2014-02-27 14:39:...|                    |               Italy|&lt;p&gt;Tally Fr...|    1|      0|        0|https://graph.fac...|  4093204|\n",
      "|3360692|        31|2014-02-27 13:28:...|           David|2017-06-08 15:40:...|                    |                  UK|                    |    3|      0|        0|https://graph.fac...|  4093205|\n",
      "|3360693|      1375|2014-02-27 13:29:...|          kirilv|2022-12-02 13:14:...|                    |     Sofia, Bulgaria|&lt;p&gt;&lt;a hr...|   86|    511|        2|https://i.stack.i...|  4093208|\n",
      "|3360694|         1|2014-02-27 13:29:...|     Praneet Sah|2014-03-09 10:13:...|                null|                null|                null|    2|      0|        0|                null|  4093210|\n",
      "|3360695|         1|2014-02-27 13:29:...|           Ahmed|2015-09-22 06:22:...|                    |           New Delhi|                    |    0|      0|        0|https://i.stack.i...|  4093211|\n",
      "|3360697|         1|2014-02-27 13:30:...|            TooL|2019-01-28 12:14:...|http://www.Travis...|                null|                    |    0|      0|        0|https://www.grava...|  4093214|\n",
      "|3360698|         1|2014-02-27 13:30:...|     user3360698|2014-02-27 13:30:...|                null|                null|                null|    0|      0|        0|https://www.grava...|  4093215|\n",
      "|3360699|         1|2014-02-27 13:31:...|     user3360699|2019-11-04 10:14:...|                null|                null|                null|    1|      0|        0|https://i.stack.i...|  4093217|\n",
      "|3360700|        33|2014-02-27 13:32:...|     user3360700|2018-10-15 13:15:...|                null|                null|                null|   11|      1|        0|https://graph.fac...|  4093218|\n",
      "|3360701|        11|2014-02-27 13:32:...|     user3360701|2022-11-24 07:40:...|                null|                null|                null|    1|      0|        0|https://www.grava...|  4093219|\n",
      "|3360702|        11|2014-02-27 13:33:...|     user3360702|2019-09-12 07:47:...|                null|                null|                null|    4|      0|        0|https://www.grava...|  4093221|\n",
      "|3360703|         1|2014-02-27 13:34:...|     user3360703|2015-03-12 19:40:...|                    |                null|                    |    0|      0|        0|https://www.grava...|  4093223|\n",
      "|3360704|        11|2014-02-27 13:34:...|     regular one|2014-10-24 13:45:...|                    |                null|                    |    2|      0|        0|https://www.grava...|  4093224|\n",
      "|3360705|        11|2014-02-27 13:35:...|   Hamsavardhini|2014-12-23 10:28:...|                    |      Chennai, India|&lt;p&gt;Software...|    5|      0|        0|https://www.grava...|  4093226|\n",
      "|3360706|         1|2014-02-27 13:35:...|     user3360706|2022-01-03 03:27:...|                null|                null|                null|    0|      0|        0|https://www.grava...|  4093227|\n",
      "|3360707|         1|2014-02-27 13:36:...|     user3360707|2014-07-21 18:06:...|                null|                null|                null|    0|      0|        0|https://www.grava...|  4093229|\n",
      "|3360708|        35|2014-02-27 13:36:...|     user3360708|2022-08-23 05:45:...|                    |         Philippines|                    |   39|      0|        0|https://www.grava...|  4093230|\n",
      "|3360709|        13|2014-02-27 13:36:...|     user3360709|2014-02-28 17:26:...|                null|                null|                null|    2|      0|        0|https://www.grava...|  4093231|\n",
      "|3360710|        15|2014-02-27 13:37:...|     user3360710|2020-02-21 10:25:...|                null|                null|                null|    1|      0|        0|https://www.grava...|  4093232|\n",
      "|3360711|         1|2014-02-27 13:37:...|     user3360711|2014-02-28 11:01:...|                null|                null|                null|    0|      0|        0|https://graph.fac...|  4093233|\n",
      "|3360713|         1|2014-02-27 13:38:...|     user3360713|2014-05-02 12:29:...|                null|                null|                null|    0|      0|        0|https://www.grava...|  4093237|\n",
      "|3360715|         1|2014-02-27 13:39:...|     user3360715|2014-02-27 13:39:...|                null|                null|                null|    0|      0|        0|https://graph.fac...|  4093242|\n",
      "|3360716|        23|2014-02-27 13:39:...|          Urvesh|2015-11-26 13:37:...|                null|     Vadodara, India|                null|    6|      0|        0|https://i.stack.i...|  4087026|\n",
      "|3360718|         1|2014-02-27 13:40:...|     user3360718|2014-03-15 13:05:...|                null|                null|                null|    0|      0|        0|https://www.grava...|  4093243|\n",
      "|3360719|         1|2014-02-27 13:40:...|          eXCore|2021-05-04 15:24:...|         http://none|  Pavlohrad, Ukraine|&lt;p&gt;I'm real...|    0|      0|        0|https://www.grava...|  4093244|\n",
      "|3360720|        51|2014-02-27 13:40:...|             Geo|2021-08-27 07:07:...|                    |                null|                    |   14|      7|        0|https://www.grava...|  4093245|\n",
      "|3360721|       100|2014-02-27 13:40:...|          lineal|2022-12-02 00:59:...|                    |                null|&lt;p&gt;I like P...|    9|     24|        0|https://www.grava...|  4093247|\n",
      "|3360722|         1|2014-02-27 13:40:...|     user3360722|2016-05-13 11:59:...|                null|                null|                null|    0|      0|        0|https://www.grava...|  4093248|\n",
      "|3360723|         1|2014-02-27 13:40:...|     user3360723|2014-03-17 13:08:...|                    |                null|&lt;p&gt;i am fun...|    0|      0|        0|https://www.grava...|  4093249|\n",
      "|3360724|         1|2014-02-27 13:40:...|     user3360724|2014-02-27 13:40:...|                null|                null|                null|    0|      0|        0|https://www.grava...|  4093250|\n",
      "|3360725|         1|2014-02-27 13:40:...|     user3360725|2015-08-23 17:31:...|                null|                null|                null|    0|      0|        0|https://www.grava...|  4093251|\n",
      "|3360726|        13|2014-02-27 13:41:...|     user3360726|2014-07-30 23:19:...|                null|                null|                null|    2|      0|        0|https://graph.fac...|  4093253|\n",
      "+-------+----------+--------------------+----------------+--------------------+--------------------+--------------------+--------------------+-----+-------+---------+--------------------+---------+\n",
      "only showing top 100 rows\n",
      "\n"
     ]
    },
    {
     "name": "stderr",
     "output_type": "stream",
     "text": [
      "\r",
      "                                                                                \r"
     ]
    }
   ],
   "source": [
    "df_users.show(100)"
   ]
  },
  {
   "cell_type": "code",
   "execution_count": null,
   "id": "dd7f31f5",
   "metadata": {},
   "outputs": [],
   "source": [
    "df"
   ]
  },
  {
   "cell_type": "markdown",
   "id": "453fe55b",
   "metadata": {},
   "source": [
    "# Data Analysis "
   ]
  },
  {
   "cell_type": "markdown",
   "id": "d47e61af",
   "metadata": {},
   "source": [
    "### Q1: No. of Posts which has `AWS or Amazon` in the `tag`"
   ]
  },
  {
   "cell_type": "code",
   "execution_count": 59,
   "id": "62493b2c",
   "metadata": {},
   "outputs": [
    {
     "name": "stdout",
     "output_type": "stream",
     "text": [
      "root\n",
      " |-- Id: integer (nullable = true)\n",
      " |-- TagName: string (nullable = true)\n",
      " |-- Count: integer (nullable = true)\n",
      " |-- ExcerptPostId: integer (nullable = true)\n",
      " |-- WikiPostId: integer (nullable = true)\n",
      "\n"
     ]
    }
   ],
   "source": [
    "df_tags.printSchema()"
   ]
  },
  {
   "cell_type": "code",
   "execution_count": 168,
   "id": "f41a7ec3",
   "metadata": {},
   "outputs": [],
   "source": [
    "list_of_keywords = ['AWS', 'amazon', 'Amazon', 'amz']\n",
    "\n",
    "df_tags_with_amazon = df_tags.select(F.col(\"Id\"), F.col(\"TagName\"), F.col(\"Count\"), F.col(\"ExcerptPostId\"), F.col(\"WikiPostId\")) \\\n",
    "                       .filter(F.col(\"TagName\").startswith('aws') |\n",
    "                               F.col(\"TagName\").startswith('amazon') |\n",
    "                               F.col(\"TagName\").isin(list_of_keywords)) \\\n",
    "                       .withColumnRenamed('Count', \"No_of_Posts\")"
   ]
  },
  {
   "cell_type": "code",
   "execution_count": 169,
   "id": "9739f0c2",
   "metadata": {},
   "outputs": [
    {
     "name": "stderr",
     "output_type": "stream",
     "text": [
      "                                                                                \r"
     ]
    }
   ],
   "source": [
    "n = df_tags_with_amazon.count()"
   ]
  },
  {
   "cell_type": "code",
   "execution_count": 189,
   "id": "36f53e4b",
   "metadata": {},
   "outputs": [],
   "source": [
    "window = W.Window.orderBy(F.desc(F.col('No_of_Posts')))\n",
    "df_tags_with_amazon_with_rank = df_tags_with_amazon.withColumn(\"Rank_Number\", F.row_number().over(window))"
   ]
  },
  {
   "cell_type": "code",
   "execution_count": 171,
   "id": "9126ceb9",
   "metadata": {
    "scrolled": true
   },
   "outputs": [
    {
     "name": "stderr",
     "output_type": "stream",
     "text": [
      "23/03/13 19:26:42 WARN WindowExec: No Partition Defined for Window operation! Moving all data to a single partition, this can cause serious performance degradation.\n",
      "23/03/13 19:26:42 WARN WindowExec: No Partition Defined for Window operation! Moving all data to a single partition, this can cause serious performance degradation.\n",
      "23/03/13 19:26:42 WARN WindowExec: No Partition Defined for Window operation! Moving all data to a single partition, this can cause serious performance degradation.\n",
      "23/03/13 19:26:42 WARN WindowExec: No Partition Defined for Window operation! Moving all data to a single partition, this can cause serious performance degradation.\n",
      "23/03/13 19:26:42 WARN WindowExec: No Partition Defined for Window operation! Moving all data to a single partition, this can cause serious performance degradation.\n",
      "[Stage 232:============================>                            (1 + 1) / 2]\r"
     ]
    },
    {
     "name": "stdout",
     "output_type": "stream",
     "text": [
      "+------+----------------------------------+-----------+-------------+----------+-----------+\n",
      "|Id    |TagName                           |No_of_Posts|ExcerptPostId|WikiPostId|Rank_Number|\n",
      "+------+----------------------------------+-----------+-------------+----------+-----------+\n",
      "|33388 |amazon-web-services               |145049     |5063862      |5063861   |1          |\n",
      "|11444 |amazon-s3                         |47795      |4994052      |4994051   |2          |\n",
      "|12375 |amazon-ec2                        |35407      |5123215      |5123214   |3          |\n",
      "|108737|aws-lambda                        |28291      |27496557     |27496556  |4          |\n",
      "|76578 |amazon-dynamodb                   |12984      |8940831      |8940830   |5          |\n",
      "|105747|amazon-elastic-beanstalk          |8968       |24799042     |24799041  |6          |\n",
      "|89537 |amazon-redshift                   |8023       |15304712     |15304711  |7          |\n",
      "|76486 |amazon-cloudformation             |7650       |8940855      |8940854   |8          |\n",
      "|113256|aws-api-gateway                   |6989       |31387761     |31387760  |9          |\n",
      "|105719|amazon-cognito                    |6694       |24705238     |24705237  |10         |\n",
      "|42168 |amazon-rds                        |6157       |7702481      |7702480   |11         |\n",
      "|107211|aws-sdk                           |5948       |26555652     |26555651  |12         |\n",
      "|78251 |amazon-iam                        |4884       |12322122     |12322121  |13         |\n",
      "|71568 |amazon-cloudfront                 |4608       |8728941      |8728940   |14         |\n",
      "|38033 |amazon-ecs                        |4471       |14019763     |14019762  |15         |\n",
      "|99166 |aws-cli                           |4076       |20708428     |20708427  |16         |\n",
      "|1688  |amazon                            |4054       |6945537      |6945536   |17         |\n",
      "|130293|aws-amplify                       |3866       |49730392     |49730391  |18         |\n",
      "|32457 |amazon-sqs                        |3837       |5412065      |5412064   |19         |\n",
      "|79057 |amazon-cloudwatch                 |3830       |14568514     |14568513  |20         |\n",
      "|128181|aws-glue                          |3554       |45843229     |45843228  |21         |\n",
      "|56129 |amazon-emr                        |3248       |7682937      |7682936   |22         |\n",
      "|133404|amazon-eks                        |3150       |62846818     |62846817  |23         |\n",
      "|123922|amazon-athena                     |2980       |41444956     |41444955  |24         |\n",
      "|133995|aws-cdk                           |2804       |51786815     |51786814  |25         |\n",
      "|53877 |amazon-sns                        |2802       |5926595      |5926594   |26         |\n",
      "|79058 |amazon-route53                    |2453       |14019734     |14019733  |27         |\n",
      "|130184|amazon-sagemaker                  |2442       |47827093     |47827092  |28         |\n",
      "|79205 |amazon-vpc                        |2289       |14019728     |14019727  |29         |\n",
      "|68334 |amazon-ses                        |2070       |5873004      |5873003   |30         |\n",
      "|73075 |amazon-elb                        |1949       |8723490      |8723489   |31         |\n",
      "|130125|aws-appsync                       |1674       |47726486     |47726485  |32         |\n",
      "|100392|amazon-kinesis                    |1666       |21396891     |21396890  |33         |\n",
      "|130040|aws-fargate                       |1499       |47639439     |47639438  |34         |\n",
      "|113290|amazon-aurora                     |1415       |31382857     |31382856  |35         |\n",
      "|114449|aws-codepipeline                  |1400       |32398759     |32398758  |36         |\n",
      "|123484|aws-codebuild                     |1342       |40984300     |40984299  |37         |\n",
      "|123710|aws-step-functions                |1261       |41202658     |41202657  |38         |\n",
      "|115200|aws-iot                           |1167       |33630016     |33630015  |39         |\n",
      "|132737|aws-serverless                    |1108       |50282442     |50282441  |40         |\n",
      "|108181|aws-code-deploy                   |1028       |26920824     |26920823  |41         |\n",
      "|133429|aws-sam                           |856        |55629292     |55629291  |42         |\n",
      "|70972 |amazon-mws                        |853        |8723500      |8723499   |43         |\n",
      "|135734|amazon-ami                        |845        |53427960     |53427959  |44         |\n",
      "|130840|amazon-neptune                    |818        |48411413     |48411412  |45         |\n",
      "|135716|aws-application-load-balancer     |803        |null         |null      |46         |\n",
      "|118096|amazon-cloudwatchlogs             |786        |40724074     |40724073  |47         |\n",
      "|115018|aws-security-group                |765        |34815503     |34815502  |48         |\n",
      "|73052 |amazon-elasticache                |752        |11768635     |11768634  |49         |\n",
      "|132552|aws-secrets-manager               |731        |50091287     |50091286  |50         |\n",
      "|123207|amazon-quicksight                 |728        |43577346     |43577345  |51         |\n",
      "|132248|aws-load-balancer                 |716        |null         |null      |52         |\n",
      "|124869|amazon-lex                        |710        |42399595     |42399594  |53         |\n",
      "|123441|amazon-ecr                        |707        |41057864     |41057863  |54         |\n",
      "|123556|amazon-lightsail                  |647        |41069307     |41069306  |55         |\n",
      "|18151 |amazon-ebs                        |617        |7702473      |7702472   |56         |\n",
      "|125258|aws-sdk-js                        |609        |44312322     |44312321  |57         |\n",
      "|132814|amazon-kinesis-firehose           |576        |50360569     |50360568  |58         |\n",
      "|92026 |aws-opsworks                      |543        |20180409     |20180408  |59         |\n",
      "|122870|amazon-efs                        |529        |40485295     |40485294  |60         |\n",
      "|112389|aws-java-sdk                      |528        |30731561     |30731560  |61         |\n",
      "|114185|aws-codecommit                    |526        |32382394     |32382393  |62         |\n",
      "|53549 |amazon-product-api                |501        |6651949      |6651948   |63         |\n",
      "|146089|aws-event-bridge                  |498        |63016150     |63016149  |64         |\n",
      "|128297|aws-sam-cli                       |468        |50179443     |50179442  |65         |\n",
      "|92709 |amazon-data-pipeline              |467        |16986721     |16986720  |66         |\n",
      "|123053|aws-sdk-nodejs                    |460        |42402671     |42402670  |67         |\n",
      "|130173|aws-ssm                           |456        |47778679     |47778678  |68         |\n",
      "|129593|aws-elasticsearch                 |445        |47418879     |47418878  |69         |\n",
      "|135649|aws-glue-data-catalog             |412        |null         |null      |70         |\n",
      "|121854|aws-dms                           |399        |39388637     |39388636  |71         |\n",
      "|37299 |amazon-simpledb                   |396        |5998299      |5998298   |72         |\n",
      "|111886|aws-kms                           |375        |30192161     |30192160  |73         |\n",
      "|118124|amazon-dynamodb-streams           |375        |47718726     |47718725  |74         |\n",
      "|124227|aws-batch                         |362        |45569159     |45569158  |75         |\n",
      "|137333|aws-documentdb                    |357        |55681565     |55681564  |76         |\n",
      "|114134|aws-device-farm                   |356        |32127108     |32127107  |77         |\n",
      "|85669 |amazon-cloudsearch                |349        |13277942     |13277941  |78         |\n",
      "|123506|aws-xray                          |332        |41024919     |41024918  |79         |\n",
      "|137855|aws-lambda-layers                 |325        |null         |null      |80         |\n",
      "|84440 |amazon-glacier                    |319        |13704296     |13704295  |81         |\n",
      "|140763|aws-amplify-cli                   |318        |58514012     |58514011  |82         |\n",
      "|142472|aws-auto-scaling                  |314        |null         |null      |83         |\n",
      "|123672|amazon-rekognition                |303        |41166697     |41166696  |84         |\n",
      "|114055|amazon-kms                        |295        |32061640     |32061639  |85         |\n",
      "|139448|aws-msk                           |295        |57292802     |57292801  |86         |\n",
      "|144776|aws-glue-spark                    |290        |null         |null      |87         |\n",
      "|99915 |aws-php-sdk                       |289        |21128217     |21128216  |88         |\n",
      "|124614|amazon-linux                      |285        |44279911     |44279910  |89         |\n",
      "|128024|amazon-redshift-spectrum          |272        |45699556     |45699555  |90         |\n",
      "|105164|amazon-cloudtrail                 |269        |45579977     |45579976  |91         |\n",
      "|130186|aws-cloud9                        |269        |47786635     |47786634  |92         |\n",
      "|77626 |amazon-swf                        |267        |9392680      |9392679   |93         |\n",
      "|126042|amazon-connect                    |259        |43577167     |43577166  |94         |\n",
      "|137241|aws-cloudwatch-log-insights       |256        |null         |null      |95         |\n",
      "|124430|aws-sdk-go                        |254        |41964076     |41964075  |96         |\n",
      "|131300|aws-lambda-edge                   |252        |49150728     |49150727  |97         |\n",
      "|124821|aws-pinpoint                      |247        |53570232     |53570231  |98         |\n",
      "|115299|amazon-elasticsearch              |246        |33150056     |33150055  |99         |\n",
      "|121858|amazon-waf                        |231        |43577329     |43577328  |100        |\n",
      "|117558|aws-certificate-manager           |221        |35174230     |35174229  |101        |\n",
      "|141206|aws-cloudformation-custom-resource|220        |58940981     |58940980  |102        |\n",
      "|125257|aws-sdk-net                       |216        |50616717     |50616716  |103        |\n",
      "|132592|amazon-dynamodb-index             |215        |null         |null      |104        |\n",
      "|136111|amazon-linux-2                    |215        |null         |null      |105        |\n",
      "|139169|aws-aurora-serverless             |212        |57039690     |57039689  |106        |\n",
      "|131722|aws-userpools                     |202        |49293310     |49293309  |107        |\n",
      "|142261|amazon-api-gateway                |202        |null         |null      |108        |\n",
      "|107419|amazon-fire-tv                    |198        |26223272     |26223271  |109        |\n",
      "|126577|aws-sts                           |197        |44154427     |44154426  |110        |\n",
      "|141800|aws-policies                      |189        |null         |null      |111        |\n",
      "|138176|amazon-textract                   |186        |56012705     |56012704  |112        |\n",
      "|130961|aws-elb                           |177        |48532308     |48532307  |113        |\n",
      "|130757|aws-iam                           |176        |48337243     |48337242  |114        |\n",
      "|121197|amazon-cloudwatch-metrics         |174        |null         |null      |115        |\n",
      "|127369|amazon-elastic-transcoder         |172        |44969970     |44969969  |116        |\n",
      "|117056|aws-mobilehub                     |168        |47477619     |47477618  |117        |\n",
      "|100823|aws-powershell                    |159        |21649634     |21649633  |118        |\n",
      "|123412|amazon-polly                      |155        |40922587     |40922586  |119        |\n",
      "|127408|aws-organizations                 |154        |51930078     |51930077  |120        |\n",
      "|131771|aws-parameter-store               |153        |50351896     |50351895  |121        |\n",
      "|147573|aws-iot-core                      |149        |null         |null      |122        |\n",
      "|65267 |amazon-appstore                   |141        |8723460      |8723459   |123        |\n",
      "|129144|aws-sdk-java-2.0                  |134        |46756860     |46756859  |124        |\n",
      "|146900|aws-databricks                    |130        |63736214     |63736213  |125        |\n",
      "|130887|amazon-mq                         |128        |53842915     |53842914  |126        |\n",
      "|137836|aws-media-convert                 |128        |null         |null      |127        |\n",
      "|115770|aws-rds                           |127        |33568833     |33568832  |128        |\n",
      "|124913|aws-vpc                           |127        |52866710     |52866709  |129        |\n",
      "|129198|aws-billing                       |123        |54666983     |54666982  |130        |\n",
      "|138847|amazon-timestream                 |123        |56655040     |56655039  |131        |\n",
      "|132472|aws-transcribe                    |122        |50022970     |50022969  |132        |\n",
      "|132102|aws-lex                           |121        |49708032     |49708031  |133        |\n",
      "|140249|aws-config                        |115        |58047340     |58047339  |134        |\n",
      "|124674|aws-sdk-cpp                       |114        |42213196     |42213195  |135        |\n",
      "|126758|aws-ebs                           |112        |47476500     |47476499  |136        |\n",
      "|135200|aws-sdk-ios                       |112        |52879614     |52879613  |137        |\n",
      "|136186|aws-java-sdk-2.x                  |112        |53856456     |53856455  |138        |\n",
      "|130900|aws-ecr                           |111        |51679331     |51679330  |139        |\n",
      "|131158|amazon-workspaces                 |110        |64055983     |64055982  |140        |\n",
      "|155946|amazon-opensearch                 |110        |null         |null      |141        |\n",
      "|139345|amazon-kinesis-analytics          |109        |57147051     |57147050  |142        |\n",
      "|139602|aws-systems-manager               |108        |64057451     |64057450  |143        |\n",
      "|74926 |amazon-pay                        |108        |20752370     |20752369  |144        |\n",
      "|116292|amazon-echo                       |107        |34031443     |34031442  |145        |\n",
      "|145316|aws-codeartifact                  |104        |null         |null      |146        |\n",
      "|10189 |awstats                           |104        |4856974      |4856973   |147        |\n",
      "|122808|aws-sdk-ruby                      |103        |51774676     |51774675  |148        |\n",
      "|112910|amazonsellercentral               |99         |56702275     |56702274  |149        |\n",
      "|115665|amazon-kcl                        |98         |33496092     |33496091  |150        |\n",
      "|126004|aws-codestar                      |97         |43530554     |43530553  |151        |\n",
      "|138846|amazon-qldb                       |96         |56654781     |56654780  |152        |\n",
      "|144223|amazon-keyspaces                  |95         |61398441     |61398440  |153        |\n",
      "|134529|aws-alb                           |94         |null         |null      |154        |\n",
      "|144350|aws-elasticache                   |92         |null         |null      |155        |\n",
      "|129774|aws-ecs                           |91         |47365414     |47365413  |156        |\n",
      "|136642|aws-documentdb-mongoapi           |91         |54401837     |54401836  |157        |\n",
      "|126935|amazon-dynamodb-dax               |87         |44816823     |44816822  |158        |\n",
      "|127424|aws-regions                       |86         |45032429     |45032428  |159        |\n",
      "|106659|awss3transfermanager              |85         |25604782     |25604781  |160        |\n",
      "|118669|amazon-policy                     |84         |36165805     |36165804  |161        |\n",
      "|137351|amazon-dynamodb-local             |84         |55130109     |55130108  |162        |\n",
      "|132654|amazon-s3-select                  |83         |50223829     |50223828  |163        |\n",
      "|147669|aws-iot-greengrass                |83         |65486618     |65486617  |164        |\n",
      "|144102|amazon-kinesis-video-streams      |82         |61301084     |61301083  |165        |\n",
      "|132672|aws-data-pipeline                 |77         |54666900     |54666899  |166        |\n",
      "|138200|amazon-personalize                |77         |56032160     |56032159  |167        |\n",
      "|150853|aws-sqs-fifo                      |76         |null         |null      |168        |\n",
      "|148325|amazon-rds-proxy                  |74         |null         |null      |169        |\n",
      "|138464|aws-acm                           |73         |56447285     |56447284  |170        |\n",
      "|144908|aws-chime-sdk                     |73         |66449029     |66449028  |171        |\n",
      "|140659|amazon-cognito-triggers           |72         |58424222     |58424221  |172        |\n",
      "|140764|aws-amplify-sdk-js                |72         |58514459     |58514458  |173        |\n",
      "|126667|amazon-systems-manager            |71         |47778757     |47778756  |174        |\n",
      "|139195|aws-sso                           |70         |69578177     |69578176  |175        |\n",
      "|141748|aws-vpn                           |67         |59343483     |59343482  |176        |\n",
      "|134837|aws-toolkit                       |66         |null         |null      |177        |\n",
      "|143842|amazon-comprehend                 |66         |61073094     |61073093  |178        |\n",
      "|118404|amazon-cognito-facebook           |64         |52362453     |52362452  |179        |\n",
      "|141018|aws-nat-gateway                   |64         |null         |null      |180        |\n",
      "|144785|aws-http-api                      |64         |null         |null      |181        |\n",
      "|148193|aws-nlb                           |64         |null         |null      |182        |\n",
      "|140973|aws-lake-formation                |62         |null         |null      |183        |\n",
      "|141788|amazon-cloudwatch-events          |61         |59376745     |59376744  |184        |\n",
      "|133108|amazon-advertising-api            |60         |50642267     |50642266  |185        |\n",
      "|140197|amazon-deequ                      |59         |58304990     |58304989  |186        |\n",
      "|145573|aws-credentials                   |59         |null         |null      |187        |\n",
      "|117498|amazon-machine-learning           |58         |45569132     |45569131  |188        |\n",
      "|139059|aws-backup                        |56         |null         |null      |189        |\n",
      "|144487|amazon-chime                      |55         |64057365     |64057364  |190        |\n",
      "|117447|awss3transferutility              |54         |null         |null      |191        |\n",
      "|154709|aws-data-wrangler                 |54         |70919805     |70919804  |192        |\n",
      "|150929|aws-devops                        |53         |null         |null      |193        |\n",
      "|88362 |aws-marketplace                   |52         |15509326     |15509325  |194        |\n",
      "|131157|amazon-workmail                   |51         |48721766     |48721765  |195        |\n",
      "|153033|aws-kinesis                       |51         |null         |null      |196        |\n",
      "|118633|amazon-kinesis-kpl                |50         |null         |null      |197        |\n",
      "|133191|amazon-simple-email-service       |50         |50712061     |50712060  |198        |\n",
      "|143728|aws-glue-workflow                 |50         |null         |null      |199        |\n",
      "|126047|aws-service-catalog               |49         |43577290     |43577289  |200        |\n",
      "|139117|aws-ec2-instance-connect          |49         |56918359     |56918358  |201        |\n",
      "|155974|aws-cdk-python                    |49         |null         |null      |202        |\n",
      "|124236|aws-access-policy                 |48         |null         |null      |203        |\n",
      "|142398|aws-sdk-java                      |48         |null         |null      |204        |\n",
      "|155806|amazon-sp-api                     |47         |null         |null      |205        |\n",
      "|126453|amazon-alb                        |46         |null         |null      |206        |\n",
      "|151057|aws-appsync-resolver              |46         |null         |null      |207        |\n",
      "|140784|aws-amplify-sdk-android           |45         |null         |null      |208        |\n",
      "|123733|aws-reserved-instances            |44         |null         |null      |209        |\n",
      "|126044|aws-storage-gateway               |44         |43577211     |43577210  |210        |\n",
      "|156196|aws-iam-policy                    |44         |null         |null      |211        |\n",
      "|142910|aws-media-live                    |43         |60263029     |60263028  |212        |\n",
      "|150444|aws-sdk-js-v3                     |43         |null         |null      |213        |\n",
      "|151105|amazon-app-runner                 |43         |null         |null      |214        |\n",
      "|126046|aws-direct-connect                |42         |43577257     |43577256  |215        |\n",
      "|152884|aws-neptune                       |39         |null         |null      |216        |\n",
      "|139603|aws-session-manager               |38         |null         |null      |217        |\n",
      "|111308|amazon-marketplace                |37         |29726441     |29726440  |218        |\n",
      "|126462|aws-appstream                     |37         |44034305     |44034304  |219        |\n",
      "|139962|amazon-forecast                   |37         |57755281     |57755280  |220        |\n",
      "|141761|aws-rds-data-service              |37         |59355046     |59355045  |221        |\n",
      "|149281|aws-vpc-peering                   |37         |null         |null      |222        |\n",
      "|115729|aws-directory-services            |36         |33532454     |33532453  |223        |\n",
      "|118403|amazon-mobile-hub                 |35         |47681129     |47681128  |224        |\n",
      "|146875|amazon-managed-blockchain         |35         |63715800     |63715799  |225        |\n",
      "|123196|aws-sdk-mock                      |34         |40713571     |40713570  |226        |\n",
      "|135412|aws-iot-analytics                 |34         |53096065     |53096064  |227        |\n",
      "|144940|aws-control-tower                 |34         |null         |null      |228        |\n",
      "|146448|aws-app-config                    |34         |null         |null      |229        |\n",
      "|120833|amazon-kinesis-agent              |33         |null         |null      |230        |\n",
      "|140711|aws-app-mesh                      |33         |59183720     |59183719  |231        |\n",
      "|142095|aws-code-deploy-appspec           |31         |null         |null      |232        |\n",
      "|150733|aws-private-link                  |31         |null         |null      |233        |\n",
      "|150004|amazon-appflow                    |30         |null         |null      |234        |\n",
      "|150021|aws-glue-connection               |30         |70650405     |70650404  |235        |\n",
      "|150944|aws-chatbot                       |30         |67601517     |67601516  |236        |\n",
      "|156004|aws-datasync                      |30         |null         |null      |237        |\n",
      "|106896|amazon-mobile-analytics           |29         |47704636     |47704635  |238        |\n",
      "|126218|amazon-acm                        |29         |43837640     |43837639  |239        |\n",
      "|129317|aws-sct                           |29         |46904754     |46904753  |240        |\n",
      "|133349|aws-elemental                     |29         |50888158     |50888157  |241        |\n",
      "|102066|amazon-javascript-sdk             |28         |22427114     |22427113  |242        |\n",
      "|134925|amazon-gateway                    |28         |52663510     |52663509  |243        |\n",
      "|137894|amazon-dynamodb-data-modeling     |28         |55740253     |55740252  |244        |\n",
      "|152032|amazon-ivs                        |28         |68557561     |68557560  |245        |\n",
      "|137859|aws-cloudmap                      |27         |55705996     |55705995  |246        |\n",
      "|150479|aws-state-machine                 |27         |null         |null      |247        |\n",
      "|152040|aws-roles                         |27         |null         |null      |248        |\n",
      "|155311|aws-pipeline                      |27         |null         |null      |249        |\n",
      "|60614 |amazon-fps                        |27         |7702503      |7702502   |250        |\n",
      "|92651 |amazon-device-messaging           |27         |32060783     |32060782  |251        |\n",
      "|148346|amazon-ground-truth               |26         |null         |null      |252        |\n",
      "|148910|aws-lambda-containers             |26         |null         |null      |253        |\n",
      "|151959|aws-networking                    |26         |null         |null      |254        |\n",
      "|140772|amazon-msk                        |25         |null         |null      |255        |\n",
      "|145441|aws-rest-api                      |25         |null         |null      |256        |\n",
      "|154437|amazon-redshift-serverless        |25         |null         |null      |257        |\n",
      "|157941|amazon-sagemaker-studio           |25         |null         |null      |258        |\n",
      "|116812|amazonads                         |24         |null         |null      |259        |\n",
      "|119119|awsdeploy                         |24         |null         |null      |260        |\n",
      "|126923|amazon-ssm-agent                  |24         |44521585     |44521584  |261        |\n",
      "|134650|aws-appsync-ios                   |24         |null         |null      |262        |\n",
      "|137011|amazon-cloudhsm                   |24         |68484465     |68484464  |263        |\n",
      "|153537|aws-msk-connect                   |24         |null         |null      |264        |\n",
      "|154520|aws-cost-explorer                 |24         |null         |null      |265        |\n",
      "|135758|amazon-gamelift                   |23         |null         |null      |266        |\n",
      "|140237|aws-java-sdk-dynamodb             |23         |null         |null      |267        |\n",
      "|142976|aws-security-hub                  |23         |60329990     |60329989  |268        |\n",
      "|148879|aws-cloudshell                    |23         |null         |null      |269        |\n",
      "|151632|amazon-cognito-identity-js        |23         |null         |null      |270        |\n",
      "|153301|aws-sdk-go-v2                     |23         |null         |null      |271        |\n",
      "|155456|amazon-fsx                        |23         |71565416     |71565415  |272        |\n",
      "|149638|aws-permissions                   |22         |null         |null      |273        |\n",
      "|151505|aws-signature                     |22         |null         |null      |274        |\n",
      "|152349|aws-transfer-family               |22         |null         |null      |275        |\n",
      "|133753|amazon-sumerian                   |21         |51343627     |51343626  |276        |\n",
      "|138622|aws-fsx-windows                   |21         |63923793     |63923792  |277        |\n",
      "|147078|aws-mediapackage                  |20         |63913432     |63913431  |278        |\n",
      "|149549|aws-deeplens                      |20         |66192979     |66192978  |279        |\n",
      "|129351|amazon-dms                        |19         |47003856     |47003855  |280        |\n",
      "|132947|aws-lambda-go                     |19         |null         |null      |281        |\n",
      "|134822|aws-elastictranscoder             |19         |null         |null      |282        |\n",
      "|142290|amazon-kendra                     |19         |59763275     |59763274  |283        |\n",
      "|144998|amazon-s3-access-points           |19         |null         |null      |284        |\n",
      "|127457|aws-resource-group                |18         |null         |null      |285        |\n",
      "|146373|aws-global-accelerator            |18         |65276947     |65276946  |286        |\n",
      "|147236|amazon-guardduty                  |18         |64056189     |64056188  |287        |\n",
      "|148636|amazon-certificate-manager        |18         |null         |null      |288        |\n",
      "|151961|aws-route-table                   |18         |null         |null      |289        |\n",
      "|153098|aws-copilot                       |18         |69468222     |69468221  |290        |\n",
      "|155511|amazon-glue                       |18         |null         |null      |291        |\n",
      "|74988 |amazon-silk                       |18         |12324534     |12324533  |292        |\n",
      "|129269|amazon-ec2-spot-market            |17         |null         |null      |293        |\n",
      "|131030|amazon-workdocs                   |17         |48721783     |48721782  |294        |\n",
      "|138387|aws-iam-authenticator             |17         |null         |null      |295        |\n",
      "|138745|amazon-translate                  |17         |56556852     |56556851  |296        |\n",
      "|153708|aws-identitypools                 |17         |null         |null      |297        |\n",
      "|154086|aws-databrew                      |17         |70350656     |70350655  |298        |\n",
      "|147077|aws-mediaservices                 |16         |63913369     |63913368  |299        |\n",
      "|155275|aws-glue3.0                       |16         |null         |null      |300        |\n",
      "|159062|aws-sdk-rust                      |16         |74563497     |74563496  |301        |\n",
      "|142021|amazon-ion                        |15         |59570737     |59570736  |302        |\n",
      "|144784|aws-jwt-authorizer                |15         |null         |null      |303        |\n",
      "|147076|aws-mediastore                    |15         |63913344     |63913343  |304        |\n",
      "|151960|aws-site-to-site                  |15         |null         |null      |305        |\n",
      "|118982|aws-ios                           |14         |null         |null      |306        |\n",
      "|136895|aws-landing-zone                  |14         |54647163     |54647162  |307        |\n",
      "|141799|aws-sftp                          |14         |null         |null      |308        |\n",
      "|142978|amazon-inspector                  |14         |60329978     |60329977  |309        |\n",
      "|157939|amazon-sagemaker-debugger         |14         |null         |null      |310        |\n",
      "|116974|amazon-clouddrive                 |13         |34658255     |34658254  |311        |\n",
      "|117477|amazonica                         |13         |35108145     |35108144  |312        |\n",
      "|126452|amazon-acl                        |13         |44226460     |44226459  |313        |\n",
      "|152877|amazon-ecr-public                 |13         |69275066     |69275065  |314        |\n",
      "|128783|amazon-macie                      |12         |46419601     |46419600  |315        |\n",
      "|154384|amazon-memory-db                  |12         |70616338     |70616337  |316        |\n",
      "|158019|aws-s3-client                     |12         |null         |null      |317        |\n",
      "|158168|aws-cdk-typescript                |12         |null         |null      |318        |\n",
      "|142636|aws-amplify-vue                   |11         |60046666     |60046665  |319        |\n",
      "|153651|aws-acm-certificate               |11         |null         |null      |320        |\n",
      "|134237|aws-sdk-android                   |10         |null         |null      |321        |\n",
      "|136514|aws-mediatailor                   |10         |54264640     |54264639  |322        |\n",
      "|150661|amazon-transcribe                 |10         |null         |null      |323        |\n",
      "|152492|awscognitotoken                   |10         |null         |null      |324        |\n",
      "|154164|aws.s3                            |10         |null         |null      |325        |\n",
      "|134127|amazon-fba                        |9          |null         |null      |326        |\n",
      "|113306|amazon-directory-services         |8          |31385582     |31385581  |327        |\n",
      "|126043|aws-snowball                      |8          |43577191     |43577190  |328        |\n",
      "|149039|aws-cdk-context                   |8          |null         |null      |329        |\n",
      "|152114|aws-automation                    |8          |null         |null      |330        |\n",
      "|152470|amazon-linux-extras               |8          |71857933     |71857932  |331        |\n",
      "|158256|amazon-sagemaker-compilers        |8          |null         |null      |332        |\n",
      "|80097 |aws-lib                           |8          |10513430     |10513429  |333        |\n",
      "|124760|aws-shell                         |7          |42297642     |42297641  |334        |\n",
      "|129685|aws-redshift                      |7          |47282354     |47282353  |335        |\n",
      "|133551|aws-visual-studio-toolkit         |7          |null         |null      |336        |\n",
      "|136595|aws-nuke                          |7          |54301243     |54301242  |337        |\n",
      "|152978|aws-iot-sitewise                  |7          |null         |null      |338        |\n",
      "|101895|aws4c                             |6          |null         |null      |339        |\n",
      "|127537|aws-vm-import                     |6          |null         |null      |340        |\n",
      "|130106|amazon-echo-show                  |6          |null         |null      |341        |\n",
      "|147574|aws-iot-events                    |6          |null         |null      |342        |\n",
      "|149852|amazon-parallelcluster            |6          |null         |null      |343        |\n",
      "|150992|aws-emr-studio                    |6          |null         |null      |344        |\n",
      "|152647|aws-asg                           |6          |null         |null      |345        |\n",
      "|154065|amazon-billing                    |6          |70408267     |70408266  |346        |\n",
      "|155778|amazon-imagebuilder               |6          |null         |null      |347        |\n",
      "|155964|aws-scp                           |6          |null         |null      |348        |\n",
      "|157558|aws-datastore                     |6          |null         |null      |349        |\n",
      "|158570|amazon-sagemaker-clarify          |6          |null         |null      |350        |\n",
      "|105647|amazon-gamecircle                 |5          |24637104     |24637103  |351        |\n",
      "|111759|amazon-mobile-ads                 |5          |null         |null      |352        |\n",
      "|140885|aws-lambda-puppeteer              |5          |null         |null      |353        |\n",
      "|148579|aws-codeguru                      |5          |null         |null      |354        |\n",
      "|151803|aws-feature-store                 |5          |68353256     |68353255  |355        |\n",
      "|153099|aws-copilot-cli                   |5          |69468231     |69468230  |356        |\n",
      "|155279|amazon-location-service           |5          |71417728     |71417727  |357        |\n",
      "|105248|amazon-firefly                    |4          |24324115     |24324114  |358        |\n",
      "|139076|aws-step-config                   |4          |56874634     |56874633  |359        |\n",
      "|148673|aws-steps                         |4          |66022129     |66022128  |360        |\n",
      "|151896|aws-limits                        |4          |null         |null      |361        |\n",
      "|153464|aws-lambda-integration            |4          |null         |null      |362        |\n",
      "|153479|aws-dax                           |4          |null         |null      |363        |\n",
      "|158653|amazon-product-advertising-api    |4          |null         |null      |364        |\n",
      "|113905|aws-ruby-flow                     |3          |null         |null      |365        |\n",
      "|139346|amazon-kinesis-analytics-sql      |3          |null         |null      |366        |\n",
      "|150982|aws-cdn                           |3          |null         |null      |367        |\n",
      "|153765|aws-fis                           |3          |70488063     |70488062  |368        |\n",
      "|154682|amazon-fargate                    |3          |null         |null      |369        |\n",
      "|157698|amazon-cloudwatch-synthetics      |3          |null         |null      |370        |\n",
      "|157831|aws-ebs-csi-driver                |3          |null         |null      |371        |\n",
      "|158253|amazon-sagemaker-experiments      |3          |null         |null      |372        |\n",
      "|138212|amazon-kinesis-client             |2          |null         |null      |373        |\n",
      "|144125|amazon-drive                      |2          |null         |null      |374        |\n",
      "|145806|amazon-honeycode                  |2          |62764928     |62764927  |375        |\n",
      "|147079|aws-mediaconnect                  |2          |63913470     |63913469  |376        |\n",
      "|150243|aws-iot-jobs                      |2          |null         |null      |377        |\n",
      "|151823|awstimestamp                      |2          |null         |null      |378        |\n",
      "|153186|amazon-dynamodb-global            |2          |null         |null      |379        |\n",
      "|154550|aws-rails-provisioner             |2          |null         |null      |380        |\n",
      "|156682|aws-govcloud                      |2          |null         |null      |381        |\n",
      "|156858|aws4auth                          |2          |null         |null      |382        |\n",
      "|157400|amazon-ecs-sidecar                |2          |null         |null      |383        |\n",
      "|158502|aws-vault                         |2          |null         |null      |384        |\n",
      "|158556|aws-azure-login                   |2          |null         |null      |385        |\n",
      "|158654|amazon-paapi                      |2          |null         |null      |386        |\n",
      "|158697|amazon-sagemaker-neo              |2          |null         |null      |387        |\n",
      "|158954|aws-service-quotas                |2          |74473823     |74473822  |388        |\n",
      "|156738|aws-secretsmanager-caching-python |1          |null         |null      |389        |\n",
      "|157464|aws-cloudformation-macro          |1          |null         |null      |390        |\n",
      "|157649|aws-application-discovery-agent   |1          |null         |null      |391        |\n",
      "|158252|amazon-sagemaker-profiler-debugger|1          |null         |null      |392        |\n",
      "|158257|amazon-sagemaker-model-servers    |1          |null         |null      |393        |\n",
      "|158511|amazon-braket                     |1          |null         |null      |394        |\n",
      "|158698|aws-arn                           |1          |null         |null      |395        |\n",
      "|158818|aws-deepracer                     |1          |null         |null      |396        |\n",
      "|159107|awssecretsmanagerpostgresqldriver |1          |null         |null      |397        |\n",
      "+------+----------------------------------+-----------+-------------+----------+-----------+\n",
      "\n"
     ]
    },
    {
     "name": "stderr",
     "output_type": "stream",
     "text": [
      "\r",
      "                                                                                \r"
     ]
    }
   ],
   "source": [
    "df_tags_with_amazon_with_rank.show(n, truncate=False)"
   ]
  },
  {
   "cell_type": "code",
   "execution_count": 172,
   "id": "8ac1a753",
   "metadata": {},
   "outputs": [
    {
     "name": "stderr",
     "output_type": "stream",
     "text": [
      "23/03/13 19:27:12 WARN WindowExec: No Partition Defined for Window operation! Moving all data to a single partition, this can cause serious performance degradation.\n",
      "23/03/13 19:27:12 WARN WindowExec: No Partition Defined for Window operation! Moving all data to a single partition, this can cause serious performance degradation.\n",
      "23/03/13 19:27:14 WARN WindowExec: No Partition Defined for Window operation! Moving all data to a single partition, this can cause serious performance degradation.\n",
      "23/03/13 19:27:14 WARN WindowExec: No Partition Defined for Window operation! Moving all data to a single partition, this can cause serious performance degradation.\n",
      "23/03/13 19:27:14 WARN WindowExec: No Partition Defined for Window operation! Moving all data to a single partition, this can cause serious performance degradation.\n",
      "23/03/13 19:27:14 WARN WindowExec: No Partition Defined for Window operation! Moving all data to a single partition, this can cause serious performance degradation.\n",
      "                                                                                \r"
     ]
    }
   ],
   "source": [
    "\n",
    "# Dataset path \n",
    "output_bucket = 's3://stackoverflow-dataset-2023/dataset/query_results/'\n",
    "output_folder_name = f\"{output_bucket}/01_Most_Popular_Service_tagCount\"\n",
    "\n",
    "df_tags_with_amazon_with_rank.repartition(1) \\\n",
    "                            .write \\\n",
    "                            .format('csv') \\\n",
    "                            .option('header', True) \\\n",
    "                            .mode('overwrite') \\\n",
    "                            .save(output_folder_name)"
   ]
  },
  {
   "cell_type": "code",
   "execution_count": null,
   "id": "52b1b88c",
   "metadata": {},
   "outputs": [],
   "source": []
  },
  {
   "cell_type": "markdown",
   "id": "df49fc2f",
   "metadata": {},
   "source": [
    "### Q2: `Posthistory` and `Tags` "
   ]
  },
  {
   "cell_type": "code",
   "execution_count": 90,
   "id": "de6a799a",
   "metadata": {
    "scrolled": true
   },
   "outputs": [
    {
     "name": "stderr",
     "output_type": "stream",
     "text": [
      "[Stage 135:>                                                        (0 + 1) / 1]\r"
     ]
    },
    {
     "name": "stdout",
     "output_type": "stream",
     "text": [
      "+---------+-----------------+--------+--------------------+--------------------+------+----------------+--------------------+--------------------+--------------+\n",
      "|       Id|PostHistoryTypeId|  PostId|        RevisionGUID|        CreationDate|UserId| UserDisplayName|             Comment|                Text|ContentLicense|\n",
      "+---------+-----------------+--------+--------------------+--------------------+------+----------------+--------------------+--------------------+--------------+\n",
      "|146175008|                5|42248528|ebad5287-e4ae-454...|2017-05-23 10:29:...|  null|URL Rewriter Bot|replaced http://s...|## Background ##&...|  CC BY-SA 3.0|\n",
      "|146175009|                5| 2176210|0aa181ad-5b55-40d...|2017-05-23 10:29:...|  null|URL Rewriter Bot|replaced http://s...|You are fetching ...|  CC BY-SA 3.0|\n",
      "|146175010|                5| 1031042|c860038f-254c-483...|2017-05-23 10:29:...|  null|URL Rewriter Bot|replaced http://s...|A bit more specif...|  CC BY-SA 3.0|\n",
      "|146175011|                5|35979640|274be6d6-b708-461...|2017-05-23 10:29:...|  null|URL Rewriter Bot|replaced http://s...|Try doing:&#xA;&#...|  CC BY-SA 3.0|\n",
      "|146175012|                5|42277696|ef3468cf-b96b-429...|2017-05-23 10:29:...|  null|URL Rewriter Bot|replaced http://s...|I can display the...|  CC BY-SA 3.0|\n",
      "+---------+-----------------+--------+--------------------+--------------------+------+----------------+--------------------+--------------------+--------------+\n",
      "only showing top 5 rows\n",
      "\n"
     ]
    },
    {
     "name": "stderr",
     "output_type": "stream",
     "text": [
      "\r",
      "                                                                                \r"
     ]
    }
   ],
   "source": [
    "df_post_history.show(5)"
   ]
  },
  {
   "cell_type": "code",
   "execution_count": 190,
   "id": "77ef633d",
   "metadata": {},
   "outputs": [],
   "source": [
    "df_post_history = df_post_history.drop('RevisionGUID', 'UserId', 'UserDisplayName','ContentLicense')"
   ]
  },
  {
   "cell_type": "code",
   "execution_count": 178,
   "id": "21e0499a",
   "metadata": {},
   "outputs": [
    {
     "name": "stderr",
     "output_type": "stream",
     "text": [
      "[Stage 248:====================================================>(474 + 1) / 475]\r"
     ]
    },
    {
     "name": "stdout",
     "output_type": "stream",
     "text": [
      "+-----------------+--------+\n",
      "|PostHistoryTypeId|   count|\n",
      "+-----------------+--------+\n",
      "|                2|44652246|\n",
      "|                5|26071104|\n",
      "|                1|17433109|\n",
      "|                3|17416584|\n",
      "|                6| 3715289|\n",
      "|               24| 2878366|\n",
      "|                4| 2688549|\n",
      "|               10|  793338|\n",
      "|               13|  371647|\n",
      "|               12|  366970|\n",
      "|               33|  180070|\n",
      "|               34|  178925|\n",
      "|                8|  115613|\n",
      "|               16|  110856|\n",
      "|               50|  107951|\n",
      "|               11|   50866|\n",
      "|               19|   34702|\n",
      "|                7|   25880|\n",
      "|               36|   23492|\n",
      "|                9|   21029|\n",
      "+-----------------+--------+\n",
      "only showing top 20 rows\n",
      "\n"
     ]
    },
    {
     "name": "stderr",
     "output_type": "stream",
     "text": [
      "\r",
      "                                                                                \r"
     ]
    }
   ],
   "source": [
    "# No. of questions based on PostType\n",
    "\n",
    "df_post_history.groupBy(F.col('PostHistoryTypeId')).count().orderBy(F.desc(\"count\")).show()"
   ]
  },
  {
   "cell_type": "raw",
   "id": "37b56057",
   "metadata": {},
   "source": [
    "# Filtering POSTs only for New Title and Modified Title (Questions ONLY)\n",
    "==================\n",
    "PostHistoryTypeId\n",
    "==================\n",
    "**1 = Initial Title - initial title (questions only)**\n",
    "2 = Initial Body - initial post raw body text\n",
    "3 = Initial Tags - initial list of tags (questions only)\n",
    "**4 = Edit Title - modified title (questions only)**\n",
    "5 = Edit Body - modified post body (raw markdown)\n",
    "6 = Edit Tags - modified list of tags (questions only)\n",
    "7 = Rollback Title - reverted title (questions only)\n",
    "8 = Rollback Body - reverted body (raw markdown)\n",
    "9 = Rollback Tags - reverted list of tags (questions only)\n",
    "10 = Post Closed - post voted to be closed\n",
    "11 = Post Reopened - post voted to be reopened\n",
    "12 = Post Deleted - post voted to be removed\n",
    "13 = Post Undeleted - post voted to be restored\n",
    "14 = Post Locked - post locked by moderator\n",
    "15 = Post Unlocked - post unlocked by moderator\n",
    "16 = Community Owned - post now community owned\n",
    "17 = Post Migrated - post migrated - now replaced by 35/36 (away/here)\n",
    "18 = Question Merged - question merged with deleted question\n",
    "19 = Question Protected - question was protected by a moderator.\n",
    "20 = Question Unprotected - question was unprotected by a moderator.\n",
    "21 = Post Disassociated - OwnerUserId removed from post by admin\n",
    "22 = Question Unmerged - answers/votes restored to previously merged question\n",
    "24 = Suggested Edit Applied\n",
    "25 = Post Tweeted\n",
    "31 = Comment discussion moved to chat\n",
    "33 = Post notice added - comment contains foreign key to PostNotices\n",
    "34 = Post notice removed - comment contains foreign key to PostNotices\n",
    "35 = Post migrated away - replaces id 17\n",
    "36 = Post migrated here - replaces id 17\n",
    "37 = Post merge source\n",
    "38 = Post merge destination\n",
    "50 = Bumped by Community User\n",
    "52 = Question became hot network question (main) / Hot Meta question (meta)\n",
    "53 = Question removed from hot network/meta questions by a moderator"
   ]
  },
  {
   "cell_type": "code",
   "execution_count": 179,
   "id": "5d1c3e5e",
   "metadata": {},
   "outputs": [],
   "source": [
    "df_post_history_filtered = df_post_history.filter(F.col(\"PostHistoryTypeId\") \\\n",
    "                                           .isin([1, 4]))"
   ]
  },
  {
   "cell_type": "code",
   "execution_count": 180,
   "id": "91490caf",
   "metadata": {},
   "outputs": [
    {
     "name": "stderr",
     "output_type": "stream",
     "text": [
      "\r",
      "[Stage 251:>                                                        (0 + 1) / 1]\r"
     ]
    },
    {
     "name": "stdout",
     "output_type": "stream",
     "text": [
      "+---------+-----------------+--------+--------------------+-------+--------------------+\n",
      "|       Id|PostHistoryTypeId|  PostId|        CreationDate|Comment|                Text|\n",
      "+---------+-----------------+--------+--------------------+-------+--------------------+\n",
      "|146175423|                1|44132268|2017-05-23 10:29:...|   null|How to properly a...|\n",
      "|146177276|                1|44132271|2017-05-23 10:29:...|   null|Unknown pattern c...|\n",
      "|146181789|                1|44132274|2017-05-23 10:29:...|   null|write data to tex...|\n",
      "|146184521|                1|44132277|2017-05-23 10:30:...|   null|SQL How to select...|\n",
      "|146191028|                1|44132280|2017-05-23 10:30:...|   null|NumberFormatExcep...|\n",
      "+---------+-----------------+--------+--------------------+-------+--------------------+\n",
      "only showing top 5 rows\n",
      "\n"
     ]
    },
    {
     "name": "stderr",
     "output_type": "stream",
     "text": [
      "\r",
      "                                                                                \r"
     ]
    }
   ],
   "source": [
    "df_post_history_filtered.show(5)"
   ]
  },
  {
   "cell_type": "code",
   "execution_count": 191,
   "id": "77bb5972",
   "metadata": {},
   "outputs": [],
   "source": [
    "df_post_history_and_tags = df_post_history.join(df_tags_with_amazon, \n",
    "                                                df_post_history.Id == df_tags_with_amazon.ExcerptPostId) "
   ]
  },
  {
   "cell_type": "code",
   "execution_count": 192,
   "id": "547cb897",
   "metadata": {},
   "outputs": [],
   "source": [
    "df_post_history_and_tags = df_post_history_filtered.join(df_tags_with_amazon.drop('Id'),\n",
    "                                                         df_tags_with_amazon.ExcerptPostId == df_post_history_filtered.Id)"
   ]
  },
  {
   "cell_type": "code",
   "execution_count": null,
   "id": "a8f29013",
   "metadata": {},
   "outputs": [],
   "source": [
    "df_post_history_and_tags = df_tags_with_amazon.join(df_post_history_filtered.drop('Id'),\n",
    "                                                         df_tags_with_amazon.ExcerptPostId == df_post_history_filtered.Id)"
   ]
  },
  {
   "cell_type": "code",
   "execution_count": null,
   "id": "004eac06",
   "metadata": {},
   "outputs": [],
   "source": [
    "df_post_history_filtered"
   ]
  },
  {
   "cell_type": "code",
   "execution_count": null,
   "id": "dfbe3d95",
   "metadata": {},
   "outputs": [],
   "source": []
  },
  {
   "cell_type": "code",
   "execution_count": null,
   "id": "4d215d47",
   "metadata": {},
   "outputs": [],
   "source": []
  },
  {
   "cell_type": "code",
   "execution_count": null,
   "id": "2f0e81c4",
   "metadata": {},
   "outputs": [],
   "source": []
  },
  {
   "cell_type": "code",
   "execution_count": null,
   "id": "65f57184",
   "metadata": {},
   "outputs": [],
   "source": []
  },
  {
   "cell_type": "code",
   "execution_count": null,
   "id": "ab25d02c",
   "metadata": {},
   "outputs": [],
   "source": []
  },
  {
   "cell_type": "markdown",
   "id": "b76d421d",
   "metadata": {},
   "source": [
    "#### Final merged data (`Posthistory` and `Tags`)"
   ]
  },
  {
   "cell_type": "code",
   "execution_count": 112,
   "id": "2b636725",
   "metadata": {},
   "outputs": [],
   "source": [
    "df_post_history_and_tags_merged = df_post_history_and_tags_1 \\\n",
    "                                  .union(df_post_history_and_tags_2)\\\n",
    "                                  .orderBy(F.col('PostId'))\n",
    "                         "
   ]
  },
  {
   "cell_type": "code",
   "execution_count": 115,
   "id": "4c820576",
   "metadata": {
    "collapsed": true
   },
   "outputs": [
    {
     "name": "stderr",
     "output_type": "stream",
     "text": [
      "[Stage 167:====================================================>(949 + 1) / 950]\r"
     ]
    },
    {
     "name": "stdout",
     "output_type": "stream",
     "text": [
      "+--------+-----------------+-------+--------------------+--------------------+-------+---------------+--------------------+--------------------+--------------+-------+------+-------------+----------+\n",
      "|      Id|PostHistoryTypeId| PostId|        RevisionGUID|        CreationDate| UserId|UserDisplayName|             Comment|                Text|ContentLicense|TagName| Count|ExcerptPostId|WikiPostId|\n",
      "+--------+-----------------+-------+--------------------+--------------------+-------+---------------+--------------------+--------------------+--------------+-------+------+-------------+----------+\n",
      "| 7534882|                5|3606997|8ff5db4c-b495-45f...|2010-08-31 07:44:...| 151292|           null|deleted 122 chara...|###New to C++?&#x...|  CC BY-SA 2.5|    c++|783573|      3624963|   3606997|\n",
      "| 7534871|                5|3606997|de0ff197-3eef-48d...|2010-08-31 07:44:...| 168225|           null|added 109 charact...|##External FAQs&#...|  CC BY-SA 2.5|    c++|783573|      3624963|   3606997|\n",
      "| 7534869|                2|3606997|2eebe7f5-954d-41f...|2010-07-22 13:36:...| 168225|           null|                null|##External FAQs&#...|  CC BY-SA 2.5|    c++|783573|      3624963|   3606997|\n",
      "|20992432|               24|3606997|4d3266bc-ebcb-4a6...|2012-02-12 18:18:...|   null|           null|Proposed by 12045...|                null|  CC BY-SA 3.0|    c++|783573|      3624963|   3606997|\n",
      "|21822374|                5|3606997|f1cb3055-e353-4dd...|2012-03-06 12:50:...|  46642|           null|added 29 characte...|## New to C++?&#x...|  CC BY-SA 3.0|    c++|783573|      3624963|   3606997|\n",
      "| 7534873|                5|3606997|aafcc6d1-b178-4a9...|2010-08-31 07:44:...| 151292|           null|added 114 charact...|##External FAQs&#...|  CC BY-SA 2.5|    c++|783573|      3624963|   3606997|\n",
      "| 7534875|                5|3606997|8abc11d4-f52f-4c0...| 2010-08-31 07:44:35| 168225|           null|added 82 characte...|##External FAQs&#...|  CC BY-SA 2.5|    c++|783573|      3624963|   3606997|\n",
      "| 8491406|                5|3606997|5a8110be-1a12-498...|2010-10-27 22:06:...|  87234|           null|         edited body|&lt;sup&gt;[Above...|  CC BY-SA 2.5|    c++|783573|      3624963|   3606997|\n",
      "|20992431|                5|3606997|4d3266bc-ebcb-4a6...|2012-02-12 18:18:...|1204507|           null|Added an interest...|### New to C++?&#...|  CC BY-SA 3.0|    c++|783573|      3624963|   3606997|\n",
      "|21973173|                5|3606997|24d2b57a-6282-46b...|2012-03-09 06:11:...|1312147|           null|added 1718 charac...|##Etymology&#xD;&...|  CC BY-SA 3.0|    c++|783573|      3624963|   3606997|\n",
      "|21973174|               24|3606997|24d2b57a-6282-46b...|2012-03-09 06:11:...|   null|           null|Proposed by 12089...|                null|  CC BY-SA 3.0|    c++|783573|      3624963|   3606997|\n",
      "| 9804551|                5|3606997|403ceec3-a812-443...|2011-01-09 02:05:...| 478288|           null|Added link to cpl...|&lt;sup&gt;[Above...|  CC BY-SA 2.5|    c++|783573|      3624963|   3606997|\n",
      "| 8470041|                5|3606997|257da6ca-f7e2-4b5...|2010-10-26 22:17:...|  87234|           null|    Chat basic info.|&lt;sup&gt;[Above...|  CC BY-SA 2.5|    c++|783573|      3624963|   3606997|\n",
      "|17572311|                5|3606997|2d31da1c-9cb2-468...|2011-10-26 16:43:...| 140719|           null|0x ==&gt; 11; add...|&lt;sup&gt;[Above...|  CC BY-SA 3.0|    c++|783573|      3624963|   3606997|\n",
      "| 8843704|                5|3606997|52352b68-1b67-4a2...|2010-11-16 21:24:...| 140719|           null|added 185 charact...|&lt;sup&gt;[Above...|  CC BY-SA 2.5|    c++|783573|      3624963|   3606997|\n",
      "| 8536674|                5|3606997|1b97ffe5-84a0-4f2...|2010-10-30 12:42:...|   null|   Mads Elvheim|Specified that th...|&lt;sup&gt;[Above...|  CC BY-SA 2.5|    c++|783573|      3624963|   3606997|\n",
      "| 8470099|                5|3606997|e6cf12bb-0631-486...|2010-10-26 22:21:...|   null|     Roger Pate|added 141 charact...|&lt;sup&gt;[Above...|  CC BY-SA 2.5|    c++|783573|      3624963|   3606997|\n",
      "| 8765055|                5|3606997|2bec1b10-b7d7-4ec...|2010-11-12 09:15:...| 442284|           null|added 511 charact...|&lt;sup&gt;[Above...|  CC BY-SA 2.5|    c++|783573|      3624963|   3606997|\n",
      "|21213737|                5|3606997|66da9397-15ba-4a6...|2012-02-18 10:23:...| 597607|           null|added 16 characte...|## New to C++?&#x...|  CC BY-SA 3.0|    c++|783573|      3624963|   3606997|\n",
      "| 7721408|                5|3606997|642d705a-21ce-4f1...|2010-09-11 13:01:...|   null|     Roger Pate|That &quot;list o...|&lt;sup&gt;[Above...|  CC BY-SA 2.5|    c++|783573|      3624963|   3606997|\n",
      "+--------+-----------------+-------+--------------------+--------------------+-------+---------------+--------------------+--------------------+--------------+-------+------+-------------+----------+\n",
      "only showing top 20 rows\n",
      "\n"
     ]
    },
    {
     "name": "stderr",
     "output_type": "stream",
     "text": [
      "\r",
      "                                                                                \r"
     ]
    }
   ],
   "source": [
    "df_post_history_and_tags_merged.show()"
   ]
  },
  {
   "cell_type": "code",
   "execution_count": 116,
   "id": "5878f07d",
   "metadata": {},
   "outputs": [
    {
     "name": "stdout",
     "output_type": "stream",
     "text": [
      "root\n",
      " |-- Id: integer (nullable = true)\n",
      " |-- PostHistoryTypeId: integer (nullable = true)\n",
      " |-- PostId: integer (nullable = true)\n",
      " |-- RevisionGUID: string (nullable = true)\n",
      " |-- CreationDate: timestamp (nullable = true)\n",
      " |-- UserId: integer (nullable = true)\n",
      " |-- UserDisplayName: string (nullable = true)\n",
      " |-- Comment: string (nullable = true)\n",
      " |-- Text: string (nullable = true)\n",
      " |-- ContentLicense: string (nullable = true)\n",
      " |-- TagName: string (nullable = true)\n",
      " |-- Count: integer (nullable = true)\n",
      " |-- ExcerptPostId: integer (nullable = true)\n",
      " |-- WikiPostId: integer (nullable = true)\n",
      "\n"
     ]
    }
   ],
   "source": [
    "df_post_history_and_tags_merged.printSchema()"
   ]
  },
  {
   "cell_type": "code",
   "execution_count": 122,
   "id": "f1e4deb2",
   "metadata": {},
   "outputs": [],
   "source": []
  },
  {
   "cell_type": "code",
   "execution_count": 124,
   "id": "18cd545e",
   "metadata": {},
   "outputs": [
    {
     "name": "stderr",
     "output_type": "stream",
     "text": [
      "[Stage 182:====================================================>(949 + 1) / 950]\r"
     ]
    },
    {
     "name": "stdout",
     "output_type": "stream",
     "text": [
      "+--------+----------+--------------------+-------------------+--------------------+\n",
      "|  PostId|      Date|             Comment|            TagName|                Text|\n",
      "+--------+----------+--------------------+-------------------+--------------------+\n",
      "|56874634|2019-07-03|added 98 characte...|    aws-step-config|`StepConfig` : Sp...|\n",
      "|56874633|2019-07-03|added 219 charact...|    aws-step-config|                null|\n",
      "|56874633|2019-07-03|added 219 charact...|    aws-step-config|&#xD;&#xA;&#xD;&#...|\n",
      "|56874634|2019-07-03|added 98 characte...|    aws-step-config|                null|\n",
      "|43577346|2019-06-26|added 48 characte...|  amazon-quicksight|Amazon QuickSight...|\n",
      "|43577346|2019-06-26|remove plagiarise...|  amazon-quicksight|                    |\n",
      "|43577346|2019-06-26|Rollback to [0736...|  amazon-quicksight|Amazon QuickSight...|\n",
      "|43577346|2019-06-26|remove plagiarise...|  amazon-quicksight|&lt;!-- previous ...|\n",
      "|47639438|2019-06-24|Proposed by 73041...|        aws-fargate|                null|\n",
      "|47639438|2019-06-24|improved descript...|        aws-fargate|AWS Fargate is a ...|\n",
      "| 5926595|2019-06-23|Rollback to [eb1d...|         amazon-sns|Amazon Simple Not...|\n",
      "|56702275|2019-06-22|added 231 charact...|amazonsellercentral|Amazon Seller Cen...|\n",
      "|56702275|2019-06-22|Proposed by 68322...|amazonsellercentral|                null|\n",
      "|56655040|2019-06-21|added 97 characte...|  amazon-timestream|Use this tag for ...|\n",
      "|56655040|2019-06-21|Proposed by 34161...|  amazon-timestream|                null|\n",
      "|56654781|2019-06-20|Added info on the...|        amazon-qldb|For use when aski...|\n",
      "|56654781|2019-06-20|Proposed by 34161...|        amazon-qldb|                null|\n",
      "|56654780|2019-06-19|Added info on the...|        amazon-qldb|Amazon QLDB is a ...|\n",
      "|56654780|2019-06-19|Proposed by 34161...|        amazon-qldb|                null|\n",
      "|54666983|2019-06-18|deleted 21 charac...|        aws-billing|Use for programmi...|\n",
      "+--------+----------+--------------------+-------------------+--------------------+\n",
      "only showing top 20 rows\n",
      "\n"
     ]
    },
    {
     "name": "stderr",
     "output_type": "stream",
     "text": [
      "\r",
      "                                                                                \r"
     ]
    }
   ],
   "source": [
    "# All posts with AWS/Amazon Tag \n",
    "list_of_keywords = ['AWS', 'amazon', 'Amazon', 'amz']\n",
    "\n",
    "# List of cols to be printed\n",
    "my_cols = ['PostId', F.date_format(F.col('CreationDate'), 'yyyy-MM-dd').alias('Date'), 'Comment', 'TagName', 'Text']\n",
    "\n",
    "df_post_history_and_tags_merged.select(*my_cols) \\\n",
    "                               .filter(F.col('Comment').isNotNull()) \\\n",
    "                               .filter(F.col(\"TagName\").startswith('aws') |\n",
    "                                       F.col(\"TagName\").startswith('amazon') |\n",
    "                                       F.col(\"TagName\").isin(list_of_keywords)) \\\n",
    "                               .orderBy(F.desc(F.col('Date'))) \\\n",
    "                               .show()"
   ]
  },
  {
   "cell_type": "markdown",
   "id": "996e8bd5",
   "metadata": {},
   "source": [
    "#### Saving the merged data in S3"
   ]
  },
  {
   "cell_type": "code",
   "execution_count": 113,
   "id": "3b8a3232",
   "metadata": {},
   "outputs": [],
   "source": [
    "# Dataset path \n",
    "output_bucket = 's3://stackoverflow-dataset-2023/dataset/raw-processed/merged/'\n",
    "output_folder_name = f\"{output_bucket}/PostHistory-and-Tags-parquet\""
   ]
  },
  {
   "cell_type": "code",
   "execution_count": 114,
   "id": "48d5afe4",
   "metadata": {},
   "outputs": [
    {
     "name": "stderr",
     "output_type": "stream",
     "text": [
      "                                                                                \r"
     ]
    }
   ],
   "source": [
    "df_post_history_and_tags_merged.write \\\n",
    "      .format('parquet') \\\n",
    "      .option('header', True) \\\n",
    "      .mode('overwrite') \\\n",
    "      .save(output_folder_name)"
   ]
  },
  {
   "cell_type": "code",
   "execution_count": null,
   "id": "5fc905f6",
   "metadata": {},
   "outputs": [],
   "source": []
  },
  {
   "cell_type": "markdown",
   "id": "7174a88d",
   "metadata": {},
   "source": [
    "### Q3: `Votes` and  `Posthistory` and `Tags`"
   ]
  },
  {
   "cell_type": "code",
   "execution_count": null,
   "id": "683990e7",
   "metadata": {},
   "outputs": [],
   "source": []
  }
 ],
 "metadata": {
  "kernelspec": {
   "display_name": "Python 3 (ipykernel)",
   "language": "python",
   "name": "python3"
  },
  "language_info": {
   "codemirror_mode": {
    "name": "ipython",
    "version": 3
   },
   "file_extension": ".py",
   "mimetype": "text/x-python",
   "name": "python",
   "nbconvert_exporter": "python",
   "pygments_lexer": "ipython3",
   "version": "3.7.16"
  }
 },
 "nbformat": 4,
 "nbformat_minor": 5
}
