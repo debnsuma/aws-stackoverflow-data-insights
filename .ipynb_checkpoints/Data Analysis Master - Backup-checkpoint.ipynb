{
 "cells": [
  {
   "cell_type": "code",
   "execution_count": 1,
   "id": "12e718ab",
   "metadata": {
    "slideshow": {
     "slide_type": "subslide"
    }
   },
   "outputs": [
    {
     "data": {
      "text/html": [
       "\n",
       "            <div>\n",
       "                <p><b>SparkSession - hive</b></p>\n",
       "                \n",
       "        <div>\n",
       "            <p><b>SparkContext</b></p>\n",
       "\n",
       "            <p><a href=\"http://ip-172-31-2-35.us-east-2.compute.internal:4040\">Spark UI</a></p>\n",
       "\n",
       "            <dl>\n",
       "              <dt>Version</dt>\n",
       "                <dd><code>v3.3.0-amzn-1</code></dd>\n",
       "              <dt>Master</dt>\n",
       "                <dd><code>yarn</code></dd>\n",
       "              <dt>AppName</dt>\n",
       "                <dd><code>PySparkShell</code></dd>\n",
       "            </dl>\n",
       "        </div>\n",
       "        \n",
       "            </div>\n",
       "        "
      ],
      "text/plain": [
       "<pyspark.sql.session.SparkSession at 0x7f16b0157b10>"
      ]
     },
     "execution_count": 1,
     "metadata": {},
     "output_type": "execute_result"
    }
   ],
   "source": [
    "spark"
   ]
  },
  {
   "cell_type": "code",
   "execution_count": 7,
   "id": "0c76ea50",
   "metadata": {},
   "outputs": [],
   "source": [
    "import pyspark.sql.functions as F\n",
    "import pyspark.sql.window as W"
   ]
  },
  {
   "cell_type": "markdown",
   "id": "0c584a94",
   "metadata": {
    "slideshow": {
     "slide_type": "slide"
    }
   },
   "source": [
    "# Loading the Data "
   ]
  },
  {
   "cell_type": "code",
   "execution_count": 8,
   "id": "2805d135",
   "metadata": {
    "slideshow": {
     "slide_type": "slide"
    }
   },
   "outputs": [],
   "source": [
    "# Dataset path \n",
    "dataset_bucket = 's3://stackoverflow-dataset-2023/dataset/raw-processed/2023'\n",
    "\n",
    "# All folders \n",
    "votes_dataset_file = f\"{dataset_bucket}/Votes-parquet\"\n",
    "badges_dataset_file = f\"{dataset_bucket}/Badges-parquet\"\n",
    "comments_dataset_file = f\"{dataset_bucket}/Comments-parquet\"\n",
    "post_history_dataset_file = f\"{dataset_bucket}/PostHistory-parquet\"\n",
    "post_dataset_file = f\"{dataset_bucket}/Post-parquet\"\n",
    "tags_dataset_file = f\"{dataset_bucket}/Tags-parquet\"\n",
    "users_dataset_file = f\"{dataset_bucket}/Users-parquet\"\n"
   ]
  },
  {
   "cell_type": "code",
   "execution_count": 9,
   "id": "64d3ffa4",
   "metadata": {
    "slideshow": {
     "slide_type": "slide"
    }
   },
   "outputs": [
    {
     "name": "stderr",
     "output_type": "stream",
     "text": [
      "                                                                                \r"
     ]
    }
   ],
   "source": [
    "# Votes\n",
    "df_votes = spark.read \\\n",
    "         .option(\"header\", True) \\\n",
    "         .option(\"inferSchema\", True) \\\n",
    "         .parquet(votes_dataset_file)\n",
    "\n",
    "# Badges\n",
    "df_badges = spark.read \\\n",
    "         .option(\"header\", True) \\\n",
    "         .option(\"inferSchema\", True) \\\n",
    "         .parquet(badges_dataset_file)\n",
    "\n",
    "# Comments\n",
    "df_comments = spark.read \\\n",
    "         .option(\"header\", True) \\\n",
    "         .option(\"inferSchema\", True) \\\n",
    "         .parquet(comments_dataset_file)\n",
    "\n",
    "# PostHistory \n",
    "df_post_history = spark.read \\\n",
    "         .option(\"header\", True) \\\n",
    "         .option(\"inferSchema\", True) \\\n",
    "         .parquet(post_history_dataset_file)\n",
    "\n",
    "# Post\n",
    "df_post = spark.read \\\n",
    "         .option(\"header\", True) \\\n",
    "         .option(\"inferSchema\", True) \\\n",
    "         .parquet(post_dataset_file)\n",
    "\n",
    "# Tags\n",
    "df_tags = spark.read \\\n",
    "         .option(\"header\", True) \\\n",
    "         .option(\"inferSchema\", True) \\\n",
    "         .parquet(tags_dataset_file)\n",
    "\n",
    "# Users\n",
    "df_users = spark.read \\\n",
    "         .option(\"header\", True) \\\n",
    "         .option(\"inferSchema\", True) \\\n",
    "         .parquet(users_dataset_file)"
   ]
  },
  {
   "cell_type": "markdown",
   "id": "aaa365e2",
   "metadata": {
    "slideshow": {
     "slide_type": "slide"
    }
   },
   "source": [
    "# Validating the `loaded` Data"
   ]
  },
  {
   "cell_type": "markdown",
   "id": "10f791e6",
   "metadata": {
    "slideshow": {
     "slide_type": "slide"
    }
   },
   "source": [
    "## 1. `Votes` Data "
   ]
  },
  {
   "cell_type": "code",
   "execution_count": 10,
   "id": "ff5b031c",
   "metadata": {
    "slideshow": {
     "slide_type": "slide"
    }
   },
   "outputs": [
    {
     "name": "stderr",
     "output_type": "stream",
     "text": [
      "[Stage 14:=============================================>          (21 + 5) / 26]\r"
     ]
    },
    {
     "name": "stdout",
     "output_type": "stream",
     "text": [
      "No. of Records in the Votes table : 228077281\n"
     ]
    },
    {
     "name": "stderr",
     "output_type": "stream",
     "text": [
      "\r",
      "                                                                                \r"
     ]
    }
   ],
   "source": [
    "print(f\"No. of Records in the Votes table : {df_votes.count()}\")"
   ]
  },
  {
   "cell_type": "code",
   "execution_count": 11,
   "id": "119aee11",
   "metadata": {
    "slideshow": {
     "slide_type": "slide"
    }
   },
   "outputs": [
    {
     "name": "stderr",
     "output_type": "stream",
     "text": [
      "\r",
      "[Stage 17:>                                                         (0 + 1) / 1]\r"
     ]
    },
    {
     "name": "stdout",
     "output_type": "stream",
     "text": [
      "+--------+--------+----------+------+-------+-----+-------------------+-------------+----------+------------+\n",
      "|      Id|  PostId|VoteTypeId|UserId|TagName|Count|       CreationDate|ExcerptPostId|WikiPostId|BountyAmount|\n",
      "+--------+--------+----------+------+-------+-----+-------------------+-------------+----------+------------+\n",
      "|70827674|24502486|         2|  null|   null| null|2014-07-01 00:00:00|         null|      null|        null|\n",
      "|70827675| 7197327|         2|  null|   null| null|2014-07-01 00:00:00|         null|      null|        null|\n",
      "|70827676| 5367068|         2|  null|   null| null|2014-07-01 00:00:00|         null|      null|        null|\n",
      "|70827677|24340423|         2|  null|   null| null|2014-07-01 00:00:00|         null|      null|        null|\n",
      "|70827678|24489826|         1|  null|   null| null|2014-07-01 00:00:00|         null|      null|        null|\n",
      "|70827679|24489826|         2|  null|   null| null|2014-07-01 00:00:00|         null|      null|        null|\n",
      "|70827680|24497012|         2|  null|   null| null|2014-07-01 00:00:00|         null|      null|        null|\n",
      "|70827681|24264316|         2|  null|   null| null|2014-07-01 00:00:00|         null|      null|        null|\n",
      "|70827682|15775603|         3|  null|   null| null|2014-07-01 00:00:00|         null|      null|        null|\n",
      "|70827683|24502485|         2|  null|   null| null|2014-07-01 00:00:00|         null|      null|        null|\n",
      "|70827684|24450153|         2|  null|   null| null|2014-07-01 00:00:00|         null|      null|        null|\n",
      "|70827685| 7216014|         2|  null|   null| null|2014-07-01 00:00:00|         null|      null|        null|\n",
      "|70827687|14880832|         2|  null|   null| null|2014-07-01 00:00:00|         null|      null|        null|\n",
      "|70827688| 6092681|         2|  null|   null| null|2014-07-01 00:00:00|         null|      null|        null|\n",
      "|70827689|14879494|         2|  null|   null| null|2014-07-01 00:00:00|         null|      null|        null|\n",
      "|70827690|16794736|         2|  null|   null| null|2014-07-01 00:00:00|         null|      null|        null|\n",
      "|70827691| 8183609|         2|  null|   null| null|2014-07-01 00:00:00|         null|      null|        null|\n",
      "|70827692|24502454|         2|  null|   null| null|2014-07-01 00:00:00|         null|      null|        null|\n",
      "|70827693| 6854659|         2|  null|   null| null|2014-07-01 00:00:00|         null|      null|        null|\n",
      "|70827694| 5984959|         2|  null|   null| null|2014-07-01 00:00:00|         null|      null|        null|\n",
      "|70827695|18568776|         2|  null|   null| null|2014-07-01 00:00:00|         null|      null|        null|\n",
      "|70827696|18945464|         2|  null|   null| null|2014-07-01 00:00:00|         null|      null|        null|\n",
      "|70827697|24502429|         3|  null|   null| null|2014-07-01 00:00:00|         null|      null|        null|\n",
      "|70827699| 9808070|         2|  null|   null| null|2014-07-01 00:00:00|         null|      null|        null|\n",
      "|70827700|24502554|         2|  null|   null| null|2014-07-01 00:00:00|         null|      null|        null|\n",
      "|70827701|17708526|         2|  null|   null| null|2014-07-01 00:00:00|         null|      null|        null|\n",
      "|70827703| 5490952|         2|  null|   null| null|2014-07-01 00:00:00|         null|      null|        null|\n",
      "|70827704| 8048584|         2|  null|   null| null|2014-07-01 00:00:00|         null|      null|        null|\n",
      "|70827705| 7817878|         2|  null|   null| null|2014-07-01 00:00:00|         null|      null|        null|\n",
      "|70827708| 5984679|         2|  null|   null| null|2014-07-01 00:00:00|         null|      null|        null|\n",
      "|70827710| 5563656|         2|  null|   null| null|2014-07-01 00:00:00|         null|      null|        null|\n",
      "|70827711|13549262|         2|  null|   null| null|2014-07-01 00:00:00|         null|      null|        null|\n",
      "|70827712|23774910|         2|  null|   null| null|2014-07-01 00:00:00|         null|      null|        null|\n",
      "|70827713|24502206|         2|  null|   null| null|2014-07-01 00:00:00|         null|      null|        null|\n",
      "|70827714| 2406126|         2|  null|   null| null|2014-07-01 00:00:00|         null|      null|        null|\n",
      "|70827715| 3729709|         2|  null|   null| null|2014-07-01 00:00:00|         null|      null|        null|\n",
      "|70827716|23774910|         1|  null|   null| null|2014-07-01 00:00:00|         null|      null|        null|\n",
      "|70827717| 2408328|         2|  null|   null| null|2014-07-01 00:00:00|         null|      null|        null|\n",
      "|70827718|22528491|         3|  null|   null| null|2014-07-01 00:00:00|         null|      null|        null|\n",
      "|70827720|24501125|         1|  null|   null| null|2014-07-01 00:00:00|         null|      null|        null|\n",
      "|70827721|24501125|         2|  null|   null| null|2014-07-01 00:00:00|         null|      null|        null|\n",
      "|70827722|24502311|         2|  null|   null| null|2014-07-01 00:00:00|         null|      null|        null|\n",
      "|70827723| 2094963|         2|  null|   null| null|2014-07-01 00:00:00|         null|      null|        null|\n",
      "|70827724|24496696|         1|  null|   null| null|2014-07-01 00:00:00|         null|      null|        null|\n",
      "|70827725|24496696|         2|  null|   null| null|2014-07-01 00:00:00|         null|      null|        null|\n",
      "|70827726| 5033900|         2|  null|   null| null|2014-07-01 00:00:00|         null|      null|        null|\n",
      "|70827728|24497198|         2|  null|   null| null|2014-07-01 00:00:00|         null|      null|        null|\n",
      "|70827729| 9271110|         2|  null|   null| null|2014-07-01 00:00:00|         null|      null|        null|\n",
      "|70827730|24501204|        16|  null|   null| null|2014-07-01 00:00:00|         null|      null|        null|\n",
      "|70827731|24502319|        10|  null|   null| null|2014-07-01 00:00:00|         null|      null|        null|\n",
      "|70827732| 3898572|         2|  null|   null| null|2014-07-01 00:00:00|         null|      null|        null|\n",
      "|70827733|24475134|         2|  null|   null| null|2014-07-01 00:00:00|         null|      null|        null|\n",
      "|70827734|24502505|         2|  null|   null| null|2014-07-01 00:00:00|         null|      null|        null|\n",
      "|70827735| 9942282|         2|  null|   null| null|2014-07-01 00:00:00|         null|      null|        null|\n",
      "|70827736|  646326|         2|  null|   null| null|2014-07-01 00:00:00|         null|      null|        null|\n",
      "|70827737|24502259|         1|  null|   null| null|2014-07-01 00:00:00|         null|      null|        null|\n",
      "|70827738|  646317|         2|  null|   null| null|2014-07-01 00:00:00|         null|      null|        null|\n",
      "|70827740|24500658|         2|  null|   null| null|2014-07-01 00:00:00|         null|      null|        null|\n",
      "|70827741| 6486010|         2|  null|   null| null|2014-07-01 00:00:00|         null|      null|        null|\n",
      "|70827742| 6485968|         2|  null|   null| null|2014-07-01 00:00:00|         null|      null|        null|\n",
      "|70827743|24500645|         2|  null|   null| null|2014-07-01 00:00:00|         null|      null|        null|\n",
      "|70827744|24502393|         1|  null|   null| null|2014-07-01 00:00:00|         null|      null|        null|\n",
      "|70827746|24502206|         1|  null|   null| null|2014-07-01 00:00:00|         null|      null|        null|\n",
      "|70827747|19971442|         2|  null|   null| null|2014-07-01 00:00:00|         null|      null|        null|\n",
      "|70827748| 8974060|         2|  null|   null| null|2014-07-01 00:00:00|         null|      null|        null|\n",
      "|70827749|20788728|         2|  null|   null| null|2014-07-01 00:00:00|         null|      null|        null|\n",
      "|70827750|24502505|         2|  null|   null| null|2014-07-01 00:00:00|         null|      null|        null|\n",
      "|70827751|21106656|         2|  null|   null| null|2014-07-01 00:00:00|         null|      null|        null|\n",
      "|70827752| 5367075|         2|  null|   null| null|2014-07-01 00:00:00|         null|      null|        null|\n",
      "|70827753|13924626|         2|  null|   null| null|2014-07-01 00:00:00|         null|      null|        null|\n",
      "|70827754|21566129|         2|  null|   null| null|2014-07-01 00:00:00|         null|      null|        null|\n",
      "|70827756| 1775990|         2|  null|   null| null|2014-07-01 00:00:00|         null|      null|        null|\n",
      "|70827757|13924642|         2|  null|   null| null|2014-07-01 00:00:00|         null|      null|        null|\n",
      "|70827758|13099594|         2|  null|   null| null|2014-07-01 00:00:00|         null|      null|        null|\n",
      "|70827761|24498057|        16|  null|   null| null|2014-07-01 00:00:00|         null|      null|        null|\n",
      "|70827762|24482770|         2|  null|   null| null|2014-07-01 00:00:00|         null|      null|        null|\n",
      "|70827764|24502353|         2|  null|   null| null|2014-07-01 00:00:00|         null|      null|        null|\n",
      "|70827766| 3454991|         2|  null|   null| null|2014-07-01 00:00:00|         null|      null|        null|\n",
      "|70827767|10277190|         2|  null|   null| null|2014-07-01 00:00:00|         null|      null|        null|\n",
      "|70827768|23360963|         2|  null|   null| null|2014-07-01 00:00:00|         null|      null|        null|\n",
      "|70827769|24485200|         1|  null|   null| null|2014-07-01 00:00:00|         null|      null|        null|\n",
      "|70827770|24502414|         2|  null|   null| null|2014-07-01 00:00:00|         null|      null|        null|\n",
      "|70827771| 5451337|         2|  null|   null| null|2014-07-01 00:00:00|         null|      null|        null|\n",
      "|70827772|24502544|        16|  null|   null| null|2014-07-01 00:00:00|         null|      null|        null|\n",
      "|70827774|15748231|         2|  null|   null| null|2014-07-01 00:00:00|         null|      null|        null|\n",
      "|70827776|10157642|         2|  null|   null| null|2014-07-01 00:00:00|         null|      null|        null|\n",
      "|70827778| 8354964|         2|  null|   null| null|2014-07-01 00:00:00|         null|      null|        null|\n",
      "|70827779|16460258|         2|  null|   null| null|2014-07-01 00:00:00|         null|      null|        null|\n",
      "|70827781| 8355599|         2|  null|   null| null|2014-07-01 00:00:00|         null|      null|        null|\n",
      "|70827782|24502075|        11|  null|   null| null|2014-07-01 00:00:00|         null|      null|        null|\n",
      "|70827783|24502537|         1|  null|   null| null|2014-07-01 00:00:00|         null|      null|        null|\n",
      "|70827784|14016278|         2|  null|   null| null|2014-07-01 00:00:00|         null|      null|        null|\n",
      "|70827787|24412243|         1|  null|   null| null|2014-07-01 00:00:00|         null|      null|        null|\n",
      "|70827788|10635672|         2|  null|   null| null|2014-07-01 00:00:00|         null|      null|        null|\n",
      "|70827790|24502414|         3|  null|   null| null|2014-07-01 00:00:00|         null|      null|        null|\n",
      "|70827792|24477898|        10|  null|   null| null|2014-07-01 00:00:00|         null|      null|        null|\n",
      "|70827793|18279276|         2|  null|   null| null|2014-07-01 00:00:00|         null|      null|        null|\n",
      "|70827794|19263007|         2|  null|   null| null|2014-07-01 00:00:00|         null|      null|        null|\n",
      "|70827795|10965248|         3|  null|   null| null|2014-07-01 00:00:00|         null|      null|        null|\n",
      "|70827797|13938995|         2|  null|   null| null|2014-07-01 00:00:00|         null|      null|        null|\n",
      "+--------+--------+----------+------+-------+-----+-------------------+-------------+----------+------------+\n",
      "only showing top 100 rows\n",
      "\n"
     ]
    },
    {
     "name": "stderr",
     "output_type": "stream",
     "text": [
      "\r",
      "                                                                                \r"
     ]
    }
   ],
   "source": [
    "df_votes.show(100)"
   ]
  },
  {
   "cell_type": "markdown",
   "id": "e3d7117c",
   "metadata": {
    "slideshow": {
     "slide_type": "slide"
    }
   },
   "source": [
    "## 2. `Badges` Data"
   ]
  },
  {
   "cell_type": "code",
   "execution_count": 12,
   "id": "4454ff3a",
   "metadata": {
    "slideshow": {
     "slide_type": "slide"
    }
   },
   "outputs": [
    {
     "name": "stderr",
     "output_type": "stream",
     "text": [
      "[Stage 18:=============================================>          (18 + 4) / 22]\r"
     ]
    },
    {
     "name": "stdout",
     "output_type": "stream",
     "text": [
      "No. of Records in the Badges table : 48022288\n"
     ]
    },
    {
     "name": "stderr",
     "output_type": "stream",
     "text": [
      "\r",
      "                                                                                \r"
     ]
    }
   ],
   "source": [
    "print(f\"No. of Records in the Badges table : {df_badges.count()}\")"
   ]
  },
  {
   "cell_type": "code",
   "execution_count": 13,
   "id": "e069822a",
   "metadata": {
    "slideshow": {
     "slide_type": "slide"
    }
   },
   "outputs": [
    {
     "name": "stderr",
     "output_type": "stream",
     "text": [
      "\r",
      "[Stage 21:>                                                         (0 + 1) / 1]\r"
     ]
    },
    {
     "name": "stdout",
     "output_type": "stream",
     "text": [
      "+-----+------+-------+--------------------+-----+--------+\n",
      "|   Id|UserId|   Name|                Date|Class|TagBased|\n",
      "+-----+------+-------+--------------------+-----+--------+\n",
      "|82946|  3718|Teacher|2008-09-15 08:55:...|    3|   false|\n",
      "|82947|   994|Teacher|2008-09-15 08:55:...|    3|   false|\n",
      "|82949|  3893|Teacher|2008-09-15 08:55:...|    3|   false|\n",
      "|82950|  4591|Teacher|2008-09-15 08:55:...|    3|   false|\n",
      "|82951|  5196|Teacher|2008-09-15 08:55:...|    3|   false|\n",
      "|82952|  2635|Teacher|2008-09-15 08:55:...|    3|   false|\n",
      "|82953|  1113|Teacher|2008-09-15 08:55:...|    3|   false|\n",
      "|82954|  4182|Teacher|2008-09-15 08:55:...|    3|   false|\n",
      "|82955|   164|Teacher|2008-09-15 08:55:...|    3|   false|\n",
      "|82956|   652|Teacher|2008-09-15 08:55:...|    3|   false|\n",
      "|82957|  5246|Teacher|2008-09-15 08:55:...|    3|   false|\n",
      "|82958|   509|Teacher|2008-09-15 08:55:...|    3|   false|\n",
      "|82959|   670|Teacher|2008-09-15 08:55:...|    3|   false|\n",
      "|82960|  5024|Teacher|2008-09-15 08:55:...|    3|   false|\n",
      "|82961|  1284|Teacher|2008-09-15 08:55:...|    3|   false|\n",
      "|82962|  2907|Teacher|2008-09-15 08:55:...|    3|   false|\n",
      "|82963|  4097|Teacher|2008-09-15 08:55:...|    3|   false|\n",
      "|82964|  3205|Teacher|2008-09-15 08:55:...|    3|   false|\n",
      "|82965|   986|Teacher|2008-09-15 08:55:...|    3|   false|\n",
      "|82966|  4666|Teacher|2008-09-15 08:55:...|    3|   false|\n",
      "|82967|   883|Teacher|2008-09-15 08:55:...|    3|   false|\n",
      "|82968|  1261|Teacher|2008-09-15 08:55:...|    3|   false|\n",
      "|82969|  1635|Teacher|2008-09-15 08:55:...|    3|   false|\n",
      "|82970|  4262|Teacher|2008-09-15 08:55:...|    3|   false|\n",
      "|82971|  4997|Teacher|2008-09-15 08:55:...|    3|   false|\n",
      "|82972|   122|Teacher|2008-09-15 08:55:...|    3|   false|\n",
      "|82973|   782|Teacher|2008-09-15 08:55:...|    3|   false|\n",
      "|82974|  1693|Teacher|2008-09-15 08:55:...|    3|   false|\n",
      "|82975|  5806|Teacher|2008-09-15 08:55:...|    3|   false|\n",
      "|82976|  3494|Teacher|2008-09-15 08:55:...|    3|   false|\n",
      "|82977|  2839|Teacher|2008-09-15 08:55:...|    3|   false|\n",
      "|82978|  2626|Teacher|2008-09-15 08:55:...|    3|   false|\n",
      "|82979|  1120|Teacher|2008-09-15 08:55:...|    3|   false|\n",
      "|82980|  1304|Teacher|2008-09-15 08:55:...|    3|   false|\n",
      "|82981|  5504|Teacher|2008-09-15 08:55:...|    3|   false|\n",
      "|82982|  2482|Teacher|2008-09-15 08:55:...|    3|   false|\n",
      "|82983|  2147|Teacher|2008-09-15 08:55:...|    3|   false|\n",
      "|82985|  3594|Teacher|2008-09-15 08:55:...|    3|   false|\n",
      "|82986|  3659|Teacher|2008-09-15 08:55:...|    3|   false|\n",
      "|82987|    58|Teacher|2008-09-15 08:55:...|    3|   false|\n",
      "|82988|  2586|Teacher|2008-09-15 08:55:...|    3|   false|\n",
      "|82989|  1390|Teacher|2008-09-15 08:55:...|    3|   false|\n",
      "|82990|   581|Teacher|2008-09-15 08:55:...|    3|   false|\n",
      "|82992|  2137|Teacher|2008-09-15 08:55:...|    3|   false|\n",
      "|82993|   372|Teacher|2008-09-15 08:55:...|    3|   false|\n",
      "|82994|  3272|Teacher|2008-09-15 08:55:...|    3|   false|\n",
      "|82995|   969|Teacher|2008-09-15 08:55:...|    3|   false|\n",
      "|82996|  1620|Teacher|2008-09-15 08:55:...|    3|   false|\n",
      "|82997|  1065|Teacher|2008-09-15 08:55:...|    3|   false|\n",
      "|82998|  2535|Teacher|2008-09-15 08:55:...|    3|   false|\n",
      "|82999|  4574|Teacher|2008-09-15 08:55:...|    3|   false|\n",
      "|83000|  5855|Teacher|2008-09-15 08:55:...|    3|   false|\n",
      "|83001|  2133|Teacher|2008-09-15 08:55:...|    3|   false|\n",
      "|83002|  4531|Teacher|2008-09-15 08:55:...|    3|   false|\n",
      "|83003|  5181|Teacher|2008-09-15 08:55:...|    3|   false|\n",
      "|83004|  4925|Teacher|2008-09-15 08:55:...|    3|   false|\n",
      "|83005|  1175|Teacher|2008-09-15 08:55:...|    3|   false|\n",
      "|83006|  1536|Teacher|2008-09-15 08:55:...|    3|   false|\n",
      "|83007|  3394|Teacher|2008-09-15 08:55:...|    3|   false|\n",
      "|83008|   511|Teacher|2008-09-15 08:55:...|    3|   false|\n",
      "|83009|  2528|Teacher|2008-09-15 08:55:...|    3|   false|\n",
      "|83010|  1048|Teacher|2008-09-15 08:55:...|    3|   false|\n",
      "|83011|  1647|Teacher|2008-09-15 08:55:...|    3|   false|\n",
      "|83012|   578|Teacher|2008-09-15 08:55:...|    3|   false|\n",
      "|83013|  2723|Teacher|2008-09-15 08:55:...|    3|   false|\n",
      "|83014|  1486|Teacher|2008-09-15 08:55:...|    3|   false|\n",
      "|83015|  1621|Teacher|2008-09-15 08:55:...|    3|   false|\n",
      "|83016|  5100|Teacher|2008-09-15 08:55:...|    3|   false|\n",
      "|83017|  1597|Teacher|2008-09-15 08:55:...|    3|   false|\n",
      "|83018|  2918|Teacher|2008-09-15 08:55:...|    3|   false|\n",
      "|83019|  5961|Teacher|2008-09-15 08:55:...|    3|   false|\n",
      "|83021|  1785|Teacher|2008-09-15 08:55:...|    3|   false|\n",
      "|83022|   196|Teacher|2008-09-15 08:55:...|    3|   false|\n",
      "|83023|  6120|Teacher|2008-09-15 08:55:...|    3|   false|\n",
      "|83024|  1882|Teacher|2008-09-15 08:55:...|    3|   false|\n",
      "|83025|  1482|Teacher|2008-09-15 08:55:...|    3|   false|\n",
      "|83026|  1677|Teacher|2008-09-15 08:55:...|    3|   false|\n",
      "|83027|  1855|Teacher|2008-09-15 08:55:...|    3|   false|\n",
      "|83028|  6009|Teacher|2008-09-15 08:55:...|    3|   false|\n",
      "|83029|   829|Teacher|2008-09-15 08:55:...|    3|   false|\n",
      "|83030|  1417|Teacher|2008-09-15 08:55:...|    3|   false|\n",
      "|83031|  1534|Teacher|2008-09-15 08:55:...|    3|   false|\n",
      "|83032|  2692|Teacher|2008-09-15 08:55:...|    3|   false|\n",
      "|83033|  5083|Teacher|2008-09-15 08:55:...|    3|   false|\n",
      "|83034|  5412|Teacher|2008-09-15 08:55:...|    3|   false|\n",
      "|83035|  3911|Teacher|2008-09-15 08:55:...|    3|   false|\n",
      "|83036|    72|Teacher|2008-09-15 08:55:...|    3|   false|\n",
      "|83037|  3358|Teacher|2008-09-15 08:55:...|    3|   false|\n",
      "|83038|  5729|Teacher|2008-09-15 08:55:...|    3|   false|\n",
      "|83039|  4257|Teacher|2008-09-15 08:55:...|    3|   false|\n",
      "|83041|  5128|Teacher|2008-09-15 08:55:...|    3|   false|\n",
      "|83042|  6280|Teacher|2008-09-15 08:55:...|    3|   false|\n",
      "|83043|   541|Teacher|2008-09-15 08:55:...|    3|   false|\n",
      "|83044|  3905|Teacher|2008-09-15 08:55:...|    3|   false|\n",
      "|83045|   437|Teacher|2008-09-15 08:55:...|    3|   false|\n",
      "|83046|  1875|Teacher|2008-09-15 08:55:...|    3|   false|\n",
      "|83047|  2846|Teacher|2008-09-15 08:55:...|    3|   false|\n",
      "|83048|  5240|Teacher|2008-09-15 08:55:...|    3|   false|\n",
      "|83049|  3636|Teacher|2008-09-15 08:55:...|    3|   false|\n",
      "|83062|  4421|Teacher|2008-09-15 08:55:...|    3|   false|\n",
      "+-----+------+-------+--------------------+-----+--------+\n",
      "only showing top 100 rows\n",
      "\n"
     ]
    },
    {
     "name": "stderr",
     "output_type": "stream",
     "text": [
      "\r",
      "                                                                                \r"
     ]
    }
   ],
   "source": [
    "df_badges.show(100)"
   ]
  },
  {
   "cell_type": "markdown",
   "id": "926892b4",
   "metadata": {
    "slideshow": {
     "slide_type": "slide"
    }
   },
   "source": [
    "## 3. `Comments` Data"
   ]
  },
  {
   "cell_type": "code",
   "execution_count": 14,
   "id": "f351091d",
   "metadata": {
    "slideshow": {
     "slide_type": "slide"
    }
   },
   "outputs": [
    {
     "name": "stderr",
     "output_type": "stream",
     "text": [
      "[Stage 22:===================================================>   (95 + 6) / 101]\r"
     ]
    },
    {
     "name": "stdout",
     "output_type": "stream",
     "text": [
      "No. of Records in the Comments table : 88222951\n"
     ]
    },
    {
     "name": "stderr",
     "output_type": "stream",
     "text": [
      "\r",
      "                                                                                \r"
     ]
    }
   ],
   "source": [
    "print(f\"No. of Records in the Comments table : {df_comments.count()}\")"
   ]
  },
  {
   "cell_type": "code",
   "execution_count": 15,
   "id": "a1048edd",
   "metadata": {
    "slideshow": {
     "slide_type": "slide"
    }
   },
   "outputs": [
    {
     "name": "stderr",
     "output_type": "stream",
     "text": [
      "\r",
      "[Stage 25:>                                                         (0 + 1) / 1]\r"
     ]
    },
    {
     "name": "stdout",
     "output_type": "stream",
     "text": [
      "+-------+-------+-----+--------------------+--------------------+---------------+------+--------------+\n",
      "|     Id| PostId|Score|                Text|        CreationDate|UserDisplayName|UserId|ContentLicense|\n",
      "+-------+-------+-----+--------------------+--------------------+---------------+------+--------------+\n",
      "|2687987|2669420|    0|Ok, I'm coming fr...|2010-04-19 17:53:...|           null|267075|  CC BY-SA 2.5|\n",
      "|2687989|2669610|    0|Could you define ...|2010-04-19 17:53:...|           null| 10174|  CC BY-SA 2.5|\n",
      "|2687990|2669627|    0|Please, indicate ...|2010-04-19 17:53:...|           null|308903|  CC BY-SA 2.5|\n",
      "|2687994|2659117|    0|thanks, the wikip...|2010-04-19 17:54:...|           null|297353|  CC BY-SA 2.5|\n",
      "|2687996|2669629|    0|Which part doesn'...|2010-04-19 17:54:...|           null|187606|  CC BY-SA 2.5|\n",
      "|2687998|2669207|    0|It should, yes. W...|2010-04-19 17:54:...|           null| 29676|  CC BY-SA 2.5|\n",
      "|2688002| 696453|    0|This answer works...|2010-04-19 17:54:...|           null|237091|  CC BY-SA 2.5|\n",
      "|2688004|2665752|    0|Using Access to c...|2010-04-19 17:55:...|           null|  9787|  CC BY-SA 2.5|\n",
      "|2688007|2669203|    0|they would all be...|2010-04-19 17:55:...|           null| 10755|  CC BY-SA 2.5|\n",
      "|2688009|2633629|    0|The answer you ga...|2010-04-19 17:55:...|           null| 49018|  CC BY-SA 2.5|\n",
      "|2688010|2664144|    1|Could you give us...|2010-04-19 17:55:...|           null|231574|  CC BY-SA 2.5|\n",
      "|2688011|2659117|    0|int comb(int n, i...|2010-04-19 17:55:...|           null|297353|  CC BY-SA 2.5|\n",
      "|2688013|2669608|    1|PHP actually prov...|2010-04-19 17:56:...|           null|212440|  CC BY-SA 2.5|\n",
      "|2688016|2669201|    0|See all the extra...|2010-04-19 17:56:...|           null|114474|  CC BY-SA 2.5|\n",
      "|2688018|2669549|    0|@Jerry: Your edit...|2010-04-19 17:56:...|           null|140719|  CC BY-SA 2.5|\n",
      "|2688019|2668677|    1|Which is why I me...|2010-04-19 17:57:...|           null|201199|  CC BY-SA 2.5|\n",
      "|2688021|2669520|    0|I was hoping to a...|2010-04-19 17:57:...|           null| 76382|  CC BY-SA 2.5|\n",
      "|2688023|2662609|    0|The usual practic...|2010-04-19 17:57:...|           null|  9787|  CC BY-SA 2.5|\n",
      "|2688026|2669493|    1|Print out the val...|2010-04-19 17:57:...|           null| 83839|  CC BY-SA 2.5|\n",
      "|2688027|2663498|    0|Bob - read my rep...|2010-04-19 17:57:...|           null|233829|  CC BY-SA 2.5|\n",
      "|2688028|2669519|    0|Because your code...|2010-04-19 17:57:...|           null| 28494|  CC BY-SA 2.5|\n",
      "|2688029|2655651|    0|The issue is that...|2010-04-19 17:57:...|           null|231489|  CC BY-SA 2.5|\n",
      "|2688030|2667925|    0|Well, that's just...|2010-04-19 17:57:...|           null| 33732|  CC BY-SA 2.5|\n",
      "|2688033|2669611|    0|wow.  i just wast...|2010-04-19 17:58:...|           null|179105|  CC BY-SA 2.5|\n",
      "|2688034|2669606|    1|Have you disabled...|2010-04-19 17:58:...|           null|189416|  CC BY-SA 2.5|\n",
      "|2688035|2669345|    0|Cheers James. I d...|2010-04-19 17:58:...|           null|300204|  CC BY-SA 2.5|\n",
      "|2688036|2654781|    0|The issue is that...|2010-04-19 17:58:...|           null|231489|  CC BY-SA 2.5|\n",
      "|2688037|2668951|    1|@Serg, you can im...|2010-04-19 17:59:...|           null| 33732|  CC BY-SA 2.5|\n",
      "|2688038|2663990|    0|Yes ! I am not ge...|2010-04-19 17:59:...|           null|298336|  CC BY-SA 2.5|\n",
      "|2688039|2663284|    0|there is nothing ...|2010-04-19 17:59:...|           null|315484|  CC BY-SA 2.5|\n",
      "|2688040|2501307|    0|Hey Steve, can yo...|2010-04-19 17:59:...|           null|135946|  CC BY-SA 2.5|\n",
      "|2688041|2650654|    0|looks like i need...|2010-04-19 17:59:...|      user34537|  null|  CC BY-SA 2.5|\n",
      "|2688042|2669549|    0|@sbi:  You have y...|2010-04-19 17:59:...|           null|151292|  CC BY-SA 2.5|\n",
      "|2688043|2669294|    3|you could accept ...|2010-04-19 17:59:...|           null| 54200|  CC BY-SA 2.5|\n",
      "|2688044|2669659|    0|Can you elaborate...|2010-04-19 17:59:...|           null|121687|  CC BY-SA 2.5|\n",
      "|2688045|2669420|    0|Arguably, layouts...|2010-04-19 17:59:...|           null|313400|  CC BY-SA 2.5|\n",
      "|2688049|2663348|    0|Thanks; editing t...|2010-04-19 18:00:...|           null|102916|  CC BY-SA 2.5|\n",
      "|2688050|2669093|    5|Not true - the so...|2010-04-19 18:00:...|           null|165216|  CC BY-SA 2.5|\n",
      "|2688053|2668774|    0|Beats me.  I have...|2010-04-19 18:00:...|           null|251614|  CC BY-SA 2.5|\n",
      "|2688056|2668887|    0|I think they chan...|2010-04-19 18:00:...|           null| 99834|  CC BY-SA 2.5|\n",
      "|2688057|2669616|    0|OTOH, working set...|2010-04-19 18:00:...|           null|140719|  CC BY-SA 2.5|\n",
      "|2688058|2669519|    1|Next time **inden...|2010-04-19 18:00:...|           null|227665|  CC BY-SA 2.5|\n",
      "|2688060|2665102|    1|(let ((a 1)) ...)...|2010-04-19 18:00:...|           null| 35054|  CC BY-SA 2.5|\n",
      "|2688062| 125379|   13|Phantom types are...|2010-04-19 18:01:...|           null| 13924|  CC BY-SA 2.5|\n",
      "|2688063|2668951|    0|@Alan, the reason...|2010-04-19 18:01:...|           null| 33732|  CC BY-SA 2.5|\n",
      "|2688065|2663556|    0|jalf: FWIW, I'm r...|2010-04-19 18:02:...|           null|102916|  CC BY-SA 2.5|\n",
      "|2688066|2656221|    0|well, that was th...|2010-04-19 18:02:...|           null|  4435|  CC BY-SA 2.5|\n",
      "|2688067|2669480|    0|+1 it gave me som...|2010-04-19 18:02:...|           null|121687|  CC BY-SA 2.5|\n",
      "|2688069|2664441|    1|Is anything showi...|2010-04-19 18:02:...|           null|212440|  CC BY-SA 2.5|\n",
      "|2688070|2667397|    1|I found the oppos...|2010-04-19 18:02:...|           null| 14637|  CC BY-SA 2.5|\n",
      "|2688071|2667703|    0|@kriss: I am goin...|2010-04-19 18:02:...|           null|320367|  CC BY-SA 2.5|\n",
      "|2688072|2669674|    0|It is not a trick...|2010-04-19 18:02:...|           null|  6212|  CC BY-SA 2.5|\n",
      "|2688073|2664508|    0|@asveikau:&#xA;Of...|2010-04-19 18:02:...|           null|284799|  CC BY-SA 2.5|\n",
      "|2688074|2669674|    0|That might be tru...|2010-04-19 18:02:...|           null|284013|  CC BY-SA 2.5|\n",
      "|2688076|2669678|    0|This worked perfe...|2010-04-19 18:03:...|           null|244296|  CC BY-SA 2.5|\n",
      "|2688077|2661892|    0|What happens when...|2010-04-19 18:03:...|           null|105904|  CC BY-SA 2.5|\n",
      "|2688078|2669322|    0|&quot;... you pro...|2010-04-19 18:03:...|           null| 14637|  CC BY-SA 2.5|\n",
      "|2688083|2669690|   56|I believe that yo...|2010-04-19 18:04:...|           null| 34813|  CC BY-SA 2.5|\n",
      "|2688086|2669697|    0|It doesn't let me...|2010-04-19 18:04:...|           null|224988|  CC BY-SA 2.5|\n",
      "|2688087|2669143|    0|yep, like I said,...|2010-04-19 18:04:...|           null|183408|  CC BY-SA 2.5|\n",
      "|2688088|2668742|    0|Thank you Remus a...|2010-04-19 18:04:...|           null|320474|  CC BY-SA 2.5|\n",
      "|2688089|2669474|    0|Only works when t...|2010-04-19 18:05:...|           null|240633|  CC BY-SA 2.5|\n",
      "|2688091|2669024|    0|same result, but ...|2010-04-19 18:05:...|           null| 26685|  CC BY-SA 2.5|\n",
      "|2688092|2669707|    0|I found this as y...|2010-04-19 18:05:...|           null|302814|  CC BY-SA 2.5|\n",
      "|2688093|2669610|    0|Hi Jeffrey,&#xA;F...|2010-04-19 18:05:...|           null|320587|  CC BY-SA 2.5|\n",
      "|2688097|2669051|    0|Is every date enc...|2010-04-19 18:05:...|           null|  9787|  CC BY-SA 2.5|\n",
      "|2688098|2668201|    0|The logic behind ...|2010-04-19 18:05:...|           null|300204|  CC BY-SA 2.5|\n",
      "|2688099|2664663|    0|Note that you nee...|2010-04-19 18:06:...|           null| 33466|  CC BY-SA 2.5|\n",
      "|2688100|2669716|    0|For what you acco...|2010-04-19 18:06:...|           null|103385|  CC BY-SA 2.5|\n",
      "|2688101|2669531|    0|nice! but how i c...|2010-04-19 18:06:...|           null|296266|  CC BY-SA 2.5|\n",
      "|2688102|2669519|    0|This code won't e...|2010-04-19 18:06:...|           null|253056|  CC BY-SA 2.5|\n",
      "|2688103|2669133|    0|@OrbMan, is it re...|2010-04-19 18:07:...|           null|207036|  CC BY-SA 2.5|\n",
      "|2688104|2669713|    4|One might add tha...|2010-04-19 18:07:...|           null|140719|  CC BY-SA 2.5|\n",
      "|2688106|2669674|    0|Good point, Erik....|2010-04-19 18:08:...|           null| 25188|  CC BY-SA 2.5|\n",
      "|2688108|2669681|    1|It is optional bu...|2010-04-19 18:08:...|           null|105672|  CC BY-SA 2.5|\n",
      "|2688110|2664757|    0|I use the linked ...|2010-04-19 18:08:...|           null|224848|  CC BY-SA 2.5|\n",
      "|2688113|2669474|    0|@ergo: Yes. fabri...|2010-04-19 18:09:...|           null|280730|  CC BY-SA 2.5|\n",
      "|2688114|2649218|    0|**NEVER code a tr...|2010-04-19 18:09:...|           null| 65223|  CC BY-SA 2.5|\n",
      "|2688115|2647779|    0|There definitely ...|2010-04-19 18:09:...|           null|189526|  CC BY-SA 2.5|\n",
      "|2688116|2668901|    1|@Hans Well, DAMNI...|2010-04-19 18:09:...|       user1228|  null|  CC BY-SA 2.5|\n",
      "|2688117|2663064|    0|sounds good. I wi...|2010-04-19 18:09:...|           null|195699|  CC BY-SA 2.5|\n",
      "|2688118|2669133|    0|@Unreason: alisin...|2010-04-19 18:10:...|           null| 39430|  CC BY-SA 2.5|\n",
      "|2688119| 836770|    0|Had this problem ...|2010-04-19 18:10:...|           null|  1175|  CC BY-SA 2.5|\n",
      "|2688121|2662912|    0|@Jack: When the p...|2010-04-19 18:10:...|     user216441|  null|  CC BY-SA 2.5|\n",
      "|2688122|2668991|    0|Aliases don't mat...|2010-04-19 18:10:...|           null|  9787|  CC BY-SA 2.5|\n",
      "|2688123|2669320|    1|@David Thornley: ...|2010-04-19 18:11:...|           null| 12711|  CC BY-SA 2.5|\n",
      "|2688125|2660640|    0|The funny thing i...|2010-04-19 18:11:...|           null|284799|  CC BY-SA 2.5|\n",
      "|2688129|2667925|    0|Ok, so the stub *...|2010-04-19 18:12:...|           null|189764|  CC BY-SA 2.5|\n",
      "|2688130|2669549|    0|@sbi: the problem...|2010-04-19 18:12:...|           null|179910|  CC BY-SA 2.5|\n",
      "|2688131|2669676|    0|no i am unable to...|2010-04-19 18:12:...|           null|259701|  CC BY-SA 2.5|\n",
      "|2688132|2667111|    1|I've been develop...|2010-04-19 18:12:...|           null|  9787|  CC BY-SA 2.5|\n",
      "|2688133|1929240|    0|Probably it's a b...|2010-04-19 18:13:...|           null| 72322|  CC BY-SA 2.5|\n",
      "|2688134|2669674|    0|Ahh I see, it mak...|2010-04-19 18:13:...|           null|141661|  CC BY-SA 2.5|\n",
      "|2688137|2660640|    1|You can still fin...|2010-04-19 18:13:...|           null|284799|  CC BY-SA 2.5|\n",
      "|2688141|2668674|    0|I used backslashe...|2010-04-19 18:13:...|           null|161336|  CC BY-SA 2.5|\n",
      "|2688144|2667212|    0|@Nick I am sorry ...|2010-04-19 18:14:...|           null|285587|  CC BY-SA 2.5|\n",
      "|2688145|2666502|    0|By saying &quot;d...|2010-04-19 18:14:...|           null| 74496|  CC BY-SA 2.5|\n",
      "|2688146|2669548|    0|I'm not sure, but...|2010-04-19 18:14:...|           null| 50227|  CC BY-SA 2.5|\n",
      "|2688147|2669771|    5|What kind of fram...|2010-04-19 18:14:...|           null| 14637|  CC BY-SA 2.5|\n",
      "|2688150|2669771|    0|@Thomas - Would i...|2010-04-19 18:15:...|           null|103385|  CC BY-SA 2.5|\n",
      "+-------+-------+-----+--------------------+--------------------+---------------+------+--------------+\n",
      "only showing top 100 rows\n",
      "\n"
     ]
    },
    {
     "name": "stderr",
     "output_type": "stream",
     "text": [
      "\r",
      "                                                                                \r"
     ]
    }
   ],
   "source": [
    "df_comments.show(100)"
   ]
  },
  {
   "cell_type": "markdown",
   "id": "02ad8c5f",
   "metadata": {
    "slideshow": {
     "slide_type": "slide"
    }
   },
   "source": [
    "## 4. `Post History` Data"
   ]
  },
  {
   "cell_type": "code",
   "execution_count": 16,
   "id": "8af2823d",
   "metadata": {
    "slideshow": {
     "slide_type": "slide"
    }
   },
   "outputs": [
    {
     "name": "stderr",
     "output_type": "stream",
     "text": [
      "[Stage 26:=====================================================>(653 + 1) / 654]\r"
     ]
    },
    {
     "name": "stdout",
     "output_type": "stream",
     "text": [
      "No. of Records in the PostHistory table : 156055380\n"
     ]
    },
    {
     "name": "stderr",
     "output_type": "stream",
     "text": [
      "\r",
      "                                                                                \r"
     ]
    }
   ],
   "source": [
    "print(f\"No. of Records in the PostHistory table : {df_post_history.count()}\")"
   ]
  },
  {
   "cell_type": "code",
   "execution_count": 17,
   "id": "77822e1a",
   "metadata": {
    "slideshow": {
     "slide_type": "slide"
    }
   },
   "outputs": [
    {
     "name": "stderr",
     "output_type": "stream",
     "text": [
      "\r",
      "[Stage 29:>                                                         (0 + 1) / 1]\r"
     ]
    },
    {
     "name": "stdout",
     "output_type": "stream",
     "text": [
      "+---------+-----------------+--------+--------------------+--------------------+--------+---------------+--------------------+--------------------+--------------+\n",
      "|       Id|PostHistoryTypeId|  PostId|        RevisionGUID|        CreationDate|  UserId|UserDisplayName|             Comment|                Text|ContentLicense|\n",
      "+---------+-----------------+--------+--------------------+--------------------+--------+---------------+--------------------+--------------------+--------------+\n",
      "|289111469|                3|75632632|5bae3186-9bde-491...|2023-03-03 23:17:...|10876372|           null|                null|&lt;r&gt;&lt;dply...|  CC BY-SA 4.0|\n",
      "|289111472|                5|75632589|5ccd2b80-c2e7-41f...|2023-03-03 23:17:...|  523612|           null|add more interest...|This is a curious...|  CC BY-SA 4.0|\n",
      "|289111474|                5|75553692|90062ba6-44c7-463...|2023-03-03 23:18:...|  472495|           null|           Trim chat|![Picture of Arra...|  CC BY-SA 4.0|\n",
      "|289111475|                4|75553692|90062ba6-44c7-463...|2023-03-03 23:18:...|  472495|           null|           Trim chat|Array output is r...|  CC BY-SA 4.0|\n",
      "|289111476|                2|75632633|e03b8575-ab75-4f7...|2023-03-03 23:18:...|21328797|           null|                null|I'm using React N...|  CC BY-SA 4.0|\n",
      "|289111478|                1|75632633|e03b8575-ab75-4f7...|2023-03-03 23:18:...|21328797|           null|                null|React Native swit...|  CC BY-SA 4.0|\n",
      "|289111479|                3|75632633|e03b8575-ab75-4f7...|2023-03-03 23:18:...|21328797|           null|                null|&lt;react-native&...|  CC BY-SA 4.0|\n",
      "|289111480|               66|75632633|e03b8575-ab75-4f7...|2023-03-03 23:18:...|21328797|           null|                null|                null|          null|\n",
      "|289111483|                5|75630744|da462c79-748a-40e...|2023-03-03 23:18:...| 2057969|           null|deleted 34 charac...|What was written ...|  CC BY-SA 4.0|\n",
      "|289111484|                2|75632634|a374ff39-ba7c-4d6...|2023-03-03 23:18:...| 3325763|           null|                null|when i use this p...|  CC BY-SA 4.0|\n",
      "|289111486|                1|75632634|a374ff39-ba7c-4d6...|2023-03-03 23:18:...| 3325763|           null|                null|PHP cant't import...|  CC BY-SA 4.0|\n",
      "|289111487|                3|75632634|a374ff39-ba7c-4d6...|2023-03-03 23:18:...| 3325763|           null|                null|&lt;php&gt;&lt;cs...|  CC BY-SA 4.0|\n",
      "|289111490|                5|75632526|b834a763-abb4-453...|2023-03-03 23:18:...|21328877|           null|added 69 characte...|I can easily get ...|  CC BY-SA 4.0|\n",
      "|289111493|                5|75632611|58c884bd-a524-48d...|2023-03-03 23:18:...|16462878|           null|added 172 charact...|Chain _compatible...|  CC BY-SA 4.0|\n",
      "|289111494|                2|75632636|c38133bd-77d5-4c1...|2023-03-03 23:18:...|14177537|           null|                null|clearInterval not...|  CC BY-SA 4.0|\n",
      "|289111496|                1|75632636|c38133bd-77d5-4c1...|2023-03-03 23:18:...|14177537|           null|                null|clearInterval not...|  CC BY-SA 4.0|\n",
      "|289111497|                3|75632636|c38133bd-77d5-4c1...|2023-03-03 23:18:...|14177537|           null|                null|&lt;javascript&gt...|  CC BY-SA 4.0|\n",
      "|289111500|                5|75632612|66a60ecd-eb1f-430...|2023-03-03 23:18:...|11546773|           null|added 48 characte...|I have 2 large nu...|  CC BY-SA 4.0|\n",
      "|289111501|                5|75618444|37ec0294-7516-4dc...|2023-03-03 23:18:...|21320609|           null|added 266 charact...|```&#xD;&#xA;def ...|  CC BY-SA 4.0|\n",
      "|289111502|                2|75632637|2dac846c-d32b-4ad...|2023-03-03 23:18:...| 1960014|           null|                null|On Chrome and Fir...|  CC BY-SA 4.0|\n",
      "|289111504|                1|75632637|2dac846c-d32b-4ad...|2023-03-03 23:18:...| 1960014|           null|                null|Clicking edge of ...|  CC BY-SA 4.0|\n",
      "|289111505|                3|75632637|2dac846c-d32b-4ad...|2023-03-03 23:18:...| 1960014|           null|                null|&lt;javascript&gt...|  CC BY-SA 4.0|\n",
      "|289111508|                5|75632340|7863efe7-2d66-403...|2023-03-03 23:18:...|  702977|           null|deleted 289 chara...|I'm trying to use...|  CC BY-SA 4.0|\n",
      "|289111510|                2|75632638|3c50ab34-c881-469...|2023-03-03 23:19:...|14318913|           null|                null|What work for me:...|  CC BY-SA 4.0|\n",
      "|289111512|                2|75632639|c13c2ff3-17c4-470...|2023-03-03 23:19:...| 7530565|           null|                null|I have written th...|  CC BY-SA 4.0|\n",
      "|289111514|                1|75632639|c13c2ff3-17c4-470...|2023-03-03 23:19:...| 7530565|           null|                null|Can I give a usef...|  CC BY-SA 4.0|\n",
      "|289111515|                3|75632639|c13c2ff3-17c4-470...|2023-03-03 23:19:...| 7530565|           null|                null|&lt;typescript&gt...|  CC BY-SA 4.0|\n",
      "|289111526|                2|75632641|a6ab73d3-9890-418...|2023-03-03 23:19:...|19324216|           null|                null|Everything is wor...|  CC BY-SA 4.0|\n",
      "|289111528|                1|75632641|a6ab73d3-9890-418...|2023-03-03 23:19:...|19324216|           null|                null|EvenListener in s...|  CC BY-SA 4.0|\n",
      "|289111529|                3|75632641|a6ab73d3-9890-418...|2023-03-03 23:19:...|19324216|           null|                null|&lt;javascript&gt...|  CC BY-SA 4.0|\n",
      "|289111530|               66|75632641|a6ab73d3-9890-418...|2023-03-03 23:19:...|19324216|           null|                null|                null|          null|\n",
      "|289111533|                2|75632642|ec710129-4f0d-4c7...|2023-03-03 23:19:...| 2402272|           null|                null|Autoconf has a fe...|  CC BY-SA 4.0|\n",
      "|289111535|                2|75632643|fdc94a5d-f2c6-494...|2023-03-03 23:19:...|21328914|           null|                null|I am trying to co...|  CC BY-SA 4.0|\n",
      "|289111537|                1|75632643|fdc94a5d-f2c6-494...|2023-03-03 23:19:...|21328914|           null|                null|Conversion pine s...|  CC BY-SA 4.0|\n",
      "|289111538|                3|75632643|fdc94a5d-f2c6-494...|2023-03-03 23:19:...|21328914|           null|                null|&lt;type-conversi...|  CC BY-SA 4.0|\n",
      "|289111539|               66|75632643|fdc94a5d-f2c6-494...|2023-03-03 23:19:...|21328914|           null|                null|                null|          null|\n",
      "|289111542|                4|75598376|6e2fb9f4-7aa2-447...|2023-03-03 23:20:...| 4496300|           null|added 1058 charac...|How to replace a ...|  CC BY-SA 4.0|\n",
      "|289111543|                2|75632644|cc8ba765-6252-475...|2023-03-03 23:20:...|16844612|           null|                null|Evening all. I'm ...|  CC BY-SA 4.0|\n",
      "|289111545|                1|75632644|cc8ba765-6252-475...|2023-03-03 23:20:...|16844612|           null|                null|Ionic react liste...|  CC BY-SA 4.0|\n",
      "|289111546|                3|75632644|cc8ba765-6252-475...|2023-03-03 23:20:...|16844612|           null|                null|&lt;reactjs&gt;&l...|  CC BY-SA 4.0|\n",
      "|289111549|                5|75632449|376907c2-f709-459...|2023-03-03 23:20:...| 6496562|           null|deleted 3 charact...|Could you please ...|  CC BY-SA 4.0|\n",
      "|289111550|                2|75632645|de57b7a3-155e-408...|2023-03-03 23:20:...|21096899|           null|                null|I was studying fo...|  CC BY-SA 4.0|\n",
      "|289111552|                1|75632645|de57b7a3-155e-408...|2023-03-03 23:20:...|21096899|           null|                null|How do I access a...|  CC BY-SA 4.0|\n",
      "|289111553|                3|75632645|de57b7a3-155e-408...|2023-03-03 23:20:...|21096899|           null|                null|&lt;java&gt;&lt;o...|  CC BY-SA 4.0|\n",
      "|289111554|               66|75632645|de57b7a3-155e-408...|2023-03-03 23:20:...|21096899|           null|                null|                null|          null|\n",
      "|289111557|                2|75632646|ee5873f0-923f-45d...|2023-03-03 23:20:...|21329022|           null|                null|see man shutdown....|  CC BY-SA 4.0|\n",
      "|289111559|                5|75631470|7bf25a91-4570-4e6...|2023-03-03 23:20:...|  889053|           null|added 900 charact...|I am trying to cr...|  CC BY-SA 4.0|\n",
      "|289111562|                5|75632637|c1e95d2e-21c2-472...|2023-03-03 23:20:...| 1491895|           null|convert to stack ...|On Chrome and Fir...|  CC BY-SA 4.0|\n",
      "|289111563|                5|75632645|c00217e7-5198-455...|2023-03-03 23:21:...|21096899|           null|added 3 character...|I was studying fo...|  CC BY-SA 4.0|\n",
      "|289111564|                5|75632601|2ae30cf2-6da8-495...|2023-03-03 23:21:...| 4452265|           null|added 45 characte...|If `ed` is availa...|  CC BY-SA 4.0|\n",
      "|289111565|                5|59436336|7da14079-a0d2-411...|2023-03-03 23:21:...|  539251|           null|deleted 5 charact...|sqrt_five = 5 ** ...|  CC BY-SA 4.0|\n",
      "|289111567|                5|49742334|a2e0c93d-31cc-411...|2023-03-03 23:21:...| 7123660|           null|  Improve formatting|```bash&#xD;&#xA;...|  CC BY-SA 4.0|\n",
      "|289111568|                5|75632561|50c14e2a-cdae-46f...|2023-03-03 23:21:...| 6771046|           null|added 18 characte...|&gt; _What does t...|  CC BY-SA 4.0|\n",
      "|289111569|                2|75632647|5a0e5315-9c84-451...|2023-03-03 23:21:...| 1060673|           null|                null|So this will prov...|  CC BY-SA 4.0|\n",
      "|289111571|                1|75632647|5a0e5315-9c84-451...|2023-03-03 23:21:...| 1060673|           null|                null|How to track grap...|  CC BY-SA 4.0|\n",
      "|289111572|                3|75632647|5a0e5315-9c84-451...|2023-03-03 23:21:...| 1060673|           null|                null|&lt;java&gt;&lt;a...|  CC BY-SA 4.0|\n",
      "|289111575|                5|  539939|ca1056eb-1213-48b...|2023-03-03 23:21:...|  472495|           null|Re-para, fix typo...|I'm trying to ext...|  CC BY-SA 4.0|\n",
      "|289111576|                6|  539939|ca1056eb-1213-48b...|2023-03-03 23:21:...|  472495|           null|Re-para, fix typo...|&lt;c++&gt;&lt;re...|  CC BY-SA 4.0|\n",
      "|289111578|                5|75545016|f9bc7d2d-5ab0-4bb...|2023-03-03 23:21:...|16631852|           null|deleted 27 charac...|Read [this chines...|  CC BY-SA 4.0|\n",
      "|289111579|                2|75632648|2ef4a0a5-5017-415...|2023-03-03 23:21:...| 3443037|           null|                null|In the __init__ m...|  CC BY-SA 4.0|\n",
      "|289111581|                5|75632526|710d72da-4ba1-47a...|2023-03-03 23:21:...|21328877|           null|deleted 2 charact...|I can easily get ...|  CC BY-SA 4.0|\n",
      "|289111584|                5|69964189|6c6b1aeb-60fa-4e9...|2023-03-03 23:22:...|  652038|           null|added 3175 charac...|[`Channel`](https...|  CC BY-SA 4.0|\n",
      "|289111585|                2|75632649|9adf345c-44b6-41c...|2023-03-03 23:22:...| 1191247|           null|                null|Unless your image...|  CC BY-SA 4.0|\n",
      "|289111587|                4|75545016|f9bc7d2d-5ab0-4bb...|2023-03-03 23:21:...|16631852|           null|deleted 27 charac...|How access Window...|  CC BY-SA 4.0|\n",
      "|289111588|                2|75632650|96279cfb-6431-41e...|2023-03-03 23:22:...| 9723036|           null|                null|You solution woul...|  CC BY-SA 4.0|\n",
      "|289111590|                2|75632651|e6546c1e-3fc5-458...|2023-03-03 23:22:...| 9200675|           null|                null|About **the JSON ...|  CC BY-SA 4.0|\n",
      "|289111592|               10|75632619|6bacc80f-6c25-43c...|2023-03-03 23:22:...|      -1|           null|                 102|{&quot;Voters&quo...|          null|\n",
      "|289111593|                2|75632652|92472ba8-cad0-463...|2023-03-03 23:22:...|12873984|           null|                null|I'm trying to cho...|  CC BY-SA 4.0|\n",
      "|289111595|                1|75632652|92472ba8-cad0-463...|2023-03-03 23:22:...|12873984|           null|                null|What the differen...|  CC BY-SA 4.0|\n",
      "|289111596|                3|75632652|92472ba8-cad0-463...|2023-03-03 23:22:...|12873984|           null|                null|&lt;azure&gt;&lt;...|  CC BY-SA 4.0|\n",
      "|289111599|                2|75632653|d13635d9-ac89-4cf...|2023-03-03 23:23:...| 1020076|           null|                null|In case someone e...|  CC BY-SA 4.0|\n",
      "|289111601|                2|75632654|58ed5da3-32cb-49c...|2023-03-03 23:23:...| 2166798|           null|                null|You can achieve y...|  CC BY-SA 4.0|\n",
      "|289111603|                5|  503242|60637677-902b-490...|2023-03-03 23:23:...|  472495|           null|Fix case, fix spa...|I must be dumb (a...|  CC BY-SA 4.0|\n",
      "|289111604|                5|75632645|19ab0082-27ed-457...|2023-03-03 23:23:...|  522444|           null|         edited body|I was studying fo...|  CC BY-SA 4.0|\n",
      "|289111605|                5|75632646|eee9a7c5-8402-4a4...|2023-03-03 23:23:...|21329022|           null|added 21 characte...|see man shutdown....|  CC BY-SA 4.0|\n",
      "|289111606|                2|75632655|4cc85142-9ee4-410...|2023-03-03 23:23:...|  124367|           null|                null|Using MS SSMS v18...|  CC BY-SA 4.0|\n",
      "|289111608|                1|75632655|4cc85142-9ee4-410...|2023-03-03 23:23:...|  124367|           null|                null|TSQL msdb.dbo.sp_...|  CC BY-SA 4.0|\n",
      "|289111609|                3|75632655|4cc85142-9ee4-410...|2023-03-03 23:23:...|  124367|           null|                null|&lt;sql-server&gt...|  CC BY-SA 4.0|\n",
      "|289111612|                2|75632656|7c8c372d-527d-42c...|2023-03-03 23:23:...|21329010|           null|                null|I am trying to ge...|  CC BY-SA 4.0|\n",
      "|289111614|                1|75632656|7c8c372d-527d-42c...|2023-03-03 23:23:...|21329010|           null|                null|Getting the filep...|  CC BY-SA 4.0|\n",
      "|289111615|                3|75632656|7c8c372d-527d-42c...|2023-03-03 23:23:...|21329010|           null|                null|&lt;node.js&gt;&l...|  CC BY-SA 4.0|\n",
      "|289111616|               66|75632656|7c8c372d-527d-42c...|2023-03-03 23:23:...|21329010|           null|                null|                null|          null|\n",
      "|289111619|                5|75632224|a646532d-0625-420...|2023-03-03 23:23:...|21327808|           null|added 75 characte...|Edit: strtok() pr...|  CC BY-SA 4.0|\n",
      "|289111620|                5|75632584|25a29225-1d1f-408...|2023-03-03 23:23:...|  652038|           null|added 180 charact...|Other people are ...|  CC BY-SA 4.0|\n",
      "|289111622|                2|75632657|8d2d335d-b896-405...|2023-03-03 23:24:...| 7429447|           null|                null|Once you invoke a...|  CC BY-SA 4.0|\n",
      "|289111624|                2|75632658|fd9fde64-2a13-48e...|2023-03-03 23:24:...| 5529976|           null|                null|I found this to b...|  CC BY-SA 4.0|\n",
      "|289111626|                2|75632659|4abeea79-7836-4c4...|2023-03-03 23:24:...|12171892|           null|                null|From your output ...|  CC BY-SA 4.0|\n",
      "|289111628|                2|75632660|3c0456af-7d0d-418...|2023-03-03 23:24:...|21313424|           null|                null|It looks like a ....|  CC BY-SA 4.0|\n",
      "|289111631|                2|75632661|bf364936-bc4e-448...|2023-03-03 23:24:...| 8739121|           null|                null|I'm sorry for pas...|  CC BY-SA 4.0|\n",
      "|289111633|                1|75632661|bf364936-bc4e-448...|2023-03-03 23:24:...| 8739121|           null|                null|Javascript URL fo...|  CC BY-SA 4.0|\n",
      "|289111634|                3|75632661|bf364936-bc4e-448...|2023-03-03 23:24:...| 8739121|           null|                null|&lt;javascript&gt...|  CC BY-SA 4.0|\n",
      "|289111637|                2|75632662|7826a0d3-3c1c-466...|2023-03-03 23:24:...|20558135|           null|                null|I watched a [vide...|  CC BY-SA 4.0|\n",
      "|289111639|                1|75632662|7826a0d3-3c1c-466...|2023-03-03 23:24:...|20558135|           null|                null|Shuffling array a...|  CC BY-SA 4.0|\n",
      "|289111640|                3|75632662|7826a0d3-3c1c-466...|2023-03-03 23:24:...|20558135|           null|                null|&lt;java&gt;&lt;a...|  CC BY-SA 4.0|\n",
      "|289111641|               66|75632662|7826a0d3-3c1c-466...|2023-03-03 23:24:...|20558135|           null|                null|                null|          null|\n",
      "|289111644|                2|75632663|f6482b0a-26e9-4f5...|2023-03-03 23:24:...|11275087|           null|                null|I am confused on ...|  CC BY-SA 4.0|\n",
      "|289111646|                1|75632663|f6482b0a-26e9-4f5...|2023-03-03 23:24:...|11275087|           null|                null|Does friend decla...|  CC BY-SA 4.0|\n",
      "|289111647|                3|75632663|f6482b0a-26e9-4f5...|2023-03-03 23:24:...|11275087|           null|                null|&lt;c++&gt;&lt;in...|  CC BY-SA 4.0|\n",
      "|289111650|                2|75632664|fd50214f-5714-497...|2023-03-03 23:24:...|11680056|           null|                null|You can do someth...|  CC BY-SA 4.0|\n",
      "|289111652|               33|75598376|ef517c21-f6f2-4cc...|2023-03-03 23:25:...| 4496300|           null|              306484|                null|          null|\n",
      "+---------+-----------------+--------+--------------------+--------------------+--------+---------------+--------------------+--------------------+--------------+\n",
      "only showing top 100 rows\n",
      "\n"
     ]
    },
    {
     "name": "stderr",
     "output_type": "stream",
     "text": [
      "\r",
      "                                                                                \r"
     ]
    }
   ],
   "source": [
    "df_post_history.show(100)"
   ]
  },
  {
   "cell_type": "markdown",
   "id": "d0e23e8a",
   "metadata": {
    "slideshow": {
     "slide_type": "slide"
    }
   },
   "source": [
    "## 5. `Tags` Data "
   ]
  },
  {
   "cell_type": "code",
   "execution_count": 18,
   "id": "4001ced1",
   "metadata": {
    "slideshow": {
     "slide_type": "slide"
    }
   },
   "outputs": [
    {
     "name": "stdout",
     "output_type": "stream",
     "text": [
      "No. of Records in the Tags table : 64465\n"
     ]
    }
   ],
   "source": [
    "print(f\"No. of Records in the Tags table : {df_tags.count()}\")"
   ]
  },
  {
   "cell_type": "code",
   "execution_count": 19,
   "id": "3e18f23e",
   "metadata": {
    "slideshow": {
     "slide_type": "slide"
    }
   },
   "outputs": [
    {
     "name": "stderr",
     "output_type": "stream",
     "text": [
      "\r",
      "[Stage 33:>                                                         (0 + 1) / 1]\r"
     ]
    },
    {
     "name": "stdout",
     "output_type": "stream",
     "text": [
      "+-----+--------------------+-----+-------------+----------+\n",
      "|   Id|             TagName|Count|ExcerptPostId|WikiPostId|\n",
      "+-----+--------------------+-----+-------------+----------+\n",
      "|97665|                sidr|   52|     19815160|  19815159|\n",
      "|97667|              deedle|  271|     19796305|  19796304|\n",
      "|97671|  nsincrementalstore|   16|         null|      null|\n",
      "|97673|       compound-type|    6|         null|      null|\n",
      "|97679|        managed-file|    7|         null|      null|\n",
      "|97681|            pushapps|   12|     19948129|  19948128|\n",
      "|97682|    multichoiceitems|   70|     23291906|  23291905|\n",
      "|97683|           sttwitter|   60|     19821491|  19821490|\n",
      "|97684|            weighttp|    2|     47309724|  47309723|\n",
      "|97686|    samsung-touchwiz|   36|     19947960|  19947959|\n",
      "|97689|                juzu|    2|     19810458|  19810457|\n",
      "|97691|         ldap-client|   29|     19810586|  19810585|\n",
      "|97693|         semantic-ui| 2734|     20095688|  20095687|\n",
      "|97694|   uikit-transitions|   18|         null|      null|\n",
      "|97696|    membershipreboot|   47|     24009831|  24009830|\n",
      "|97701|               aunit|    8|     19824174|  19824173|\n",
      "|97702|       cassandra-2.0| 1327|     20447422|  20447421|\n",
      "|97704|      pre-signed-url|  541|     43171371|  43171370|\n",
      "|97707|     tidal-scheduler|   14|     19824290|  19824289|\n",
      "|97710|yahoo-merchant-store|    3|         null|      null|\n",
      "|97716|    internal-storage|  274|     19947080|  19947079|\n",
      "|97717|              jsoniq|   36|     19824115|  19824114|\n",
      "|97718|       kendo-tooltip|   71|     32181154|  32181153|\n",
      "|97720|         ansi-sql-92|   30|         null|      null|\n",
      "|97726|              plotly|13245|     20056041|  20056040|\n",
      "|97732|             qlayout|  238|     20748692|  20748691|\n",
      "|97734|   sharepoint-online| 3657|     19946967|  19946966|\n",
      "|97735|     simpowersystems|   14|     19831545|  19831544|\n",
      "|97738|             atsam3x|   21|         null|      null|\n",
      "|97739|            pdfminer|  489|     19844246|  19844245|\n",
      "|97745|   kendo-multiselect|  181|     36343715|  36343714|\n",
      "|97748|             makecab|    6|     25591598|  25591597|\n",
      "|97755|            svsocket|    5|     19841631|  19841630|\n",
      "|97759|               slurm| 1618|     19844205|  19844204|\n",
      "|97761|            nmea2000|    6|     19849808|  19849807|\n",
      "|97762|       here-launcher|    4|     22929558|  22929557|\n",
      "|97764|          s-function|  129|     23120130|  23120129|\n",
      "|97765|              attask|  183|     20707178|  20707177|\n",
      "|97767|         jenkins-cli|  675|     19846726|  19846725|\n",
      "|97768|               picoc|    3|     19858535|  19858534|\n",
      "|97770|              pre-3d|    4|         null|      null|\n",
      "|97771|               nupic|   34|     19851307|  19851306|\n",
      "|97776|       eldarion-ajax|    4|         null|      null|\n",
      "|97778|         hana-studio|   56|     19856312|  19856311|\n",
      "|97779|             phreeze|    3|     20611646|  20611645|\n",
      "|97783|       html.labelfor|    8|         null|      null|\n",
      "|97786|               sdata|   15|     19862622|  19862621|\n",
      "|97787|    asp.net-web-api2| 7684|     23005033|  23005032|\n",
      "|97790|      comdat-folding|    6|         null|      null|\n",
      "|97791|                xpdo|   21|     19864601|  19864600|\n",
      "|97792|           pry-rails|   34|     56595390|  56595389|\n",
      "|97794|              mxbean|   22|     19952517|  19952516|\n",
      "|97798|      android-kernel|  213|     19946876|  19946875|\n",
      "|97801|        biztalk-2013|  425|     20041377|  20041376|\n",
      "|97803|             picosat|    2|     19871365|  19871364|\n",
      "|97804|     revokeobjecturl|   16|     20041331|  20041330|\n",
      "|97805|double-compare-an...|    4|     20041317|  20041316|\n",
      "|97806|     brokeredmessage|   49|     20041294|  20041293|\n",
      "|97808|              divmod|   19|     19873940|  19873939|\n",
      "|97815| sublime-text-plugin|  764|     20342240|  20342239|\n",
      "|97817|                jsog|   15|     20040940|  20040939|\n",
      "|97818|              pow.cx|    5|     20040909|  20040908|\n",
      "|97819|             skscene|  655|     19952385|  19952384|\n",
      "|97820|      skphysicsworld|   61|     19952444|  19952443|\n",
      "|97823|            spf13vim|   29|     20040851|  20040850|\n",
      "|97825|              handjs|    1|     19885691|  19885690|\n",
      "|97829|               fiona|  154|     20040828|  20040827|\n",
      "|97831|     typesafe-config|  224|     19888624|  19888623|\n",
      "|97832|           spray-dsl|   43|     20040815|  20040814|\n",
      "|97833|             negamax|   57|     20040769|  20040768|\n",
      "|97835|           php-pgsql|   86|     19890852|  19890851|\n",
      "|97851|       flask-sockets|   39|     20611600|  20611599|\n",
      "|97853|              tactic|    7|     20040744|  20040743|\n",
      "|97855|              mapsvg|    8|     19899886|  19899885|\n",
      "|97856|        ember.select|   17|     20040708|  20040707|\n",
      "|97858|         html5-async|    2|     19921750|  19921749|\n",
      "|97859|             lintian|    9|     19962830|  19962829|\n",
      "|97862|     table-splitting|   32|         null|      null|\n",
      "|97863|       angular-kendo|  103|     20040686|  20040685|\n",
      "|97866|             finatra|   46|     20040673|  20040672|\n",
      "|97867|         gameclosure|   16|     19905738|  19905737|\n",
      "|97868|       jdbc-postgres|   47|     20005751|  20005750|\n",
      "|97872|            foxycart|    5|     33241723|  33241722|\n",
      "|97878|   custom-transition|   84|     19946627|  19946626|\n",
      "|97879|        erlang-heart|    3|     19949643|  19949642|\n",
      "|97880|      lucene-filters|    4|     20040594|  20040593|\n",
      "|97884|                pfbc|   12|     19949757|  19949756|\n",
      "|97885|             wcag2.0|  256|     19969843|  19969842|\n",
      "|97890|           globalize|  134|     19921579|  19921578|\n",
      "|97895|  bootstrap-sortable|    5|     19924417|  19924416|\n",
      "|97901|      equalsverifier|   10|     19952776|  19952775|\n",
      "|97902|               imake|    5|     19953413|  19953412|\n",
      "|97903|             cleardb|  251|     19928043|  19928042|\n",
      "|97907|                mosh|   26|     19929363|  19929362|\n",
      "|97908|          mockachino|    2|     19929695|  19929694|\n",
      "|97912|              azcopy|  303|     19949425|  19949424|\n",
      "|97914|          herestring|   49|     19949502|  19949501|\n",
      "|97917|          sql-search|   11|     19946456|  19946455|\n",
      "|97919|          plotmatrix|   10|     19949310|  19949309|\n",
      "|97921|      reflectinsight|    3|     19946314|  19946313|\n",
      "+-----+--------------------+-----+-------------+----------+\n",
      "only showing top 100 rows\n",
      "\n"
     ]
    },
    {
     "name": "stderr",
     "output_type": "stream",
     "text": [
      "\r",
      "                                                                                \r"
     ]
    }
   ],
   "source": [
    "df_tags.show(100)"
   ]
  },
  {
   "cell_type": "markdown",
   "id": "14caf232",
   "metadata": {
    "slideshow": {
     "slide_type": "slide"
    }
   },
   "source": [
    "## 6. `Users` Data"
   ]
  },
  {
   "cell_type": "code",
   "execution_count": 20,
   "id": "b6946b0d",
   "metadata": {
    "slideshow": {
     "slide_type": "slide"
    }
   },
   "outputs": [
    {
     "name": "stderr",
     "output_type": "stream",
     "text": [
      "\r",
      "[Stage 34:===================================================>    (36 + 3) / 39]\r"
     ]
    },
    {
     "name": "stdout",
     "output_type": "stream",
     "text": [
      "No. of Records in the Users table : 19942787\n"
     ]
    },
    {
     "name": "stderr",
     "output_type": "stream",
     "text": [
      "\r",
      "                                                                                \r"
     ]
    }
   ],
   "source": [
    "print(f\"No. of Records in the Users table : {df_users.count()}\")"
   ]
  },
  {
   "cell_type": "code",
   "execution_count": 21,
   "id": "63bbd77a",
   "metadata": {
    "slideshow": {
     "slide_type": "slide"
    }
   },
   "outputs": [
    {
     "name": "stderr",
     "output_type": "stream",
     "text": [
      "\r",
      "[Stage 37:>                                                         (0 + 1) / 1]\r"
     ]
    },
    {
     "name": "stdout",
     "output_type": "stream",
     "text": [
      "+--------+----------+--------------------+-------------------------------------+--------------------+--------------------+-------------+----------------------------+-----+-------+---------+---------------+---------+\n",
      "|      Id|Reputation|        CreationDate|                          DisplayName|      LastAccessDate|          WebsiteUrl|     Location|                     AboutMe|Views|UpVotes|DownVotes|ProfileImageUrl|AccountId|\n",
      "+--------+----------+--------------------+-------------------------------------+--------------------+--------------------+-------------+----------------------------+-----+-------+---------+---------------+---------+\n",
      "|18872189|         1|2022-04-20 01:35:...|                                 Mark|2022-04-20 01:35:...|                null|         null|                        null|    0|      0|        0|           null| 25012836|\n",
      "|18872190|         1|2022-04-20 01:35:...|                             MSFTMish|2023-02-08 19:06:...|                null|         null|                        null|    0|      0|        0|           null| 25012838|\n",
      "|18872191|         1|2022-04-20 01:36:...|                             sso8ikqo|2022-04-20 01:36:...|                null|         null|                        null|    0|      0|        0|           null| 25012839|\n",
      "|18872192|         1|2022-04-20 01:36:...|           鞍山能约的女人漂亮上门出台|2022-04-20 01:36:...|                    |         null|     &lt;p&gt;鞍山(┿レ):&...|    0|      0|        0|           null| 25012840|\n",
      "|18872193|         1|2022-04-20 01:36:...|                               farmud|2022-12-29 15:03:...|                null|         null|                        null|    0|      0|        0|           null| 25012841|\n",
      "|18872194|         1|2022-04-20 01:36:...|          固镇哪里有特殊按摩-腾讯汽车|2022-04-20 01:36:...|                    |         null|&lt;p&gt;固镇哪里有特殊按...|    0|      0|        0|           null| 25012842|\n",
      "|18872195|         1|2022-04-20 01:36:...|                    rholgate-fountain|2023-03-02 18:47:...|                null|         null|                        null|    0|      0|        0|           null| 25012843|\n",
      "|18872196|         1|2022-04-20 01:36:...|                                Metri|2022-08-28 03:30:...|                null|         null|        &lt;p&gt;time.sle...|    0|      0|        0|           null| 23212783|\n",
      "|18872197|         1|2022-04-20 01:36:...|       东营市怎么找美女妹子能上门着叫|2022-04-20 01:36:...|                    |         null|     &lt;p&gt;【徴82⒉0へ⒋...|    0|      0|        0|           null| 25012844|\n",
      "|18872198|         1|2022-04-20 01:36:...|             盐津美女妹子能上门着叫厮|2022-04-20 01:36:...|                    |         null|      &lt;p&gt;【徴7⒐12⑦⒉...|    0|      0|        0|           null| 25012845|\n",
      "|18872199|         1|2022-04-20 01:37:...|                               杨彬牟|2022-05-30 06:46:...|                null|         null|                        null|    0|      0|        0|           null| 25012846|\n",
      "|18872200|         1|2022-04-20 01:37:...|                                 LcPn|2022-04-20 01:37:...|                null|         null|                        null|    0|      0|        0|           null| 25012847|\n",
      "|18872201|         1|2022-04-20 01:37:...|                       Mygind Feldman|2022-04-20 01:37:...|http://159.223.15...|         null|        &lt;p&gt;arti dar...|    0|      0|        0|           null| 25012848|\n",
      "|18872202|         1|2022-04-20 01:37:...|                        Nabil Mubarak|2022-04-20 01:37:...|                null|         null|                        null|    0|      0|        0|           null| 25012849|\n",
      "|18872203|         1|2022-04-20 01:37:...|                                E D E|2022-04-20 19:43:...|                null|         null|                        null|    0|      0|        0|           null| 25012850|\n",
      "|18872204|         1|2022-04-20 01:37:...|     青岛崂山区大保健也有不正规服务吗|2022-04-20 01:37:...|                    |         null|  &lt;p&gt;青岛崂山区[葳6...|    0|      0|        0|           null| 25012851|\n",
      "|18872205|         1|2022-04-20 01:37:...|              嘉定美女妹子能上门着叫k|2022-04-20 01:37:...|                    |         null|      &lt;p&gt;【徴⑦⒐12⑦⒉...|    0|      0|        0|           null| 25012852|\n",
      "|18872206|         1|2022-04-20 01:37:...|                           broughnljq|2022-04-20 01:37:...|http://jasperkbpu...|         null|        &lt;p&gt;Dr. Glic...|    0|      0|        0|           null| 25012853|\n",
      "|18872207|         1|2022-04-20 01:38:...|                             Ayanna T|2022-04-20 01:38:...|                null|         null|                        null|    0|      0|        0|           null| 25012854|\n",
      "|18872208|         1|2022-04-20 01:38:...|                     norlyne macargas|2022-04-20 01:38:...|                null|         null|                        null|    5|      0|        0|           null| 25012855|\n",
      "|18872209|         1|2022-04-20 01:38:...|                               symons|2022-06-07 00:47:...|                null|         null|                        null|    0|      0|        0|           null| 25012856|\n",
      "|18872210|         1|2022-04-20 01:38:...|                            maggieoro|2022-04-25 02:54:...|                null|         null|                        null|    0|      0|        0|           null| 25012857|\n",
      "|18872211|         1|2022-04-20 01:38:...|                                ththf|2022-07-02 08:37:...|                null|         null|                        null|    0|      0|        0|           null| 25012858|\n",
      "|18872212|         1|2022-04-20 01:38:...|                   本溪哪里有大活保健|2022-04-20 01:38:...|                    |         null|     &lt;p&gt;本溪(┿レ):&...|    0|      0|        0|           null| 25012860|\n",
      "|18872213|         1|2022-04-20 01:38:...|          长沙同城的足疗约妹子-阿里云|2022-04-20 01:38:...|                    |         null|&lt;p&gt;长沙同城的足疗约...|    0|      0|        0|           null| 25012861|\n",
      "|18872214|         1|2022-04-20 01:38:...|                       Afnan Magableh|2022-04-20 10:27:...|                null|         null|                        null|    0|      0|        0|           null| 25012862|\n",
      "|18872215|         1|2022-04-20 01:39:...|       威海市怎么找美女妹子能上门着叫|2022-04-20 01:39:...|                    |         null|     &lt;p&gt;【徴⒏2⒉0へ⒋...|    0|      0|        0|           null| 25012866|\n",
      "|18872216|         1|2022-04-20 01:39:...|           朝阳大保健也有不正规服务吗|2022-04-20 01:39:...|                    |         null|     &lt;p&gt;朝阳(┿レ):&...|    0|      0|        0|           null| 25012867|\n",
      "|18872217|         1|2022-04-20 01:39:...|              金山美女妹子能上门着叫k|2022-04-20 01:39:...|                    |         null|      &lt;p&gt;【徴⑦⒐12⑦⒉...|    0|      0|        0|           null| 25012868|\n",
      "|18872218|        11|2022-04-20 01:39:...|                              sshaple|2022-06-12 01:32:...|                null|         null|                        null|    0|      0|        0|           null| 25012869|\n",
      "|18872219|        11|2022-04-20 01:39:...|                         Brian Stiner|2022-06-07 21:10:...|                    |         null|                            |    3|      0|        0|           null| 25012870|\n",
      "|18872220|         1|2022-04-20 01:39:...|             大关美女妹子能上门着叫掀|2022-04-20 01:39:...|                    |         null|      &lt;p&gt;【徴7⒐12⑦⒉...|    0|      0|        0|           null| 25012871|\n",
      "|18872221|         1|2022-04-20 01:39:...|                        Henry Glanios|2022-04-20 13:16:...|                null|         null|                        null|    0|      0|        0|           null| 25012872|\n",
      "|18872222|         1|2022-04-20 01:39:...| 深圳龙岗区附近哪里休闲按摩会所好-...|2022-04-20 01:39:...|                    |         null|&lt;p&gt;深圳龙岗区附近哪...|    0|      0|        0|           null| 25012873|\n",
      "|18872223|         1|2022-04-20 01:39:...|                        Monu Don Yaar|2022-04-30 09:59:...|                null|         null|                        null|    0|      0|        0|           null| 25012874|\n",
      "|18872224|         1|2022-04-20 01:39:...|                      Tavvi Armstrong|2022-04-20 01:39:...|                null|         null|                        null|    6|      0|        0|           null| 25012875|\n",
      "|18872225|         1|2022-04-20 01:39:...|                             LFALLENJ|2022-05-07 04:50:...|                null|         null|                        null|    0|      0|        0|           null| 25012876|\n",
      "|18872226|         1|2022-04-20 01:40:...|                          Prathibha N|2022-07-13 06:46:...|                null|         null|                        null|    1|      0|        0|           null| 25012877|\n",
      "|18872227|         1|2022-04-20 01:40:...|                        Mcmahon Kudsk|2022-04-20 01:40:...|http://137.184.22...|         null|        &lt;p&gt;taruhan ...|    0|      0|        0|           null| 25012878|\n",
      "|18872228|         1|2022-04-20 01:40:...|                 wiersze wypracowanie|2022-04-20 01:40:...|https://klasowesp...|         null|        &lt;p&gt;Przyroda...|    0|      0|        0|           null| 25012879|\n",
      "|18872229|         1|2022-04-20 01:40:...|       文登市怎么找美女妹子能上门着叫|2022-04-20 01:40:...|                    |         null|     &lt;p&gt;【徴⒏2⒉0へ⒋...|    0|      0|        0|           null| 25012881|\n",
      "|18872230|        59|2022-04-20 01:40:...|                     Damilola Ogundun|2023-02-10 16:01:...|                null|         null|                        null|   28|      3|        0|           null| 25012882|\n",
      "|18872231|         1|2022-04-20 01:41:...|                     Denton Magnusson|2022-04-20 02:25:...|https://www79.zip...|         null|        &lt;p&gt;Hyperlin...|    0|      0|        0|           null| 25012883|\n",
      "|18872232|         1|2022-04-20 01:41:...|        阜新真有保健ktv公主睡觉多少钱|2022-04-20 01:41:...|                    |         null|     &lt;p&gt;阜新(┿レ):&...|    0|      0|        0|           null| 25012884|\n",
      "|18872233|         1|2022-04-20 01:41:...|                       Michael Saxton|2022-04-20 01:41:...|                null|         null|                        null|    0|      0|        0|           null| 25012885|\n",
      "|18872234|         1|2022-04-20 01:41:...|                         nonstopbossc|2022-04-20 01:41:...|https://nonstopbo...|         null|        &lt;p&gt;The affi...|    1|      0|        0|           null| 25012886|\n",
      "|18872235|         1|2022-04-20 01:41:...|                       Suellen Matias|2022-07-15 22:19:...|                null|         null|                        null|    0|      0|        0|           null| 16265722|\n",
      "|18872236|         1|2022-04-20 01:41:...|             永善美女妹子能上门着叫兔|2022-04-20 01:41:...|                    |         null|      &lt;p&gt;【徴7⒐12⑦⒉...|    0|      0|        0|           null| 25012888|\n",
      "|18872237|         1|2022-04-20 01:41:...|                            shadowtez|2022-05-12 02:54:...|                null|         null|                        null|    0|      0|        0|           null| 25012889|\n",
      "|18872238|         1|2022-04-20 01:41:...|                           Wulff Broe|2022-04-20 01:41:...|http://137.184.22...|         null|        &lt;p&gt;trik pil...|    0|      0|        0|           null| 25012890|\n",
      "|18872239|         1|2022-04-20 01:42:...|                            lainetplt|2022-04-20 01:42:...|                null|         null|                        null|    0|      0|        0|           null| 25012891|\n",
      "|18872240|         1|2022-04-20 01:42:...|    五河附近哪里休闲按摩会所好-芒果TV|2022-04-20 01:42:...|                    |         null|&lt;p&gt;五河附近哪里休闲...|    0|      0|        0|           null| 25012892|\n",
      "|18872241|         1|2022-04-20 01:42:...|                                Sabes|2023-03-03 00:22:...|                    |         null|                            |    0|      0|        0|           null| 25012893|\n",
      "|18872242|         1|2022-04-20 01:42:...|                         alecmichaelw|2022-08-22 23:31:...|                null|         null|                        null|    0|      0|        0|           null| 18903060|\n",
      "|18872243|         1|2022-04-20 01:42:...|                                 Ryan|2022-04-29 15:41:...|                null|         null|                        null|    0|      0|        0|           null| 25012894|\n",
      "|18872244|         1|2022-04-20 01:42:...|       枣庄市怎么找美女妹子能上门着叫|2022-04-20 01:42:...|                    |         null|     &lt;p&gt;【徴8⒉20へ⒋...|    0|      0|        0|           null| 25012895|\n",
      "|18872245|         1|2022-04-20 01:42:...|              南汇美女妹子能上门着叫k|2022-04-20 01:42:...|                    |         null|      &lt;p&gt;【徴⑦⒐12⑦⒉...|    0|      0|        0|           null| 25012896|\n",
      "|18872246|         1|2022-04-20 01:42:...|                 葫芦岛真找大保健服务|2022-04-20 01:42:...|                    |         null|    &lt;p&gt;葫芦岛(┿レ):...|    0|      0|        0|           null| 25012897|\n",
      "|18872247|         1|2022-04-20 01:43:...|                                 Tang|2022-04-20 04:45:...|                null|         null|                        null|    0|      0|        0|           null| 25012898|\n",
      "|18872248|         1|2022-04-20 01:43:...|                       Swapnil Channe|2022-06-10 05:22:...|                null|         null|                        null|    0|      0|        0|           null| 25012900|\n",
      "|18872249|         1|2022-04-20 01:43:...|     遵化养生保健SPA按摩会所-新浪财经|2022-04-20 01:43:...|                    |         null|  &lt;p&gt;遵化养生保健SP...|    0|      0|        0|           null| 25012901|\n",
      "|18872250|         1|2022-04-20 01:43:...|深圳布吉桑拿品茶按摩保健服务-百度百科|2022-04-20 01:43:...|                    |         null|&lt;p&gt;深圳布吉桑拿品茶...|    0|      0|        0|           null| 25012902|\n",
      "|18872251|         1|2022-04-20 01:44:...|                       Panduro Kramer|2022-04-20 02:44:...|https://liverkara...|         null|        &lt;p&gt;Hookup O...|    0|      0|        0|           null| 25012903|\n",
      "|18872252|         1|2022-04-20 01:44:...|             绥江美女妹子能上门着叫凭|2022-04-20 01:44:...|                    |         null|      &lt;p&gt;【徴7⒐12⑦⒉...|    0|      0|        0|           null| 25012904|\n",
      "|18872253|         1|2022-04-20 01:44:...|                 辽阳同城的足疗约妹子|2022-04-20 01:44:...|                    |         null|     &lt;p&gt;辽阳(┿レ):&...|    0|      0|        0|           null| 25012905|\n",
      "|18872254|         1|2022-04-20 01:44:...|                          dabforever7|2022-04-20 01:44:...|                null|         null|                        null|    0|      0|        0|           null| 25012906|\n",
      "|18872255|         1|2022-04-20 01:44:...|                         Benson Avila|2022-04-20 02:36:...|https://crackweek...|         null|        &lt;p&gt;Choosing...|    0|      0|        0|           null| 25012907|\n",
      "|18872256|         1|2022-04-20 01:44:...|                 Mohamed Abd Elfattah|2022-07-26 23:51:...|                null|         null|                        null|    0|      0|        0|           null| 25012910|\n",
      "|18872257|         1|2022-04-20 01:44:...|                                 reem|2022-04-21 18:52:...|                null|         null|                        null|    1|      0|        0|           null| 25012911|\n",
      "|18872258|         1|2022-04-20 01:44:...|                            Faiz Olam|2023-02-20 11:45:...|                    |         null|                            |    0|      0|        0|           null| 25012912|\n",
      "|18872259|         1|2022-04-20 01:44:...|              青浦美女妹子能上门着叫k|2022-04-20 01:44:...|                    |         null|      &lt;p&gt;【徴⑦⒐12⑦⒉...|    0|      0|        0|           null| 25012913|\n",
      "|18872260|         1|2022-04-20 01:44:...|                            Pepe Diaz|2022-04-20 01:44:...|                null|         null|                        null|    0|      0|        0|           null| 25012914|\n",
      "|18872261|         1|2022-04-20 01:44:...|                            Leaooboxx|2022-05-24 08:22:...|                null|         null|                        null|    0|      0|        0|           null| 25012915|\n",
      "|18872262|         1|2022-04-20 01:44:...|       滕州市怎么找美女妹子能上门着叫|2022-04-20 01:44:...|                    |         null|     &lt;p&gt;【徴⒏2⒉0へ⒋...|    0|      0|        0|           null| 25012916|\n",
      "|18872263|         1|2022-04-20 01:45:...|        淮南桑拿品茶按摩保健服务-雪球|2022-04-20 01:45:...|                    |         null|&lt;p&gt;淮南桑拿品茶按摩...|    0|      0|        0|           null| 25012917|\n",
      "|18872264|         1|2022-04-20 01:45:...|                          Hazel Biron|2022-04-21 18:27:...|                null|         null|                        null|    0|      0|        0|           null| 25012918|\n",
      "|18872265|         1|2022-04-20 01:45:...|                     Reddymasu Ayusha|2022-04-20 04:07:...|                null|         null|                        null|    0|      0|        0|           null| 25012919|\n",
      "|18872266|         1|2022-04-20 01:45:...|             镇雄美女妹子能上门着叫只|2022-04-20 01:45:...|                    |         null|      &lt;p&gt;【徴7⒐12⑦⒉...|    0|      0|        0|           null| 25012920|\n",
      "|18872267|         1|2022-04-20 01:45:...|                 Moacir Nunes dos ...|2022-09-26 21:55:...|                null|         null|                        null|    0|      0|        0|           null| 25012921|\n",
      "|18872268|         1|2022-04-20 01:45:...|                                chenp|2022-05-26 06:57:...|                null|         null|                        null|    0|      0|        0|           null| 25012922|\n",
      "|18872269|         1|2022-04-20 01:45:...|                           Lê Yến Nhi|2022-04-20 01:45:...|                null|         null|                        null|    0|      0|        0|           null| 25012923|\n",
      "|18872270|         1|2022-04-20 01:45:...|                    Stephenson Sander|2022-04-20 04:57:...|https://blogfreel...|         null|        &lt;p&gt;Bodyboar...|    0|      0|        0|           null| 25012924|\n",
      "|18872271|         1|2022-04-20 01:46:...|                             09647881|2022-04-20 01:46:...|                null|         null|                        null|    0|      0|        0|           null| 25012925|\n",
      "|18872272|         1|2022-04-20 01:46:...|                        Bowling Starr|2022-04-20 01:46:...|https://crystal20...|         null|        &lt;p&gt;Trực Tiế...|    0|      0|        0|           null| 25012926|\n",
      "|18872273|         1|2022-04-20 01:46:...|                          Andri Zuzuw|2022-06-22 05:57:...|                null|         null|                        null|    0|      0|        0|           null| 25012927|\n",
      "|18872274|         1|2022-04-20 01:46:...|                                 kkkk|2022-04-20 01:46:...|                null|         null|                        null|    0|      0|        0|           null| 25012929|\n",
      "|18872275|         1|2022-04-20 01:46:...|                          jakerzhouxm|2022-04-20 01:46:...|                null|         null|                        null|    0|      0|        0|           null| 25012930|\n",
      "|18872276|         1|2022-04-20 01:46:...|                        rowanda saada|2022-04-20 01:46:...|https://streamizs...|Lille, France|        &lt;p&gt;Streamiz...|    1|      0|        0|           null| 25012931|\n",
      "|18872277|         1|2022-04-20 01:46:...|                               웅한조|2022-06-07 13:56:...|                null|         null|                        null|    0|      0|        0|           null| 25012932|\n",
      "|18872278|         1|2022-04-20 01:46:...|                             Lancelot|2022-05-27 17:36:...|                null|         null|                        null|    0|      0|        0|           null| 25012933|\n",
      "|18872279|         1|2022-04-20 01:46:...|                 Rhona Lee Arcebal...|2022-04-28 00:09:...|                null|         null|                        null|    0|      0|        0|           null| 25012934|\n",
      "|18872280|         1|2022-04-20 01:46:...|       日照市怎么找美女妹子能上门着叫|2022-04-20 01:46:...|                    |         null|     &lt;p&gt;【徴8⒉2Oへ⒋...|    0|      0|        0|           null| 25012935|\n",
      "|18872281|         1|2022-04-20 01:46:...|      凤台哪里有鸡店技师大保健-新浪网|2022-04-20 01:46:...|                    |         null|&lt;p&gt;凤台哪里有鸡店技...|    0|      0|        0|           null| 25012936|\n",
      "|18872282|         1|2022-04-20 01:46:...|                          santongding|2022-05-06 03:36:...|                null|         null|                        null|    0|      0|        0|           null| 25012937|\n",
      "|18872283|         1|2022-04-20 01:47:...|                                Saint|2022-04-20 03:24:...|                null|         null|                        null|    0|      0|        0|           null| 25012938|\n",
      "|18872284|         1|2022-04-20 01:47:...|                       Robbins Downey|2022-04-20 01:47:...|http://165.22.104...|         null|        &lt;p&gt;5 trik m...|    0|      0|        0|           null| 25012939|\n",
      "|18872285|         1|2022-04-20 01:47:...|    武安哪里有鸡店技师大保健-39健康网|2022-04-20 01:47:...|                    |         null|&lt;p&gt;武安哪里有鸡店技...|    0|      0|        0|           null| 25012940|\n",
      "|18872286|         1|2022-04-20 01:47:...|            崇明岛美女妹子能上门着叫k|2022-04-20 01:47:...|                    |         null|      &lt;p&gt;【徴⑦⒐12⑦⒉...|    0|      0|        0|           null| 25012941|\n",
      "|18872287|         1|2022-04-20 01:47:...|              沈阳养生保健SPA按摩会所|2022-04-20 01:47:...|                    |         null|     &lt;p&gt;沈阳(┿レ):&...|    0|      0|        0|           null| 25012942|\n",
      "|18872288|         1|2022-04-20 01:47:...|                        Heri Widiarso| 2022-05-24 04:16:47|                null|         null|                        null|    0|      0|        0|           null| 25012943|\n",
      "+--------+----------+--------------------+-------------------------------------+--------------------+--------------------+-------------+----------------------------+-----+-------+---------+---------------+---------+\n",
      "only showing top 100 rows\n",
      "\n"
     ]
    },
    {
     "name": "stderr",
     "output_type": "stream",
     "text": [
      "\r",
      "                                                                                \r"
     ]
    }
   ],
   "source": [
    "df_users.show(100)"
   ]
  },
  {
   "cell_type": "markdown",
   "id": "cc389cfe",
   "metadata": {},
   "source": [
    "## 7. `Post` Data"
   ]
  },
  {
   "cell_type": "code",
   "execution_count": 22,
   "id": "cc1656ea",
   "metadata": {},
   "outputs": [
    {
     "name": "stderr",
     "output_type": "stream",
     "text": [
      "[Stage 38:===================================================> (364 + 12) / 376]\r"
     ]
    },
    {
     "name": "stdout",
     "output_type": "stream",
     "text": [
      "No. of Records in the Posts table : 58329356\n"
     ]
    },
    {
     "name": "stderr",
     "output_type": "stream",
     "text": [
      "\r",
      "                                                                                \r"
     ]
    }
   ],
   "source": [
    "print(f\"No. of Records in the Posts table : {df_post.count()}\")"
   ]
  },
  {
   "cell_type": "code",
   "execution_count": 23,
   "id": "403dcf6d",
   "metadata": {},
   "outputs": [
    {
     "name": "stderr",
     "output_type": "stream",
     "text": [
      "\r",
      "[Stage 41:>                                                         (0 + 1) / 1]\r"
     ]
    },
    {
     "name": "stdout",
     "output_type": "stream",
     "text": [
      "+------+----------+--------+----------------+--------------------+------------+-----+---------+--------------------+-----------+----------------+----------------+---------------------+--------------------+--------------------+--------------------+--------------------+-----------+------------+-------------+----------+------------------+--------------+\n",
      "|    Id|PostTypeId|ParentId|AcceptedAnswerId|        CreationDate|DeletionDate|Score|ViewCount|                Body|OwnerUserId|OwnerDisplayName|LastEditorUserId|LastEditorDisplayName|        LastEditDate|    LastActivityDate|               Title|                Tags|AnswerCount|CommentCount|FavoriteCount|ClosedDate|CommunityOwnedDate|ContentLicense|\n",
      "+------+----------+--------+----------------+--------------------+------------+-----+---------+--------------------+-----------+----------------+----------------+---------------------+--------------------+--------------------+--------------------+--------------------+-----------+------------+-------------+----------+------------------+--------------+\n",
      "|973566|         2|  971355|            null|2009-06-10 03:29:...|        null|    4|     null|&lt;p&gt;0) First...|     114054|            null|          114054|                 null|2009-06-10 03:37:...|2009-06-10 03:37:...|                null|                null|       null|           2|         null|      null|              null|  CC BY-SA 2.5|\n",
      "|973567|         2|  973481|            null|2009-06-10 03:30:...|        null|   38|     null|&lt;p&gt;We are s...|      42346|            null|         8146172|                 null|2020-06-25 21:10:...|2020-06-25 21:10:...|                null|                null|       null|           2|         null|      null|              null|  CC BY-SA 4.0|\n",
      "|973568|         1|    null|          980854|2009-06-10 03:31:...|        null|    5|    15095|&lt;p&gt;How can ...|       null|             Tom|         6298712|                 null|2022-04-27 19:45:...|2022-04-27 19:45:...|convert nested li...|&lt;python&gt;&lt...|          7|           2|            0|      null|              null|  CC BY-SA 4.0|\n",
      "|973570|         2|  973556|            null|2009-06-10 03:31:...|        null|    0|     null|&lt;p&gt;Well, yo...|     120146|            null|            null|                 null|                null|2009-06-10 03:31:...|                null|                null|       null|           0|         null|      null|              null|  CC BY-SA 2.5|\n",
      "|973571|         1|    null|          973575|2009-06-10 03:32:...|        null|  356|   126170|&lt;p&gt;I have a...|     117077|            null|         2771704|                 null|2014-10-17 13:23:...|2019-06-12 03:59:...|Why does the Visu...|&lt;visual-studio...|         11|           1|            0|      null|              null|  CC BY-SA 2.5|\n",
      "|973572|         2|  973545|            null|2009-06-10 03:32:...|        null|    5|     null|&lt;p&gt;I typica...|       1288|            null|            null|                 null|                null|2009-06-10 03:32:...|                null|                null|       null|           0|         null|      null|              null|  CC BY-SA 2.5|\n",
      "|973573|         2|  973571|            null|2009-06-10 03:33:...|        null|   77|     null|&lt;p&gt;Looks li...|      23283|            null|           23283|                 null|2009-06-10 03:42:...|2009-06-10 03:42:...|                null|                null|       null|           4|         null|      null|              null|  CC BY-SA 2.5|\n",
      "|973574|         2|  973545|            null|2009-06-10 03:34:...|        null|   32|     null|&lt;p&gt;&lt;b&gt...|      87399|            null|            null|                 null|                null|2009-06-10 03:34:...|                null|                null|       null|           1|         null|      null|              null|  CC BY-SA 2.5|\n",
      "|973575|         2|  973571|            null|2009-06-10 03:34:...|        null|  837|     null|&lt;p&gt;Visual S...|       null|       user64417|          984780|                 null|2017-12-07 17:03:...|2017-12-07 17:03:...|                null|                null|       null|           9|         null|      null|              null|  CC BY-SA 3.0|\n",
      "|973576|         2|  973551|            null|2009-06-10 03:34:...|        null|    3|     null|&lt;p&gt;It looks...|      39808|            null|           39808|                 null|2009-06-10 03:59:...|2009-06-10 03:59:...|                null|                null|       null|           2|         null|      null|              null|  CC BY-SA 2.5|\n",
      "|973577|         2|  973556|            null|2009-06-10 03:35:...|        null|   13|     null|&lt;p&gt;The simp...|      25216|            null|           25216|                 null|2009-06-10 03:49:...|2009-06-10 03:49:...|                null|                null|       null|           0|         null|      null|              null|  CC BY-SA 2.5|\n",
      "|973578|         2|  973507|            null|2009-06-10 03:36:...|        null|    0|     null|&lt;p&gt;This wou...|      19404|            null|            null|                 null|                null|2009-06-10 03:36:...|                null|                null|       null|           0|         null|      null|              null|  CC BY-SA 2.5|\n",
      "|973579|         2|  973506|            null|2009-06-10 03:36:...|        null|    0|     null|&lt;p&gt;In my op...|       null|          Sergey|            null|                 null|                null|2009-06-10 03:36:...|                null|                null|       null|           0|         null|      null|              null|  CC BY-SA 2.5|\n",
      "|973580|         2|  973561|            null|2009-06-10 03:36:...|        null|    5|     null|&lt;p&gt;Use deve...|      23283|            null|        11573842|                 null|2022-05-26 06:52:...|2022-05-26 06:52:...|                null|                null|       null|           0|         null|      null|              null|  CC BY-SA 4.0|\n",
      "|973581|         2|  973561|            null|2009-06-10 03:37:...|        null|    1|     null|&lt;p&gt;Use an a...|      16076|            null|           63550|                 null|2012-11-29 18:14:...|2012-11-29 18:14:...|                null|                null|       null|           1|         null|      null|              null|  CC BY-SA 3.0|\n",
      "|973583|         2|  973568|            null|2009-06-10 03:37:...|        null|    8|     null|&lt;p&gt;Looks li...|      98830|            null|            null|                 null|                null|2009-06-10 03:37:...|                null|                null|       null|           1|         null|      null|              null|  CC BY-SA 2.5|\n",
      "|973584|         2|  973551|            null|2009-06-10 03:37:...|        null|    0|     null|&lt;p&gt;ftp.retr...|       6946|            null|            null|                 null|                null|2009-06-10 03:37:...|                null|                null|       null|           0|         null|      null|              null|  CC BY-SA 2.5|\n",
      "|973585|         2|  973518|            null|2009-06-10 03:37:...|        null|   15|     null|&lt;p&gt;Yes, sin...|      57752|            null|           57752|                 null|2009-06-10 05:01:...|2009-06-10 05:01:...|                null|                null|       null|           1|         null|      null|              null|  CC BY-SA 2.5|\n",
      "|973586|         1|    null|            null|2009-06-10 03:39:...|        null|    2|     1827|&lt;p&gt;I was di...|       null|         Matthew|            null|                 null|                null|2015-08-11 02:30:...|Why does .NET Arr...|&lt;.net&gt;&lt;a...|          6|           4|            0|      null|              null|  CC BY-SA 2.5|\n",
      "|973587|         2|  973561|            null|2009-06-10 03:39:...|        null|   39|     null|&lt;p&gt;You have...|     109122|            null|           63550|                 null|2013-08-03 16:49:...|2013-08-03 16:49:...|                null|                null|       null|           1|         null|      null|              null|  CC BY-SA 3.0|\n",
      "|973588|         2|  973556|            null|2009-06-10 03:39:...|        null|    0|     null|&lt;p&gt;You coul...|      11388|            null|            null|                 null|                null|2009-06-10 03:39:...|                null|                null|       null|           0|         null|      null|              null|  CC BY-SA 2.5|\n",
      "|973589|         2|  973507|            null|2009-06-10 03:40:...|        null|    4|     null|&lt;p&gt;Slight c...|      23283|            null|            null|                 null|                null|2009-06-10 03:40:...|                null|                null|       null|           0|         null|      null|              null|  CC BY-SA 2.5|\n",
      "|973590|         2|  962544|            null|2009-06-10 03:42:...|        null|    1|     null|&lt;p&gt;You want...|     120204|            null|            null|                 null|                null|2009-06-10 03:42:...|                null|                null|       null|           0|         null|      null|              null|  CC BY-SA 2.5|\n",
      "|973591|         1|    null|          973835|2009-06-10 03:42:...|        null|    5|    11323|&lt;p&gt;What is ...|      81236|            null|            5651|                 null|2011-03-11 19:48:...|2013-01-26 18:38:...|How to display re...|&lt;javascript&gt...|          8|           3|            0|      null|              null|  CC BY-SA 2.5|\n",
      "|973592|         2|  973568|            null|2009-06-10 03:42:...|        null|   -1|     null|&lt;p&gt;Could be...|     120146|            null|            null|                 null|                null|2009-06-10 03:42:...|                null|                null|       null|           0|         null|      null|              null|  CC BY-SA 2.5|\n",
      "|973593|         2|  973568|            null|2009-06-10 03:43:...|        null|    1|     null|&lt;p&gt;You coul...|     120259|            null|            null|                 null|                null|2009-06-10 03:43:...|                null|                null|       null|           2|         null|      null|              null|  CC BY-SA 2.5|\n",
      "|973594|         2|  973586|            null|2009-06-10 03:44:...|        null|    2|     null|&lt;p&gt;Don't th...|     109122|            null|            null|                 null|                null|2009-06-10 03:44:...|                null|                null|       null|           0|         null|      null|              null|  CC BY-SA 2.5|\n",
      "|973595|         2|  973076|            null|2009-06-10 03:45:...|        null|    7|     null|&lt;p&gt;The erro...|       9787|            null|            null|                 null|                null|2009-06-10 03:45:...|                null|                null|       null|           2|         null|      null|              null|  CC BY-SA 2.5|\n",
      "|973596|         2|  973517|            null|2009-06-10 03:46:...|        null|    0|     null|&lt;p&gt;I'm gues...|      30216|            null|            null|                 null|                null|2009-06-10 03:46:...|                null|                null|       null|           1|         null|      null|              null|  CC BY-SA 2.5|\n",
      "|973597|         2|  973556|            null|2009-06-10 03:47:...|        null|    0|     null|&lt;p&gt;It sound...|      87399|            null|            null|                 null|                null|2009-06-10 03:47:...|                null|                null|       null|           0|         null|      null|              null|  CC BY-SA 2.5|\n",
      "|973598|         1|    null|          973636|2009-06-10 03:47:...|        null|   46|    25707|&lt;p&gt;I notice...|     116176|            null|            null|                 null|                null|2019-01-03 06:30:...|What do the Visua...|&lt;visual-studio...|          2|           1|            0|      null|              null|  CC BY-SA 2.5|\n",
      "|973599|         1|    null|          973626|2009-06-10 03:47:...|        null|    2|     1952|&lt;p&gt;As much ...|     119013|            null|            null|                 null|                null|2009-06-14 21:31:...|(Ruby,Rails) CRUD...|&lt;ruby-on-rails...|          3|           0|         null|      null|              null|  CC BY-SA 2.5|\n",
      "|973600|         2|  973591|            null|2009-06-10 03:48:...|        null|    1|     null|&lt;p&gt;I'm not ...|      52551|            null|            null|                 null|                null|2009-06-10 03:48:...|                null|                null|       null|           0|         null|      null|              null|  CC BY-SA 2.5|\n",
      "|973601|         2|  973598|            null|2009-06-10 03:48:...|        null|    0|     null|&lt;p&gt;This is ...|     117069|            null|          117069|                 null|2009-06-10 04:06:...|2009-06-10 04:06:...|                null|                null|       null|           5|         null|      null|              null|  CC BY-SA 2.5|\n",
      "|973602|         2|  973568|            null|2009-06-10 03:49:...|        null|    1|     null|&lt;p&gt;here is ...|       6946|            null|            null|                 null|                null|2009-06-10 03:49:...|                null|                null|       null|           0|         null|      null|              null|  CC BY-SA 2.5|\n",
      "|973604|         2|  935676|            null|2009-06-10 03:49:...|        null|    0|     null|&lt;p&gt;I've use...|     120269|            null|            null|                 null|                null|2009-06-10 03:49:...|                null|                null|       null|           0|         null|      null|              null|  CC BY-SA 2.5|\n",
      "|973605|         1|    null|          973622|2009-06-10 03:49:...|        null|   21|    11762|&lt;p&gt;Is there...|      91718|            null|          122489|                 null|2009-06-16 17:10:...|2019-05-28 05:00:...|Generating insert...|      &lt;sqlite&gt;|          6|           1|            0|      null|              null|  CC BY-SA 2.5|\n",
      "|973607|         1|    null|         2660982|2009-06-10 03:50:...|        null|    0|      825|&lt;p&gt;I curren...|      88091|            null|          761095|                 null|2013-10-23 12:05:...|2013-10-23 12:05:...|Can VisualSVN and...|&lt;visual-studio...|          2|           0|         null|      null|              null|  CC BY-SA 3.0|\n",
      "|973608|         1|    null|          974175|2009-06-10 03:51:...|        null|    0|      236|&lt;p&gt;I'm work...|      26374|            null|         4370109|                 null|2015-11-07 16:58:...|2015-11-07 16:58:...|Fast Interleaving...|&lt;algorithm&gt;...|          2|           0|         null|      null|              null|  CC BY-SA 3.0|\n",
      "|973609|         2|  972273|            null|2009-06-10 03:52:...|        null|   -1|     null|&lt;p&gt;I sugges...|       9787|            null|            null|                 null|                null|2009-06-10 03:52:...|                null|                null|       null|           6|         null|      null|              null|  CC BY-SA 2.5|\n",
      "|973610|         2|  973591|            null|2009-06-10 03:52:...|        null|    0|     null|&lt;p&gt;If you'r...|      17091|            null|            null|                 null|                null|2009-06-10 03:52:...|                null|                null|       null|           0|         null|      null|              null|  CC BY-SA 2.5|\n",
      "|973611|         2|  973599|            null|2009-06-10 03:52:...|        null|    0|     null|&lt;p&gt;I think ...|     120146|            null|            null|                 null|                null|2009-06-10 03:52:...|                null|                null|       null|           2|         null|      null|              null|  CC BY-SA 2.5|\n",
      "|973612|         2|  973137|            null|2009-06-10 03:53:...|        null|    1|     null|&lt;p&gt;If nothi...|      83667|            null|            null|                 null|                null|2009-06-10 03:53:...|                null|                null|       null|           0|         null|      null|              null|  CC BY-SA 2.5|\n",
      "|973613|         2|  973599|            null|2009-06-10 03:53:...|        null|    1|     null|&lt;p&gt;Check ou...|      64904|            null|            null|                 null|                null|2009-06-10 03:53:...|                null|                null|       null|           2|         null|      null|              null|  CC BY-SA 2.5|\n",
      "|973614|         1|    null|          973634|2009-06-10 03:54:...|        null|    8|     5955|&lt;p&gt;I've bee...|     120262|            null|           49885|                 null|2010-04-23 03:48:...|2010-04-23 03:48:...|  Stream Reuse in C#|          &lt;c#&gt;|          3|           0|         null|      null|              null|  CC BY-SA 2.5|\n",
      "|973615|         1|    null|          973617|2009-06-10 03:54:...|        null|    0|      132|&lt;p&gt;How does...|     117077|            null|            null|                 null|                null|2009-06-10 03:57:...|How does CLR reco...|        &lt;.net&gt;|          1|           0|         null|      null|              null|  CC BY-SA 2.5|\n",
      "|973617|         2|  973615|            null|2009-06-10 03:57:...|        null|    7|     null|&lt;p&gt;There ar...|      16076|            null|            null|                 null|                null|2009-06-10 03:57:...|                null|                null|       null|           0|         null|      null|              null|  CC BY-SA 2.5|\n",
      "|973620|         2|  972110|            null|2009-06-10 03:57:...|        null|    0|     null|&lt;p&gt;Your que...|      24233|            null|            null|                 null|                null|2009-06-10 03:57:...|                null|                null|       null|           1|         null|      null|              null|  CC BY-SA 2.5|\n",
      "|973621|         2|  970228|            null|2009-06-10 03:57:...|        null|    4|     null|&lt;p&gt;Sounds l...|       9787|            null|            null|                 null|                null|2009-06-10 03:57:...|                null|                null|       null|           4|         null|      null|              null|  CC BY-SA 2.5|\n",
      "|973622|         2|  973605|            null|2009-06-10 03:57:...|        null|   30|     null|&lt;p&gt;I think ...|      81255|            null|            null|                 null|                null|2009-06-10 03:57:...|                null|                null|       null|           0|         null|      null|              null|  CC BY-SA 2.5|\n",
      "|973623|         2|  971232|            null|2009-06-10 03:58:...|        null|    0|     null|&lt;p&gt;My first...|     115200|            null|          115200|                 null|2009-06-10 04:05:...|2009-06-10 04:05:...|                null|                null|       null|           0|         null|      null|              null|  CC BY-SA 2.5|\n",
      "|973624|         2|  819682|            null|2009-06-10 03:59:...|        null|    1|     null|&lt;p&gt;There is...|     120273|            null|            null|                 null|                null|2009-06-10 03:59:...|                null|                null|       null|           0|         null|      null|              null|  CC BY-SA 2.5|\n",
      "|973626|         2|  973599|            null|2009-06-10 03:59:...|        null|    3|     null|&lt;p&gt;Some ski...|     117743|            null|          117743|                 null|2009-06-14 21:31:...|2009-06-14 21:31:...|                null|                null|       null|           5|         null|      null|              null|  CC BY-SA 2.5|\n",
      "|973627|         2|  973506|            null|2009-06-10 04:00:...|        null|    9|     null|&lt;p&gt;&lt;a hr...|     102937|            null|          102937|                 null|2009-06-10 04:06:...|2009-06-10 04:06:...|                null|                null|       null|           0|         null|      null|              null|  CC BY-SA 2.5|\n",
      "|973629|         1|    null|         1009979|2009-06-10 04:02:...|        null|    7|      915|&lt;p&gt;If I was...|      41116|            null|           41116|                 null|2009-06-14 20:30:...|2009-06-17 23:11:...|How do I localise...|&lt;objective-c&g...|          3|           0|            0|      null|              null|  CC BY-SA 2.5|\n",
      "|973630|         1|    null|          973659|2009-06-10 04:02:...|        null|    0|      360|&lt;p&gt;I'm tryi...|      18511|            null|            null|                 null|                null|2009-06-10 04:20:...|JVM crashing usin...|&lt;java&gt;&lt;i...|          1|           0|         null|      null|              null|  CC BY-SA 2.5|\n",
      "|973631|         1|    null|          977306|2009-06-10 04:03:...|        null|    4|    29646|&lt;p&gt;I have s...|      28149|            null|           23118|                 null|2009-08-07 10:50:...|2012-11-20 22:49:...|System.IO.Ports.S...|&lt;c#&gt;&lt;.ne...|          4|           3|            0|      null|              null|  CC BY-SA 2.5|\n",
      "|973632|         2|  774769|            null|2009-06-10 04:03:...|        null|   10|     null|&lt;p&gt;This wil...|      39289|            null|            null|                 null|                null|2009-06-10 04:03:...|                null|                null|       null|           2|         null|      null|              null|  CC BY-SA 2.5|\n",
      "|973633|         2|  973605|            null|2009-06-10 04:03:...|        null|    0|     null|&lt;p&gt;Hope thi...|      12178|            null|            null|                 null|                null|2009-06-10 04:03:...|                null|                null|       null|           1|         null|      null|              null|  CC BY-SA 2.5|\n",
      "|973634|         2|  973614|            null|2009-06-10 04:04:...|        null|    4|     null|&lt;p&gt;Using a ...|     111781|            null|          111781|                 null|2009-06-10 04:11:...|2009-06-10 04:11:...|                null|                null|       null|           1|         null|      null|              null|  CC BY-SA 2.5|\n",
      "|973636|         2|  973598|            null|2009-06-10 04:04:...|        null|   91|     null|&lt;p&gt;Colours ...|      77546|            null|         2142950|                 null|2019-01-03 06:30:...|2019-01-03 06:30:...|                null|                null|       null|           0|         null|      null|              null|  CC BY-SA 4.0|\n",
      "|973637|         1|    null|          973646|2009-06-10 04:06:...|        null|    0|    10359|&lt;p&gt;I m doin...|      79980|            null|          287583|                 null|2013-01-19 16:55:...|2013-01-19 16:55:...|How do I set the ...|&lt;php&gt;&lt;ca...|          1|           0|         null|      null|              null|  CC BY-SA 3.0|\n",
      "|973638|         1|    null|            null|2009-06-10 04:06:...|        null|    0|     1060|&lt;p&gt;Please h...|       null|            null|         2840147|                 null|2013-01-12 23:51:...|2013-01-12 23:51:...|Using UIImageView...|&lt;iphone&gt;&lt...|          1|           0|         null|      null|              null|  CC BY-SA 3.0|\n",
      "|973639|         1|    null|            null|2009-06-10 04:06:...|        null|    2|    10222|&lt;p&gt;Lets say...|       null|     mcfadder_09|            null|          mcfadder_09|2009-06-10 06:37:...|2021-07-10 11:36:...|How to send an em...|&lt;php&gt;&lt;my...|         11|           1|            0|      null|              null|  CC BY-SA 2.5|\n",
      "|973640|         2|  973614|            null|2009-06-10 04:07:...|        null|    2|     null|&lt;p&gt;StreamRe...|      87399|            null|            null|                 null|                null|2009-06-10 04:07:...|                null|                null|       null|           2|         null|      null|              null|  CC BY-SA 2.5|\n",
      "|973641|         2|   93695|            null|2009-06-10 04:08:...|        null|    1|     null|&lt;p&gt;I like &...|      24406|            null|         7600492|                 null|2018-04-06 09:47:...|2018-04-06 09:47:...|                null|                null|       null|           0|         null|      null|              null|  CC BY-SA 3.0|\n",
      "|973642|         1|    null|            null|2009-06-10 04:08:...|        null|    6|    15544|&lt;p&gt;I'm maki...|      63226|            null|            null|                 null|                null|2011-02-18 12:59:...|Facebook, iframe ...|&lt;facebook&gt;&...|          4|           0|            0|      null|              null|  CC BY-SA 2.5|\n",
      "|973644|         2|  973586|            null|2009-06-10 04:09:...|        null|    4|     null|&lt;p&gt;Includin...|      67011|            null|           67011|                 null|2009-06-10 04:24:...|2009-06-10 04:24:...|                null|                null|       null|           1|         null|      null|              null|  CC BY-SA 2.5|\n",
      "|973645|         1|    null|            null|2009-06-10 04:10:...|        null|    2|     5079|&lt;p&gt;I am usi...|      88096|            null|           88096|                 null|2010-01-28 10:41:...|2013-04-06 12:43:...|Problem with Crys...|&lt;c#&gt;&lt;asp...|          1|           0|            0|      null|              null|  CC BY-SA 2.5|\n",
      "|973646|         2|  973637|            null|2009-06-10 04:10:...|        null|    1|     null|&lt;p&gt;This sho...|      16417|            null|            null|                 null|                null|2009-06-10 04:10:...|                null|                null|       null|           1|         null|      null|              null|  CC BY-SA 2.5|\n",
      "|973647|         2|  973639|            null|2009-06-10 04:10:...|        null|    6|     null|&lt;p&gt;I'd sugg...|      13257|            null|            null|                 null|                null|2009-06-10 04:10:...|                null|                null|       null|           0|         null|      null|              null|  CC BY-SA 2.5|\n",
      "|973648|         2|  973639|            null|2009-06-10 04:10:...|        null|    0|     null|&lt;p&gt;You can ...|     120277|            null|            null|                 null|                null|2009-06-10 04:10:...|                null|                null|       null|           0|         null|      null|              null|  CC BY-SA 2.5|\n",
      "|973649|         1|    null|          973656|2009-06-10 04:10:...|        null|    1|      269|&lt;p&gt;I am try...|      99135|            null|            null|                 null|                null|2009-06-10 04:21:...|How do I check a ...|&lt;php&gt;&lt;my...|          2|           0|         null|      null|              null|  CC BY-SA 2.5|\n",
      "|973650|         1|    null|          973684|2009-06-10 04:11:...|        null|   14|     7341|&lt;p&gt;I'm look...|     119485|            null|            null|                 null|                null|2009-06-10 04:40:...|&quot;base.send :...|        &lt;ruby&gt;|          3|           1|            0|      null|              null|  CC BY-SA 2.5|\n",
      "|973651|         1|    null|          974113|2009-06-10 04:12:...|        null|    2|      467|&lt;p&gt;I am try...|      76993|            null|            null|                 null|                null|2009-06-11 13:34:...|Oracle SQL Query ...|&lt;sql&gt;&lt;or...|          3|           0|            0|      null|              null|  CC BY-SA 2.5|\n",
      "|973653|         1|    null|          973678|2009-06-10 04:12:...|        null|    0|     1840|&lt;p&gt;I'm afte...|      81236|            null|            null|                 null|                null|2009-06-10 04:26:...|Son of Suckerfish...|&lt;jquery&gt;&lt...|          1|           0|         null|      null|              null|  CC BY-SA 2.5|\n",
      "|973654|         1|    null|          973675|2009-06-10 04:12:...|        null|    1|     3950|&lt;p&gt;I have c...|      70942|            null|          103295|                 null|2009-06-10 06:14:...|2009-06-10 07:49:...|  Single linked list|&lt;c&gt;&lt;data...|          7|           3|         null|      null|              null|  CC BY-SA 2.5|\n",
      "|973655|         2|  973060|            null|2009-06-10 04:13:...|        null|    1|     null|&lt;p&gt;It sound...|      74276|            null|            null|                 null|                null|2009-06-10 04:13:...|                null|                null|       null|           2|         null|      null|              null|  CC BY-SA 2.5|\n",
      "|973656|         2|  973649|            null|2009-06-10 04:13:...|        null|    4|     null|&lt;pre&gt;&lt;co...|      95231|            null|           95231|                 null|2009-06-10 04:21:...|2009-06-10 04:21:...|                null|                null|       null|           2|         null|      null|              null|  CC BY-SA 2.5|\n",
      "|973657|         2|  973639|            null|2009-06-10 04:13:...|        null|    1|     null|&lt;p&gt;The best...|      47773|            null|            null|                 null|                null|2009-06-10 04:13:...|                null|                null|       null|           0|         null|      null|              null|  CC BY-SA 2.5|\n",
      "|973659|         2|  973630|            null|2009-06-10 04:15:...|        null|    3|     null|&lt;p&gt;This is ...|      57752|            null|           57752|                 null|2009-06-10 04:20:...|2009-06-10 04:20:...|                null|                null|       null|           0|         null|      null|              null|  CC BY-SA 2.5|\n",
      "|973661|         1|    null|         1044081|2009-06-10 04:17:...|        null|    0|     1513|&lt;p&gt;&lt;stro...|        728|            null|            null|                 null|                null|2012-06-18 22:10:...|IE8 causing FILE ...|&lt;javascript&gt...|          3|           1|         null|      null|              null|  CC BY-SA 2.5|\n",
      "|973662|         2|  973106|            null|2009-06-10 04:17:...|        null|    0|     null|&lt;p&gt;You migh...|      47246|            null|            null|                 null|                null|2009-06-10 04:17:...|                null|                null|       null|           0|         null|      null|              null|  CC BY-SA 2.5|\n",
      "|973663|         2|  973649|            null|2009-06-10 04:17:...|        null|    3|     null|&lt;pre&gt;&lt;co...|       9021|            null|            null|                 null|                null|2009-06-10 04:17:...|                null|                null|       null|           0|         null|      null|              null|  CC BY-SA 2.5|\n",
      "|973665|         2|  973541|            null|2009-06-10 04:18:...|        null|   56|     null|&lt;p&gt;You can ...|     108130|            null|         4032703|                 null|2018-08-06 21:14:...|2018-08-06 21:14:...|                null|                null|       null|           4|         null|      null|              null|  CC BY-SA 4.0|\n",
      "|973666|         2|  973650|            null|2009-06-10 04:21:...|        null|    0|     null|&lt;p&gt;It's def...|      38795|            null|            null|                 null|                null|2009-06-10 04:21:...|                null|                null|       null|           0|         null|      null|              null|  CC BY-SA 2.5|\n",
      "|973667|         2|  973650|            null|2009-06-10 04:21:...|        null|    2|     null|&lt;p&gt;'send' i...|     120146|            null|            null|                 null|                null|2009-06-10 04:21:...|                null|                null|       null|           1|         null|      null|              null|  CC BY-SA 2.5|\n",
      "|973668|         2|  966902|            null|2009-06-10 04:21:...|        null|    5|     null|&lt;p&gt;Have you...|     114054|            null|            null|                 null|                null|2009-06-10 04:21:...|                null|                null|       null|           1|         null|      null|              null|  CC BY-SA 2.5|\n",
      "|973671|         2|  973654|            null|2009-06-10 04:24:...|        null|    5|     null|&lt;pre&gt;&lt;co...|       8969|            null|            null|                 null|                null|2009-06-10 04:24:...|                null|                null|       null|           0|         null|      null|              null|  CC BY-SA 2.5|\n",
      "|973673|         1|    null|          973750|2009-06-10 04:25:...|        null|    9|     4699|&lt;p&gt;From pas...|     117077|            null|           77546|                 null|2009-06-10 05:40:...|2015-01-03 17:46:...|What is the advan...|&lt;.net&gt;&lt;a...|          3|           1|            0|      null|              null|  CC BY-SA 2.5|\n",
      "|973674|         2|  973506|            null|2009-06-10 04:25:...|        null|    1|     null|&lt;p&gt;Personal...|      94853|            null|            null|                 null|                null|2009-06-10 04:25:...|                null|                null|       null|           1|         null|      null|              null|  CC BY-SA 2.5|\n",
      "|973675|         2|  973654|            null|2009-06-10 04:25:...|        null|    9|     null|&lt;p&gt;From pop...|      64918|            null|           64918|                 null|2009-06-10 05:33:...|2009-06-10 05:33:...|                null|                null|       null|           0|         null|      null|              null|  CC BY-SA 2.5|\n",
      "|973676|         2|  973614|            null|2009-06-10 04:25:...|        null|    0|     null|&lt;p&gt;Unless y...|     116176|            null|            null|                 null|                null|2009-06-10 04:25:...|                null|                null|       null|           1|         null|      null|              null|  CC BY-SA 2.5|\n",
      "|973677|         2|  970404|            null|2009-06-10 04:26:...|        null|    1|     null|&lt;p&gt;Not sure...|      24233|            null|            null|                 null|                null|2009-06-10 04:26:...|                null|                null|       null|           0|         null|      null|              null|  CC BY-SA 2.5|\n",
      "|973678|         2|  973653|            null|2009-06-10 04:26:...|        null|    0|     null|&lt;p&gt;You've a...|     117743|            null|            null|                 null|                null|2009-06-10 04:26:...|                null|                null|       null|           2|         null|      null|              null|  CC BY-SA 2.5|\n",
      "|973679|         2|  973454|            null|2009-06-10 04:26:...|        null|    1|     null|&lt;p&gt;You shou...|      19799|            null|            null|                 null|                null|2009-06-10 04:26:...|                null|                null|       null|           2|         null|      null|              null|  CC BY-SA 2.5|\n",
      "|973682|         1|    null|          973703|2009-06-10 04:27:...|        null|    1|     1017|&lt;p&gt;I've bee...|      50227|            null|           42769|                 null|2009-06-10 04:56:...|2009-06-10 05:01:...|Add framework to ...|&lt;java&gt;&lt;f...|          1|           0|         null|      null|              null|  CC BY-SA 2.5|\n",
      "|973683|         2|  973586|            null|2009-06-10 04:27:...|        null|    1|     null|&lt;p&gt;Your tes...|       7625|            null|              -1|                 null|2017-05-23 12:30:...|2009-06-10 04:27:...|                null|                null|       null|           1|         null|      null|              null|  CC BY-SA 2.5|\n",
      "|973684|         2|  973650|            null|2009-06-10 04:28:...|        null|   12|     null|&lt;p&gt;&lt;code...|     120204|            null|          120204|                 null|2009-06-10 04:40:...|2009-06-10 04:40:...|                null|                null|       null|           3|         null|      null|              null|  CC BY-SA 2.5|\n",
      "|973685|         2|  874981|            null|2009-06-10 04:28:...|        null|    0|     null|&lt;p&gt;uNHAddin...|      46039|            null|            null|                 null|                null|2009-06-10 04:28:...|                null|                null|       null|           0|         null|      null|              null|  CC BY-SA 2.5|\n",
      "+------+----------+--------+----------------+--------------------+------------+-----+---------+--------------------+-----------+----------------+----------------+---------------------+--------------------+--------------------+--------------------+--------------------+-----------+------------+-------------+----------+------------------+--------------+\n",
      "only showing top 100 rows\n",
      "\n"
     ]
    },
    {
     "name": "stderr",
     "output_type": "stream",
     "text": [
      "\r",
      "                                                                                \r"
     ]
    }
   ],
   "source": [
    "df_post.show(100)"
   ]
  },
  {
   "cell_type": "markdown",
   "id": "1a3e12eb",
   "metadata": {},
   "source": [
    "# Data Analysis "
   ]
  },
  {
   "cell_type": "markdown",
   "id": "ff69bca6",
   "metadata": {},
   "source": [
    "### Q1: No. of Posts which has `AWS or Amazon` in the `tag`"
   ]
  },
  {
   "cell_type": "code",
   "execution_count": 24,
   "id": "c88b4340",
   "metadata": {},
   "outputs": [
    {
     "name": "stdout",
     "output_type": "stream",
     "text": [
      "root\n",
      " |-- Id: integer (nullable = true)\n",
      " |-- TagName: string (nullable = true)\n",
      " |-- Count: integer (nullable = true)\n",
      " |-- ExcerptPostId: integer (nullable = true)\n",
      " |-- WikiPostId: integer (nullable = true)\n",
      "\n"
     ]
    }
   ],
   "source": [
    "df_tags.printSchema()"
   ]
  },
  {
   "cell_type": "code",
   "execution_count": 25,
   "id": "0631e42a",
   "metadata": {},
   "outputs": [],
   "source": [
    "list_of_keywords = ['AWS', 'amazon', 'Amazon', 'amz']\n",
    "\n",
    "df_tags_with_amazon = df_tags.select(F.col(\"Id\"), F.col(\"TagName\"), F.col(\"Count\"), F.col(\"ExcerptPostId\"), F.col(\"WikiPostId\")) \\\n",
    "                       .filter(F.col(\"TagName\").startswith('aws') |\n",
    "                               F.col(\"TagName\").startswith('amazon') |\n",
    "                               F.col(\"TagName\").isin(list_of_keywords)) \\\n",
    "                       .withColumnRenamed('Count', \"No_of_Posts\")"
   ]
  },
  {
   "cell_type": "code",
   "execution_count": 26,
   "id": "15f5c3a9",
   "metadata": {},
   "outputs": [
    {
     "name": "stderr",
     "output_type": "stream",
     "text": [
      "                                                                                \r"
     ]
    }
   ],
   "source": [
    "n = df_tags_with_amazon.count()"
   ]
  },
  {
   "cell_type": "code",
   "execution_count": 27,
   "id": "d5a1959f",
   "metadata": {},
   "outputs": [
    {
     "data": {
      "text/plain": [
       "394"
      ]
     },
     "execution_count": 27,
     "metadata": {},
     "output_type": "execute_result"
    }
   ],
   "source": [
    "n"
   ]
  },
  {
   "cell_type": "code",
   "execution_count": 28,
   "id": "7cd699fe",
   "metadata": {},
   "outputs": [],
   "source": [
    "window = W.Window.orderBy(F.desc(F.col('No_of_Posts')))\n",
    "df_tags_with_amazon_with_rank = df_tags_with_amazon.withColumn(\"Rank_Number\", F.row_number().over(window))"
   ]
  },
  {
   "cell_type": "code",
   "execution_count": 29,
   "id": "e37aeae1",
   "metadata": {},
   "outputs": [
    {
     "name": "stderr",
     "output_type": "stream",
     "text": [
      "23/03/29 15:29:12 WARN WindowExec: No Partition Defined for Window operation! Moving all data to a single partition, this can cause serious performance degradation.\n",
      "23/03/29 15:29:12 WARN WindowExec: No Partition Defined for Window operation! Moving all data to a single partition, this can cause serious performance degradation.\n",
      "23/03/29 15:29:12 WARN WindowExec: No Partition Defined for Window operation! Moving all data to a single partition, this can cause serious performance degradation.\n",
      "23/03/29 15:29:12 WARN WindowExec: No Partition Defined for Window operation! Moving all data to a single partition, this can cause serious performance degradation.\n",
      "23/03/29 15:29:12 WARN WindowExec: No Partition Defined for Window operation! Moving all data to a single partition, this can cause serious performance degradation.\n",
      "[Stage 45:>                                                         (0 + 2) / 2]\r"
     ]
    },
    {
     "name": "stdout",
     "output_type": "stream",
     "text": [
      "+------+----------------------------------+-----------+-------------+----------+-----------+\n",
      "|Id    |TagName                           |No_of_Posts|ExcerptPostId|WikiPostId|Rank_Number|\n",
      "+------+----------------------------------+-----------+-------------+----------+-----------+\n",
      "|33388 |amazon-web-services               |148966     |5063862      |5063861   |1          |\n",
      "|11444 |amazon-s3                         |48707      |4994052      |4994051   |2          |\n",
      "|12375 |amazon-ec2                        |35842      |5123215      |5123214   |3          |\n",
      "|108737|aws-lambda                        |29194      |27496557     |27496556  |4          |\n",
      "|76578 |amazon-dynamodb                   |13332      |8940831      |8940830   |5          |\n",
      "|105747|amazon-elastic-beanstalk          |9083       |24799042     |24799041  |6          |\n",
      "|89537 |amazon-redshift                   |8251       |15304712     |15304711  |7          |\n",
      "|76486 |aws-cloudformation                |7885       |8940855      |8940854   |8          |\n",
      "|113256|aws-api-gateway                   |7216       |31387761     |31387760  |9          |\n",
      "|105719|amazon-cognito                    |6922       |24705238     |24705237  |10         |\n",
      "|42168 |amazon-rds                        |6523       |7702481      |7702480   |11         |\n",
      "|107211|aws-sdk                           |6060       |26555652     |26555651  |12         |\n",
      "|78251 |amazon-iam                        |5181       |12322122     |12322121  |13         |\n",
      "|71568 |amazon-cloudfront                 |4728       |8728941      |8728940   |14         |\n",
      "|38033 |amazon-ecs                        |4723       |14019763     |14019762  |15         |\n",
      "|130293|aws-amplify                       |4481       |49730392     |49730391  |16         |\n",
      "|99166 |aws-cli                           |4189       |20708428     |20708427  |17         |\n",
      "|32457 |amazon-sqs                        |3973       |5412065      |5412064   |18         |\n",
      "|79057 |amazon-cloudwatch                 |3969       |14568514     |14568513  |19         |\n",
      "|128181|aws-glue                          |3747       |45843229     |45843228  |20         |\n",
      "|133404|amazon-eks                        |3347       |62846818     |62846817  |21         |\n",
      "|56129 |amazon-emr                        |3313       |7682937      |7682936   |22         |\n",
      "|123922|amazon-athena                     |3251       |41444956     |41444955  |23         |\n",
      "|133995|aws-cdk                           |3121       |51786815     |51786814  |24         |\n",
      "|53877 |amazon-sns                        |2852       |5926595      |5926594   |25         |\n",
      "|73075 |amazon-elb                        |2658       |8723490      |8723489   |26         |\n",
      "|130184|amazon-sagemaker                  |2590       |47827093     |47827092  |27         |\n",
      "|79058 |amazon-route53                    |2519       |14019734     |14019733  |28         |\n",
      "|79205 |amazon-vpc                        |2368       |14019728     |14019727  |29         |\n",
      "|68334 |amazon-ses                        |2129       |5873004      |5873003   |30         |\n",
      "|1688  |amazon                            |1844       |6945537      |6945536   |31         |\n",
      "|100392|amazon-kinesis                    |1752       |21396891     |21396890  |32         |\n",
      "|130125|aws-appsync                       |1729       |47726486     |47726485  |33         |\n",
      "|130040|aws-fargate                       |1595       |47639439     |47639438  |34         |\n",
      "|113290|amazon-aurora                     |1494       |31382857     |31382856  |35         |\n",
      "|114449|aws-codepipeline                  |1468       |32398759     |32398758  |36         |\n",
      "|123484|aws-codebuild                     |1393       |40984300     |40984299  |37         |\n",
      "|123710|aws-step-functions                |1359       |41202658     |41202657  |38         |\n",
      "|115200|aws-iot                           |1200       |33630016     |33630015  |39         |\n",
      "|132737|aws-serverless                    |1153       |50282442     |50282441  |40         |\n",
      "|108181|aws-code-deploy                   |1057       |26920824     |26920823  |41         |\n",
      "|133429|aws-sam                           |925        |55629292     |55629291  |42         |\n",
      "|135716|aws-application-load-balancer     |874        |null         |null      |43         |\n",
      "|130840|amazon-neptune                    |872        |48411413     |48411412  |44         |\n",
      "|135734|amazon-ami                        |857        |53427960     |53427959  |45         |\n",
      "|73052 |amazon-elasticache                |846        |11768635     |11768634  |46         |\n",
      "|70972 |amazon-mws                        |830        |8723500      |8723499   |47         |\n",
      "|118096|amazon-cloudwatchlogs             |828        |40724074     |40724073  |48         |\n",
      "|132552|aws-secrets-manager               |796        |50091287     |50091286  |49         |\n",
      "|115018|aws-security-group                |786        |34815503     |34815502  |50         |\n",
      "|123441|amazon-ecr                        |778        |41057864     |41057863  |51         |\n",
      "|123207|amazon-quicksight                 |759        |43577346     |43577345  |52         |\n",
      "|124869|amazon-lex                        |702        |42399595     |42399594  |53         |\n",
      "|114055|amazon-kms                        |677        |32061640     |32061639  |54         |\n",
      "|123556|amazon-lightsail                  |667        |41069307     |41069306  |55         |\n",
      "|125258|aws-sdk-js                        |659        |44312322     |44312321  |56         |\n",
      "|18151 |amazon-ebs                        |623        |7702473      |7702472   |57         |\n",
      "|130173|aws-ssm                           |601        |47778679     |47778678  |58         |\n",
      "|132814|amazon-kinesis-firehose           |598        |50360569     |50360568  |59         |\n",
      "|146089|aws-event-bridge                  |580        |63016150     |63016149  |60         |\n",
      "|122870|amazon-efs                        |560        |40485295     |40485294  |61         |\n",
      "|92026 |aws-opsworks                      |542        |20180409     |20180408  |62         |\n",
      "|114185|aws-codecommit                    |541        |32382394     |32382393  |63         |\n",
      "|112389|aws-java-sdk                      |535        |30731561     |30731560  |64         |\n",
      "|53549 |amazon-product-api                |492        |6651949      |6651948   |65         |\n",
      "|123053|aws-sdk-nodejs                    |487        |42402671     |42402670  |66         |\n",
      "|128297|aws-sam-cli                       |480        |50179443     |50179442  |67         |\n",
      "|92709 |amazon-data-pipeline              |467        |16986721     |16986720  |68         |\n",
      "|129593|aws-elasticsearch                 |447        |47418879     |47418878  |69         |\n",
      "|121854|aws-dms                           |438        |39388637     |39388636  |70         |\n",
      "|135649|aws-glue-data-catalog             |398        |null         |null      |71         |\n",
      "|37299 |amazon-simpledb                   |394        |5998299      |5998298   |72         |\n",
      "|118124|amazon-dynamodb-streams           |387        |47718726     |47718725  |73         |\n",
      "|124227|aws-batch                         |380        |45569159     |45569158  |74         |\n",
      "|137333|aws-documentdb                    |379        |55681565     |55681564  |75         |\n",
      "|114134|aws-device-farm                   |350        |32127108     |32127107  |76         |\n",
      "|85669 |amazon-cloudsearch                |349        |13277942     |13277941  |77         |\n",
      "|123506|aws-xray                          |345        |41024919     |41024918  |78         |\n",
      "|137855|aws-lambda-layers                 |343        |null         |null      |79         |\n",
      "|142472|aws-auto-scaling                  |339        |null         |null      |80         |\n",
      "|140763|aws-amplify-cli                   |332        |58514012     |58514011  |81         |\n",
      "|139448|aws-msk                           |326        |57292802     |57292801  |82         |\n",
      "|84440 |amazon-glacier                    |322        |13704296     |13704295  |83         |\n",
      "|123672|amazon-rekognition                |310        |41166697     |41166696  |84         |\n",
      "|99915 |aws-php-sdk                       |294        |21128217     |21128216  |85         |\n",
      "|124614|amazon-linux                      |290        |44279911     |44279910  |86         |\n",
      "|128024|amazon-redshift-spectrum          |283        |45699556     |45699555  |87         |\n",
      "|105164|amazon-cloudtrail                 |282        |45579977     |45579976  |88         |\n",
      "|137241|aws-cloudwatch-log-insights       |279        |null         |null      |89         |\n",
      "|130186|aws-cloud9                        |277        |47786635     |47786634  |90         |\n",
      "|144776|aws-glue-spark                    |269        |null         |null      |91         |\n",
      "|77626 |amazon-swf                        |267        |9392680      |9392679   |92         |\n",
      "|126042|amazon-connect                    |266        |43577167     |43577166  |93         |\n",
      "|124430|aws-sdk-go                        |263        |41964076     |41964075  |94         |\n",
      "|131300|aws-lambda-edge                   |259        |49150728     |49150727  |95         |\n",
      "|124821|aws-pinpoint                      |248        |53570232     |53570231  |96         |\n",
      "|115299|amazon-elasticsearch              |247        |33150056     |33150055  |97         |\n",
      "|121858|amazon-waf                        |239        |43577329     |43577328  |98         |\n",
      "|117558|aws-certificate-manager           |231        |35174230     |35174229  |99         |\n",
      "|125257|aws-sdk-net                       |227        |50616717     |50616716  |100        |\n",
      "|139169|aws-aurora-serverless             |227        |57039690     |57039689  |101        |\n",
      "|141206|aws-cloudformation-custom-resource|227        |58940981     |58940980  |102        |\n",
      "|132592|amazon-dynamodb-index             |226        |null         |null      |103        |\n",
      "|136111|amazon-linux-2                    |224        |null         |null      |104        |\n",
      "|142261|amazon-api-gateway                |219        |null         |null      |105        |\n",
      "|131722|aws-userpools                     |210        |49293310     |49293309  |106        |\n",
      "|107419|amazon-fire-tv                    |207        |26223272     |26223271  |107        |\n",
      "|126577|aws-sts                           |205        |44154427     |44154426  |108        |\n",
      "|141800|aws-policies                      |205        |null         |null      |109        |\n",
      "|138176|amazon-textract                   |201        |56012705     |56012704  |110        |\n",
      "|130961|aws-elb                           |184        |48532308     |48532307  |111        |\n",
      "|121197|amazon-cloudwatch-metrics         |173        |null         |null      |112        |\n",
      "|127369|amazon-elastic-transcoder         |170        |44969970     |44969969  |113        |\n",
      "|160247|amazon-selling-partner-api        |169        |null         |null      |114        |\n",
      "|117056|aws-mobilehub                     |168        |47477619     |47477618  |115        |\n",
      "|127408|aws-organizations                 |167        |51930078     |51930077  |116        |\n",
      "|131771|aws-parameter-store               |166        |50351896     |50351895  |117        |\n",
      "|100823|aws-powershell                    |163        |21649634     |21649633  |118        |\n",
      "|147573|aws-iot-core                      |160        |null         |null      |119        |\n",
      "|147669|aws-iot-greengrass                |154        |65486618     |65486617  |120        |\n",
      "|123412|amazon-polly                      |153        |40922587     |40922586  |121        |\n",
      "|146900|aws-databricks                    |153        |63736214     |63736213  |122        |\n",
      "|155946|amazon-opensearch                 |152        |null         |null      |123        |\n",
      "|65267 |amazon-appstore                   |146        |8723460      |8723459   |124        |\n",
      "|129144|aws-sdk-java-2.0                  |142        |46756860     |46756859  |125        |\n",
      "|130887|amazon-mq                         |136        |53842915     |53842914  |126        |\n",
      "|138847|amazon-timestream                 |135        |56655040     |56655039  |127        |\n",
      "|137836|aws-media-convert                 |134        |null         |null      |128        |\n",
      "|150661|amazon-transcribe                 |131        |75466438     |75466437  |129        |\n",
      "|129198|aws-billing                       |129        |54666983     |54666982  |130        |\n",
      "|124913|aws-vpc                           |127        |52866710     |52866709  |131        |\n",
      "|132102|aws-lex                           |120        |49708032     |49708031  |132        |\n",
      "|140249|aws-config                        |118        |58047340     |58047339  |133        |\n",
      "|124674|aws-sdk-cpp                       |117        |42213196     |42213195  |134        |\n",
      "|136186|aws-java-sdk-2.x                  |117        |53856456     |53856455  |135        |\n",
      "|139345|amazon-kinesis-analytics          |117        |57147051     |57147050  |136        |\n",
      "|145316|aws-codeartifact                  |116        |null         |null      |137        |\n",
      "|131158|amazon-workspaces                 |114        |64055983     |64055982  |138        |\n",
      "|126758|aws-ebs                           |112        |47476500     |47476499  |139        |\n",
      "|135200|aws-sdk-ios                       |112        |52879614     |52879613  |140        |\n",
      "|74926 |amazon-pay                        |112        |20752370     |20752369  |141        |\n",
      "|130900|aws-ecr                           |111        |51679331     |51679330  |142        |\n",
      "|138464|aws-acm                           |108        |56447285     |56447284  |143        |\n",
      "|116292|amazon-echo                       |107        |34031443     |34031442  |144        |\n",
      "|10189 |awstats                           |104        |4856974      |4856973   |145        |\n",
      "|122808|aws-sdk-ruby                      |103        |51774676     |51774675  |146        |\n",
      "|138846|amazon-qldb                       |101        |56654781     |56654780  |147        |\n",
      "|144223|amazon-keyspaces                  |101        |61398441     |61398440  |148        |\n",
      "|115665|amazon-kcl                        |100        |33496092     |33496091  |149        |\n",
      "|136642|aws-documentdb-mongoapi           |100        |54401837     |54401836  |150        |\n",
      "|126004|aws-codestar                      |97         |43530554     |43530553  |151        |\n",
      "|126935|amazon-dynamodb-dax               |94         |44816823     |44816822  |152        |\n",
      "|134529|aws-alb                           |94         |null         |null      |153        |\n",
      "|112910|amazonsellercentral               |92         |56702275     |56702274  |154        |\n",
      "|129774|aws-ecs                           |90         |47365414     |47365413  |155        |\n",
      "|132654|amazon-s3-select                  |88         |50223829     |50223828  |156        |\n",
      "|106659|awss3transfermanager              |87         |25604782     |25604781  |157        |\n",
      "|150853|aws-sqs-fifo                      |87         |null         |null      |158        |\n",
      "|137351|amazon-dynamodb-local             |86         |55130109     |55130108  |159        |\n",
      "|118669|amazon-policy                     |85         |36165805     |36165804  |160        |\n",
      "|127424|aws-regions                       |85         |45032429     |45032428  |161        |\n",
      "|144102|amazon-kinesis-video-streams      |82         |61301084     |61301083  |162        |\n",
      "|138200|amazon-personalize                |80         |56032160     |56032159  |163        |\n",
      "|132672|aws-data-pipeline                 |79         |54666900     |54666899  |164        |\n",
      "|140659|amazon-cognito-triggers           |79         |58424222     |58424221  |165        |\n",
      "|148325|amazon-rds-proxy                  |79         |null         |null      |166        |\n",
      "|144908|aws-chime-sdk                     |78         |66449029     |66449028  |167        |\n",
      "|134837|aws-toolkit                       |74         |null         |null      |168        |\n",
      "|141748|aws-vpn                           |74         |59343483     |59343482  |169        |\n",
      "|126667|amazon-systems-manager            |73         |47778757     |47778756  |170        |\n",
      "|139195|aws-sso                           |72         |69578177     |69578176  |171        |\n",
      "|140764|aws-amplify-sdk-js                |72         |58514459     |58514458  |172        |\n",
      "|148193|aws-nlb                           |71         |null         |null      |173        |\n",
      "|144785|aws-http-api                      |70         |null         |null      |174        |\n",
      "|143842|amazon-comprehend                 |69         |61073094     |61073093  |175        |\n",
      "|140973|aws-lake-formation                |67         |null         |null      |176        |\n",
      "|156196|aws-iam-policy                    |66         |null         |null      |177        |\n",
      "|144487|amazon-chime                      |65         |64057365     |64057364  |178        |\n",
      "|118404|amazon-cognito-facebook           |64         |52362453     |52362452  |179        |\n",
      "|141018|aws-nat-gateway                   |64         |null         |null      |180        |\n",
      "|141788|amazon-cloudwatch-events          |63         |59376745     |59376744  |181        |\n",
      "|145573|aws-credentials                   |63         |null         |null      |182        |\n",
      "|151057|aws-appsync-resolver              |62         |null         |null      |183        |\n",
      "|154709|aws-data-wrangler                 |62         |70919805     |70919804  |184        |\n",
      "|133108|amazon-advertising-api            |60         |50642267     |50642266  |185        |\n",
      "|157941|amazon-sagemaker-studio           |60         |null         |null      |186        |\n",
      "|117498|amazon-machine-learning           |58         |45569132     |45569131  |187        |\n",
      "|140197|amazon-deequ                      |58         |58304990     |58304989  |188        |\n",
      "|139059|aws-backup                        |56         |null         |null      |189        |\n",
      "|150929|aws-devops                        |56         |null         |null      |190        |\n",
      "|117447|awss3transferutility              |55         |null         |null      |191        |\n",
      "|139117|aws-ec2-instance-connect          |54         |56918359     |56918358  |192        |\n",
      "|131157|amazon-workmail                   |53         |48721766     |48721765  |193        |\n",
      "|133191|amazon-simple-email-service       |51         |50712061     |50712060  |194        |\n",
      "|142398|aws-sdk-java                      |51         |null         |null      |195        |\n",
      "|88362 |aws-marketplace                   |51         |15509326     |15509325  |196        |\n",
      "|126047|aws-service-catalog               |50         |43577290     |43577289  |197        |\n",
      "|118633|amazon-kinesis-kpl                |49         |null         |null      |198        |\n",
      "|124236|aws-access-policy                 |49         |null         |null      |199        |\n",
      "|140784|aws-amplify-sdk-android           |47         |null         |null      |200        |\n",
      "|142910|aws-media-live                    |46         |60263029     |60263028  |201        |\n",
      "|150444|aws-sdk-js-v3                     |46         |null         |null      |202        |\n",
      "|151105|amazon-app-runner                 |46         |null         |null      |203        |\n",
      "|155456|amazon-fsx                        |46         |71565416     |71565415  |204        |\n",
      "|123733|aws-reserved-instances            |45         |null         |null      |205        |\n",
      "|126453|amazon-alb                        |45         |null         |null      |206        |\n",
      "|143728|aws-glue-workflow                 |44         |null         |null      |207        |\n",
      "|111308|amazon-marketplace                |42         |29726441     |29726440  |208        |\n",
      "|150004|amazon-appflow                    |42         |null         |null      |209        |\n",
      "|126046|aws-direct-connect                |41         |43577257     |43577256  |210        |\n",
      "|141761|aws-rds-data-service              |41         |59355046     |59355045  |211        |\n",
      "|126044|aws-storage-gateway               |40         |43577211     |43577210  |212        |\n",
      "|129317|aws-sct                           |40         |46904754     |46904753  |213        |\n",
      "|144940|aws-control-tower                 |40         |null         |null      |214        |\n",
      "|139962|amazon-forecast                   |39         |57755281     |57755280  |215        |\n",
      "|149281|aws-vpc-peering                   |39         |null         |null      |216        |\n",
      "|139603|aws-session-manager               |38         |null         |null      |217        |\n",
      "|158168|aws-cdk-typescript                |38         |null         |null      |218        |\n",
      "|158653|amazon-product-advertising-api    |38         |75553998     |75553997  |219        |\n",
      "|126462|aws-appstream                     |37         |44034305     |44034304  |220        |\n",
      "|135412|aws-iot-analytics                 |36         |53096065     |53096064  |221        |\n",
      "|146448|aws-app-config                    |36         |null         |null      |222        |\n",
      "|156004|aws-datasync                      |36         |null         |null      |223        |\n",
      "|118403|amazon-mobile-hub                 |35         |47681129     |47681128  |224        |\n",
      "|140711|aws-app-mesh                      |35         |59183720     |59183719  |225        |\n",
      "|146875|amazon-managed-blockchain         |35         |63715800     |63715799  |226        |\n",
      "|150021|aws-glue-connection               |35         |70650405     |70650404  |227        |\n",
      "|123196|aws-sdk-mock                      |34         |40713571     |40713570  |228        |\n",
      "|150733|aws-private-link                  |34         |null         |null      |229        |\n",
      "|150944|aws-chatbot                       |34         |67601517     |67601516  |230        |\n",
      "|155311|aws-pipeline                      |34         |null         |null      |231        |\n",
      "|115729|aws-directory-services            |33         |33532454     |33532453  |232        |\n",
      "|151505|aws-signature                     |33         |null         |null      |233        |\n",
      "|120833|amazon-kinesis-agent              |32         |null         |null      |234        |\n",
      "|142095|aws-code-deploy-appspec           |32         |null         |null      |235        |\n",
      "|145441|aws-rest-api                      |32         |null         |null      |236        |\n",
      "|154520|aws-cost-explorer                 |32         |null         |null      |237        |\n",
      "|148910|aws-lambda-containers             |31         |null         |null      |238        |\n",
      "|133349|aws-elemental                     |30         |50888158     |50888157  |239        |\n",
      "|151632|amazon-cognito-identity-js        |30         |null         |null      |240        |\n",
      "|151959|aws-networking                    |30         |null         |null      |241        |\n",
      "|152040|aws-roles                         |30         |null         |null      |242        |\n",
      "|153301|aws-sdk-go-v2                     |30         |null         |null      |243        |\n",
      "|106896|amazon-mobile-analytics           |29         |47704636     |47704635  |244        |\n",
      "|134925|amazon-gateway                    |29         |52663510     |52663509  |245        |\n",
      "|152032|amazon-ivs                        |29         |68557561     |68557560  |246        |\n",
      "|102066|amazon-javascript-sdk             |28         |22427114     |22427113  |247        |\n",
      "|119119|awsdeploy                         |28         |null         |null      |248        |\n",
      "|137894|amazon-dynamodb-data-modeling     |28         |55740253     |55740252  |249        |\n",
      "|149638|aws-permissions                   |28         |null         |null      |250        |\n",
      "|137011|amazon-cloudhsm                   |27         |68484465     |68484464  |251        |\n",
      "|137859|aws-cloudmap                      |27         |55705996     |55705995  |252        |\n",
      "|140772|amazon-msk                        |27         |null         |null      |253        |\n",
      "|142976|aws-security-hub                  |27         |60329990     |60329989  |254        |\n",
      "|148346|amazon-ground-truth               |27         |null         |null      |255        |\n",
      "|153537|aws-msk-connect                   |27         |null         |null      |256        |\n",
      "|154437|amazon-redshift-serverless        |27         |null         |null      |257        |\n",
      "|135758|amazon-gamelift                   |26         |null         |null      |258        |\n",
      "|60614 |amazon-fps                        |26         |7702503      |7702502   |259        |\n",
      "|92651 |amazon-device-messaging           |26         |32060783     |32060782  |260        |\n",
      "|116812|amazonads                         |25         |null         |null      |261        |\n",
      "|134650|aws-appsync-ios                   |25         |null         |null      |262        |\n",
      "|148879|aws-cloudshell                    |24         |null         |null      |263        |\n",
      "|140237|aws-java-sdk-dynamodb             |23         |null         |null      |264        |\n",
      "|144998|amazon-s3-access-points           |23         |null         |null      |265        |\n",
      "|158019|aws-s3-client                     |23         |null         |null      |266        |\n",
      "|153098|aws-copilot                       |22         |69468222     |69468221  |267        |\n",
      "|155275|aws-glue3.0                       |22         |null         |null      |268        |\n",
      "|142290|amazon-kendra                     |21         |59763275     |59763274  |269        |\n",
      "|151961|aws-route-table                   |21         |null         |null      |270        |\n",
      "|152349|aws-transfer-family               |21         |null         |null      |271        |\n",
      "|132947|aws-lambda-go                     |20         |null         |null      |272        |\n",
      "|133753|amazon-sumerian                   |20         |51343627     |51343626  |273        |\n",
      "|147078|aws-mediapackage                  |20         |63913432     |63913431  |274        |\n",
      "|159062|aws-sdk-rust                      |20         |74563497     |74563496  |275        |\n",
      "|130668|amazon-fire-os                    |19         |null         |null      |276        |\n",
      "|134822|aws-elastictranscoder             |19         |null         |null      |277        |\n",
      "|138745|amazon-translate                  |19         |56556852     |56556851  |278        |\n",
      "|149549|aws-deeplens                      |19         |66192979     |66192978  |279        |\n",
      "|154086|aws-databrew                      |19         |70350656     |70350655  |280        |\n",
      "|127457|aws-resource-group                |18         |null         |null      |281        |\n",
      "|138387|aws-iam-authenticator             |18         |null         |null      |282        |\n",
      "|146373|aws-global-accelerator            |18         |65276947     |65276946  |283        |\n",
      "|148636|amazon-certificate-manager        |18         |null         |null      |284        |\n",
      "|153708|aws-identitypools                 |18         |null         |null      |285        |\n",
      "|74988 |amazon-silk                       |18         |12324534     |12324533  |286        |\n",
      "|129269|amazon-ec2-spot-market            |17         |null         |null      |287        |\n",
      "|131030|amazon-workdocs                   |17         |48721783     |48721782  |288        |\n",
      "|147077|aws-mediaservices                 |17         |63913369     |63913368  |289        |\n",
      "|147236|amazon-guardduty                  |17         |64056189     |64056188  |290        |\n",
      "|154384|amazon-memory-db                  |17         |70616338     |70616337  |291        |\n",
      "|157939|amazon-sagemaker-debugger         |17         |null         |null      |292        |\n",
      "|160248|amazon-in-app-purchase            |17         |null         |null      |293        |\n",
      "|142021|amazon-ion                        |16         |59570737     |59570736  |294        |\n",
      "|144784|aws-jwt-authorizer                |16         |null         |null      |295        |\n",
      "|151960|aws-site-to-site                  |16         |null         |null      |296        |\n",
      "|126452|amazon-acl                        |15         |44226460     |44226459  |297        |\n",
      "|136895|aws-landing-zone                  |15         |54647163     |54647162  |298        |\n",
      "|147076|aws-mediastore                    |15         |63913344     |63913343  |299        |\n",
      "|116974|amazon-clouddrive                 |14         |34658255     |34658254  |300        |\n",
      "|118982|aws-ios                           |14         |null         |null      |301        |\n",
      "|141799|aws-sftp                          |14         |null         |null      |302        |\n",
      "|142978|amazon-inspector                  |14         |60329978     |60329977  |303        |\n",
      "|117477|amazonica                         |13         |35108145     |35108144  |304        |\n",
      "|152877|amazon-ecr-public                 |13         |69275066     |69275065  |305        |\n",
      "|153651|aws-acm-certificate               |13         |null         |null      |306        |\n",
      "|152492|awscognitotoken                   |12         |null         |null      |307        |\n",
      "|128783|amazon-macie                      |11         |46419601     |46419600  |308        |\n",
      "|142636|aws-amplify-vue                   |11         |60046666     |60046665  |309        |\n",
      "|152114|aws-automation                    |11         |null         |null      |310        |\n",
      "|134237|aws-sdk-android                   |10         |null         |null      |311        |\n",
      "|136514|aws-mediatailor                   |10         |54264640     |54264639  |312        |\n",
      "|149039|aws-cdk-context                   |10         |null         |null      |313        |\n",
      "|152470|amazon-linux-extras               |10         |71857933     |71857932  |314        |\n",
      "|154164|aws.s3                            |10         |null         |null      |315        |\n",
      "|155964|aws-scp                           |10         |null         |null      |316        |\n",
      "|157558|aws-datastore                     |10         |null         |null      |317        |\n",
      "|158256|amazon-sagemaker-compilers        |10         |null         |null      |318        |\n",
      "|113306|amazon-directory-services         |9          |31385582     |31385581  |319        |\n",
      "|151803|aws-feature-store                 |9          |68353256     |68353255  |320        |\n",
      "|126043|aws-snowball                      |8          |43577191     |43577190  |321        |\n",
      "|134127|amazon-fba                        |8          |null         |null      |322        |\n",
      "|147574|aws-iot-events                    |8          |null         |null      |323        |\n",
      "|155778|amazon-imagebuilder               |8          |null         |null      |324        |\n",
      "|158570|amazon-sagemaker-clarify          |8          |null         |null      |325        |\n",
      "|124760|aws-shell                         |7          |42297642     |42297641  |326        |\n",
      "|129685|aws-redshift                      |7          |47282354     |47282353  |327        |\n",
      "|133551|aws-visual-studio-toolkit         |7          |null         |null      |328        |\n",
      "|136595|aws-nuke                          |7          |54301243     |54301242  |329        |\n",
      "|149852|amazon-parallelcluster            |7          |null         |null      |330        |\n",
      "|150992|aws-emr-studio                    |7          |null         |null      |331        |\n",
      "|152647|aws-asg                           |7          |null         |null      |332        |\n",
      "|152978|aws-iot-sitewise                  |7          |null         |null      |333        |\n",
      "|160259|amazon-savings-plans              |7          |75485587     |75485586  |334        |\n",
      "|80097 |aws-lib                           |7          |10513430     |10513429  |335        |\n",
      "|127537|aws-vm-import                     |6          |null         |null      |336        |\n",
      "|130106|amazon-echo-show                  |6          |null         |null      |337        |\n",
      "|155279|amazon-location-service           |6          |71417728     |71417727  |338        |\n",
      "|157698|amazon-cloudwatch-synthetics      |6          |null         |null      |339        |\n",
      "|159967|aws-api-gateway-v2                |6          |null         |null      |340        |\n",
      "|101895|aws4c                             |5          |null         |null      |341        |\n",
      "|105647|amazon-gamecircle                 |5          |24637104     |24637103  |342        |\n",
      "|111759|amazon-mobile-ads                 |5          |null         |null      |343        |\n",
      "|140885|aws-lambda-puppeteer              |5          |null         |null      |344        |\n",
      "|153464|aws-lambda-integration            |5          |null         |null      |345        |\n",
      "|159271|aws-cdk-custom-resource           |5          |null         |null      |346        |\n",
      "|139076|aws-step-config                   |4          |56874634     |56874633  |347        |\n",
      "|148579|aws-codeguru                      |4          |null         |null      |348        |\n",
      "|148673|aws-steps                         |4          |66022129     |66022128  |349        |\n",
      "|150982|aws-cdn                           |4          |null         |null      |350        |\n",
      "|151896|aws-limits                        |4          |null         |null      |351        |\n",
      "|153099|aws-copilot-cli                   |4          |69468231     |69468230  |352        |\n",
      "|153479|aws-dax                           |4          |null         |null      |353        |\n",
      "|153765|aws-fis                           |4          |70488063     |70488062  |354        |\n",
      "|158502|aws-vault                         |4          |null         |null      |355        |\n",
      "|105248|amazon-firefly                    |3          |24324115     |24324114  |356        |\n",
      "|113905|aws-ruby-flow                     |3          |null         |null      |357        |\n",
      "|138212|amazon-kinesis-client             |3          |null         |null      |358        |\n",
      "|145806|amazon-honeycode                  |3          |62764928     |62764927  |359        |\n",
      "|147079|aws-mediaconnect                  |3          |63913470     |63913469  |360        |\n",
      "|150243|aws-iot-jobs                      |3          |null         |null      |361        |\n",
      "|153186|amazon-dynamodb-global            |3          |null         |null      |362        |\n",
      "|154682|amazon-fargate                    |3          |null         |null      |363        |\n",
      "|156682|aws-govcloud                      |3          |null         |null      |364        |\n",
      "|157464|aws-cloudformation-macro          |3          |null         |null      |365        |\n",
      "|157831|aws-ebs-csi-driver                |3          |null         |null      |366        |\n",
      "|158253|amazon-sagemaker-experiments      |3          |null         |null      |367        |\n",
      "|158654|amazon-paapi                      |3          |null         |null      |368        |\n",
      "|159355|aws-codecatalyst                  |3          |74799008     |74799007  |369        |\n",
      "|144125|amazon-drive                      |2          |null         |null      |370        |\n",
      "|151823|awstimestamp                      |2          |null         |null      |371        |\n",
      "|154065|amazon-billing                    |2          |70408267     |70408266  |372        |\n",
      "|154550|aws-rails-provisioner             |2          |null         |null      |373        |\n",
      "|156858|aws4auth                          |2          |null         |null      |374        |\n",
      "|157400|amazon-ecs-sidecar                |2          |null         |null      |375        |\n",
      "|158697|amazon-sagemaker-neo              |2          |null         |null      |376        |\n",
      "|158818|aws-deepracer                     |2          |null         |null      |377        |\n",
      "|158954|aws-service-quotas                |2          |74473823     |74473822  |378        |\n",
      "|159669|aws-sdk-comprehend                |2          |null         |null      |379        |\n",
      "|160229|aws-lambda-extensions             |2          |null         |null      |380        |\n",
      "|160326|aws-app-runner                    |2          |null         |null      |381        |\n",
      "|158252|amazon-sagemaker-profiler-debugger|1          |null         |null      |382        |\n",
      "|158257|amazon-sagemaker-model-servers    |1          |null         |null      |383        |\n",
      "|158511|amazon-braket                     |1          |null         |null      |384        |\n",
      "|158556|aws-azure-login                   |1          |null         |null      |385        |\n",
      "|158698|aws-arn                           |1          |null         |null      |386        |\n",
      "|159107|awssecretsmanagerpostgresqldriver |1          |null         |null      |387        |\n",
      "|159420|amazon-aim                        |1          |null         |null      |388        |\n",
      "|159462|aws-jwt-verify                    |1          |null         |null      |389        |\n",
      "|159752|amazon-cloud-directory            |1          |null         |null      |390        |\n",
      "|160053|aws-network-acl                   |1          |null         |null      |391        |\n",
      "|160291|amazon-lookout-for-metrics        |1          |null         |null      |392        |\n",
      "|160292|amazon-codewhisperer              |1          |null         |null      |393        |\n",
      "|160314|aws-data-exchange                 |1          |null         |null      |394        |\n",
      "+------+----------------------------------+-----------+-------------+----------+-----------+\n",
      "\n"
     ]
    },
    {
     "name": "stderr",
     "output_type": "stream",
     "text": [
      "\r",
      "                                                                                \r"
     ]
    }
   ],
   "source": [
    "df_tags_with_amazon_with_rank.show(n, truncate=False)"
   ]
  },
  {
   "cell_type": "code",
   "execution_count": 172,
   "id": "dcd4d83b",
   "metadata": {},
   "outputs": [
    {
     "name": "stderr",
     "output_type": "stream",
     "text": [
      "23/03/13 19:27:12 WARN WindowExec: No Partition Defined for Window operation! Moving all data to a single partition, this can cause serious performance degradation.\n",
      "23/03/13 19:27:12 WARN WindowExec: No Partition Defined for Window operation! Moving all data to a single partition, this can cause serious performance degradation.\n",
      "23/03/13 19:27:14 WARN WindowExec: No Partition Defined for Window operation! Moving all data to a single partition, this can cause serious performance degradation.\n",
      "23/03/13 19:27:14 WARN WindowExec: No Partition Defined for Window operation! Moving all data to a single partition, this can cause serious performance degradation.\n",
      "23/03/13 19:27:14 WARN WindowExec: No Partition Defined for Window operation! Moving all data to a single partition, this can cause serious performance degradation.\n",
      "23/03/13 19:27:14 WARN WindowExec: No Partition Defined for Window operation! Moving all data to a single partition, this can cause serious performance degradation.\n",
      "                                                                                \r"
     ]
    }
   ],
   "source": [
    "\n",
    "# Dataset path \n",
    "output_bucket = 's3://stackoverflow-dataset-2023/dataset/query_results/'\n",
    "output_folder_name = f\"{output_bucket}/01_Most_Popular_Service_tagCount\"\n",
    "\n",
    "df_tags_with_amazon_with_rank.repartition(1) \\\n",
    "                            .write \\\n",
    "                            .format('csv') \\\n",
    "                            .option('header', True) \\\n",
    "                            .mode('overwrite') \\\n",
    "                            .save(output_folder_name)"
   ]
  },
  {
   "cell_type": "code",
   "execution_count": 30,
   "id": "261c85b6",
   "metadata": {},
   "outputs": [
    {
     "name": "stdout",
     "output_type": "stream",
     "text": [
      "root\n",
      " |-- Id: integer (nullable = true)\n",
      " |-- TagName: string (nullable = true)\n",
      " |-- No_of_Posts: integer (nullable = true)\n",
      " |-- ExcerptPostId: integer (nullable = true)\n",
      " |-- WikiPostId: integer (nullable = true)\n",
      " |-- Rank_Number: integer (nullable = false)\n",
      "\n"
     ]
    }
   ],
   "source": [
    "df_tags_with_amazon_with_rank.printSchema()"
   ]
  },
  {
   "cell_type": "code",
   "execution_count": 31,
   "id": "04cfac84",
   "metadata": {
    "scrolled": false
   },
   "outputs": [
    {
     "name": "stderr",
     "output_type": "stream",
     "text": [
      "23/03/29 15:32:00 WARN WindowExec: No Partition Defined for Window operation! Moving all data to a single partition, this can cause serious performance degradation.\n",
      "23/03/29 15:32:00 WARN WindowExec: No Partition Defined for Window operation! Moving all data to a single partition, this can cause serious performance degradation.\n",
      "23/03/29 15:32:00 WARN WindowExec: No Partition Defined for Window operation! Moving all data to a single partition, this can cause serious performance degradation.\n",
      "23/03/29 15:32:00 WARN WindowExec: No Partition Defined for Window operation! Moving all data to a single partition, this can cause serious performance degradation.\n",
      "23/03/29 15:32:00 WARN WindowExec: No Partition Defined for Window operation! Moving all data to a single partition, this can cause serious performance degradation.\n",
      "[Stage 47:>                                                         (0 + 2) / 2]\r"
     ]
    },
    {
     "name": "stdout",
     "output_type": "stream",
     "text": [
      "+------+----------------------------------+-----------+-----------+\n",
      "|Id    |TagName                           |No_of_Posts|Rank_Number|\n",
      "+------+----------------------------------+-----------+-----------+\n",
      "|33388 |amazon-web-services               |148966     |1          |\n",
      "|11444 |amazon-s3                         |48707      |2          |\n",
      "|12375 |amazon-ec2                        |35842      |3          |\n",
      "|108737|aws-lambda                        |29194      |4          |\n",
      "|76578 |amazon-dynamodb                   |13332      |5          |\n",
      "|105747|amazon-elastic-beanstalk          |9083       |6          |\n",
      "|89537 |amazon-redshift                   |8251       |7          |\n",
      "|76486 |aws-cloudformation                |7885       |8          |\n",
      "|113256|aws-api-gateway                   |7216       |9          |\n",
      "|105719|amazon-cognito                    |6922       |10         |\n",
      "|42168 |amazon-rds                        |6523       |11         |\n",
      "|107211|aws-sdk                           |6060       |12         |\n",
      "|78251 |amazon-iam                        |5181       |13         |\n",
      "|71568 |amazon-cloudfront                 |4728       |14         |\n",
      "|38033 |amazon-ecs                        |4723       |15         |\n",
      "|130293|aws-amplify                       |4481       |16         |\n",
      "|99166 |aws-cli                           |4189       |17         |\n",
      "|32457 |amazon-sqs                        |3973       |18         |\n",
      "|79057 |amazon-cloudwatch                 |3969       |19         |\n",
      "|128181|aws-glue                          |3747       |20         |\n",
      "|133404|amazon-eks                        |3347       |21         |\n",
      "|56129 |amazon-emr                        |3313       |22         |\n",
      "|123922|amazon-athena                     |3251       |23         |\n",
      "|133995|aws-cdk                           |3121       |24         |\n",
      "|53877 |amazon-sns                        |2852       |25         |\n",
      "|73075 |amazon-elb                        |2658       |26         |\n",
      "|130184|amazon-sagemaker                  |2590       |27         |\n",
      "|79058 |amazon-route53                    |2519       |28         |\n",
      "|79205 |amazon-vpc                        |2368       |29         |\n",
      "|68334 |amazon-ses                        |2129       |30         |\n",
      "|1688  |amazon                            |1844       |31         |\n",
      "|100392|amazon-kinesis                    |1752       |32         |\n",
      "|130125|aws-appsync                       |1729       |33         |\n",
      "|130040|aws-fargate                       |1595       |34         |\n",
      "|113290|amazon-aurora                     |1494       |35         |\n",
      "|114449|aws-codepipeline                  |1468       |36         |\n",
      "|123484|aws-codebuild                     |1393       |37         |\n",
      "|123710|aws-step-functions                |1359       |38         |\n",
      "|115200|aws-iot                           |1200       |39         |\n",
      "|132737|aws-serverless                    |1153       |40         |\n",
      "|108181|aws-code-deploy                   |1057       |41         |\n",
      "|133429|aws-sam                           |925        |42         |\n",
      "|135716|aws-application-load-balancer     |874        |43         |\n",
      "|130840|amazon-neptune                    |872        |44         |\n",
      "|135734|amazon-ami                        |857        |45         |\n",
      "|73052 |amazon-elasticache                |846        |46         |\n",
      "|70972 |amazon-mws                        |830        |47         |\n",
      "|118096|amazon-cloudwatchlogs             |828        |48         |\n",
      "|132552|aws-secrets-manager               |796        |49         |\n",
      "|115018|aws-security-group                |786        |50         |\n",
      "|123441|amazon-ecr                        |778        |51         |\n",
      "|123207|amazon-quicksight                 |759        |52         |\n",
      "|124869|amazon-lex                        |702        |53         |\n",
      "|114055|amazon-kms                        |677        |54         |\n",
      "|123556|amazon-lightsail                  |667        |55         |\n",
      "|125258|aws-sdk-js                        |659        |56         |\n",
      "|18151 |amazon-ebs                        |623        |57         |\n",
      "|130173|aws-ssm                           |601        |58         |\n",
      "|132814|amazon-kinesis-firehose           |598        |59         |\n",
      "|146089|aws-event-bridge                  |580        |60         |\n",
      "|122870|amazon-efs                        |560        |61         |\n",
      "|92026 |aws-opsworks                      |542        |62         |\n",
      "|114185|aws-codecommit                    |541        |63         |\n",
      "|112389|aws-java-sdk                      |535        |64         |\n",
      "|53549 |amazon-product-api                |492        |65         |\n",
      "|123053|aws-sdk-nodejs                    |487        |66         |\n",
      "|128297|aws-sam-cli                       |480        |67         |\n",
      "|92709 |amazon-data-pipeline              |467        |68         |\n",
      "|129593|aws-elasticsearch                 |447        |69         |\n",
      "|121854|aws-dms                           |438        |70         |\n",
      "|135649|aws-glue-data-catalog             |398        |71         |\n",
      "|37299 |amazon-simpledb                   |394        |72         |\n",
      "|118124|amazon-dynamodb-streams           |387        |73         |\n",
      "|124227|aws-batch                         |380        |74         |\n",
      "|137333|aws-documentdb                    |379        |75         |\n",
      "|114134|aws-device-farm                   |350        |76         |\n",
      "|85669 |amazon-cloudsearch                |349        |77         |\n",
      "|123506|aws-xray                          |345        |78         |\n",
      "|137855|aws-lambda-layers                 |343        |79         |\n",
      "|142472|aws-auto-scaling                  |339        |80         |\n",
      "|140763|aws-amplify-cli                   |332        |81         |\n",
      "|139448|aws-msk                           |326        |82         |\n",
      "|84440 |amazon-glacier                    |322        |83         |\n",
      "|123672|amazon-rekognition                |310        |84         |\n",
      "|99915 |aws-php-sdk                       |294        |85         |\n",
      "|124614|amazon-linux                      |290        |86         |\n",
      "|128024|amazon-redshift-spectrum          |283        |87         |\n",
      "|105164|amazon-cloudtrail                 |282        |88         |\n",
      "|137241|aws-cloudwatch-log-insights       |279        |89         |\n",
      "|130186|aws-cloud9                        |277        |90         |\n",
      "|144776|aws-glue-spark                    |269        |91         |\n",
      "|77626 |amazon-swf                        |267        |92         |\n",
      "|126042|amazon-connect                    |266        |93         |\n",
      "|124430|aws-sdk-go                        |263        |94         |\n",
      "|131300|aws-lambda-edge                   |259        |95         |\n",
      "|124821|aws-pinpoint                      |248        |96         |\n",
      "|115299|amazon-elasticsearch              |247        |97         |\n",
      "|121858|amazon-waf                        |239        |98         |\n",
      "|117558|aws-certificate-manager           |231        |99         |\n",
      "|125257|aws-sdk-net                       |227        |100        |\n",
      "|139169|aws-aurora-serverless             |227        |101        |\n",
      "|141206|aws-cloudformation-custom-resource|227        |102        |\n",
      "|132592|amazon-dynamodb-index             |226        |103        |\n",
      "|136111|amazon-linux-2                    |224        |104        |\n",
      "|142261|amazon-api-gateway                |219        |105        |\n",
      "|131722|aws-userpools                     |210        |106        |\n",
      "|107419|amazon-fire-tv                    |207        |107        |\n",
      "|126577|aws-sts                           |205        |108        |\n",
      "|141800|aws-policies                      |205        |109        |\n",
      "|138176|amazon-textract                   |201        |110        |\n",
      "|130961|aws-elb                           |184        |111        |\n",
      "|121197|amazon-cloudwatch-metrics         |173        |112        |\n",
      "|127369|amazon-elastic-transcoder         |170        |113        |\n",
      "|160247|amazon-selling-partner-api        |169        |114        |\n",
      "|117056|aws-mobilehub                     |168        |115        |\n",
      "|127408|aws-organizations                 |167        |116        |\n",
      "|131771|aws-parameter-store               |166        |117        |\n",
      "|100823|aws-powershell                    |163        |118        |\n",
      "|147573|aws-iot-core                      |160        |119        |\n",
      "|147669|aws-iot-greengrass                |154        |120        |\n",
      "|123412|amazon-polly                      |153        |121        |\n",
      "|146900|aws-databricks                    |153        |122        |\n",
      "|155946|amazon-opensearch                 |152        |123        |\n",
      "|65267 |amazon-appstore                   |146        |124        |\n",
      "|129144|aws-sdk-java-2.0                  |142        |125        |\n",
      "|130887|amazon-mq                         |136        |126        |\n",
      "|138847|amazon-timestream                 |135        |127        |\n",
      "|137836|aws-media-convert                 |134        |128        |\n",
      "|150661|amazon-transcribe                 |131        |129        |\n",
      "|129198|aws-billing                       |129        |130        |\n",
      "|124913|aws-vpc                           |127        |131        |\n",
      "|132102|aws-lex                           |120        |132        |\n",
      "|140249|aws-config                        |118        |133        |\n",
      "|124674|aws-sdk-cpp                       |117        |134        |\n",
      "|136186|aws-java-sdk-2.x                  |117        |135        |\n",
      "|139345|amazon-kinesis-analytics          |117        |136        |\n",
      "|145316|aws-codeartifact                  |116        |137        |\n",
      "|131158|amazon-workspaces                 |114        |138        |\n",
      "|126758|aws-ebs                           |112        |139        |\n",
      "|135200|aws-sdk-ios                       |112        |140        |\n",
      "|74926 |amazon-pay                        |112        |141        |\n",
      "|130900|aws-ecr                           |111        |142        |\n",
      "|138464|aws-acm                           |108        |143        |\n",
      "|116292|amazon-echo                       |107        |144        |\n",
      "|10189 |awstats                           |104        |145        |\n",
      "|122808|aws-sdk-ruby                      |103        |146        |\n",
      "|138846|amazon-qldb                       |101        |147        |\n",
      "|144223|amazon-keyspaces                  |101        |148        |\n",
      "|115665|amazon-kcl                        |100        |149        |\n",
      "|136642|aws-documentdb-mongoapi           |100        |150        |\n",
      "|126004|aws-codestar                      |97         |151        |\n",
      "|126935|amazon-dynamodb-dax               |94         |152        |\n",
      "|134529|aws-alb                           |94         |153        |\n",
      "|112910|amazonsellercentral               |92         |154        |\n",
      "|129774|aws-ecs                           |90         |155        |\n",
      "|132654|amazon-s3-select                  |88         |156        |\n",
      "|106659|awss3transfermanager              |87         |157        |\n",
      "|150853|aws-sqs-fifo                      |87         |158        |\n",
      "|137351|amazon-dynamodb-local             |86         |159        |\n",
      "|118669|amazon-policy                     |85         |160        |\n",
      "|127424|aws-regions                       |85         |161        |\n",
      "|144102|amazon-kinesis-video-streams      |82         |162        |\n",
      "|138200|amazon-personalize                |80         |163        |\n",
      "|132672|aws-data-pipeline                 |79         |164        |\n",
      "|140659|amazon-cognito-triggers           |79         |165        |\n",
      "|148325|amazon-rds-proxy                  |79         |166        |\n",
      "|144908|aws-chime-sdk                     |78         |167        |\n",
      "|134837|aws-toolkit                       |74         |168        |\n",
      "|141748|aws-vpn                           |74         |169        |\n",
      "|126667|amazon-systems-manager            |73         |170        |\n",
      "|139195|aws-sso                           |72         |171        |\n",
      "|140764|aws-amplify-sdk-js                |72         |172        |\n",
      "|148193|aws-nlb                           |71         |173        |\n",
      "|144785|aws-http-api                      |70         |174        |\n",
      "|143842|amazon-comprehend                 |69         |175        |\n",
      "|140973|aws-lake-formation                |67         |176        |\n",
      "|156196|aws-iam-policy                    |66         |177        |\n",
      "|144487|amazon-chime                      |65         |178        |\n",
      "|118404|amazon-cognito-facebook           |64         |179        |\n",
      "|141018|aws-nat-gateway                   |64         |180        |\n",
      "|141788|amazon-cloudwatch-events          |63         |181        |\n",
      "|145573|aws-credentials                   |63         |182        |\n",
      "|151057|aws-appsync-resolver              |62         |183        |\n",
      "|154709|aws-data-wrangler                 |62         |184        |\n",
      "|133108|amazon-advertising-api            |60         |185        |\n",
      "|157941|amazon-sagemaker-studio           |60         |186        |\n",
      "|117498|amazon-machine-learning           |58         |187        |\n",
      "|140197|amazon-deequ                      |58         |188        |\n",
      "|139059|aws-backup                        |56         |189        |\n",
      "|150929|aws-devops                        |56         |190        |\n",
      "|117447|awss3transferutility              |55         |191        |\n",
      "|139117|aws-ec2-instance-connect          |54         |192        |\n",
      "|131157|amazon-workmail                   |53         |193        |\n",
      "|133191|amazon-simple-email-service       |51         |194        |\n",
      "|142398|aws-sdk-java                      |51         |195        |\n",
      "|88362 |aws-marketplace                   |51         |196        |\n",
      "|126047|aws-service-catalog               |50         |197        |\n",
      "|118633|amazon-kinesis-kpl                |49         |198        |\n",
      "|124236|aws-access-policy                 |49         |199        |\n",
      "|140784|aws-amplify-sdk-android           |47         |200        |\n",
      "|142910|aws-media-live                    |46         |201        |\n",
      "|150444|aws-sdk-js-v3                     |46         |202        |\n",
      "|151105|amazon-app-runner                 |46         |203        |\n",
      "|155456|amazon-fsx                        |46         |204        |\n",
      "|123733|aws-reserved-instances            |45         |205        |\n",
      "|126453|amazon-alb                        |45         |206        |\n",
      "|143728|aws-glue-workflow                 |44         |207        |\n",
      "|111308|amazon-marketplace                |42         |208        |\n",
      "|150004|amazon-appflow                    |42         |209        |\n",
      "|126046|aws-direct-connect                |41         |210        |\n",
      "|141761|aws-rds-data-service              |41         |211        |\n",
      "|126044|aws-storage-gateway               |40         |212        |\n",
      "|129317|aws-sct                           |40         |213        |\n",
      "|144940|aws-control-tower                 |40         |214        |\n",
      "|139962|amazon-forecast                   |39         |215        |\n",
      "|149281|aws-vpc-peering                   |39         |216        |\n",
      "|139603|aws-session-manager               |38         |217        |\n",
      "|158168|aws-cdk-typescript                |38         |218        |\n",
      "|158653|amazon-product-advertising-api    |38         |219        |\n",
      "|126462|aws-appstream                     |37         |220        |\n",
      "|135412|aws-iot-analytics                 |36         |221        |\n",
      "|146448|aws-app-config                    |36         |222        |\n",
      "|156004|aws-datasync                      |36         |223        |\n",
      "|118403|amazon-mobile-hub                 |35         |224        |\n",
      "|140711|aws-app-mesh                      |35         |225        |\n",
      "|146875|amazon-managed-blockchain         |35         |226        |\n",
      "|150021|aws-glue-connection               |35         |227        |\n",
      "|123196|aws-sdk-mock                      |34         |228        |\n",
      "|150733|aws-private-link                  |34         |229        |\n",
      "|150944|aws-chatbot                       |34         |230        |\n",
      "|155311|aws-pipeline                      |34         |231        |\n",
      "|115729|aws-directory-services            |33         |232        |\n",
      "|151505|aws-signature                     |33         |233        |\n",
      "|120833|amazon-kinesis-agent              |32         |234        |\n",
      "|142095|aws-code-deploy-appspec           |32         |235        |\n",
      "|145441|aws-rest-api                      |32         |236        |\n",
      "|154520|aws-cost-explorer                 |32         |237        |\n",
      "|148910|aws-lambda-containers             |31         |238        |\n",
      "|133349|aws-elemental                     |30         |239        |\n",
      "|151632|amazon-cognito-identity-js        |30         |240        |\n",
      "|151959|aws-networking                    |30         |241        |\n",
      "|152040|aws-roles                         |30         |242        |\n",
      "|153301|aws-sdk-go-v2                     |30         |243        |\n",
      "|106896|amazon-mobile-analytics           |29         |244        |\n",
      "|134925|amazon-gateway                    |29         |245        |\n",
      "|152032|amazon-ivs                        |29         |246        |\n",
      "|102066|amazon-javascript-sdk             |28         |247        |\n",
      "|119119|awsdeploy                         |28         |248        |\n",
      "|137894|amazon-dynamodb-data-modeling     |28         |249        |\n",
      "|149638|aws-permissions                   |28         |250        |\n",
      "|137011|amazon-cloudhsm                   |27         |251        |\n",
      "|137859|aws-cloudmap                      |27         |252        |\n",
      "|140772|amazon-msk                        |27         |253        |\n",
      "|142976|aws-security-hub                  |27         |254        |\n",
      "|148346|amazon-ground-truth               |27         |255        |\n",
      "|153537|aws-msk-connect                   |27         |256        |\n",
      "|154437|amazon-redshift-serverless        |27         |257        |\n",
      "|135758|amazon-gamelift                   |26         |258        |\n",
      "|60614 |amazon-fps                        |26         |259        |\n",
      "|92651 |amazon-device-messaging           |26         |260        |\n",
      "|116812|amazonads                         |25         |261        |\n",
      "|134650|aws-appsync-ios                   |25         |262        |\n",
      "|148879|aws-cloudshell                    |24         |263        |\n",
      "|140237|aws-java-sdk-dynamodb             |23         |264        |\n",
      "|144998|amazon-s3-access-points           |23         |265        |\n",
      "|158019|aws-s3-client                     |23         |266        |\n",
      "|153098|aws-copilot                       |22         |267        |\n",
      "|155275|aws-glue3.0                       |22         |268        |\n",
      "|142290|amazon-kendra                     |21         |269        |\n",
      "|151961|aws-route-table                   |21         |270        |\n",
      "|152349|aws-transfer-family               |21         |271        |\n",
      "|132947|aws-lambda-go                     |20         |272        |\n",
      "|133753|amazon-sumerian                   |20         |273        |\n",
      "|147078|aws-mediapackage                  |20         |274        |\n",
      "|159062|aws-sdk-rust                      |20         |275        |\n",
      "|130668|amazon-fire-os                    |19         |276        |\n",
      "|134822|aws-elastictranscoder             |19         |277        |\n",
      "|138745|amazon-translate                  |19         |278        |\n",
      "|149549|aws-deeplens                      |19         |279        |\n",
      "|154086|aws-databrew                      |19         |280        |\n",
      "|127457|aws-resource-group                |18         |281        |\n",
      "|138387|aws-iam-authenticator             |18         |282        |\n",
      "|146373|aws-global-accelerator            |18         |283        |\n",
      "|148636|amazon-certificate-manager        |18         |284        |\n",
      "|153708|aws-identitypools                 |18         |285        |\n",
      "|74988 |amazon-silk                       |18         |286        |\n",
      "|129269|amazon-ec2-spot-market            |17         |287        |\n",
      "|131030|amazon-workdocs                   |17         |288        |\n",
      "|147077|aws-mediaservices                 |17         |289        |\n",
      "|147236|amazon-guardduty                  |17         |290        |\n",
      "|154384|amazon-memory-db                  |17         |291        |\n",
      "|157939|amazon-sagemaker-debugger         |17         |292        |\n",
      "|160248|amazon-in-app-purchase            |17         |293        |\n",
      "|142021|amazon-ion                        |16         |294        |\n",
      "|144784|aws-jwt-authorizer                |16         |295        |\n",
      "|151960|aws-site-to-site                  |16         |296        |\n",
      "|126452|amazon-acl                        |15         |297        |\n",
      "|136895|aws-landing-zone                  |15         |298        |\n",
      "|147076|aws-mediastore                    |15         |299        |\n",
      "|116974|amazon-clouddrive                 |14         |300        |\n",
      "|118982|aws-ios                           |14         |301        |\n",
      "|141799|aws-sftp                          |14         |302        |\n",
      "|142978|amazon-inspector                  |14         |303        |\n",
      "|117477|amazonica                         |13         |304        |\n",
      "|152877|amazon-ecr-public                 |13         |305        |\n",
      "|153651|aws-acm-certificate               |13         |306        |\n",
      "|152492|awscognitotoken                   |12         |307        |\n",
      "|128783|amazon-macie                      |11         |308        |\n",
      "|142636|aws-amplify-vue                   |11         |309        |\n",
      "|152114|aws-automation                    |11         |310        |\n",
      "|134237|aws-sdk-android                   |10         |311        |\n",
      "|136514|aws-mediatailor                   |10         |312        |\n",
      "|149039|aws-cdk-context                   |10         |313        |\n",
      "|152470|amazon-linux-extras               |10         |314        |\n",
      "|154164|aws.s3                            |10         |315        |\n",
      "|155964|aws-scp                           |10         |316        |\n",
      "|157558|aws-datastore                     |10         |317        |\n",
      "|158256|amazon-sagemaker-compilers        |10         |318        |\n",
      "|113306|amazon-directory-services         |9          |319        |\n",
      "|151803|aws-feature-store                 |9          |320        |\n",
      "|126043|aws-snowball                      |8          |321        |\n",
      "|134127|amazon-fba                        |8          |322        |\n",
      "|147574|aws-iot-events                    |8          |323        |\n",
      "|155778|amazon-imagebuilder               |8          |324        |\n",
      "|158570|amazon-sagemaker-clarify          |8          |325        |\n",
      "|124760|aws-shell                         |7          |326        |\n",
      "|129685|aws-redshift                      |7          |327        |\n",
      "|133551|aws-visual-studio-toolkit         |7          |328        |\n",
      "|136595|aws-nuke                          |7          |329        |\n",
      "|149852|amazon-parallelcluster            |7          |330        |\n",
      "|150992|aws-emr-studio                    |7          |331        |\n",
      "|152647|aws-asg                           |7          |332        |\n",
      "|152978|aws-iot-sitewise                  |7          |333        |\n",
      "|160259|amazon-savings-plans              |7          |334        |\n",
      "|80097 |aws-lib                           |7          |335        |\n",
      "|127537|aws-vm-import                     |6          |336        |\n",
      "|130106|amazon-echo-show                  |6          |337        |\n",
      "|155279|amazon-location-service           |6          |338        |\n",
      "|157698|amazon-cloudwatch-synthetics      |6          |339        |\n",
      "|159967|aws-api-gateway-v2                |6          |340        |\n",
      "|101895|aws4c                             |5          |341        |\n",
      "|105647|amazon-gamecircle                 |5          |342        |\n",
      "|111759|amazon-mobile-ads                 |5          |343        |\n",
      "|140885|aws-lambda-puppeteer              |5          |344        |\n",
      "|153464|aws-lambda-integration            |5          |345        |\n",
      "|159271|aws-cdk-custom-resource           |5          |346        |\n",
      "|139076|aws-step-config                   |4          |347        |\n",
      "|148579|aws-codeguru                      |4          |348        |\n",
      "|148673|aws-steps                         |4          |349        |\n",
      "|150982|aws-cdn                           |4          |350        |\n",
      "|151896|aws-limits                        |4          |351        |\n",
      "|153099|aws-copilot-cli                   |4          |352        |\n",
      "|153479|aws-dax                           |4          |353        |\n",
      "|153765|aws-fis                           |4          |354        |\n",
      "|158502|aws-vault                         |4          |355        |\n",
      "|105248|amazon-firefly                    |3          |356        |\n",
      "|113905|aws-ruby-flow                     |3          |357        |\n",
      "|138212|amazon-kinesis-client             |3          |358        |\n",
      "|145806|amazon-honeycode                  |3          |359        |\n",
      "|147079|aws-mediaconnect                  |3          |360        |\n",
      "|150243|aws-iot-jobs                      |3          |361        |\n",
      "|153186|amazon-dynamodb-global            |3          |362        |\n",
      "|154682|amazon-fargate                    |3          |363        |\n",
      "|156682|aws-govcloud                      |3          |364        |\n",
      "|157464|aws-cloudformation-macro          |3          |365        |\n",
      "|157831|aws-ebs-csi-driver                |3          |366        |\n",
      "|158253|amazon-sagemaker-experiments      |3          |367        |\n",
      "|158654|amazon-paapi                      |3          |368        |\n",
      "|159355|aws-codecatalyst                  |3          |369        |\n",
      "|144125|amazon-drive                      |2          |370        |\n",
      "|151823|awstimestamp                      |2          |371        |\n",
      "|154065|amazon-billing                    |2          |372        |\n",
      "|154550|aws-rails-provisioner             |2          |373        |\n",
      "|156858|aws4auth                          |2          |374        |\n",
      "|157400|amazon-ecs-sidecar                |2          |375        |\n",
      "|158697|amazon-sagemaker-neo              |2          |376        |\n",
      "|158818|aws-deepracer                     |2          |377        |\n",
      "|158954|aws-service-quotas                |2          |378        |\n",
      "|159669|aws-sdk-comprehend                |2          |379        |\n",
      "|160229|aws-lambda-extensions             |2          |380        |\n",
      "|160326|aws-app-runner                    |2          |381        |\n",
      "|158252|amazon-sagemaker-profiler-debugger|1          |382        |\n",
      "|158257|amazon-sagemaker-model-servers    |1          |383        |\n",
      "|158511|amazon-braket                     |1          |384        |\n",
      "|158556|aws-azure-login                   |1          |385        |\n",
      "|158698|aws-arn                           |1          |386        |\n",
      "|159107|awssecretsmanagerpostgresqldriver |1          |387        |\n",
      "|159420|amazon-aim                        |1          |388        |\n",
      "|159462|aws-jwt-verify                    |1          |389        |\n",
      "|159752|amazon-cloud-directory            |1          |390        |\n",
      "|160053|aws-network-acl                   |1          |391        |\n",
      "|160291|amazon-lookout-for-metrics        |1          |392        |\n",
      "|160292|amazon-codewhisperer              |1          |393        |\n",
      "|160314|aws-data-exchange                 |1          |394        |\n",
      "+------+----------------------------------+-----------+-----------+\n",
      "\n"
     ]
    },
    {
     "name": "stderr",
     "output_type": "stream",
     "text": [
      "\r",
      "                                                                                \r"
     ]
    }
   ],
   "source": [
    "# For reporting \n",
    "\n",
    "df_tags_with_amazon_with_rank.select(F.col('Id'), F.col('TagName'), F.col('No_of_Posts'), F.col('Rank_Number')) \\\n",
    "                             .show(n, truncate=False)"
   ]
  },
  {
   "cell_type": "markdown",
   "id": "e9d24cc2",
   "metadata": {},
   "source": [
    "### Q2: `Posthistory` and `Tags` "
   ]
  },
  {
   "cell_type": "code",
   "execution_count": 90,
   "id": "66c7138e",
   "metadata": {
    "scrolled": true
   },
   "outputs": [
    {
     "name": "stderr",
     "output_type": "stream",
     "text": [
      "[Stage 135:>                                                        (0 + 1) / 1]\r"
     ]
    },
    {
     "name": "stdout",
     "output_type": "stream",
     "text": [
      "+---------+-----------------+--------+--------------------+--------------------+------+----------------+--------------------+--------------------+--------------+\n",
      "|       Id|PostHistoryTypeId|  PostId|        RevisionGUID|        CreationDate|UserId| UserDisplayName|             Comment|                Text|ContentLicense|\n",
      "+---------+-----------------+--------+--------------------+--------------------+------+----------------+--------------------+--------------------+--------------+\n",
      "|146175008|                5|42248528|ebad5287-e4ae-454...|2017-05-23 10:29:...|  null|URL Rewriter Bot|replaced http://s...|## Background ##&...|  CC BY-SA 3.0|\n",
      "|146175009|                5| 2176210|0aa181ad-5b55-40d...|2017-05-23 10:29:...|  null|URL Rewriter Bot|replaced http://s...|You are fetching ...|  CC BY-SA 3.0|\n",
      "|146175010|                5| 1031042|c860038f-254c-483...|2017-05-23 10:29:...|  null|URL Rewriter Bot|replaced http://s...|A bit more specif...|  CC BY-SA 3.0|\n",
      "|146175011|                5|35979640|274be6d6-b708-461...|2017-05-23 10:29:...|  null|URL Rewriter Bot|replaced http://s...|Try doing:&#xA;&#...|  CC BY-SA 3.0|\n",
      "|146175012|                5|42277696|ef3468cf-b96b-429...|2017-05-23 10:29:...|  null|URL Rewriter Bot|replaced http://s...|I can display the...|  CC BY-SA 3.0|\n",
      "+---------+-----------------+--------+--------------------+--------------------+------+----------------+--------------------+--------------------+--------------+\n",
      "only showing top 5 rows\n",
      "\n"
     ]
    },
    {
     "name": "stderr",
     "output_type": "stream",
     "text": [
      "\r",
      "                                                                                \r"
     ]
    }
   ],
   "source": [
    "df_post_history.show(5)"
   ]
  },
  {
   "cell_type": "code",
   "execution_count": 190,
   "id": "21f8140d",
   "metadata": {},
   "outputs": [],
   "source": [
    "df_post_history = df_post_history.drop('RevisionGUID', 'UserId', 'UserDisplayName','ContentLicense')"
   ]
  },
  {
   "cell_type": "code",
   "execution_count": 178,
   "id": "52feec4c",
   "metadata": {},
   "outputs": [
    {
     "name": "stderr",
     "output_type": "stream",
     "text": [
      "[Stage 248:====================================================>(474 + 1) / 475]\r"
     ]
    },
    {
     "name": "stdout",
     "output_type": "stream",
     "text": [
      "+-----------------+--------+\n",
      "|PostHistoryTypeId|   count|\n",
      "+-----------------+--------+\n",
      "|                2|44652246|\n",
      "|                5|26071104|\n",
      "|                1|17433109|\n",
      "|                3|17416584|\n",
      "|                6| 3715289|\n",
      "|               24| 2878366|\n",
      "|                4| 2688549|\n",
      "|               10|  793338|\n",
      "|               13|  371647|\n",
      "|               12|  366970|\n",
      "|               33|  180070|\n",
      "|               34|  178925|\n",
      "|                8|  115613|\n",
      "|               16|  110856|\n",
      "|               50|  107951|\n",
      "|               11|   50866|\n",
      "|               19|   34702|\n",
      "|                7|   25880|\n",
      "|               36|   23492|\n",
      "|                9|   21029|\n",
      "+-----------------+--------+\n",
      "only showing top 20 rows\n",
      "\n"
     ]
    },
    {
     "name": "stderr",
     "output_type": "stream",
     "text": [
      "\r",
      "                                                                                \r"
     ]
    }
   ],
   "source": [
    "# No. of questions based on PostType\n",
    "\n",
    "df_post_history.groupBy(F.col('PostHistoryTypeId')).count().orderBy(F.desc(\"count\")).show()"
   ]
  },
  {
   "cell_type": "raw",
   "id": "151215cd",
   "metadata": {},
   "source": [
    "# Filtering POSTs only for New Title and Modified Title (Questions ONLY)\n",
    "==================\n",
    "PostHistoryTypeId\n",
    "==================\n",
    "**1 = Initial Title - initial title (questions only)**\n",
    "2 = Initial Body - initial post raw body text\n",
    "3 = Initial Tags - initial list of tags (questions only)\n",
    "**4 = Edit Title - modified title (questions only)**\n",
    "5 = Edit Body - modified post body (raw markdown)\n",
    "6 = Edit Tags - modified list of tags (questions only)\n",
    "7 = Rollback Title - reverted title (questions only)\n",
    "8 = Rollback Body - reverted body (raw markdown)\n",
    "9 = Rollback Tags - reverted list of tags (questions only)\n",
    "10 = Post Closed - post voted to be closed\n",
    "11 = Post Reopened - post voted to be reopened\n",
    "12 = Post Deleted - post voted to be removed\n",
    "13 = Post Undeleted - post voted to be restored\n",
    "14 = Post Locked - post locked by moderator\n",
    "15 = Post Unlocked - post unlocked by moderator\n",
    "16 = Community Owned - post now community owned\n",
    "17 = Post Migrated - post migrated - now replaced by 35/36 (away/here)\n",
    "18 = Question Merged - question merged with deleted question\n",
    "19 = Question Protected - question was protected by a moderator.\n",
    "20 = Question Unprotected - question was unprotected by a moderator.\n",
    "21 = Post Disassociated - OwnerUserId removed from post by admin\n",
    "22 = Question Unmerged - answers/votes restored to previously merged question\n",
    "24 = Suggested Edit Applied\n",
    "25 = Post Tweeted\n",
    "31 = Comment discussion moved to chat\n",
    "33 = Post notice added - comment contains foreign key to PostNotices\n",
    "34 = Post notice removed - comment contains foreign key to PostNotices\n",
    "35 = Post migrated away - replaces id 17\n",
    "36 = Post migrated here - replaces id 17\n",
    "37 = Post merge source\n",
    "38 = Post merge destination\n",
    "50 = Bumped by Community User\n",
    "52 = Question became hot network question (main) / Hot Meta question (meta)\n",
    "53 = Question removed from hot network/meta questions by a moderator"
   ]
  },
  {
   "cell_type": "code",
   "execution_count": 179,
   "id": "01a83e92",
   "metadata": {},
   "outputs": [],
   "source": [
    "df_post_history_filtered = df_post_history.filter(F.col(\"PostHistoryTypeId\") \\\n",
    "                                           .isin([1, 4]))"
   ]
  },
  {
   "cell_type": "code",
   "execution_count": 180,
   "id": "d6ea8087",
   "metadata": {},
   "outputs": [
    {
     "name": "stderr",
     "output_type": "stream",
     "text": [
      "\r",
      "[Stage 251:>                                                        (0 + 1) / 1]\r"
     ]
    },
    {
     "name": "stdout",
     "output_type": "stream",
     "text": [
      "+---------+-----------------+--------+--------------------+-------+--------------------+\n",
      "|       Id|PostHistoryTypeId|  PostId|        CreationDate|Comment|                Text|\n",
      "+---------+-----------------+--------+--------------------+-------+--------------------+\n",
      "|146175423|                1|44132268|2017-05-23 10:29:...|   null|How to properly a...|\n",
      "|146177276|                1|44132271|2017-05-23 10:29:...|   null|Unknown pattern c...|\n",
      "|146181789|                1|44132274|2017-05-23 10:29:...|   null|write data to tex...|\n",
      "|146184521|                1|44132277|2017-05-23 10:30:...|   null|SQL How to select...|\n",
      "|146191028|                1|44132280|2017-05-23 10:30:...|   null|NumberFormatExcep...|\n",
      "+---------+-----------------+--------+--------------------+-------+--------------------+\n",
      "only showing top 5 rows\n",
      "\n"
     ]
    },
    {
     "name": "stderr",
     "output_type": "stream",
     "text": [
      "\r",
      "                                                                                \r"
     ]
    }
   ],
   "source": [
    "df_post_history_filtered.show(5)"
   ]
  },
  {
   "cell_type": "code",
   "execution_count": 191,
   "id": "b3a90e5c",
   "metadata": {},
   "outputs": [],
   "source": [
    "df_post_history_and_tags = df_post_history.join(df_tags_with_amazon, \n",
    "                                                df_post_history.Id == df_tags_with_amazon.ExcerptPostId) "
   ]
  },
  {
   "cell_type": "code",
   "execution_count": 192,
   "id": "82de6f75",
   "metadata": {},
   "outputs": [],
   "source": [
    "df_post_history_and_tags = df_post_history_filtered.join(df_tags_with_amazon.drop('Id'),\n",
    "                                                         df_tags_with_amazon.ExcerptPostId == df_post_history_filtered.Id)"
   ]
  },
  {
   "cell_type": "code",
   "execution_count": 193,
   "id": "52e0e41d",
   "metadata": {},
   "outputs": [],
   "source": [
    "df_post_history_and_tags = df_tags_with_amazon.join(df_post_history_filtered,\n",
    "                                                    df_tags_with_amazon.ExcerptPostId == df_post_history_filtered.Id)"
   ]
  },
  {
   "cell_type": "code",
   "execution_count": null,
   "id": "deb8f45b",
   "metadata": {},
   "outputs": [],
   "source": [
    "df_post_history_filtered"
   ]
  },
  {
   "cell_type": "code",
   "execution_count": null,
   "id": "bfbfe674",
   "metadata": {},
   "outputs": [],
   "source": []
  },
  {
   "cell_type": "code",
   "execution_count": null,
   "id": "ca41e5cd",
   "metadata": {},
   "outputs": [],
   "source": []
  },
  {
   "cell_type": "code",
   "execution_count": null,
   "id": "3ec68855",
   "metadata": {},
   "outputs": [],
   "source": []
  },
  {
   "cell_type": "code",
   "execution_count": null,
   "id": "28336b82",
   "metadata": {},
   "outputs": [],
   "source": []
  },
  {
   "cell_type": "code",
   "execution_count": null,
   "id": "9ee4debe",
   "metadata": {},
   "outputs": [],
   "source": []
  },
  {
   "cell_type": "markdown",
   "id": "e2560ae4",
   "metadata": {},
   "source": [
    "#### Final merged data (`Posthistory` and `Tags`)"
   ]
  },
  {
   "cell_type": "code",
   "execution_count": 112,
   "id": "ebd5eb53",
   "metadata": {},
   "outputs": [],
   "source": [
    "df_post_history_and_tags_merged = df_post_history_and_tags_1 \\\n",
    "                                  .union(df_post_history_and_tags_2)\\\n",
    "                                  .orderBy(F.col('PostId'))\n",
    "                         "
   ]
  },
  {
   "cell_type": "code",
   "execution_count": 115,
   "id": "121316ba",
   "metadata": {
    "collapsed": true
   },
   "outputs": [
    {
     "name": "stderr",
     "output_type": "stream",
     "text": [
      "[Stage 167:====================================================>(949 + 1) / 950]\r"
     ]
    },
    {
     "name": "stdout",
     "output_type": "stream",
     "text": [
      "+--------+-----------------+-------+--------------------+--------------------+-------+---------------+--------------------+--------------------+--------------+-------+------+-------------+----------+\n",
      "|      Id|PostHistoryTypeId| PostId|        RevisionGUID|        CreationDate| UserId|UserDisplayName|             Comment|                Text|ContentLicense|TagName| Count|ExcerptPostId|WikiPostId|\n",
      "+--------+-----------------+-------+--------------------+--------------------+-------+---------------+--------------------+--------------------+--------------+-------+------+-------------+----------+\n",
      "| 7534882|                5|3606997|8ff5db4c-b495-45f...|2010-08-31 07:44:...| 151292|           null|deleted 122 chara...|###New to C++?&#x...|  CC BY-SA 2.5|    c++|783573|      3624963|   3606997|\n",
      "| 7534871|                5|3606997|de0ff197-3eef-48d...|2010-08-31 07:44:...| 168225|           null|added 109 charact...|##External FAQs&#...|  CC BY-SA 2.5|    c++|783573|      3624963|   3606997|\n",
      "| 7534869|                2|3606997|2eebe7f5-954d-41f...|2010-07-22 13:36:...| 168225|           null|                null|##External FAQs&#...|  CC BY-SA 2.5|    c++|783573|      3624963|   3606997|\n",
      "|20992432|               24|3606997|4d3266bc-ebcb-4a6...|2012-02-12 18:18:...|   null|           null|Proposed by 12045...|                null|  CC BY-SA 3.0|    c++|783573|      3624963|   3606997|\n",
      "|21822374|                5|3606997|f1cb3055-e353-4dd...|2012-03-06 12:50:...|  46642|           null|added 29 characte...|## New to C++?&#x...|  CC BY-SA 3.0|    c++|783573|      3624963|   3606997|\n",
      "| 7534873|                5|3606997|aafcc6d1-b178-4a9...|2010-08-31 07:44:...| 151292|           null|added 114 charact...|##External FAQs&#...|  CC BY-SA 2.5|    c++|783573|      3624963|   3606997|\n",
      "| 7534875|                5|3606997|8abc11d4-f52f-4c0...| 2010-08-31 07:44:35| 168225|           null|added 82 characte...|##External FAQs&#...|  CC BY-SA 2.5|    c++|783573|      3624963|   3606997|\n",
      "| 8491406|                5|3606997|5a8110be-1a12-498...|2010-10-27 22:06:...|  87234|           null|         edited body|&lt;sup&gt;[Above...|  CC BY-SA 2.5|    c++|783573|      3624963|   3606997|\n",
      "|20992431|                5|3606997|4d3266bc-ebcb-4a6...|2012-02-12 18:18:...|1204507|           null|Added an interest...|### New to C++?&#...|  CC BY-SA 3.0|    c++|783573|      3624963|   3606997|\n",
      "|21973173|                5|3606997|24d2b57a-6282-46b...|2012-03-09 06:11:...|1312147|           null|added 1718 charac...|##Etymology&#xD;&...|  CC BY-SA 3.0|    c++|783573|      3624963|   3606997|\n",
      "|21973174|               24|3606997|24d2b57a-6282-46b...|2012-03-09 06:11:...|   null|           null|Proposed by 12089...|                null|  CC BY-SA 3.0|    c++|783573|      3624963|   3606997|\n",
      "| 9804551|                5|3606997|403ceec3-a812-443...|2011-01-09 02:05:...| 478288|           null|Added link to cpl...|&lt;sup&gt;[Above...|  CC BY-SA 2.5|    c++|783573|      3624963|   3606997|\n",
      "| 8470041|                5|3606997|257da6ca-f7e2-4b5...|2010-10-26 22:17:...|  87234|           null|    Chat basic info.|&lt;sup&gt;[Above...|  CC BY-SA 2.5|    c++|783573|      3624963|   3606997|\n",
      "|17572311|                5|3606997|2d31da1c-9cb2-468...|2011-10-26 16:43:...| 140719|           null|0x ==&gt; 11; add...|&lt;sup&gt;[Above...|  CC BY-SA 3.0|    c++|783573|      3624963|   3606997|\n",
      "| 8843704|                5|3606997|52352b68-1b67-4a2...|2010-11-16 21:24:...| 140719|           null|added 185 charact...|&lt;sup&gt;[Above...|  CC BY-SA 2.5|    c++|783573|      3624963|   3606997|\n",
      "| 8536674|                5|3606997|1b97ffe5-84a0-4f2...|2010-10-30 12:42:...|   null|   Mads Elvheim|Specified that th...|&lt;sup&gt;[Above...|  CC BY-SA 2.5|    c++|783573|      3624963|   3606997|\n",
      "| 8470099|                5|3606997|e6cf12bb-0631-486...|2010-10-26 22:21:...|   null|     Roger Pate|added 141 charact...|&lt;sup&gt;[Above...|  CC BY-SA 2.5|    c++|783573|      3624963|   3606997|\n",
      "| 8765055|                5|3606997|2bec1b10-b7d7-4ec...|2010-11-12 09:15:...| 442284|           null|added 511 charact...|&lt;sup&gt;[Above...|  CC BY-SA 2.5|    c++|783573|      3624963|   3606997|\n",
      "|21213737|                5|3606997|66da9397-15ba-4a6...|2012-02-18 10:23:...| 597607|           null|added 16 characte...|## New to C++?&#x...|  CC BY-SA 3.0|    c++|783573|      3624963|   3606997|\n",
      "| 7721408|                5|3606997|642d705a-21ce-4f1...|2010-09-11 13:01:...|   null|     Roger Pate|That &quot;list o...|&lt;sup&gt;[Above...|  CC BY-SA 2.5|    c++|783573|      3624963|   3606997|\n",
      "+--------+-----------------+-------+--------------------+--------------------+-------+---------------+--------------------+--------------------+--------------+-------+------+-------------+----------+\n",
      "only showing top 20 rows\n",
      "\n"
     ]
    },
    {
     "name": "stderr",
     "output_type": "stream",
     "text": [
      "\r",
      "                                                                                \r"
     ]
    }
   ],
   "source": [
    "df_post_history_and_tags_merged.show()"
   ]
  },
  {
   "cell_type": "code",
   "execution_count": 116,
   "id": "b2ca3ae9",
   "metadata": {},
   "outputs": [
    {
     "name": "stdout",
     "output_type": "stream",
     "text": [
      "root\n",
      " |-- Id: integer (nullable = true)\n",
      " |-- PostHistoryTypeId: integer (nullable = true)\n",
      " |-- PostId: integer (nullable = true)\n",
      " |-- RevisionGUID: string (nullable = true)\n",
      " |-- CreationDate: timestamp (nullable = true)\n",
      " |-- UserId: integer (nullable = true)\n",
      " |-- UserDisplayName: string (nullable = true)\n",
      " |-- Comment: string (nullable = true)\n",
      " |-- Text: string (nullable = true)\n",
      " |-- ContentLicense: string (nullable = true)\n",
      " |-- TagName: string (nullable = true)\n",
      " |-- Count: integer (nullable = true)\n",
      " |-- ExcerptPostId: integer (nullable = true)\n",
      " |-- WikiPostId: integer (nullable = true)\n",
      "\n"
     ]
    }
   ],
   "source": [
    "df_post_history_and_tags_merged.printSchema()"
   ]
  },
  {
   "cell_type": "code",
   "execution_count": 122,
   "id": "c21e5d42",
   "metadata": {},
   "outputs": [],
   "source": []
  },
  {
   "cell_type": "code",
   "execution_count": 124,
   "id": "e80b105c",
   "metadata": {},
   "outputs": [
    {
     "name": "stderr",
     "output_type": "stream",
     "text": [
      "[Stage 182:====================================================>(949 + 1) / 950]\r"
     ]
    },
    {
     "name": "stdout",
     "output_type": "stream",
     "text": [
      "+--------+----------+--------------------+-------------------+--------------------+\n",
      "|  PostId|      Date|             Comment|            TagName|                Text|\n",
      "+--------+----------+--------------------+-------------------+--------------------+\n",
      "|56874634|2019-07-03|added 98 characte...|    aws-step-config|`StepConfig` : Sp...|\n",
      "|56874633|2019-07-03|added 219 charact...|    aws-step-config|                null|\n",
      "|56874633|2019-07-03|added 219 charact...|    aws-step-config|&#xD;&#xA;&#xD;&#...|\n",
      "|56874634|2019-07-03|added 98 characte...|    aws-step-config|                null|\n",
      "|43577346|2019-06-26|added 48 characte...|  amazon-quicksight|Amazon QuickSight...|\n",
      "|43577346|2019-06-26|remove plagiarise...|  amazon-quicksight|                    |\n",
      "|43577346|2019-06-26|Rollback to [0736...|  amazon-quicksight|Amazon QuickSight...|\n",
      "|43577346|2019-06-26|remove plagiarise...|  amazon-quicksight|&lt;!-- previous ...|\n",
      "|47639438|2019-06-24|Proposed by 73041...|        aws-fargate|                null|\n",
      "|47639438|2019-06-24|improved descript...|        aws-fargate|AWS Fargate is a ...|\n",
      "| 5926595|2019-06-23|Rollback to [eb1d...|         amazon-sns|Amazon Simple Not...|\n",
      "|56702275|2019-06-22|added 231 charact...|amazonsellercentral|Amazon Seller Cen...|\n",
      "|56702275|2019-06-22|Proposed by 68322...|amazonsellercentral|                null|\n",
      "|56655040|2019-06-21|added 97 characte...|  amazon-timestream|Use this tag for ...|\n",
      "|56655040|2019-06-21|Proposed by 34161...|  amazon-timestream|                null|\n",
      "|56654781|2019-06-20|Added info on the...|        amazon-qldb|For use when aski...|\n",
      "|56654781|2019-06-20|Proposed by 34161...|        amazon-qldb|                null|\n",
      "|56654780|2019-06-19|Added info on the...|        amazon-qldb|Amazon QLDB is a ...|\n",
      "|56654780|2019-06-19|Proposed by 34161...|        amazon-qldb|                null|\n",
      "|54666983|2019-06-18|deleted 21 charac...|        aws-billing|Use for programmi...|\n",
      "+--------+----------+--------------------+-------------------+--------------------+\n",
      "only showing top 20 rows\n",
      "\n"
     ]
    },
    {
     "name": "stderr",
     "output_type": "stream",
     "text": [
      "\r",
      "                                                                                \r"
     ]
    }
   ],
   "source": [
    "# All posts with AWS/Amazon Tag \n",
    "list_of_keywords = ['AWS', 'amazon', 'Amazon', 'amz']\n",
    "\n",
    "# List of cols to be printed\n",
    "my_cols = ['PostId', F.date_format(F.col('CreationDate'), 'yyyy-MM-dd').alias('Date'), 'Comment', 'TagName', 'Text']\n",
    "\n",
    "df_post_history_and_tags_merged.select(*my_cols) \\\n",
    "                               .filter(F.col('Comment').isNotNull()) \\\n",
    "                               .filter(F.col(\"TagName\").startswith('aws') |\n",
    "                                       F.col(\"TagName\").startswith('amazon') |\n",
    "                                       F.col(\"TagName\").isin(list_of_keywords)) \\\n",
    "                               .orderBy(F.desc(F.col('Date'))) \\\n",
    "                               .show()"
   ]
  },
  {
   "cell_type": "markdown",
   "id": "1b1b00ad",
   "metadata": {},
   "source": [
    "#### Saving the merged data in S3"
   ]
  },
  {
   "cell_type": "code",
   "execution_count": 113,
   "id": "25898f85",
   "metadata": {},
   "outputs": [],
   "source": [
    "# Dataset path \n",
    "output_bucket = 's3://stackoverflow-dataset-2023/dataset/raw-processed/merged/'\n",
    "output_folder_name = f\"{output_bucket}/PostHistory-and-Tags-parquet\""
   ]
  },
  {
   "cell_type": "code",
   "execution_count": 114,
   "id": "25b9ad29",
   "metadata": {},
   "outputs": [
    {
     "name": "stderr",
     "output_type": "stream",
     "text": [
      "                                                                                \r"
     ]
    }
   ],
   "source": [
    "df_post_history_and_tags_merged.write \\\n",
    "      .format('parquet') \\\n",
    "      .option('header', True) \\\n",
    "      .mode('overwrite') \\\n",
    "      .save(output_folder_name)"
   ]
  },
  {
   "cell_type": "code",
   "execution_count": null,
   "id": "03668ea2",
   "metadata": {},
   "outputs": [],
   "source": []
  },
  {
   "cell_type": "markdown",
   "id": "c21415eb",
   "metadata": {},
   "source": [
    "### Q3: `Votes` and  `Posthistory` and `Tags`"
   ]
  },
  {
   "cell_type": "code",
   "execution_count": null,
   "id": "f713e052",
   "metadata": {},
   "outputs": [],
   "source": []
  }
 ],
 "metadata": {
  "kernelspec": {
   "display_name": "Python 3 (ipykernel)",
   "language": "python",
   "name": "python3"
  },
  "language_info": {
   "codemirror_mode": {
    "name": "ipython",
    "version": 3
   },
   "file_extension": ".py",
   "mimetype": "text/x-python",
   "name": "python",
   "nbconvert_exporter": "python",
   "pygments_lexer": "ipython3",
   "version": "3.7.16"
  }
 },
 "nbformat": 4,
 "nbformat_minor": 5
}
