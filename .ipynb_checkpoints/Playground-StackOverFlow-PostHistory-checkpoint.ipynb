{
 "cells": [
  {
   "cell_type": "code",
   "execution_count": 1,
   "id": "97ac1d3f",
   "metadata": {},
   "outputs": [
    {
     "data": {
      "text/html": [
       "\n",
       "            <div>\n",
       "                <p><b>SparkSession - hive</b></p>\n",
       "                \n",
       "        <div>\n",
       "            <p><b>SparkContext</b></p>\n",
       "\n",
       "            <p><a href=\"http://ip-172-31-2-35.us-east-2.compute.internal:4040\">Spark UI</a></p>\n",
       "\n",
       "            <dl>\n",
       "              <dt>Version</dt>\n",
       "                <dd><code>v3.3.0-amzn-1</code></dd>\n",
       "              <dt>Master</dt>\n",
       "                <dd><code>yarn</code></dd>\n",
       "              <dt>AppName</dt>\n",
       "                <dd><code>PySparkShell</code></dd>\n",
       "            </dl>\n",
       "        </div>\n",
       "        \n",
       "            </div>\n",
       "        "
      ],
      "text/plain": [
       "<pyspark.sql.session.SparkSession at 0x7f7171257ad0>"
      ]
     },
     "execution_count": 1,
     "metadata": {},
     "output_type": "execute_result"
    }
   ],
   "source": [
    "spark"
   ]
  },
  {
   "cell_type": "markdown",
   "id": "7bced328",
   "metadata": {},
   "source": [
    "## Processing `PostHistory.xml`"
   ]
  },
  {
   "cell_type": "code",
   "execution_count": 2,
   "id": "dbdfb075",
   "metadata": {},
   "outputs": [],
   "source": [
    "import pyspark.sql.functions as F\n",
    "from pyspark.sql.types import StructType, StructField, IntegerType, StringType, TimestampType, LongType\n",
    "from datetime import datetime"
   ]
  },
  {
   "cell_type": "code",
   "execution_count": 3,
   "id": "682af470",
   "metadata": {},
   "outputs": [],
   "source": [
    "# Dataset path \n",
    "dataset_bucket = 's3://stackoverflow-dataset-2023/dataset/raw/'\n",
    "dataset_comments = f\"{dataset_bucket}/PostHistory.xml\""
   ]
  },
  {
   "cell_type": "code",
   "execution_count": 4,
   "id": "0996fa5a",
   "metadata": {},
   "outputs": [],
   "source": [
    "rdd = spark.sparkContext.textFile(dataset_comments)\n"
   ]
  },
  {
   "cell_type": "code",
   "execution_count": 29,
   "id": "5a2e6bd9",
   "metadata": {},
   "outputs": [],
   "source": [
    "def row_parser(row):\n",
    "    row_len = len(row.split('\"')) \n",
    "    result = [None] * 10\n",
    "\n",
    "    if row_len == 11:\n",
    "        result = (int(row.split('\"')[1]) if row.split('\"')[1] else None, \n",
    "                  int(row.split('\"')[3]) if row.split('\"')[3] else None, \n",
    "                  int(row.split('\"')[5]) if row.split('\"')[5] else None, \n",
    "                  row.split('\"')[7] if row.split('\"')[7] else None,\n",
    "                  datetime.strptime(row.split('\"')[9], \"%Y-%m-%dT%H:%M:%S.%f\"), \n",
    "                  None,\n",
    "                  None,\n",
    "                  None,\n",
    "                  None,\n",
    "                  None\n",
    "                )  \n",
    "        \n",
    "    elif row_len == 13:\n",
    "        result = (int(row.split('\"')[1]) if row.split('\"')[1] else None, \n",
    "                  int(row.split('\"')[3]) if row.split('\"')[3] else None, \n",
    "                  int(row.split('\"')[5]) if row.split('\"')[5] else None, \n",
    "                  row.split('\"')[7] if row.split('\"')[7] else None,\n",
    "                  datetime.strptime(row.split('\"')[9], \"%Y-%m-%dT%H:%M:%S.%f\"), \n",
    "                  int(row.split('\"')[11]) if row.split('\"')[11] and row.split('\"')[10].strip() == 'UserId=' else None, \n",
    "                  None,\n",
    "                  None,\n",
    "                  None,\n",
    "                  None\n",
    "                )  \n",
    "    \n",
    "    elif row_len == 15:\n",
    "        result = (int(row.split('\"')[1]) if row.split('\"')[1] else None, \n",
    "                  int(row.split('\"')[3]) if row.split('\"')[3] else None, \n",
    "                  int(row.split('\"')[5]) if row.split('\"')[5] else None, \n",
    "                  row.split('\"')[7] if row.split('\"')[7] else None,\n",
    "                  datetime.strptime(row.split('\"')[9], \"%Y-%m-%dT%H:%M:%S.%f\"), \n",
    "                  int(row.split('\"')[11]) if row.split('\"')[11] and row.split('\"')[10].strip() == 'UserId=' else None, \n",
    "                  None,\n",
    "                  None,\n",
    "                  None,\n",
    "                  row.split('\"')[13] if row.split('\"')[13] else None\n",
    "                )     \n",
    "        \n",
    "    elif row_len == 17:\n",
    "         result = (int(row.split('\"')[1]) if row.split('\"')[1] else None, \n",
    "                  int(row.split('\"')[3]) if row.split('\"')[3] else None, \n",
    "                  int(row.split('\"')[5]) if row.split('\"')[5] else None, \n",
    "                  row.split('\"')[7] if row.split('\"')[7] else None,\n",
    "                  datetime.strptime(row.split('\"')[9], \"%Y-%m-%dT%H:%M:%S.%f\"), \n",
    "                  int(row.split('\"')[11]) if row.split('\"')[11] and row.split('\"')[10].strip() == 'UserId=' else None, \n",
    "                  None,\n",
    "                  None,\n",
    "                  row.split('\"')[13] if row.split('\"')[13] else None, \n",
    "                  row.split('\"')[15] if row.split('\"')[15] else None \n",
    "                )    \n",
    "\n",
    "    elif row_len == 19:\n",
    "         result = (int(row.split('\"')[1]) if row.split('\"')[1] else None, \n",
    "                  int(row.split('\"')[3]) if row.split('\"')[3] else None, \n",
    "                  int(row.split('\"')[5]) if row.split('\"')[5] else None, \n",
    "                  row.split('\"')[7] if row.split('\"')[7] else None,\n",
    "                  datetime.strptime(row.split('\"')[9], \"%Y-%m-%dT%H:%M:%S.%f\"), \n",
    "                  int(row.split('\"')[11]) if row.split('\"')[11] and row.split('\"')[10].strip() == 'UserId=' else None, \n",
    "                  row.split('\"')[13] if row.split('\"')[13] else None, \n",
    "                  None,\n",
    "                  row.split('\"')[15] if row.split('\"')[15] else None, \n",
    "                  row.split('\"')[17] if row.split('\"')[17] else None\n",
    "                ) \n",
    "\n",
    "    elif row_len == 21:\n",
    "         result = (int(row.split('\"')[1]) if row.split('\"')[1] else None, \n",
    "                  int(row.split('\"')[3]) if row.split('\"')[3] else None, \n",
    "                  int(row.split('\"')[5]) if row.split('\"')[5] else None, \n",
    "                  row.split('\"')[7] if row.split('\"')[7] else None,\n",
    "                  datetime.strptime(row.split('\"')[9], \"%Y-%m-%dT%H:%M:%S.%f\"), \n",
    "                  int(row.split('\"')[11]) if row.split('\"')[11] and row.split('\"')[10].strip() == 'UserId=' else None, \n",
    "                  row.split('\"')[13] if row.split('\"')[13] else None, \n",
    "                  row.split('\"')[15] if row.split('\"')[15] else None, \n",
    "                  row.split('\"')[17] if row.split('\"')[17] else None,\n",
    "                  row.split('\"')[19] if row.split('\"')[17] else None\n",
    "                ) \n",
    "         \n",
    "    return result"
   ]
  },
  {
   "cell_type": "code",
   "execution_count": 34,
   "id": "7a3bf8eb",
   "metadata": {},
   "outputs": [],
   "source": [
    "parsed_rdd = rdd.map(lambda row: row.strip()) \\\n",
    "   .filter(lambda row: row.startswith(\"<row\")) \\\n",
    "   .map(lambda row: row[4:-3]) \\\n",
    "   .map(lambda row: row.strip()) \\\n",
    "   .map(row_parser)"
   ]
  },
  {
   "cell_type": "code",
   "execution_count": null,
   "id": "9e58e9dc",
   "metadata": {},
   "outputs": [],
   "source": [
    "# Define the schema for the DataFrame\n",
    "schema_posthistory = StructType([\n",
    "    StructField(\"Id\", LongType()),\n",
    "    StructField(\"PostHistoryTypeId\", LongType()),\n",
    "    StructField(\"PostId\", LongType()),\n",
    "    StructField(\"RevisionGUID\", StringType()),\n",
    "    StructField(\"CreationDate\", TimestampType()),\n",
    "    StructField(\"UserId\", LongType()),\n",
    "    StructField(\"UserDisplayName\", StringType()),\n",
    "    StructField(\"Comment\", StringType()),\n",
    "    StructField(\"Text\", StringType()),\n",
    "    StructField(\"ContentLicense\", StringType())\n",
    "])\n",
    "\n",
    "# Convert the RDD to a DataFrame\n",
    "df = parsed_rdd.toDF(schema_posthistory)\n",
    "\n",
    "# Dataset path \n",
    "output_bucket = 's3://stackoverflow-dataset-2023/dataset/raw-processed'\n",
    "output_folder_name = f\"{output_bucket}/PostHistory-parquet\"\n",
    "\n",
    "# save dataframe as csv\n",
    "df.write \\\n",
    "  .format('parquet') \\\n",
    "  .option('header', True) \\\n",
    "  .mode('overwrite') \\\n",
    "  .save(output_folder_name)\n",
    "\n",
    "df.show()"
   ]
  },
  {
   "cell_type": "code",
   "execution_count": 5,
   "id": "ae87beb0",
   "metadata": {},
   "outputs": [
    {
     "name": "stderr",
     "output_type": "stream",
     "text": [
      "                                                                                \r"
     ]
    },
    {
     "data": {
      "text/plain": [
       "['Id=\"6\" PostHistoryTypeId=\"2\" PostId=\"7\" RevisionGUID=\"c30df0f4-a2d9-426e-a2dd-2cc3aa4d9205\" CreationDate=\"2008-07-31T22:17:57.883\" UserId=\"9\" Text=\"The explicit cast to double in the first answer isn\\'t necessary - identifying the constant as 5000.0 (or as 5000d) is sufficient.\" ContentLicense=\"CC BY-SA 2.5\"',\n",
       " 'Id=\"12\" PostHistoryTypeId=\"1\" PostId=\"17\" RevisionGUID=\"0421fb42-a29a-4cb2-84ba-a828725410f8\" CreationDate=\"2008-08-01T05:09:55.993\" UserId=\"2\" Text=\"Binary Data in MYSQL\" ContentLicense=\"CC BY-SA 2.5\"',\n",
       " 'Id=\"13\" PostHistoryTypeId=\"3\" PostId=\"17\" RevisionGUID=\"0421fb42-a29a-4cb2-84ba-a828725410f8\" CreationDate=\"2008-08-01T05:09:55.993\" UserId=\"2\" Text=\"&lt;database&gt;&lt;mysql&gt;\" ContentLicense=\"CC BY-SA 2.5\"',\n",
       " 'Id=\"14\" PostHistoryTypeId=\"2\" PostId=\"17\" RevisionGUID=\"0421fb42-a29a-4cb2-84ba-a828725410f8\" CreationDate=\"2008-08-01T05:09:55.993\" UserId=\"2\" Text=\"How do I store binary data in mysql?\" ContentLicense=\"CC BY-SA 2.5\"',\n",
       " 'Id=\"16\" PostHistoryTypeId=\"2\" PostId=\"18\" RevisionGUID=\"0cfdfa19-039f-4645-8a48-1c316543b98f\" CreationDate=\"2008-08-01T05:12:44.193\" UserDisplayName=\"phpguy\" Text=\"For a table like this:&#xD;&#xA;&#xD;&#xA;    CREATE TABLE binary_data (&#xD;&#xA;    id INT(4) NOT NULL AUTO_INCREMENT PRIMARY KEY,&#xD;&#xA;    description CHAR(50),&#xD;&#xA;    bin_data LONGBLOB,&#xD;&#xA;    filename CHAR(50),&#xD;&#xA;    filesize CHAR(50),&#xD;&#xA;    filetype CHAR(50)&#xD;&#xA;    );&#xD;&#xA;&#xD;&#xA;Here is a PHP example:&#xD;&#xA;&#xD;&#xA;    &lt;?php&#xD;&#xA;    &#xD;&#xA;    // store.php3 - by Florian Dittmer &lt;dittmer@gmx.net&gt;&#xD;&#xA;    // Example php script to demonstrate the storing of binary files into&#xD;&#xA;    // an sql database. More information can be found at http://www.phpbuilder.com/&#xD;&#xA;    ?&gt;&#xD;&#xA;    &#xD;&#xA;    &lt;html&gt;&#xD;&#xA;    &lt;head&gt;&lt;title&gt;Store binary data into SQL Database&lt;/title&gt;&lt;/head&gt;&#xD;&#xA;    &lt;body&gt;&#xD;&#xA;    &#xD;&#xA;    &lt;?php&#xD;&#xA;    // code that will be executed if the form has been submitted:&#xD;&#xA;    &#xD;&#xA;    if ($submit) {&#xD;&#xA;    &#xD;&#xA;        // connect to the database&#xD;&#xA;        // (you may have to adjust the hostname,username or password)&#xD;&#xA;    &#xD;&#xA;        MYSQL_CONNECT(&quot;localhost&quot;,&quot;root&quot;,&quot;password&quot;);&#xD;&#xA;        mysql_select_db(&quot;binary_data&quot;);&#xD;&#xA;    &#xD;&#xA;        $data = addslashes(fread(fopen($form_data, &quot;r&quot;), filesize($form_data)));&#xD;&#xA;    &#xD;&#xA;        $result=MYSQL_QUERY(&quot;INSERT INTO binary_data (description,bin_data,filename,filesize,filetype) &quot;.&#xD;&#xA;            &quot;VALUES (\\'$form_description\\',\\'$data\\',\\'$form_data_name\\',\\'$form_data_size\\',\\'$form_data_type\\')&quot;);&#xD;&#xA;    &#xD;&#xA;        $id= mysql_insert_id();&#xD;&#xA;        print &quot;&lt;p&gt;This file has the following Database ID: &lt;b&gt;$id&lt;/b&gt;&quot;;&#xD;&#xA;    &#xD;&#xA;        MYSQL_CLOSE();&#xD;&#xA;    &#xD;&#xA;    } else {&#xD;&#xA;    &#xD;&#xA;        // else show the form to submit new data:&#xD;&#xA;    ?&gt;&#xD;&#xA;    &#xD;&#xA;        &lt;form method=&quot;post&quot; action=&quot;&lt;?php echo $PHP_SELF; ?&gt;&quot; enctype=&quot;multipart/form-data&quot;&gt;&#xD;&#xA;        File Description:&lt;br&gt;&#xD;&#xA;        &lt;input type=&quot;text&quot; name=&quot;form_description&quot;  size=&quot;40&quot;&gt;&#xD;&#xA;        &lt;input type=&quot;hidden&quot; name=&quot;MAX_FILE_SIZE&quot; value=&quot;1000000&quot;&gt;&#xD;&#xA;        &lt;br&gt;File to upload/store in database:&lt;br&gt;&#xD;&#xA;        &lt;input type=&quot;file&quot; name=&quot;form_data&quot;  size=&quot;40&quot;&gt;&#xD;&#xA;        &lt;p&gt;&lt;input type=&quot;submit&quot; name=&quot;submit&quot; value=&quot;submit&quot;&gt;&#xD;&#xA;        &lt;/form&gt;&#xD;&#xA;    &#xD;&#xA;    &lt;?php&#xD;&#xA;    &#xD;&#xA;    }&#xD;&#xA;    &#xD;&#xA;    ?&gt;&#xD;&#xA;    &#xD;&#xA;    &lt;/body&gt;&#xD;&#xA;    &lt;/html&gt;\" ContentLicense=\"CC BY-SA 2.5\"']"
      ]
     },
     "execution_count": 5,
     "metadata": {},
     "output_type": "execute_result"
    }
   ],
   "source": [
    "rdd.map(lambda row: row.strip()) \\\n",
    "   .filter(lambda row: row.startswith(\"<row\")) \\\n",
    "   .map(lambda row: row[4:-3]) \\\n",
    "   .map(lambda row: row.strip()).take(5)"
   ]
  },
  {
   "cell_type": "code",
   "execution_count": 9,
   "id": "bed20c65",
   "metadata": {},
   "outputs": [
    {
     "name": "stdout",
     "output_type": "stream",
     "text": [
      "0 Id=\n",
      "1 6\n",
      "2  PostHistoryTypeId=\n",
      "3 2\n",
      "4  PostId=\n",
      "5 7\n",
      "6  RevisionGUID=\n",
      "7 c30df0f4-a2d9-426e-a2dd-2cc3aa4d9205\n",
      "8  CreationDate=\n",
      "9 2008-07-31T22:17:57.883\n",
      "10  UserId=\n",
      "11 9\n",
      "12  Text=\n",
      "13 The explicit cast to double in the first answer isn't necessary - identifying the constant as 5000.0 (or as 5000d) is sufficient.\n",
      "14  ContentLicense=\n",
      "15 CC BY-SA 2.5\n",
      "16 \n"
     ]
    }
   ],
   "source": [
    "a = 'Id=\"6\" PostHistoryTypeId=\"2\" PostId=\"7\" RevisionGUID=\"c30df0f4-a2d9-426e-a2dd-2cc3aa4d9205\" CreationDate=\"2008-07-31T22:17:57.883\" UserId=\"9\" Text=\"The explicit cast to double in the first answer isn\\'t necessary - identifying the constant as 5000.0 (or as 5000d) is sufficient.\" ContentLicense=\"CC BY-SA 2.5\"'\n",
    "b = 'Id=\"16\" PostHistoryTypeId=\"2\" PostId=\"18\" RevisionGUID=\"0cfdfa19-039f-4645-8a48-1c316543b98f\" CreationDate=\"2008-08-01T05:12:44.193\" UserDisplayName=\"phpguy\" Text=\"For a table like this:&#xD;&#xA;&#xD;&#xA;    CREATE TABLE binary_data (&#xD;&#xA;    id INT(4) NOT NULL AUTO_INCREMENT PRIMARY KEY,&#xD;&#xA;    description CHAR(50),&#xD;&#xA;    bin_data LONGBLOB,&#xD;&#xA;    filename CHAR(50),&#xD;&#xA;    filesize CHAR(50),&#xD;&#xA;    filetype CHAR(50)&#xD;&#xA;    );&#xD;&#xA;&#xD;&#xA;Here is a PHP example:&#xD;&#xA;&#xD;&#xA;    &lt;?php&#xD;&#xA;    &#xD;&#xA;    // store.php3 - by Florian Dittmer &lt;dittmer@gmx.net&gt;&#xD;&#xA;    // Example php script to demonstrate the storing of binary files into&#xD;&#xA;    // an sql database. More information can be found at http://www.phpbuilder.com/&#xD;&#xA;    ?&gt;&#xD;&#xA;    &#xD;&#xA;    &lt;html&gt;&#xD;&#xA;    &lt;head&gt;&lt;title&gt;Store binary data into SQL Database&lt;/title&gt;&lt;/head&gt;&#xD;&#xA;    &lt;body&gt;&#xD;&#xA;    &#xD;&#xA;    &lt;?php&#xD;&#xA;    // code that will be executed if the form has been submitted:&#xD;&#xA;    &#xD;&#xA;    if ($submit) {&#xD;&#xA;    &#xD;&#xA;        // connect to the database&#xD;&#xA;        // (you may have to adjust the hostname,username or password)&#xD;&#xA;    &#xD;&#xA;        MYSQL_CONNECT(&quot;localhost&quot;,&quot;root&quot;,&quot;password&quot;);&#xD;&#xA;        mysql_select_db(&quot;binary_data&quot;);&#xD;&#xA;    &#xD;&#xA;        $data = addslashes(fread(fopen($form_data, &quot;r&quot;), filesize($form_data)));&#xD;&#xA;    &#xD;&#xA;        $result=MYSQL_QUERY(&quot;INSERT INTO binary_data (description,bin_data,filename,filesize,filetype) &quot;.&#xD;&#xA;            &quot;VALUES (\\'$form_description\\',\\'$data\\',\\'$form_data_name\\',\\'$form_data_size\\',\\'$form_data_type\\')&quot;);&#xD;&#xA;    &#xD;&#xA;        $id= mysql_insert_id();&#xD;&#xA;        print &quot;&lt;p&gt;This file has the following Database ID: &lt;b&gt;$id&lt;/b&gt;&quot;;&#xD;&#xA;    &#xD;&#xA;        MYSQL_CLOSE();&#xD;&#xA;    &#xD;&#xA;    } else {&#xD;&#xA;    &#xD;&#xA;        // else show the form to submit new data:&#xD;&#xA;    ?&gt;&#xD;&#xA;    &#xD;&#xA;        &lt;form method=&quot;post&quot; action=&quot;&lt;?php echo $PHP_SELF; ?&gt;&quot; enctype=&quot;multipart/form-data&quot;&gt;&#xD;&#xA;        File Description:&lt;br&gt;&#xD;&#xA;        &lt;input type=&quot;text&quot; name=&quot;form_description&quot;  size=&quot;40&quot;&gt;&#xD;&#xA;        &lt;input type=&quot;hidden&quot; name=&quot;MAX_FILE_SIZE&quot; value=&quot;1000000&quot;&gt;&#xD;&#xA;        &lt;br&gt;File to upload/store in database:&lt;br&gt;&#xD;&#xA;        &lt;input type=&quot;file&quot; name=&quot;form_data&quot;  size=&quot;40&quot;&gt;&#xD;&#xA;        &lt;p&gt;&lt;input type=&quot;submit&quot; name=&quot;submit&quot; value=&quot;submit&quot;&gt;&#xD;&#xA;        &lt;/form&gt;&#xD;&#xA;    &#xD;&#xA;    &lt;?php&#xD;&#xA;    &#xD;&#xA;    }&#xD;&#xA;    &#xD;&#xA;    ?&gt;&#xD;&#xA;    &#xD;&#xA;    &lt;/body&gt;&#xD;&#xA;    &lt;/html&gt;\" ContentLicense=\"CC BY-SA 2.5\"'\n",
    "\n",
    "for i, j in enumerate(a.split('\"')):\n",
    "    print(i, j)\n",
    "    "
   ]
  },
  {
   "cell_type": "code",
   "execution_count": 10,
   "id": "b90f89d9",
   "metadata": {},
   "outputs": [
    {
     "name": "stdout",
     "output_type": "stream",
     "text": [
      "0 Id=\n",
      "1 16\n",
      "2  PostHistoryTypeId=\n",
      "3 2\n",
      "4  PostId=\n",
      "5 18\n",
      "6  RevisionGUID=\n",
      "7 0cfdfa19-039f-4645-8a48-1c316543b98f\n",
      "8  CreationDate=\n",
      "9 2008-08-01T05:12:44.193\n",
      "10  UserDisplayName=\n",
      "11 phpguy\n",
      "12  Text=\n",
      "13 For a table like this:&#xD;&#xA;&#xD;&#xA;    CREATE TABLE binary_data (&#xD;&#xA;    id INT(4) NOT NULL AUTO_INCREMENT PRIMARY KEY,&#xD;&#xA;    description CHAR(50),&#xD;&#xA;    bin_data LONGBLOB,&#xD;&#xA;    filename CHAR(50),&#xD;&#xA;    filesize CHAR(50),&#xD;&#xA;    filetype CHAR(50)&#xD;&#xA;    );&#xD;&#xA;&#xD;&#xA;Here is a PHP example:&#xD;&#xA;&#xD;&#xA;    &lt;?php&#xD;&#xA;    &#xD;&#xA;    // store.php3 - by Florian Dittmer &lt;dittmer@gmx.net&gt;&#xD;&#xA;    // Example php script to demonstrate the storing of binary files into&#xD;&#xA;    // an sql database. More information can be found at http://www.phpbuilder.com/&#xD;&#xA;    ?&gt;&#xD;&#xA;    &#xD;&#xA;    &lt;html&gt;&#xD;&#xA;    &lt;head&gt;&lt;title&gt;Store binary data into SQL Database&lt;/title&gt;&lt;/head&gt;&#xD;&#xA;    &lt;body&gt;&#xD;&#xA;    &#xD;&#xA;    &lt;?php&#xD;&#xA;    // code that will be executed if the form has been submitted:&#xD;&#xA;    &#xD;&#xA;    if ($submit) {&#xD;&#xA;    &#xD;&#xA;        // connect to the database&#xD;&#xA;        // (you may have to adjust the hostname,username or password)&#xD;&#xA;    &#xD;&#xA;        MYSQL_CONNECT(&quot;localhost&quot;,&quot;root&quot;,&quot;password&quot;);&#xD;&#xA;        mysql_select_db(&quot;binary_data&quot;);&#xD;&#xA;    &#xD;&#xA;        $data = addslashes(fread(fopen($form_data, &quot;r&quot;), filesize($form_data)));&#xD;&#xA;    &#xD;&#xA;        $result=MYSQL_QUERY(&quot;INSERT INTO binary_data (description,bin_data,filename,filesize,filetype) &quot;.&#xD;&#xA;            &quot;VALUES ('$form_description','$data','$form_data_name','$form_data_size','$form_data_type')&quot;);&#xD;&#xA;    &#xD;&#xA;        $id= mysql_insert_id();&#xD;&#xA;        print &quot;&lt;p&gt;This file has the following Database ID: &lt;b&gt;$id&lt;/b&gt;&quot;;&#xD;&#xA;    &#xD;&#xA;        MYSQL_CLOSE();&#xD;&#xA;    &#xD;&#xA;    } else {&#xD;&#xA;    &#xD;&#xA;        // else show the form to submit new data:&#xD;&#xA;    ?&gt;&#xD;&#xA;    &#xD;&#xA;        &lt;form method=&quot;post&quot; action=&quot;&lt;?php echo $PHP_SELF; ?&gt;&quot; enctype=&quot;multipart/form-data&quot;&gt;&#xD;&#xA;        File Description:&lt;br&gt;&#xD;&#xA;        &lt;input type=&quot;text&quot; name=&quot;form_description&quot;  size=&quot;40&quot;&gt;&#xD;&#xA;        &lt;input type=&quot;hidden&quot; name=&quot;MAX_FILE_SIZE&quot; value=&quot;1000000&quot;&gt;&#xD;&#xA;        &lt;br&gt;File to upload/store in database:&lt;br&gt;&#xD;&#xA;        &lt;input type=&quot;file&quot; name=&quot;form_data&quot;  size=&quot;40&quot;&gt;&#xD;&#xA;        &lt;p&gt;&lt;input type=&quot;submit&quot; name=&quot;submit&quot; value=&quot;submit&quot;&gt;&#xD;&#xA;        &lt;/form&gt;&#xD;&#xA;    &#xD;&#xA;    &lt;?php&#xD;&#xA;    &#xD;&#xA;    }&#xD;&#xA;    &#xD;&#xA;    ?&gt;&#xD;&#xA;    &#xD;&#xA;    &lt;/body&gt;&#xD;&#xA;    &lt;/html&gt;\n",
      "14  ContentLicense=\n",
      "15 CC BY-SA 2.5\n",
      "16 \n"
     ]
    }
   ],
   "source": [
    "for i, j in enumerate(b.split('\"')):\n",
    "    print(i, j)"
   ]
  },
  {
   "cell_type": "code",
   "execution_count": 11,
   "id": "32203390",
   "metadata": {},
   "outputs": [
    {
     "name": "stderr",
     "output_type": "stream",
     "text": [
      "                                                                                \r"
     ]
    },
    {
     "data": {
      "text/plain": [
       "80550548"
      ]
     },
     "execution_count": 11,
     "metadata": {},
     "output_type": "execute_result"
    }
   ],
   "source": [
    "rdd.map(lambda row: row.strip()) \\\n",
    "   .filter(lambda row: row.startswith(\"<row\")) \\\n",
    "   .map(lambda row: row[4:-3]) \\\n",
    "   .map(lambda row: row.strip()) \\\n",
    "   .filter(lambda row : len(row.split('\"')) == 17) \\\n",
    "   .count()"
   ]
  },
  {
   "cell_type": "code",
   "execution_count": 12,
   "id": "2ef85986",
   "metadata": {},
   "outputs": [
    {
     "data": {
      "text/plain": [
       "36704578"
      ]
     },
     "execution_count": 12,
     "metadata": {},
     "output_type": "execute_result"
    }
   ],
   "source": [
    "117255126 - 80550548"
   ]
  },
  {
   "cell_type": "code",
   "execution_count": 13,
   "id": "e03c0e3a",
   "metadata": {},
   "outputs": [
    {
     "name": "stderr",
     "output_type": "stream",
     "text": [
      "                                                                                \r"
     ]
    },
    {
     "data": {
      "text/plain": [
       "32645778"
      ]
     },
     "execution_count": 13,
     "metadata": {},
     "output_type": "execute_result"
    }
   ],
   "source": [
    "rdd.map(lambda row: row.strip()) \\\n",
    "   .filter(lambda row: row.startswith(\"<row\")) \\\n",
    "   .map(lambda row: row[4:-3]) \\\n",
    "   .map(lambda row: row.strip()) \\\n",
    "   .filter(lambda row : len(row.split('\"')) > 17) \\\n",
    "   .count()"
   ]
  },
  {
   "cell_type": "code",
   "execution_count": 14,
   "id": "257eebbf",
   "metadata": {},
   "outputs": [
    {
     "name": "stderr",
     "output_type": "stream",
     "text": [
      "                                                                                \r"
     ]
    },
    {
     "name": "stdout",
     "output_type": "stream",
     "text": [
      "15 3840818 ['Id=\"40409\" PostHistoryTypeId=\"3\" PostId=\"29995\" RevisionGUID=\"51aba189-62d5-42f6-9fb0-ebca2d7924e5\" CreationDate=\"2008-08-27T12:46:52.607\" UserId=\"1736\" ContentLicense=\"CC BY-SA 2.5\"']\n",
      "**************\n"
     ]
    },
    {
     "name": "stderr",
     "output_type": "stream",
     "text": [
      "                                                                                \r"
     ]
    },
    {
     "name": "stdout",
     "output_type": "stream",
     "text": [
      "16 0 []\n",
      "**************\n"
     ]
    },
    {
     "name": "stderr",
     "output_type": "stream",
     "text": [
      "                                                                                \r"
     ]
    },
    {
     "name": "stdout",
     "output_type": "stream",
     "text": [
      "17 80550548 ['Id=\"6\" PostHistoryTypeId=\"2\" PostId=\"7\" RevisionGUID=\"c30df0f4-a2d9-426e-a2dd-2cc3aa4d9205\" CreationDate=\"2008-07-31T22:17:57.883\" UserId=\"9\" Text=\"The explicit cast to double in the first answer isn\\'t necessary - identifying the constant as 5000.0 (or as 5000d) is sufficient.\" ContentLicense=\"CC BY-SA 2.5\"']\n",
      "**************\n"
     ]
    },
    {
     "name": "stderr",
     "output_type": "stream",
     "text": [
      "                                                                                \r"
     ]
    },
    {
     "name": "stdout",
     "output_type": "stream",
     "text": [
      "18 0 []\n",
      "**************\n"
     ]
    },
    {
     "name": "stderr",
     "output_type": "stream",
     "text": [
      "                                                                                \r"
     ]
    },
    {
     "name": "stdout",
     "output_type": "stream",
     "text": [
      "19 32644040 ['Id=\"99\" PostHistoryTypeId=\"2\" PostId=\"111\" RevisionGUID=\"fa450384-b223-4a35-9664-1c7d73b9e437\" CreationDate=\"2008-08-01T15:27:23.093\" UserId=\"146270\" UserDisplayName=\"Diago\" Text=\"I have been using the 64Bit version of TortoiseSVN for ages and I have never had issues with it on Windows 64Bit or Vista 64Bit. I am currently not aware of any other similiar SVN clients that do work on Vista. Is it possible the problem could lie within the configuration of TortoiseSVN or even the installation of Vista? Is the problem occurring on Vista native or SP 1?\" ContentLicense=\"CC BY-SA 2.5\"']\n",
      "**************\n"
     ]
    },
    {
     "name": "stderr",
     "output_type": "stream",
     "text": [
      "                                                                                \r"
     ]
    },
    {
     "name": "stdout",
     "output_type": "stream",
     "text": [
      "20 0 []\n",
      "**************\n"
     ]
    },
    {
     "name": "stderr",
     "output_type": "stream",
     "text": [
      "                                                                                \r"
     ]
    },
    {
     "name": "stdout",
     "output_type": "stream",
     "text": [
      "21 1738 ['Id=\"70648\" PostHistoryTypeId=\"5\" PostId=\"50472\" RevisionGUID=\"e297a272-235c-418d-aadf-c2b30ba8cd73\" CreationDate=\"2008-09-08T19:30:07.000\" UserId=\"4549416\" UserDisplayName=\"malach\" Comment=\"added 31 characters in body\" Text=\"Considering the comment of wcm (top value = xfd), you can calculate it like this;&#xD;&#xA;&#xD;&#xA;    function IntToExcel(n: Integer); string;&#xD;&#xA;    begin&#xD;&#xA;       Result := \\'\\';&#xD;&#xA;       for i := 2 down to 0 do &#xD;&#xA;       begin&#xD;&#xA;          if ((n div 26^i)) &gt; 0) or (i = 0) then&#xD;&#xA;             Result := Result + Char(Ord(\\'A\\')+(n div (26^i)) - IIF(i&gt;0;1;0));&#xD;&#xA;          n := n mod (26^i);&#xD;&#xA;       end;&#xD;&#xA;    end;&#xD;&#xA;&#xD;&#xA;There are 26 characters in the alphabet and we have a number system just like hex or binary, just with an unusual character set (A..Z), representing positionally the powers of 26: (26^2)(26^1)(26^0).\" ContentLicense=\"CC BY-SA 2.5\"']\n",
      "**************\n"
     ]
    },
    {
     "name": "stderr",
     "output_type": "stream",
     "text": [
      "                                                                                \r"
     ]
    },
    {
     "name": "stdout",
     "output_type": "stream",
     "text": [
      "22 0 []\n",
      "**************\n"
     ]
    },
    {
     "name": "stderr",
     "output_type": "stream",
     "text": [
      "                                                                                \r"
     ]
    },
    {
     "name": "stdout",
     "output_type": "stream",
     "text": [
      "23 0 []\n",
      "**************\n"
     ]
    },
    {
     "name": "stderr",
     "output_type": "stream",
     "text": [
      "[Stage 53:===================================================>(1273 + 1) / 1274]\r"
     ]
    },
    {
     "name": "stdout",
     "output_type": "stream",
     "text": [
      "24 0 []\n",
      "**************\n"
     ]
    },
    {
     "name": "stderr",
     "output_type": "stream",
     "text": [
      "\r",
      "                                                                                \r"
     ]
    }
   ],
   "source": [
    "for i in range(15, 25):\n",
    "    temp = rdd.map(lambda row: row.strip()) \\\n",
    "               .filter(lambda row: row.startswith(\"<row\")) \\\n",
    "               .map(lambda row: row[4:-3]) \\\n",
    "               .map(lambda row: row.strip()) \\\n",
    "               .filter(lambda row : len(row.split('\"')) == i)\n",
    "    \n",
    "    print(i, temp.count(), temp.take(1))\n",
    "    print(\"**************\")\n",
    "    \n",
    "    "
   ]
  },
  {
   "cell_type": "code",
   "execution_count": 15,
   "id": "22a8f3eb",
   "metadata": {},
   "outputs": [
    {
     "name": "stderr",
     "output_type": "stream",
     "text": [
      "                                                                                \r"
     ]
    },
    {
     "name": "stdout",
     "output_type": "stream",
     "text": [
      "10 0 []\n",
      "**************\n"
     ]
    },
    {
     "name": "stderr",
     "output_type": "stream",
     "text": [
      "                                                                                \r"
     ]
    },
    {
     "name": "stdout",
     "output_type": "stream",
     "text": [
      "11 696 ['Id=\"1336320\" PostHistoryTypeId=\"16\" PostId=\"725342\" RevisionGUID=\"d988c42a-8745-4d80-914f-3eff76857ba6\" CreationDate=\"2009-04-07T12:05:32.483\"']\n",
      "**************\n"
     ]
    },
    {
     "name": "stderr",
     "output_type": "stream",
     "text": [
      "                                                                                \r"
     ]
    },
    {
     "name": "stdout",
     "output_type": "stream",
     "text": [
      "12 0 []\n",
      "**************\n"
     ]
    },
    {
     "name": "stderr",
     "output_type": "stream",
     "text": [
      "                                                                                \r"
     ]
    },
    {
     "name": "stdout",
     "output_type": "stream",
     "text": [
      "13 217286 ['Id=\"1326438\" PostHistoryTypeId=\"16\" PostId=\"720426\" RevisionGUID=\"3ac4c3ae-17f7-442a-90a3-3271cdab8f37\" CreationDate=\"2009-04-06T07:03:46.913\" UserId=\"3385\"']\n",
      "**************\n"
     ]
    },
    {
     "name": "stderr",
     "output_type": "stream",
     "text": [
      "[Stage 82:===================================================>(1273 + 1) / 1274]\r"
     ]
    },
    {
     "name": "stdout",
     "output_type": "stream",
     "text": [
      "14 0 []\n",
      "**************\n"
     ]
    },
    {
     "name": "stderr",
     "output_type": "stream",
     "text": [
      "\r",
      "                                                                                \r"
     ]
    }
   ],
   "source": [
    "for i in range(10, 15):\n",
    "    temp = rdd.map(lambda row: row.strip()) \\\n",
    "               .filter(lambda row: row.startswith(\"<row\")) \\\n",
    "               .map(lambda row: row[4:-3]) \\\n",
    "               .map(lambda row: row.strip()) \\\n",
    "               .filter(lambda row : len(row.split('\"')) == i)\n",
    "    \n",
    "    print(i, temp.count(), temp.take(1))\n",
    "    print(\"**************\")\n",
    "    "
   ]
  },
  {
   "cell_type": "code",
   "execution_count": 18,
   "id": "31b772ee",
   "metadata": {},
   "outputs": [
    {
     "name": "stdout",
     "output_type": "stream",
     "text": [
      "0 Id=\n",
      "1 70648\n",
      "2  PostHistoryTypeId=\n",
      "3 5\n",
      "4  PostId=\n",
      "5 50472\n",
      "6  RevisionGUID=\n",
      "7 e297a272-235c-418d-aadf-c2b30ba8cd73\n",
      "8  CreationDate=\n",
      "9 2008-09-08T19:30:07.000\n",
      "10  UserId=\n",
      "11 4549416\n",
      "12  UserDisplayName=\n",
      "13 malach\n",
      "14  Comment=\n",
      "15 added 31 characters in body\n",
      "16  Text=\n",
      "17 Considering the comment of wcm (top value = xfd), you can calculate it like this;&#xD;&#xA;&#xD;&#xA;    function IntToExcel(n: Integer); string;&#xD;&#xA;    begin&#xD;&#xA;       Result := '';&#xD;&#xA;       for i := 2 down to 0 do &#xD;&#xA;       begin&#xD;&#xA;          if ((n div 26^i)) &gt; 0) or (i = 0) then&#xD;&#xA;             Result := Result + Char(Ord('A')+(n div (26^i)) - IIF(i&gt;0;1;0));&#xD;&#xA;          n := n mod (26^i);&#xD;&#xA;       end;&#xD;&#xA;    end;&#xD;&#xA;&#xD;&#xA;There are 26 characters in the alphabet and we have a number system just like hex or binary, just with an unusual character set (A..Z), representing positionally the powers of 26: (26^2)(26^1)(26^0).\n",
      "18  ContentLicense=\n",
      "19 CC BY-SA 2.5\n",
      "20 \n"
     ]
    }
   ],
   "source": [
    "a = 'Id=\"70648\" PostHistoryTypeId=\"5\" PostId=\"50472\" RevisionGUID=\"e297a272-235c-418d-aadf-c2b30ba8cd73\" CreationDate=\"2008-09-08T19:30:07.000\" UserId=\"4549416\" UserDisplayName=\"malach\" Comment=\"added 31 characters in body\" Text=\"Considering the comment of wcm (top value = xfd), you can calculate it like this;&#xD;&#xA;&#xD;&#xA;    function IntToExcel(n: Integer); string;&#xD;&#xA;    begin&#xD;&#xA;       Result := \\'\\';&#xD;&#xA;       for i := 2 down to 0 do &#xD;&#xA;       begin&#xD;&#xA;          if ((n div 26^i)) &gt; 0) or (i = 0) then&#xD;&#xA;             Result := Result + Char(Ord(\\'A\\')+(n div (26^i)) - IIF(i&gt;0;1;0));&#xD;&#xA;          n := n mod (26^i);&#xD;&#xA;       end;&#xD;&#xA;    end;&#xD;&#xA;&#xD;&#xA;There are 26 characters in the alphabet and we have a number system just like hex or binary, just with an unusual character set (A..Z), representing positionally the powers of 26: (26^2)(26^1)(26^0).\" ContentLicense=\"CC BY-SA 2.5\"'\n",
    "\n",
    "for i, j in enumerate(a.split('\"')):\n",
    "    print(i, j)"
   ]
  },
  {
   "cell_type": "code",
   "execution_count": null,
   "id": "8c4eaaab",
   "metadata": {},
   "outputs": [],
   "source": []
  }
 ],
 "metadata": {
  "kernelspec": {
   "display_name": "Python 3 (ipykernel)",
   "language": "python",
   "name": "python3"
  },
  "language_info": {
   "codemirror_mode": {
    "name": "ipython",
    "version": 3
   },
   "file_extension": ".py",
   "mimetype": "text/x-python",
   "name": "python",
   "nbconvert_exporter": "python",
   "pygments_lexer": "ipython3",
   "version": "3.7.16"
  }
 },
 "nbformat": 4,
 "nbformat_minor": 5
}
