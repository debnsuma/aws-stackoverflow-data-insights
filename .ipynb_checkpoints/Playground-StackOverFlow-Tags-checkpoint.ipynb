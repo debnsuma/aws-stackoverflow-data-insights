{
 "cells": [
  {
   "cell_type": "code",
   "execution_count": 1,
   "id": "97ac1d3f",
   "metadata": {},
   "outputs": [
    {
     "data": {
      "text/html": [
       "\n",
       "            <div>\n",
       "                <p><b>SparkSession - hive</b></p>\n",
       "                \n",
       "        <div>\n",
       "            <p><b>SparkContext</b></p>\n",
       "\n",
       "            <p><a href=\"http://ip-172-31-2-35.us-east-2.compute.internal:4040\">Spark UI</a></p>\n",
       "\n",
       "            <dl>\n",
       "              <dt>Version</dt>\n",
       "                <dd><code>v3.3.0-amzn-1</code></dd>\n",
       "              <dt>Master</dt>\n",
       "                <dd><code>yarn</code></dd>\n",
       "              <dt>AppName</dt>\n",
       "                <dd><code>PySparkShell</code></dd>\n",
       "            </dl>\n",
       "        </div>\n",
       "        \n",
       "            </div>\n",
       "        "
      ],
      "text/plain": [
       "<pyspark.sql.session.SparkSession at 0x7ff5fc0d7ad0>"
      ]
     },
     "execution_count": 1,
     "metadata": {},
     "output_type": "execute_result"
    }
   ],
   "source": [
    "spark"
   ]
  },
  {
   "cell_type": "markdown",
   "id": "7bced328",
   "metadata": {},
   "source": [
    "## Processing `Tags.xml`"
   ]
  },
  {
   "cell_type": "code",
   "execution_count": 1,
   "id": "dbdfb075",
   "metadata": {},
   "outputs": [],
   "source": [
    "import pyspark.sql.functions as F\n",
    "from pyspark.sql.types import StructType, StructField, IntegerType, StringType, TimestampType, LongType\n",
    "from datetime import datetime"
   ]
  },
  {
   "cell_type": "code",
   "execution_count": 2,
   "id": "682af470",
   "metadata": {},
   "outputs": [],
   "source": [
    "# Dataset path \n",
    "dataset_bucket = 's3://stackoverflow-dataset-2023/dataset/raw/2023'\n",
    "dataset_comments = f\"{dataset_bucket}/Tags.xml\""
   ]
  },
  {
   "cell_type": "code",
   "execution_count": 3,
   "id": "0996fa5a",
   "metadata": {},
   "outputs": [],
   "source": [
    "rdd = spark.sparkContext.textFile(dataset_comments)"
   ]
  },
  {
   "cell_type": "code",
   "execution_count": 4,
   "id": "23ed9ff5",
   "metadata": {},
   "outputs": [],
   "source": [
    "def row_parser(row):\n",
    "    \n",
    "    fields = [\n",
    "                \"Id=\",\n",
    "                \"TagName=\",\n",
    "                \"Count=\",\n",
    "                \"ExcerptPostId=\",\n",
    "                \"WikiPostId=\"\n",
    "            ]\n",
    "    \n",
    "    row_field = dict.fromkeys(fields, None)\n",
    "    row_list = [ i.strip() for i in row.split('\"')[:-1] ]\n",
    "    \n",
    "    for i in range(0, len(row_list), 2):\n",
    "        row_field[row_list[i]] = row_list[i+1]\n",
    "    \n",
    "    \n",
    "    return tuple(row_field.values())"
   ]
  },
  {
   "cell_type": "code",
   "execution_count": 5,
   "id": "9bf58050",
   "metadata": {},
   "outputs": [
    {
     "name": "stderr",
     "output_type": "stream",
     "text": [
      "                                                                                \r"
     ]
    },
    {
     "data": {
      "text/plain": [
       "64465"
      ]
     },
     "execution_count": 5,
     "metadata": {},
     "output_type": "execute_result"
    }
   ],
   "source": [
    "parsed_rdd = rdd.map(lambda row: row.strip()) \\\n",
    "   .filter(lambda row: row.startswith(\"<row\")) \\\n",
    "   .map(lambda row: row[4:-3]) \\\n",
    "   .map(lambda row: row.strip()) \\\n",
    "   .map(row_parser)\n",
    "\n",
    "parsed_rdd.count()"
   ]
  },
  {
   "cell_type": "code",
   "execution_count": 6,
   "id": "eed56127",
   "metadata": {},
   "outputs": [],
   "source": [
    "# Define the schema for the DataFrame\n",
    "schema_tags = StructType([\n",
    "    StructField(\"Id\", StringType()),\n",
    "    StructField(\"TagName\", StringType()),\n",
    "    StructField(\"Count\", StringType()),\n",
    "    StructField(\"ExcerptPostId\", StringType()),\n",
    "    StructField(\"WikiPostId\", StringType())\n",
    "])\n",
    "\n",
    "# Convert the RDD to a DataFrame\n",
    "df = parsed_rdd.toDF(schema_tags)"
   ]
  },
  {
   "cell_type": "code",
   "execution_count": 7,
   "id": "2eb524f2",
   "metadata": {},
   "outputs": [
    {
     "name": "stdout",
     "output_type": "stream",
     "text": [
      "root\n",
      " |-- Id: string (nullable = true)\n",
      " |-- TagName: string (nullable = true)\n",
      " |-- Count: string (nullable = true)\n",
      " |-- ExcerptPostId: string (nullable = true)\n",
      " |-- WikiPostId: string (nullable = true)\n",
      "\n"
     ]
    }
   ],
   "source": [
    "df.printSchema()"
   ]
  },
  {
   "cell_type": "code",
   "execution_count": 8,
   "id": "a665cc33",
   "metadata": {},
   "outputs": [
    {
     "name": "stderr",
     "output_type": "stream",
     "text": [
      "\r",
      "[Stage 1:>                                                          (0 + 1) / 1]\r"
     ]
    },
    {
     "name": "stdout",
     "output_type": "stream",
     "text": [
      "+---+----------+-------+-------------+----------+\n",
      "| Id|   TagName|  Count|ExcerptPostId|WikiPostId|\n",
      "+---+----------+-------+-------------+----------+\n",
      "|  1|      .net| 329455|      3624959|   3607476|\n",
      "|  2|      html|1167742|      3673183|   3673182|\n",
      "|  3|javascript|2479947|      3624960|   3607052|\n",
      "|  4|       css| 787138|      3644670|   3644669|\n",
      "|  5|       php|1456271|      3624936|   3607050|\n",
      "|  8|         c| 393884|      3624961|   3607013|\n",
      "|  9|        c#|1583879|      3624962|   3607007|\n",
      "| 10|       c++| 789699|      3624963|   3606997|\n",
      "| 12|      ruby| 227478|      3624964|   3607043|\n",
      "| 14|      lisp|   6865|      3656743|   3656742|\n",
      "| 16|    python|2113196|      3624965|   3607014|\n",
      "| 17|      java|1889767|      3624966|   3607018|\n",
      "| 18|     regex| 256791|      3624967|   3607017|\n",
      "| 19|       xml| 212440|      3624968|   3607588|\n",
      "| 21|     mysql| 658506|      3624969|   3607033|\n",
      "| 22|       sql| 656848|      3625226|   3607304|\n",
      "| 23|      tsql|  72061|      4777787|   4777786|\n",
      "| 26|        j#|     63|      8355939|   8355938|\n",
      "| 27|   browser|  26352|      5388160|   5388159|\n",
      "| 28|      linq|  85606|      4890031|   4890030|\n",
      "+---+----------+-------+-------------+----------+\n",
      "only showing top 20 rows\n",
      "\n"
     ]
    },
    {
     "name": "stderr",
     "output_type": "stream",
     "text": [
      "\r",
      "                                                                                \r"
     ]
    }
   ],
   "source": [
    "df.show()"
   ]
  },
  {
   "cell_type": "code",
   "execution_count": 9,
   "id": "8dbc020e",
   "metadata": {},
   "outputs": [
    {
     "name": "stderr",
     "output_type": "stream",
     "text": [
      "                                                                                \r"
     ]
    },
    {
     "data": {
      "text/plain": [
       "64465"
      ]
     },
     "execution_count": 9,
     "metadata": {},
     "output_type": "execute_result"
    }
   ],
   "source": [
    "df = df \\\n",
    "    .withColumn('Id', F.col('Id').cast('int')) \\\n",
    "    .withColumn('Count', F.col('Count').cast('int')) \\\n",
    "    .withColumn('ExcerptPostId', F.col('ExcerptPostId').cast('int')) \\\n",
    "    .withColumn('WikiPostId', F.col('WikiPostId').cast('int')) \n",
    "\n",
    "df.count()"
   ]
  },
  {
   "cell_type": "code",
   "execution_count": 11,
   "id": "0ab86feb",
   "metadata": {},
   "outputs": [
    {
     "name": "stdout",
     "output_type": "stream",
     "text": [
      "root\n",
      " |-- Id: integer (nullable = true)\n",
      " |-- TagName: string (nullable = true)\n",
      " |-- Count: integer (nullable = true)\n",
      " |-- ExcerptPostId: integer (nullable = true)\n",
      " |-- WikiPostId: integer (nullable = true)\n",
      "\n"
     ]
    }
   ],
   "source": [
    "df.printSchema()"
   ]
  },
  {
   "cell_type": "code",
   "execution_count": 10,
   "id": "9c883cb5",
   "metadata": {},
   "outputs": [
    {
     "name": "stderr",
     "output_type": "stream",
     "text": [
      "\r",
      "[Stage 5:>                                                          (0 + 1) / 1]\r"
     ]
    },
    {
     "name": "stdout",
     "output_type": "stream",
     "text": [
      "+---+----------+-------+-------------+----------+\n",
      "| Id|   TagName|  Count|ExcerptPostId|WikiPostId|\n",
      "+---+----------+-------+-------------+----------+\n",
      "|  1|      .net| 329455|      3624959|   3607476|\n",
      "|  2|      html|1167742|      3673183|   3673182|\n",
      "|  3|javascript|2479947|      3624960|   3607052|\n",
      "|  4|       css| 787138|      3644670|   3644669|\n",
      "|  5|       php|1456271|      3624936|   3607050|\n",
      "|  8|         c| 393884|      3624961|   3607013|\n",
      "|  9|        c#|1583879|      3624962|   3607007|\n",
      "| 10|       c++| 789699|      3624963|   3606997|\n",
      "| 12|      ruby| 227478|      3624964|   3607043|\n",
      "| 14|      lisp|   6865|      3656743|   3656742|\n",
      "| 16|    python|2113196|      3624965|   3607014|\n",
      "| 17|      java|1889767|      3624966|   3607018|\n",
      "| 18|     regex| 256791|      3624967|   3607017|\n",
      "| 19|       xml| 212440|      3624968|   3607588|\n",
      "| 21|     mysql| 658506|      3624969|   3607033|\n",
      "| 22|       sql| 656848|      3625226|   3607304|\n",
      "| 23|      tsql|  72061|      4777787|   4777786|\n",
      "| 26|        j#|     63|      8355939|   8355938|\n",
      "| 27|   browser|  26352|      5388160|   5388159|\n",
      "| 28|      linq|  85606|      4890031|   4890030|\n",
      "+---+----------+-------+-------------+----------+\n",
      "only showing top 20 rows\n",
      "\n"
     ]
    },
    {
     "name": "stderr",
     "output_type": "stream",
     "text": [
      "\r",
      "                                                                                \r"
     ]
    }
   ],
   "source": [
    "df.show()"
   ]
  },
  {
   "cell_type": "code",
   "execution_count": 11,
   "id": "53e5e690",
   "metadata": {},
   "outputs": [
    {
     "name": "stderr",
     "output_type": "stream",
     "text": [
      "[Stage 6:=============================>                             (1 + 1) / 2]\r"
     ]
    },
    {
     "name": "stdout",
     "output_type": "stream",
     "text": [
      "+-----+----------+-------+-------------+----------+\n",
      "|   Id|   TagName|  Count|ExcerptPostId|WikiPostId|\n",
      "+-----+----------+-------+-------------+----------+\n",
      "|    3|javascript|2479947|      3624960|   3607052|\n",
      "|   16|    python|2113196|      3624965|   3607014|\n",
      "|   17|      java|1889767|      3624966|   3607018|\n",
      "|    9|        c#|1583879|      3624962|   3607007|\n",
      "|    5|       php|1456271|      3624936|   3607050|\n",
      "| 1386|   android|1400026|      3625001|   3607484|\n",
      "|    2|      html|1167742|      3673183|   3673182|\n",
      "|  820|    jquery|1033113|      3625262|   3607053|\n",
      "|   10|       c++| 789699|      3624963|   3606997|\n",
      "|    4|       css| 787138|      3644670|   3644669|\n",
      "|58338|       ios| 679677|      4536664|   4536663|\n",
      "|   21|     mysql| 658506|      3624969|   3607033|\n",
      "|   22|       sql| 656848|      3625226|   3607304|\n",
      "| 4452|         r| 483254|      3625322|   3607736|\n",
      "|46426|   node.js| 457999|      4238969|   4238968|\n",
      "|92497|   reactjs| 446452|     16880335|  16880334|\n",
      "|  114|    arrays| 411208|      4969094|   4969093|\n",
      "|    8|         c| 393884|      3624961|   3607013|\n",
      "|   96|   asp.net| 372358|      3625232|   3607037|\n",
      "| 1508|      json| 354004|      4889848|   4889847|\n",
      "+-----+----------+-------+-------------+----------+\n",
      "only showing top 20 rows\n",
      "\n"
     ]
    },
    {
     "name": "stderr",
     "output_type": "stream",
     "text": [
      "\r",
      "                                                                                \r"
     ]
    }
   ],
   "source": [
    "df.orderBy(F.desc('Count')).show()"
   ]
  },
  {
   "cell_type": "code",
   "execution_count": 13,
   "id": "f5c2dde7",
   "metadata": {},
   "outputs": [
    {
     "name": "stderr",
     "output_type": "stream",
     "text": [
      "                                                                                \r"
     ]
    },
    {
     "data": {
      "text/plain": [
       "64465"
      ]
     },
     "execution_count": 13,
     "metadata": {},
     "output_type": "execute_result"
    }
   ],
   "source": [
    "df.count()"
   ]
  },
  {
   "cell_type": "code",
   "execution_count": 14,
   "id": "785de399",
   "metadata": {},
   "outputs": [
    {
     "name": "stderr",
     "output_type": "stream",
     "text": [
      "                                                                                \r"
     ]
    }
   ],
   "source": [
    "# Dataset path \n",
    "output_bucket = 's3://stackoverflow-dataset-2023/dataset/raw-processed/2023'\n",
    "output_folder_name = f\"{output_bucket}/Tags-parquet\"\n",
    "\n",
    "# save dataframe as csv\n",
    "df.write \\\n",
    "  .format('parquet') \\\n",
    "  .option('header', True) \\\n",
    "  .mode('overwrite') \\\n",
    "  .save(output_folder_name)"
   ]
  },
  {
   "cell_type": "markdown",
   "id": "7feb0a39",
   "metadata": {},
   "source": [
    "## Verifying the data by reading from S3"
   ]
  },
  {
   "cell_type": "code",
   "execution_count": 15,
   "id": "b8f266fc",
   "metadata": {},
   "outputs": [
    {
     "name": "stderr",
     "output_type": "stream",
     "text": [
      "\r",
      "[Stage 12:>                                                         (0 + 1) / 1]\r",
      "\r",
      "                                                                                \r"
     ]
    }
   ],
   "source": [
    "df = spark.read \\\n",
    "         .option(\"header\", True) \\\n",
    "         .option(\"inferSchema\", True) \\\n",
    "         .parquet(output_folder_name)"
   ]
  },
  {
   "cell_type": "code",
   "execution_count": 16,
   "id": "b0af52e2",
   "metadata": {},
   "outputs": [
    {
     "name": "stderr",
     "output_type": "stream",
     "text": [
      "\r",
      "[Stage 13:>                                                         (0 + 1) / 1]\r"
     ]
    },
    {
     "name": "stdout",
     "output_type": "stream",
     "text": [
      "+-----+--------------------+-----+-------------+----------+\n",
      "|   Id|             TagName|Count|ExcerptPostId|WikiPostId|\n",
      "+-----+--------------------+-----+-------------+----------+\n",
      "|97665|                sidr|   52|     19815160|  19815159|\n",
      "|97667|              deedle|  271|     19796305|  19796304|\n",
      "|97671|  nsincrementalstore|   16|         null|      null|\n",
      "|97673|       compound-type|    6|         null|      null|\n",
      "|97679|        managed-file|    7|         null|      null|\n",
      "|97681|            pushapps|   12|     19948129|  19948128|\n",
      "|97682|    multichoiceitems|   70|     23291906|  23291905|\n",
      "|97683|           sttwitter|   60|     19821491|  19821490|\n",
      "|97684|            weighttp|    2|     47309724|  47309723|\n",
      "|97686|    samsung-touchwiz|   36|     19947960|  19947959|\n",
      "|97689|                juzu|    2|     19810458|  19810457|\n",
      "|97691|         ldap-client|   29|     19810586|  19810585|\n",
      "|97693|         semantic-ui| 2734|     20095688|  20095687|\n",
      "|97694|   uikit-transitions|   18|         null|      null|\n",
      "|97696|    membershipreboot|   47|     24009831|  24009830|\n",
      "|97701|               aunit|    8|     19824174|  19824173|\n",
      "|97702|       cassandra-2.0| 1327|     20447422|  20447421|\n",
      "|97704|      pre-signed-url|  541|     43171371|  43171370|\n",
      "|97707|     tidal-scheduler|   14|     19824290|  19824289|\n",
      "|97710|yahoo-merchant-store|    3|         null|      null|\n",
      "|97716|    internal-storage|  274|     19947080|  19947079|\n",
      "|97717|              jsoniq|   36|     19824115|  19824114|\n",
      "|97718|       kendo-tooltip|   71|     32181154|  32181153|\n",
      "|97720|         ansi-sql-92|   30|         null|      null|\n",
      "|97726|              plotly|13245|     20056041|  20056040|\n",
      "|97732|             qlayout|  238|     20748692|  20748691|\n",
      "|97734|   sharepoint-online| 3657|     19946967|  19946966|\n",
      "|97735|     simpowersystems|   14|     19831545|  19831544|\n",
      "|97738|             atsam3x|   21|         null|      null|\n",
      "|97739|            pdfminer|  489|     19844246|  19844245|\n",
      "|97745|   kendo-multiselect|  181|     36343715|  36343714|\n",
      "|97748|             makecab|    6|     25591598|  25591597|\n",
      "|97755|            svsocket|    5|     19841631|  19841630|\n",
      "|97759|               slurm| 1618|     19844205|  19844204|\n",
      "|97761|            nmea2000|    6|     19849808|  19849807|\n",
      "|97762|       here-launcher|    4|     22929558|  22929557|\n",
      "|97764|          s-function|  129|     23120130|  23120129|\n",
      "|97765|              attask|  183|     20707178|  20707177|\n",
      "|97767|         jenkins-cli|  675|     19846726|  19846725|\n",
      "|97768|               picoc|    3|     19858535|  19858534|\n",
      "|97770|              pre-3d|    4|         null|      null|\n",
      "|97771|               nupic|   34|     19851307|  19851306|\n",
      "|97776|       eldarion-ajax|    4|         null|      null|\n",
      "|97778|         hana-studio|   56|     19856312|  19856311|\n",
      "|97779|             phreeze|    3|     20611646|  20611645|\n",
      "|97783|       html.labelfor|    8|         null|      null|\n",
      "|97786|               sdata|   15|     19862622|  19862621|\n",
      "|97787|    asp.net-web-api2| 7684|     23005033|  23005032|\n",
      "|97790|      comdat-folding|    6|         null|      null|\n",
      "|97791|                xpdo|   21|     19864601|  19864600|\n",
      "|97792|           pry-rails|   34|     56595390|  56595389|\n",
      "|97794|              mxbean|   22|     19952517|  19952516|\n",
      "|97798|      android-kernel|  213|     19946876|  19946875|\n",
      "|97801|        biztalk-2013|  425|     20041377|  20041376|\n",
      "|97803|             picosat|    2|     19871365|  19871364|\n",
      "|97804|     revokeobjecturl|   16|     20041331|  20041330|\n",
      "|97805|double-compare-an...|    4|     20041317|  20041316|\n",
      "|97806|     brokeredmessage|   49|     20041294|  20041293|\n",
      "|97808|              divmod|   19|     19873940|  19873939|\n",
      "|97815| sublime-text-plugin|  764|     20342240|  20342239|\n",
      "|97817|                jsog|   15|     20040940|  20040939|\n",
      "|97818|              pow.cx|    5|     20040909|  20040908|\n",
      "|97819|             skscene|  655|     19952385|  19952384|\n",
      "|97820|      skphysicsworld|   61|     19952444|  19952443|\n",
      "|97823|            spf13vim|   29|     20040851|  20040850|\n",
      "|97825|              handjs|    1|     19885691|  19885690|\n",
      "|97829|               fiona|  154|     20040828|  20040827|\n",
      "|97831|     typesafe-config|  224|     19888624|  19888623|\n",
      "|97832|           spray-dsl|   43|     20040815|  20040814|\n",
      "|97833|             negamax|   57|     20040769|  20040768|\n",
      "|97835|           php-pgsql|   86|     19890852|  19890851|\n",
      "|97851|       flask-sockets|   39|     20611600|  20611599|\n",
      "|97853|              tactic|    7|     20040744|  20040743|\n",
      "|97855|              mapsvg|    8|     19899886|  19899885|\n",
      "|97856|        ember.select|   17|     20040708|  20040707|\n",
      "|97858|         html5-async|    2|     19921750|  19921749|\n",
      "|97859|             lintian|    9|     19962830|  19962829|\n",
      "|97862|     table-splitting|   32|         null|      null|\n",
      "|97863|       angular-kendo|  103|     20040686|  20040685|\n",
      "|97866|             finatra|   46|     20040673|  20040672|\n",
      "|97867|         gameclosure|   16|     19905738|  19905737|\n",
      "|97868|       jdbc-postgres|   47|     20005751|  20005750|\n",
      "|97872|            foxycart|    5|     33241723|  33241722|\n",
      "|97878|   custom-transition|   84|     19946627|  19946626|\n",
      "|97879|        erlang-heart|    3|     19949643|  19949642|\n",
      "|97880|      lucene-filters|    4|     20040594|  20040593|\n",
      "|97884|                pfbc|   12|     19949757|  19949756|\n",
      "|97885|             wcag2.0|  256|     19969843|  19969842|\n",
      "|97890|           globalize|  134|     19921579|  19921578|\n",
      "|97895|  bootstrap-sortable|    5|     19924417|  19924416|\n",
      "|97901|      equalsverifier|   10|     19952776|  19952775|\n",
      "|97902|               imake|    5|     19953413|  19953412|\n",
      "|97903|             cleardb|  251|     19928043|  19928042|\n",
      "|97907|                mosh|   26|     19929363|  19929362|\n",
      "|97908|          mockachino|    2|     19929695|  19929694|\n",
      "|97912|              azcopy|  303|     19949425|  19949424|\n",
      "|97914|          herestring|   49|     19949502|  19949501|\n",
      "|97917|          sql-search|   11|     19946456|  19946455|\n",
      "|97919|          plotmatrix|   10|     19949310|  19949309|\n",
      "|97921|      reflectinsight|    3|     19946314|  19946313|\n",
      "+-----+--------------------+-----+-------------+----------+\n",
      "only showing top 100 rows\n",
      "\n"
     ]
    },
    {
     "name": "stderr",
     "output_type": "stream",
     "text": [
      "\r",
      "                                                                                \r"
     ]
    }
   ],
   "source": [
    "df.show(100)"
   ]
  },
  {
   "cell_type": "code",
   "execution_count": 17,
   "id": "4ecba29a",
   "metadata": {},
   "outputs": [
    {
     "name": "stdout",
     "output_type": "stream",
     "text": [
      "root\n",
      " |-- Id: integer (nullable = true)\n",
      " |-- TagName: string (nullable = true)\n",
      " |-- Count: integer (nullable = true)\n",
      " |-- ExcerptPostId: integer (nullable = true)\n",
      " |-- WikiPostId: integer (nullable = true)\n",
      "\n"
     ]
    }
   ],
   "source": [
    "df.printSchema()"
   ]
  },
  {
   "cell_type": "code",
   "execution_count": 18,
   "id": "4c6ae87e",
   "metadata": {},
   "outputs": [
    {
     "name": "stderr",
     "output_type": "stream",
     "text": [
      "\r",
      "[Stage 14:=============================>                            (1 + 1) / 2]\r"
     ]
    },
    {
     "name": "stdout",
     "output_type": "stream",
     "text": [
      "+-----+----------+-------+-------------+----------+\n",
      "|   Id|   TagName|  Count|ExcerptPostId|WikiPostId|\n",
      "+-----+----------+-------+-------------+----------+\n",
      "|    3|javascript|2479947|      3624960|   3607052|\n",
      "|   16|    python|2113196|      3624965|   3607014|\n",
      "|   17|      java|1889767|      3624966|   3607018|\n",
      "|    9|        c#|1583879|      3624962|   3607007|\n",
      "|    5|       php|1456271|      3624936|   3607050|\n",
      "| 1386|   android|1400026|      3625001|   3607484|\n",
      "|    2|      html|1167742|      3673183|   3673182|\n",
      "|  820|    jquery|1033113|      3625262|   3607053|\n",
      "|   10|       c++| 789699|      3624963|   3606997|\n",
      "|    4|       css| 787138|      3644670|   3644669|\n",
      "|58338|       ios| 679677|      4536664|   4536663|\n",
      "|   21|     mysql| 658506|      3624969|   3607033|\n",
      "|   22|       sql| 656848|      3625226|   3607304|\n",
      "| 4452|         r| 483254|      3625322|   3607736|\n",
      "|46426|   node.js| 457999|      4238969|   4238968|\n",
      "|92497|   reactjs| 446452|     16880335|  16880334|\n",
      "|  114|    arrays| 411208|      4969094|   4969093|\n",
      "|    8|         c| 393884|      3624961|   3607013|\n",
      "|   96|   asp.net| 372358|      3625232|   3607037|\n",
      "| 1508|      json| 354004|      4889848|   4889847|\n",
      "+-----+----------+-------+-------------+----------+\n",
      "only showing top 20 rows\n",
      "\n"
     ]
    },
    {
     "name": "stderr",
     "output_type": "stream",
     "text": [
      "\r",
      "                                                                                \r"
     ]
    }
   ],
   "source": [
    "df.orderBy(F.desc('Count')).show()"
   ]
  },
  {
   "cell_type": "code",
   "execution_count": 20,
   "id": "449a89b5",
   "metadata": {},
   "outputs": [],
   "source": [
    "list_of_keywords = ['aws', 'AWS', 'amazon', 'Amazon', 'amz']\n"
   ]
  },
  {
   "cell_type": "code",
   "execution_count": 21,
   "id": "3135851a",
   "metadata": {
    "scrolled": true
   },
   "outputs": [],
   "source": [
    "df_tags_with_amazon = df.select(F.col(\"Id\"), F.col(\"TagName\"), F.col(\"Count\")) \\\n",
    "                       .filter(F.col(\"TagName\").startswith('aws') | F.col(\"TagName\").isin(list_of_keywords)) \\"
   ]
  },
  {
   "cell_type": "code",
   "execution_count": 22,
   "id": "e491ee1c",
   "metadata": {},
   "outputs": [
    {
     "name": "stderr",
     "output_type": "stream",
     "text": [
      "\r",
      "[Stage 11:>                                                         (0 + 2) / 2]\r",
      "\r",
      "[Stage 11:=============================>                            (1 + 1) / 2]\r"
     ]
    },
    {
     "name": "stdout",
     "output_type": "stream",
     "text": [
      "+------+--------------------+-----+\n",
      "|    Id|             TagName|Count|\n",
      "+------+--------------------+-----+\n",
      "|108737|          aws-lambda|28291|\n",
      "|113256|     aws-api-gateway| 6989|\n",
      "|107211|             aws-sdk| 5948|\n",
      "| 99166|             aws-cli| 4076|\n",
      "|  1688|              amazon| 4054|\n",
      "|130293|         aws-amplify| 3866|\n",
      "|128181|            aws-glue| 3554|\n",
      "|133995|             aws-cdk| 2804|\n",
      "|130125|         aws-appsync| 1674|\n",
      "|130040|         aws-fargate| 1499|\n",
      "|114449|    aws-codepipeline| 1400|\n",
      "|123484|       aws-codebuild| 1342|\n",
      "|123710|  aws-step-functions| 1261|\n",
      "|115200|             aws-iot| 1167|\n",
      "|132737|      aws-serverless| 1108|\n",
      "|108181|     aws-code-deploy| 1028|\n",
      "|133429|             aws-sam|  856|\n",
      "|135716|aws-application-l...|  803|\n",
      "|115018|  aws-security-group|  765|\n",
      "|132552| aws-secrets-manager|  731|\n",
      "|132248|   aws-load-balancer|  716|\n",
      "|125258|          aws-sdk-js|  609|\n",
      "| 92026|        aws-opsworks|  543|\n",
      "|112389|        aws-java-sdk|  528|\n",
      "|114185|      aws-codecommit|  526|\n",
      "|146089|    aws-event-bridge|  498|\n",
      "|128297|         aws-sam-cli|  468|\n",
      "|123053|      aws-sdk-nodejs|  460|\n",
      "|130173|             aws-ssm|  456|\n",
      "|129593|   aws-elasticsearch|  445|\n",
      "|135649|aws-glue-data-cat...|  412|\n",
      "|121854|             aws-dms|  399|\n",
      "|111886|             aws-kms|  375|\n",
      "|124227|           aws-batch|  362|\n",
      "|137333|      aws-documentdb|  357|\n",
      "|114134|     aws-device-farm|  356|\n",
      "|123506|            aws-xray|  332|\n",
      "|137855|   aws-lambda-layers|  325|\n",
      "|140763|     aws-amplify-cli|  318|\n",
      "|142472|    aws-auto-scaling|  314|\n",
      "|139448|             aws-msk|  295|\n",
      "|144776|      aws-glue-spark|  290|\n",
      "| 99915|         aws-php-sdk|  289|\n",
      "|130186|          aws-cloud9|  269|\n",
      "|137241|aws-cloudwatch-lo...|  256|\n",
      "|124430|          aws-sdk-go|  254|\n",
      "|131300|     aws-lambda-edge|  252|\n",
      "|124821|        aws-pinpoint|  247|\n",
      "|117558|aws-certificate-m...|  221|\n",
      "|141206|aws-cloudformatio...|  220|\n",
      "|125257|         aws-sdk-net|  216|\n",
      "|139169|aws-aurora-server...|  212|\n",
      "|131722|       aws-userpools|  202|\n",
      "|126577|             aws-sts|  197|\n",
      "|141800|        aws-policies|  189|\n",
      "|130961|             aws-elb|  177|\n",
      "|130757|             aws-iam|  176|\n",
      "|117056|       aws-mobilehub|  168|\n",
      "|100823|      aws-powershell|  159|\n",
      "|127408|   aws-organizations|  154|\n",
      "|131771| aws-parameter-store|  153|\n",
      "|147573|        aws-iot-core|  149|\n",
      "|129144|    aws-sdk-java-2.0|  134|\n",
      "|146900|      aws-databricks|  130|\n",
      "|137836|   aws-media-convert|  128|\n",
      "|124913|             aws-vpc|  127|\n",
      "|115770|             aws-rds|  127|\n",
      "|129198|         aws-billing|  123|\n",
      "|132472|      aws-transcribe|  122|\n",
      "|132102|             aws-lex|  121|\n",
      "|140249|          aws-config|  115|\n",
      "|124674|         aws-sdk-cpp|  114|\n",
      "|136186|    aws-java-sdk-2.x|  112|\n",
      "|135200|         aws-sdk-ios|  112|\n",
      "|126758|             aws-ebs|  112|\n",
      "|130900|             aws-ecr|  111|\n",
      "|139602| aws-systems-manager|  108|\n",
      "| 10189|             awstats|  104|\n",
      "|145316|    aws-codeartifact|  104|\n",
      "|122808|        aws-sdk-ruby|  103|\n",
      "|126004|        aws-codestar|   97|\n",
      "|134529|             aws-alb|   94|\n",
      "|144350|     aws-elasticache|   92|\n",
      "|129774|             aws-ecs|   91|\n",
      "|136642|aws-documentdb-mo...|   91|\n",
      "|127424|         aws-regions|   86|\n",
      "|106659|awss3transfermanager|   85|\n",
      "|147669|  aws-iot-greengrass|   83|\n",
      "|132672|   aws-data-pipeline|   77|\n",
      "|150853|        aws-sqs-fifo|   76|\n",
      "|144908|       aws-chime-sdk|   73|\n",
      "|138464|             aws-acm|   73|\n",
      "|140764|  aws-amplify-sdk-js|   72|\n",
      "|139195|             aws-sso|   70|\n",
      "|141748|             aws-vpn|   67|\n",
      "|134837|         aws-toolkit|   66|\n",
      "|144785|        aws-http-api|   64|\n",
      "|148193|             aws-nlb|   64|\n",
      "|141018|     aws-nat-gateway|   64|\n",
      "|140973|  aws-lake-formation|   62|\n",
      "|145573|     aws-credentials|   59|\n",
      "|139059|          aws-backup|   56|\n",
      "|154709|   aws-data-wrangler|   54|\n",
      "|117447|awss3transferutility|   54|\n",
      "|150929|          aws-devops|   53|\n",
      "| 88362|     aws-marketplace|   52|\n",
      "|153033|         aws-kinesis|   51|\n",
      "|143728|   aws-glue-workflow|   50|\n",
      "|126047| aws-service-catalog|   49|\n",
      "|139117|aws-ec2-instance-...|   49|\n",
      "|155974|      aws-cdk-python|   49|\n",
      "|124236|   aws-access-policy|   48|\n",
      "|142398|        aws-sdk-java|   48|\n",
      "|151057|aws-appsync-resolver|   46|\n",
      "|140784|aws-amplify-sdk-a...|   45|\n",
      "|156196|      aws-iam-policy|   44|\n",
      "|123733|aws-reserved-inst...|   44|\n",
      "|126044| aws-storage-gateway|   44|\n",
      "|150444|       aws-sdk-js-v3|   43|\n",
      "|142910|      aws-media-live|   43|\n",
      "|126046|  aws-direct-connect|   42|\n",
      "|152884|         aws-neptune|   39|\n",
      "|139603| aws-session-manager|   38|\n",
      "|149281|     aws-vpc-peering|   37|\n",
      "|126462|       aws-appstream|   37|\n",
      "|141761|aws-rds-data-service|   37|\n",
      "|115729|aws-directory-ser...|   36|\n",
      "|146448|      aws-app-config|   34|\n",
      "|135412|   aws-iot-analytics|   34|\n",
      "|144940|   aws-control-tower|   34|\n",
      "|123196|        aws-sdk-mock|   34|\n",
      "|140711|        aws-app-mesh|   33|\n",
      "|142095|aws-code-deploy-a...|   31|\n",
      "|150733|    aws-private-link|   31|\n",
      "|156004|        aws-datasync|   30|\n",
      "|150021| aws-glue-connection|   30|\n",
      "|150944|         aws-chatbot|   30|\n",
      "|133349|       aws-elemental|   29|\n",
      "|129317|             aws-sct|   29|\n",
      "|137859|        aws-cloudmap|   27|\n",
      "|150479|   aws-state-machine|   27|\n",
      "|152040|           aws-roles|   27|\n",
      "|155311|        aws-pipeline|   27|\n",
      "|151959|      aws-networking|   26|\n",
      "|148910|aws-lambda-contai...|   26|\n",
      "|145441|        aws-rest-api|   25|\n",
      "|119119|           awsdeploy|   24|\n",
      "|154520|   aws-cost-explorer|   24|\n",
      "|134650|     aws-appsync-ios|   24|\n",
      "|153537|     aws-msk-connect|   24|\n",
      "|153301|       aws-sdk-go-v2|   23|\n",
      "|140237|aws-java-sdk-dyna...|   23|\n",
      "|142976|    aws-security-hub|   23|\n",
      "|148879|      aws-cloudshell|   23|\n",
      "|152349| aws-transfer-family|   22|\n",
      "|149638|     aws-permissions|   22|\n",
      "|151505|       aws-signature|   22|\n",
      "|138622|     aws-fsx-windows|   21|\n",
      "|147078|    aws-mediapackage|   20|\n",
      "|149549|        aws-deeplens|   20|\n",
      "|134822|aws-elastictransc...|   19|\n",
      "|132947|       aws-lambda-go|   19|\n",
      "|127457|  aws-resource-group|   18|\n",
      "|153098|         aws-copilot|   18|\n",
      "|146373|aws-global-accele...|   18|\n",
      "|151961|     aws-route-table|   18|\n",
      "|154086|        aws-databrew|   17|\n",
      "|138387|aws-iam-authentic...|   17|\n",
      "|153708|   aws-identitypools|   17|\n",
      "|159062|        aws-sdk-rust|   16|\n",
      "|155275|         aws-glue3.0|   16|\n",
      "|147077|   aws-mediaservices|   16|\n",
      "|144784|  aws-jwt-authorizer|   15|\n",
      "|147076|      aws-mediastore|   15|\n",
      "|151960|    aws-site-to-site|   15|\n",
      "|141799|            aws-sftp|   14|\n",
      "|118982|             aws-ios|   14|\n",
      "|136895|    aws-landing-zone|   14|\n",
      "|158168|  aws-cdk-typescript|   12|\n",
      "|158019|       aws-s3-client|   12|\n",
      "|142636|     aws-amplify-vue|   11|\n",
      "|153651| aws-acm-certificate|   11|\n",
      "|154164|              aws.s3|   10|\n",
      "|134237|     aws-sdk-android|   10|\n",
      "|136514|     aws-mediatailor|   10|\n",
      "|152492|     awscognitotoken|   10|\n",
      "| 80097|             aws-lib|    8|\n",
      "|152114|      aws-automation|    8|\n",
      "|126043|        aws-snowball|    8|\n",
      "|149039|     aws-cdk-context|    8|\n",
      "|124760|           aws-shell|    7|\n",
      "|129685|        aws-redshift|    7|\n",
      "|133551|aws-visual-studio...|    7|\n",
      "|136595|            aws-nuke|    7|\n",
      "|152978|    aws-iot-sitewise|    7|\n",
      "|147574|      aws-iot-events|    6|\n",
      "|150992|      aws-emr-studio|    6|\n",
      "|157558|       aws-datastore|    6|\n",
      "|152647|             aws-asg|    6|\n",
      "|101895|               aws4c|    6|\n",
      "|155964|             aws-scp|    6|\n",
      "|127537|       aws-vm-import|    6|\n",
      "|153099|     aws-copilot-cli|    5|\n",
      "|151803|   aws-feature-store|    5|\n",
      "|140885|aws-lambda-puppeteer|    5|\n",
      "|148579|        aws-codeguru|    5|\n",
      "|151896|          aws-limits|    4|\n",
      "|153464|aws-lambda-integr...|    4|\n",
      "|153479|             aws-dax|    4|\n",
      "|139076|     aws-step-config|    4|\n",
      "|148673|           aws-steps|    4|\n",
      "|113905|       aws-ruby-flow|    3|\n",
      "|157831|  aws-ebs-csi-driver|    3|\n",
      "|150982|             aws-cdn|    3|\n",
      "|153765|             aws-fis|    3|\n",
      "|156682|        aws-govcloud|    2|\n",
      "|147079|    aws-mediaconnect|    2|\n",
      "|158502|           aws-vault|    2|\n",
      "|150243|        aws-iot-jobs|    2|\n",
      "|158556|     aws-azure-login|    2|\n",
      "|156858|            aws4auth|    2|\n",
      "|151823|        awstimestamp|    2|\n",
      "|158954|  aws-service-quotas|    2|\n",
      "|154550|aws-rails-provisi...|    2|\n",
      "|156738|aws-secretsmanage...|    1|\n",
      "|157464|aws-cloudformatio...|    1|\n",
      "|157649|aws-application-d...|    1|\n",
      "|158818|       aws-deepracer|    1|\n",
      "|158698|             aws-arn|    1|\n",
      "|159107|awssecretsmanager...|    1|\n",
      "+------+--------------------+-----+\n",
      "\n"
     ]
    },
    {
     "name": "stderr",
     "output_type": "stream",
     "text": [
      "\r",
      "                                                                                \r"
     ]
    }
   ],
   "source": [
    "df_tags_with_amazon.orderBy(F.desc(F.col(\"Count\"))).show(230)"
   ]
  },
  {
   "cell_type": "code",
   "execution_count": null,
   "id": "73917185",
   "metadata": {},
   "outputs": [],
   "source": []
  }
 ],
 "metadata": {
  "kernelspec": {
   "display_name": "Python 3 (ipykernel)",
   "language": "python",
   "name": "python3"
  },
  "language_info": {
   "codemirror_mode": {
    "name": "ipython",
    "version": 3
   },
   "file_extension": ".py",
   "mimetype": "text/x-python",
   "name": "python",
   "nbconvert_exporter": "python",
   "pygments_lexer": "ipython3",
   "version": "3.7.16"
  }
 },
 "nbformat": 4,
 "nbformat_minor": 5
}
