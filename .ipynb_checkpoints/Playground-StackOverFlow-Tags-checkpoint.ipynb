{
 "cells": [
  {
   "cell_type": "code",
   "execution_count": 1,
   "id": "97ac1d3f",
   "metadata": {},
   "outputs": [
    {
     "data": {
      "text/html": [
       "\n",
       "            <div>\n",
       "                <p><b>SparkSession - hive</b></p>\n",
       "                \n",
       "        <div>\n",
       "            <p><b>SparkContext</b></p>\n",
       "\n",
       "            <p><a href=\"http://ip-172-31-2-35.us-east-2.compute.internal:4040\">Spark UI</a></p>\n",
       "\n",
       "            <dl>\n",
       "              <dt>Version</dt>\n",
       "                <dd><code>v3.3.0-amzn-1</code></dd>\n",
       "              <dt>Master</dt>\n",
       "                <dd><code>yarn</code></dd>\n",
       "              <dt>AppName</dt>\n",
       "                <dd><code>PySparkShell</code></dd>\n",
       "            </dl>\n",
       "        </div>\n",
       "        \n",
       "            </div>\n",
       "        "
      ],
      "text/plain": [
       "<pyspark.sql.session.SparkSession at 0x7ff5fc0d7ad0>"
      ]
     },
     "execution_count": 1,
     "metadata": {},
     "output_type": "execute_result"
    }
   ],
   "source": [
    "spark"
   ]
  },
  {
   "cell_type": "markdown",
   "id": "7bced328",
   "metadata": {},
   "source": [
    "## Processing `Tags.xml`"
   ]
  },
  {
   "cell_type": "code",
   "execution_count": 1,
   "id": "dbdfb075",
   "metadata": {},
   "outputs": [],
   "source": [
    "import pyspark.sql.functions as F\n",
    "from pyspark.sql.types import StructType, StructField, IntegerType, StringType, TimestampType, LongType\n",
    "from datetime import datetime"
   ]
  },
  {
   "cell_type": "code",
   "execution_count": 2,
   "id": "682af470",
   "metadata": {},
   "outputs": [],
   "source": [
    "# Dataset path \n",
    "dataset_bucket = 's3://stackoverflow-dataset-2023/dataset/raw'\n",
    "dataset_comments = f\"{dataset_bucket}/Tags.xml\""
   ]
  },
  {
   "cell_type": "code",
   "execution_count": 3,
   "id": "0996fa5a",
   "metadata": {},
   "outputs": [],
   "source": [
    "rdd = spark.sparkContext.textFile(dataset_comments)"
   ]
  },
  {
   "cell_type": "code",
   "execution_count": 7,
   "id": "23ed9ff5",
   "metadata": {},
   "outputs": [],
   "source": [
    "def row_parser(row):\n",
    "    \n",
    "    fields = [\n",
    "                \"Id=\",\n",
    "                \"TagName=\",\n",
    "                \"Count=\",\n",
    "                \"ExcerptPostId=\",\n",
    "                \"WikiPostId=\"\n",
    "            ]\n",
    "    \n",
    "    row_field = dict.fromkeys(fields, None)\n",
    "    row_list = [ i.strip() for i in row.split('\"')[:-1] ]\n",
    "    \n",
    "    for i in range(0, len(row_list), 2):\n",
    "        row_field[row_list[i]] = row_list[i+1]\n",
    "    \n",
    "    \n",
    "    return tuple(row_field.values())"
   ]
  },
  {
   "cell_type": "code",
   "execution_count": 8,
   "id": "9bf58050",
   "metadata": {},
   "outputs": [
    {
     "name": "stderr",
     "output_type": "stream",
     "text": [
      "                                                                                \r"
     ]
    },
    {
     "data": {
      "text/plain": [
       "64155"
      ]
     },
     "execution_count": 8,
     "metadata": {},
     "output_type": "execute_result"
    }
   ],
   "source": [
    "parsed_rdd = rdd.map(lambda row: row.strip()) \\\n",
    "   .filter(lambda row: row.startswith(\"<row\")) \\\n",
    "   .map(lambda row: row[4:-3]) \\\n",
    "   .map(lambda row: row.strip()) \\\n",
    "   .map(row_parser)\n",
    "\n",
    "parsed_rdd.count()"
   ]
  },
  {
   "cell_type": "code",
   "execution_count": 9,
   "id": "eed56127",
   "metadata": {},
   "outputs": [],
   "source": [
    "# Define the schema for the DataFrame\n",
    "schema_tags = StructType([\n",
    "    StructField(\"Id\", StringType()),\n",
    "    StructField(\"TagName\", StringType()),\n",
    "    StructField(\"Count\", StringType()),\n",
    "    StructField(\"ExcerptPostId\", StringType()),\n",
    "    StructField(\"WikiPostId\", StringType())\n",
    "])\n",
    "\n",
    "# Convert the RDD to a DataFrame\n",
    "df = parsed_rdd.toDF(schema_tags)"
   ]
  },
  {
   "cell_type": "code",
   "execution_count": 10,
   "id": "2eb524f2",
   "metadata": {},
   "outputs": [
    {
     "name": "stdout",
     "output_type": "stream",
     "text": [
      "root\n",
      " |-- Id: string (nullable = true)\n",
      " |-- TagName: string (nullable = true)\n",
      " |-- Count: string (nullable = true)\n",
      " |-- ExcerptPostId: string (nullable = true)\n",
      " |-- WikiPostId: string (nullable = true)\n",
      "\n"
     ]
    }
   ],
   "source": [
    "df.printSchema()"
   ]
  },
  {
   "cell_type": "code",
   "execution_count": 11,
   "id": "a665cc33",
   "metadata": {},
   "outputs": [
    {
     "name": "stderr",
     "output_type": "stream",
     "text": [
      "[Stage 4:>                                                          (0 + 1) / 1]\r"
     ]
    },
    {
     "name": "stdout",
     "output_type": "stream",
     "text": [
      "+---+----------+-------+-------------+----------+\n",
      "| Id|   TagName|  Count|ExcerptPostId|WikiPostId|\n",
      "+---+----------+-------+-------------+----------+\n",
      "|  1|      .net| 326206|      3624959|   3607476|\n",
      "|  2|      html|1156034|      3673183|   3673182|\n",
      "|  3|javascript|2453736|      3624960|   3607052|\n",
      "|  4|       css| 779112|      3644670|   3644669|\n",
      "|  5|       php|1451338|      3624936|   3607050|\n",
      "|  8|         c| 390095|      3624961|   3607013|\n",
      "|  9|        c#|1571218|      3624962|   3607007|\n",
      "| 10|       c++| 783573|      3624963|   3606997|\n",
      "| 12|      ruby| 226594|      3624964|   3607043|\n",
      "| 14|      lisp|   6834|      3656743|   3656742|\n",
      "| 16|    python|2071403|      3624965|   3607014|\n",
      "| 17|      java|1878099|      3624966|   3607018|\n",
      "| 18|     regex| 254923|      3624967|   3607017|\n",
      "| 19|       xml| 211315|      3624968|   3607588|\n",
      "| 21|     mysql| 655007|      3624969|   3607033|\n",
      "| 22|       sql| 650214|      3625226|   3607304|\n",
      "| 23|      tsql|  71604|      4777787|   4777786|\n",
      "| 26|        j#|     62|      8355939|   8355938|\n",
      "| 27|   browser|  26159|      5388160|   5388159|\n",
      "| 28|      linq|  85123|      4890031|   4890030|\n",
      "+---+----------+-------+-------------+----------+\n",
      "only showing top 20 rows\n",
      "\n"
     ]
    },
    {
     "name": "stderr",
     "output_type": "stream",
     "text": [
      "\r",
      "                                                                                \r"
     ]
    }
   ],
   "source": [
    "df.show()"
   ]
  },
  {
   "cell_type": "code",
   "execution_count": 12,
   "id": "8dbc020e",
   "metadata": {},
   "outputs": [
    {
     "name": "stderr",
     "output_type": "stream",
     "text": [
      "                                                                                \r"
     ]
    },
    {
     "data": {
      "text/plain": [
       "64155"
      ]
     },
     "execution_count": 12,
     "metadata": {},
     "output_type": "execute_result"
    }
   ],
   "source": [
    "df = df \\\n",
    "    .withColumn('Id', F.col('Id').cast('int')) \\\n",
    "    .withColumn('Count', F.col('Count').cast('int')) \\\n",
    "    .withColumn('ExcerptPostId', F.col('ExcerptPostId').cast('int')) \\\n",
    "    .withColumn('WikiPostId', F.col('WikiPostId').cast('int')) \n",
    "\n",
    "df.count()"
   ]
  },
  {
   "cell_type": "code",
   "execution_count": 13,
   "id": "785de399",
   "metadata": {},
   "outputs": [],
   "source": [
    "# Dataset path \n",
    "output_bucket = 's3://stackoverflow-dataset-2023/dataset/raw-processed'\n",
    "output_folder_name = f\"{output_bucket}/Tags-parquet\"\n",
    "\n",
    "# save dataframe as csv\n",
    "df.write \\\n",
    "  .format('parquet') \\\n",
    "  .option('header', True) \\\n",
    "  .mode('overwrite') \\\n",
    "  .save(output_folder_name)"
   ]
  },
  {
   "cell_type": "markdown",
   "id": "7feb0a39",
   "metadata": {},
   "source": [
    "## Verifying the data by reading from S3"
   ]
  },
  {
   "cell_type": "code",
   "execution_count": 14,
   "id": "b8f266fc",
   "metadata": {},
   "outputs": [
    {
     "name": "stderr",
     "output_type": "stream",
     "text": [
      "                                                                                \r"
     ]
    }
   ],
   "source": [
    "df = spark.read \\\n",
    "         .option(\"header\", True) \\\n",
    "         .option(\"inferSchema\", True) \\\n",
    "         .parquet(output_folder_name)"
   ]
  },
  {
   "cell_type": "code",
   "execution_count": 15,
   "id": "b0af52e2",
   "metadata": {},
   "outputs": [
    {
     "name": "stderr",
     "output_type": "stream",
     "text": [
      "\r",
      "[Stage 9:>                                                          (0 + 1) / 1]\r"
     ]
    },
    {
     "name": "stdout",
     "output_type": "stream",
     "text": [
      "+---+--------------------+-------+-------------+----------+\n",
      "| Id|             TagName|  Count|ExcerptPostId|WikiPostId|\n",
      "+---+--------------------+-------+-------------+----------+\n",
      "|  1|                .net| 326206|      3624959|   3607476|\n",
      "|  2|                html|1156034|      3673183|   3673182|\n",
      "|  3|          javascript|2453736|      3624960|   3607052|\n",
      "|  4|                 css| 779112|      3644670|   3644669|\n",
      "|  5|                 php|1451338|      3624936|   3607050|\n",
      "|  8|                   c| 390095|      3624961|   3607013|\n",
      "|  9|                  c#|1571218|      3624962|   3607007|\n",
      "| 10|                 c++| 783573|      3624963|   3606997|\n",
      "| 12|                ruby| 226594|      3624964|   3607043|\n",
      "| 14|                lisp|   6834|      3656743|   3656742|\n",
      "| 16|              python|2071403|      3624965|   3607014|\n",
      "| 17|                java|1878099|      3624966|   3607018|\n",
      "| 18|               regex| 254923|      3624967|   3607017|\n",
      "| 19|                 xml| 211315|      3624968|   3607588|\n",
      "| 21|               mysql| 655007|      3624969|   3607033|\n",
      "| 22|                 sql| 650214|      3625226|   3607304|\n",
      "| 23|                tsql|  71604|      4777787|   4777786|\n",
      "| 26|                  j#|     62|      8355939|   8355938|\n",
      "| 27|             browser|  26159|      5388160|   5388159|\n",
      "| 28|                linq|  85123|      4890031|   4890030|\n",
      "| 30|            database| 190771|      4973766|   4973765|\n",
      "| 33|   language-agnostic|   8281|      5197182|   5197181|\n",
      "| 34|                unix|  47041|      4957075|   4957074|\n",
      "| 35|             sockets|  65571|      5253586|   5253585|\n",
      "| 38|         apache-flex|  24019|      3625227|   3608598|\n",
      "| 41|              vb.net| 138540|      3625228|   3607042|\n",
      "| 44|        structuremap|   1727|      5007962|   5007961|\n",
      "| 46|             alt.net|      9|     25220551|  25220550|\n",
      "| 48|        architecture|  16808|      4083816|   4083815|\n",
      "| 49|               forms| 111884|      5602245|   5602244|\n",
      "| 52|              aptana|   1777|      5726271|   5726270|\n",
      "| 53|             eclipse| 124225|      3625229|   3607482|\n",
      "| 55|           subclipse|    708|      5488734|   5488733|\n",
      "| 57|                 air|   7823|      4913302|   4913301|\n",
      "| 58|               linux| 221569|      3625112|   3607012|\n",
      "| 61|              memory|  35152|      5009628|   5009627|\n",
      "| 63|                 svn|  26676|      3696944|   3696943|\n",
      "| 64|             windows| 161491|      3625230|   3609881|\n",
      "| 65|             sitemap|   2051|      5146483|   5146482|\n",
      "| 66|          navigation|  14151|      9678906|   9678905|\n",
      "| 67|          membership|    968|      9956567|   9956566|\n",
      "| 71|              theory|   1787|     18267058|  18267057|\n",
      "| 72|          sql-server| 325418|      3625231|   3607030|\n",
      "| 73|                 csv|  87506|      4913959|   4913958|\n",
      "| 75|            sysadmin|    609|      8582713|   8582712|\n",
      "| 76|         compression|   8985|      6110824|   6110823|\n",
      "| 80|              apache|  91744|      4979625|   4979624|\n",
      "| 81|          versioning|   3054|      6352292|   6352291|\n",
      "| 82|               media|   3311|     12858677|  12858676|\n",
      "| 83|               embed|   4832|      7538285|   7538284|\n",
      "| 87|            printing|  22833|      6077509|   6077508|\n",
      "| 88|             youtube|  15712|      5304815|   5304814|\n",
      "| 90|                 pdf|  49573|      4541006|   4541005|\n",
      "| 95|          convention|    356|     22836385|  22836384|\n",
      "| 96|             asp.net| 371246|      3625232|   3607037|\n",
      "| 97|           migration|  10625|      7982742|   7982741|\n",
      "| 99|         filesystems|   9382|      5378877|   5378876|\n",
      "|100|      stack-overflow|   4093|      5796105|   5796104|\n",
      "|102|            hardware|   2781|      5108397|   5108396|\n",
      "|110|                 ide|  10691|      4915532|   4915531|\n",
      "|114|              arrays| 403847|      4969094|   4969093|\n",
      "|115|                tags|  11296|      6575746|   6575745|\n",
      "|116|               cloud|   8961|      4112372|   4112371|\n",
      "|117|              mailto|   1104|     10293284|  10293283|\n",
      "|118|              delphi|  50358|      3625233|   3607016|\n",
      "|119|                 git| 145667|      3625234|   3607047|\n",
      "|121|              sqlite|  92866|      3625235|   3607650|\n",
      "|125|compiler-construc...|  11505|      3625236|   3607487|\n",
      "|126|                 x11|   3272|      6053748|   6053747|\n",
      "|127|                 gtk|   8313|      5125644|   5125643|\n",
      "|129|              opengl|  37690|      4058612|   4058611|\n",
      "|131|       collaboration|    519|     11751342|  11751341|\n",
      "|134|             sorting|  74665|      5009631|   5009630|\n",
      "|136|            security|  55340|      3625053|   3612218|\n",
      "|137|                 oop|  60716|      4913607|   4913606|\n",
      "|139|              string| 179991|      4887591|   4887590|\n",
      "|142|                 ant|  15355|      3625237|   3607490|\n",
      "|143|               phing|    385|      4886597|   4886596|\n",
      "|146|               email|  58536|      5483666|   5483665|\n",
      "|148|            generics|  47668|      4890360|   4890359|\n",
      "|152|              lucene|  11929|      3625238|   3607502|\n",
      "|153|                 vb6|  10716|      3625239|   3607228|\n",
      "|154|              iphone| 221564|      3625240|   3607496|\n",
      "|162|                 com|  12096|      4377329|   4377328|\n",
      "|169|              openid|   3609|      4903934|   4903933|\n",
      "|171|           photoshop|   2465|      5516368|   5516367|\n",
      "|173|        data-binding|  23370|      5253639|   5253638|\n",
      "|176|                beta|    670|     12471310|  12471309|\n",
      "|178|               crash|  12996|      6967482|   6967481|\n",
      "|183|      authentication|  72772|      5253712|   5253711|\n",
      "|186|             testing|  48162|      4922785|   4922784|\n",
      "|189|               trust|    195|     11291048|  11291047|\n",
      "|190|          deployment|  24649|      5047602|   5047601|\n",
      "|194|              oracle| 146274|      3625242|   3607031|\n",
      "|197|              random|  34596|      6855850|   6855849|\n",
      "|198|                  nt|     61|         null|      null|\n",
      "|201|                 api| 105437|      4924743|   4924742|\n",
      "|205|              puzzle|    844|      8268485|   8268484|\n",
      "|210|            metacity|      9|     25220570|  25220569|\n",
      "|211|              compiz|     39|         null|      null|\n",
      "+---+--------------------+-------+-------------+----------+\n",
      "only showing top 100 rows\n",
      "\n"
     ]
    },
    {
     "name": "stderr",
     "output_type": "stream",
     "text": [
      "\r",
      "                                                                                \r"
     ]
    }
   ],
   "source": [
    "df.show(100)"
   ]
  },
  {
   "cell_type": "code",
   "execution_count": null,
   "id": "4ecba29a",
   "metadata": {},
   "outputs": [],
   "source": []
  }
 ],
 "metadata": {
  "kernelspec": {
   "display_name": "Python 3 (ipykernel)",
   "language": "python",
   "name": "python3"
  },
  "language_info": {
   "codemirror_mode": {
    "name": "ipython",
    "version": 3
   },
   "file_extension": ".py",
   "mimetype": "text/x-python",
   "name": "python",
   "nbconvert_exporter": "python",
   "pygments_lexer": "ipython3",
   "version": "3.7.16"
  }
 },
 "nbformat": 4,
 "nbformat_minor": 5
}
