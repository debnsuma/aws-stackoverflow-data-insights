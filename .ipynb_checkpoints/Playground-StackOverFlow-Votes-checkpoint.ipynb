{
 "cells": [
  {
   "cell_type": "code",
   "execution_count": 1,
   "id": "97ac1d3f",
   "metadata": {},
   "outputs": [
    {
     "data": {
      "text/html": [
       "\n",
       "            <div>\n",
       "                <p><b>SparkSession - hive</b></p>\n",
       "                \n",
       "        <div>\n",
       "            <p><b>SparkContext</b></p>\n",
       "\n",
       "            <p><a href=\"http://ip-172-31-2-35.us-east-2.compute.internal:4040\">Spark UI</a></p>\n",
       "\n",
       "            <dl>\n",
       "              <dt>Version</dt>\n",
       "                <dd><code>v3.3.0-amzn-1</code></dd>\n",
       "              <dt>Master</dt>\n",
       "                <dd><code>yarn</code></dd>\n",
       "              <dt>AppName</dt>\n",
       "                <dd><code>PySparkShell</code></dd>\n",
       "            </dl>\n",
       "        </div>\n",
       "        \n",
       "            </div>\n",
       "        "
      ],
      "text/plain": [
       "<pyspark.sql.session.SparkSession at 0x7ff5fc0d7ad0>"
      ]
     },
     "execution_count": 1,
     "metadata": {},
     "output_type": "execute_result"
    }
   ],
   "source": [
    "spark"
   ]
  },
  {
   "cell_type": "markdown",
   "id": "7bced328",
   "metadata": {},
   "source": [
    "## Processing `Votes.xml`"
   ]
  },
  {
   "cell_type": "code",
   "execution_count": 1,
   "id": "dbdfb075",
   "metadata": {},
   "outputs": [],
   "source": [
    "import pyspark.sql.functions as F\n",
    "from pyspark.sql.types import StructType, StructField, IntegerType, StringType, TimestampType, LongType\n",
    "from datetime import datetime"
   ]
  },
  {
   "cell_type": "code",
   "execution_count": 2,
   "id": "682af470",
   "metadata": {},
   "outputs": [],
   "source": [
    "# Dataset path \n",
    "dataset_bucket = 's3://stackoverflow-dataset-2023/dataset/raw'\n",
    "dataset_file = f\"{dataset_bucket}/Votes.xml\""
   ]
  },
  {
   "cell_type": "code",
   "execution_count": 3,
   "id": "0996fa5a",
   "metadata": {},
   "outputs": [],
   "source": [
    "rdd = spark.sparkContext.textFile(dataset_file)\n"
   ]
  },
  {
   "cell_type": "code",
   "execution_count": null,
   "id": "00bacd1f",
   "metadata": {},
   "outputs": [],
   "source": [
    "def row_parser(row):\n",
    "    \n",
    "    fields = [\n",
    "                \"Id=\",\n",
    "                \"PostId=\",\n",
    "                \"VoteTypeId=\",\n",
    "                \"TagName=\",\n",
    "                \"Count=\",\n",
    "                \"ExcerptPostId=\",\n",
    "                \"WikiPostId=\",\n",
    "            ]\n",
    "    \n",
    "    row_field = dict.fromkeys(fields, None)\n",
    "    row_list = [ i.strip() for i in row.split('\"')[:-1] ]\n",
    "    \n",
    "    for i in range(0, len(row_list), 2):\n",
    "        if row_list[i] == 'Date=':\n",
    "            row_field[row_list[i]] = datetime.strptime(row_list[i+1], \"%Y-%m-%dT%H:%M:%S.%f\")\n",
    "        elif row_list[i] == 'TagBased=':\n",
    "            row_field[row_list[i]] = True if row_list[i+1].lower() == 'true'  else False \n",
    "        \n",
    "        else:\n",
    "            row_field[row_list[i]] = row_list[i+1]\n",
    "        \n",
    "    \n",
    "    return tuple(row_field.values())"
   ]
  },
  {
   "cell_type": "code",
   "execution_count": 4,
   "id": "d787e45c",
   "metadata": {},
   "outputs": [],
   "source": [
    "parsed_rdd = rdd.map(lambda row: row.strip()) \\\n",
    "   .filter(lambda row: row.startswith(\"<row\")) \\\n",
    "   .map(lambda row: row[4:-3]) \\\n",
    "   .map(lambda row: row.strip()) "
   ]
  },
  {
   "cell_type": "code",
   "execution_count": 5,
   "id": "5ec08eb2",
   "metadata": {},
   "outputs": [
    {
     "name": "stderr",
     "output_type": "stream",
     "text": [
      "                                                                                \r"
     ]
    },
    {
     "data": {
      "text/plain": [
       "224535501"
      ]
     },
     "execution_count": 5,
     "metadata": {},
     "output_type": "execute_result"
    }
   ],
   "source": [
    "parsed_rdd.count()"
   ]
  },
  {
   "cell_type": "code",
   "execution_count": 8,
   "id": "70a124de",
   "metadata": {},
   "outputs": [
    {
     "name": "stderr",
     "output_type": "stream",
     "text": [
      "                                                                                \r"
     ]
    },
    {
     "data": {
      "text/plain": [
       "['Id=\"1\" PostId=\"1\" VoteTypeId=\"2\" CreationDate=\"2008-07-31T00:00:00.000\"']"
      ]
     },
     "execution_count": 8,
     "metadata": {},
     "output_type": "execute_result"
    }
   ],
   "source": [
    "parsed_rdd.take(1)"
   ]
  },
  {
   "cell_type": "code",
   "execution_count": 10,
   "id": "e0b6275b",
   "metadata": {},
   "outputs": [
    {
     "data": {
      "text/plain": [
       "9"
      ]
     },
     "execution_count": 10,
     "metadata": {},
     "output_type": "execute_result"
    }
   ],
   "source": [
    "row = ['Id=\"1\" PostId=\"1\" VoteTypeId=\"2\" CreationDate=\"2008-07-31T00:00:00.000\"'][0]\n",
    "\n",
    "len(row.split('\"'))"
   ]
  },
  {
   "cell_type": "code",
   "execution_count": 16,
   "id": "8334eb61",
   "metadata": {},
   "outputs": [
    {
     "name": "stderr",
     "output_type": "stream",
     "text": [
      "                                                                                \r"
     ]
    },
    {
     "data": {
      "text/plain": [
       "224535501"
      ]
     },
     "execution_count": 16,
     "metadata": {},
     "output_type": "execute_result"
    }
   ],
   "source": [
    "parsed_rdd.filter(lambda row: len(row.split('\"')) <= 13).count()"
   ]
  },
  {
   "cell_type": "code",
   "execution_count": 17,
   "id": "167a6547",
   "metadata": {},
   "outputs": [
    {
     "name": "stderr",
     "output_type": "stream",
     "text": [
      "                                                                                \r"
     ]
    },
    {
     "data": {
      "text/plain": [
       "['Id=\"1472821\" PostId=\"98225\" VoteTypeId=\"8\" UserId=\"4234\" CreationDate=\"2009-01-27T00:00:00.000\" BountyAmount=\"350\"']"
      ]
     },
     "execution_count": 17,
     "metadata": {},
     "output_type": "execute_result"
    }
   ],
   "source": [
    "parsed_rdd.filter(lambda row: len(row.split('\"')) == 13).take(1)"
   ]
  },
  {
   "cell_type": "code",
   "execution_count": 50,
   "id": "37507ca5",
   "metadata": {},
   "outputs": [],
   "source": [
    "parsed_rdd = rdd.map(lambda row: row.strip()) \\\n",
    "   .filter(lambda row: row.startswith(\"<row\")) \\\n",
    "   .map(lambda row: row[4:-3]) \\\n",
    "   .map(lambda row: row.strip()) \\\n",
    "   .map(lambda row: (int(row.split('\"')[1]), int(row.split('\"')[3]), int(row.split('\"')[5]), F.to_str(row.split('\"')[7]))) "
   ]
  },
  {
   "cell_type": "code",
   "execution_count": 51,
   "id": "6e050960",
   "metadata": {},
   "outputs": [
    {
     "name": "stderr",
     "output_type": "stream",
     "text": [
      "                                                                                \r"
     ]
    },
    {
     "data": {
      "text/plain": [
       "224535501"
      ]
     },
     "execution_count": 51,
     "metadata": {},
     "output_type": "execute_result"
    }
   ],
   "source": [
    "parsed_rdd.count()"
   ]
  },
  {
   "cell_type": "code",
   "execution_count": 52,
   "id": "eed56127",
   "metadata": {},
   "outputs": [],
   "source": [
    "# Define the schema for the DataFrame\n",
    "schema_votes = StructType([\n",
    "    StructField(\"Id\", LongType()),\n",
    "    StructField(\"PostId\", LongType()),\n",
    "    StructField(\"VoteTypeId\", LongType()),\n",
    "    StructField(\"CreationDate\", StringType())\n",
    "])\n",
    "\n",
    "# Convert the RDD to a DataFrame\n",
    "df = parsed_rdd.toDF(schema_votes)"
   ]
  },
  {
   "cell_type": "code",
   "execution_count": 53,
   "id": "2eb524f2",
   "metadata": {},
   "outputs": [
    {
     "name": "stdout",
     "output_type": "stream",
     "text": [
      "root\n",
      " |-- Id: long (nullable = true)\n",
      " |-- PostId: long (nullable = true)\n",
      " |-- VoteTypeId: long (nullable = true)\n",
      " |-- CreationDate: string (nullable = true)\n",
      "\n"
     ]
    }
   ],
   "source": [
    "df.printSchema()"
   ]
  },
  {
   "cell_type": "code",
   "execution_count": 54,
   "id": "785de399",
   "metadata": {},
   "outputs": [
    {
     "name": "stderr",
     "output_type": "stream",
     "text": [
      "                                                                                \r"
     ]
    }
   ],
   "source": [
    "# Dataset path \n",
    "output_bucket = 's3://stackoverflow-dataset-2023/dataset/raw-processed'\n",
    "output_folder_name = f\"{output_bucket}/Votes-parquet\"\n",
    "\n",
    "# save dataframe as csv\n",
    "df.write \\\n",
    "  .format('parquet') \\\n",
    "  .option('header', True) \\\n",
    "  .mode('overwrite') \\\n",
    "  .save(output_folder_name)"
   ]
  },
  {
   "cell_type": "code",
   "execution_count": null,
   "id": "b90f89d9",
   "metadata": {},
   "outputs": [],
   "source": []
  }
 ],
 "metadata": {
  "kernelspec": {
   "display_name": "Python 3 (ipykernel)",
   "language": "python",
   "name": "python3"
  },
  "language_info": {
   "codemirror_mode": {
    "name": "ipython",
    "version": 3
   },
   "file_extension": ".py",
   "mimetype": "text/x-python",
   "name": "python",
   "nbconvert_exporter": "python",
   "pygments_lexer": "ipython3",
   "version": "3.7.16"
  }
 },
 "nbformat": 4,
 "nbformat_minor": 5
}
