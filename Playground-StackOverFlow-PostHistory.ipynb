{
 "cells": [
  {
   "cell_type": "code",
   "execution_count": 1,
   "id": "97ac1d3f",
   "metadata": {},
   "outputs": [
    {
     "data": {
      "text/html": [
       "\n",
       "            <div>\n",
       "                <p><b>SparkSession - hive</b></p>\n",
       "                \n",
       "        <div>\n",
       "            <p><b>SparkContext</b></p>\n",
       "\n",
       "            <p><a href=\"http://ip-172-31-2-35.us-east-2.compute.internal:4040\">Spark UI</a></p>\n",
       "\n",
       "            <dl>\n",
       "              <dt>Version</dt>\n",
       "                <dd><code>v3.3.0-amzn-1</code></dd>\n",
       "              <dt>Master</dt>\n",
       "                <dd><code>yarn</code></dd>\n",
       "              <dt>AppName</dt>\n",
       "                <dd><code>PySparkShell</code></dd>\n",
       "            </dl>\n",
       "        </div>\n",
       "        \n",
       "            </div>\n",
       "        "
      ],
      "text/plain": [
       "<pyspark.sql.session.SparkSession at 0x7f7171257ad0>"
      ]
     },
     "execution_count": 1,
     "metadata": {},
     "output_type": "execute_result"
    }
   ],
   "source": [
    "spark"
   ]
  },
  {
   "cell_type": "markdown",
   "id": "7bced328",
   "metadata": {},
   "source": [
    "## Processing `PostHistory.xml`"
   ]
  },
  {
   "cell_type": "code",
   "execution_count": 35,
   "id": "dbdfb075",
   "metadata": {},
   "outputs": [],
   "source": [
    "import pyspark.sql.functions as F\n",
    "from pyspark.sql.types import StructType, StructField, IntegerType, StringType, TimestampType, LongType\n",
    "from datetime import datetime"
   ]
  },
  {
   "cell_type": "code",
   "execution_count": 36,
   "id": "682af470",
   "metadata": {},
   "outputs": [],
   "source": [
    "# Dataset path \n",
    "dataset_bucket = 's3://stackoverflow-dataset-2023/dataset/raw/'\n",
    "dataset_comments = f\"{dataset_bucket}/PostHistory.xml\""
   ]
  },
  {
   "cell_type": "code",
   "execution_count": 37,
   "id": "0996fa5a",
   "metadata": {},
   "outputs": [],
   "source": [
    "rdd = spark.sparkContext.textFile(dataset_comments)\n"
   ]
  },
  {
   "cell_type": "code",
   "execution_count": 41,
   "id": "d094ac86",
   "metadata": {},
   "outputs": [],
   "source": [
    "def row_parser(row):\n",
    "    \n",
    "    fields = [\n",
    "                \"Id=\",\n",
    "                \"PostHistoryTypeId=\",\n",
    "                \"PostId=\",\n",
    "                \"RevisionGUID=\",\n",
    "                \"CreationDate=\",\n",
    "                \"UserId=\",\n",
    "                \"UserDisplayName=\",\n",
    "                \"Comment=\",\n",
    "                \"Text=\",\n",
    "                \"ContentLicense=\",\n",
    "            ]\n",
    "    \n",
    "    row_field = dict.fromkeys(fields, None)\n",
    "    row_list = [ i.strip() for i in row.split('\"')[:-1] ]\n",
    "    \n",
    "    for i in range(0, len(row_list), 2):\n",
    "        if row_list[i] == 'CreationDate=':\n",
    "            row_field[row_list[i]] = datetime.strptime(row_list[i+1], \"%Y-%m-%dT%H:%M:%S.%f\")\n",
    "        \n",
    "        else:\n",
    "            row_field[row_list[i]] = row_list[i+1]\n",
    "        \n",
    "    \n",
    "    return tuple(row_field.values())"
   ]
  },
  {
   "cell_type": "code",
   "execution_count": 42,
   "id": "7a3bf8eb",
   "metadata": {},
   "outputs": [],
   "source": [
    "parsed_rdd = rdd.map(lambda row: row.strip()) \\\n",
    "   .filter(lambda row: row.startswith(\"<row\")) \\\n",
    "   .map(lambda row: row[4:-3]) \\\n",
    "   .map(lambda row: row.strip()) \\\n",
    "   .map(row_parser)"
   ]
  },
  {
   "cell_type": "code",
   "execution_count": 43,
   "id": "9e58e9dc",
   "metadata": {},
   "outputs": [],
   "source": [
    "# Define the schema for the DataFrame\n",
    "schema_posthistory = StructType([\n",
    "    StructField(\"Id\", StringType()),\n",
    "    StructField(\"PostHistoryTypeId\", StringType()),\n",
    "    StructField(\"PostId\", StringType()),\n",
    "    StructField(\"RevisionGUID\", StringType()),\n",
    "    StructField(\"CreationDate\", TimestampType()),\n",
    "    StructField(\"UserId\", StringType()),\n",
    "    StructField(\"UserDisplayName\", StringType()),\n",
    "    StructField(\"Comment\", StringType()),\n",
    "    StructField(\"Text\", StringType()),\n",
    "    StructField(\"ContentLicense\", StringType())\n",
    "])\n"
   ]
  },
  {
   "cell_type": "code",
   "execution_count": 44,
   "id": "a6c216e2",
   "metadata": {},
   "outputs": [],
   "source": [
    "# Convert the RDD to a DataFrame\n",
    "df = parsed_rdd.toDF(schema_posthistory)"
   ]
  },
  {
   "cell_type": "code",
   "execution_count": 45,
   "id": "f93a920b",
   "metadata": {},
   "outputs": [
    {
     "name": "stdout",
     "output_type": "stream",
     "text": [
      "root\n",
      " |-- Id: string (nullable = true)\n",
      " |-- PostHistoryTypeId: string (nullable = true)\n",
      " |-- PostId: string (nullable = true)\n",
      " |-- RevisionGUID: string (nullable = true)\n",
      " |-- CreationDate: timestamp (nullable = true)\n",
      " |-- UserId: string (nullable = true)\n",
      " |-- UserDisplayName: string (nullable = true)\n",
      " |-- Comment: string (nullable = true)\n",
      " |-- Text: string (nullable = true)\n",
      " |-- ContentLicense: string (nullable = true)\n",
      "\n"
     ]
    }
   ],
   "source": [
    "df.printSchema()"
   ]
  },
  {
   "cell_type": "code",
   "execution_count": 46,
   "id": "b0326fd1",
   "metadata": {},
   "outputs": [
    {
     "name": "stderr",
     "output_type": "stream",
     "text": [
      "[Stage 39:>                                                         (0 + 1) / 1]\r"
     ]
    },
    {
     "name": "stdout",
     "output_type": "stream",
     "text": [
      "+---+-----------------+------+--------------------+--------------------+------+---------------+-------+--------------------+--------------+\n",
      "| Id|PostHistoryTypeId|PostId|        RevisionGUID|        CreationDate|UserId|UserDisplayName|Comment|                Text|ContentLicense|\n",
      "+---+-----------------+------+--------------------+--------------------+------+---------------+-------+--------------------+--------------+\n",
      "|  6|                2|     7|c30df0f4-a2d9-426...|2008-07-31 22:17:...|     9|           null|   null|The explicit cast...|  CC BY-SA 2.5|\n",
      "| 12|                1|    17|0421fb42-a29a-4cb...|2008-08-01 05:09:...|     2|           null|   null|Binary Data in MYSQL|  CC BY-SA 2.5|\n",
      "| 13|                3|    17|0421fb42-a29a-4cb...|2008-08-01 05:09:...|     2|           null|   null|&lt;database&gt;&...|  CC BY-SA 2.5|\n",
      "| 14|                2|    17|0421fb42-a29a-4cb...|2008-08-01 05:09:...|     2|           null|   null|How do I store bi...|  CC BY-SA 2.5|\n",
      "| 16|                2|    18|0cfdfa19-039f-464...|2008-08-01 05:12:...|  null|         phpguy|   null|For a table like ...|  CC BY-SA 2.5|\n",
      "| 17|                1|    25|617afb21-e2be-477...|2008-08-01 12:13:...|    23|           null|   null|How to use the C ...|  CC BY-SA 2.5|\n",
      "| 18|                3|    25|617afb21-e2be-477...|2008-08-01 12:13:...|    23|           null|   null|&lt;c++&gt;&lt;c&...|  CC BY-SA 2.5|\n",
      "| 19|                2|    25|617afb21-e2be-477...|2008-08-01 12:13:...|    23|           null|   null|I've been having ...|  CC BY-SA 2.5|\n",
      "| 21|                2|    29|d4041f3b-1619-4b3...|2008-08-01 12:19:...|    19|           null|   null|There are no HTTP...|  CC BY-SA 2.5|\n",
      "| 22|                2|    30|60100e19-92ec-442...|2008-08-01 12:22:...|    13|           null|   null|I've had no troub...|  CC BY-SA 2.5|\n",
      "| 23|                2|    31|5dda610a-0a7a-4fe...|2008-08-01 12:22:...|  null|        maclema|   null|Does the parent d...|  CC BY-SA 2.5|\n",
      "| 25|                2|    33|b05fc0ef-9eee-4ef...|2008-08-01 12:26:...|    13|           null|   null|`Math.Floor` roun...|  CC BY-SA 2.5|\n",
      "| 26|                1|    34|c2579e01-1223-48a...|2008-08-01 12:30:...|  null|        maclema|   null|Unloading a ByteA...|  CC BY-SA 2.5|\n",
      "| 27|                3|    34|c2579e01-1223-48a...|2008-08-01 12:30:...|  null|        maclema|   null|&lt;apache-flex&g...|  CC BY-SA 2.5|\n",
      "| 28|                2|    34|c2579e01-1223-48a...|2008-08-01 12:30:...|  null|        maclema|   null|Does anyone know ...|  CC BY-SA 2.5|\n",
      "| 37|                2|    44|aabf9c4a-ebb4-437...|2008-08-01 12:55:...|    35|           null|   null|Consider using a ...|  CC BY-SA 2.5|\n",
      "| 40|                2|    49|e7eeec01-306e-460...|2008-08-01 13:02:...|    43|           null|   null|Here is one hack ...|  CC BY-SA 2.5|\n",
      "| 42|                2|    51|c4128c3e-fbe8-4eb...|2008-08-01 13:07:...|    17|           null|   null|Why don't you wan...|  CC BY-SA 2.5|\n",
      "| 43|                2|    52|25e071df-8581-4cf...|2008-08-01 13:08:...|    23|           null|   null|Have a look at th...|  CC BY-SA 2.5|\n",
      "| 44|                2|    53|e7a9a615-b7e7-444...|2008-08-01 13:08:...|    34|           null|   null|(I'm not positive...|  CC BY-SA 2.5|\n",
      "+---+-----------------+------+--------------------+--------------------+------+---------------+-------+--------------------+--------------+\n",
      "only showing top 20 rows\n",
      "\n"
     ]
    },
    {
     "name": "stderr",
     "output_type": "stream",
     "text": [
      "\r",
      "                                                                                \r"
     ]
    }
   ],
   "source": [
    "df.show()"
   ]
  },
  {
   "cell_type": "code",
   "execution_count": 47,
   "id": "748ae7e6",
   "metadata": {},
   "outputs": [
    {
     "name": "stderr",
     "output_type": "stream",
     "text": [
      "                                                                                \r"
     ]
    },
    {
     "data": {
      "text/plain": [
       "117255126"
      ]
     },
     "execution_count": 47,
     "metadata": {},
     "output_type": "execute_result"
    }
   ],
   "source": [
    "df = df \\\n",
    "    .withColumn('Id', F.col('Id').cast('int')) \\\n",
    "    .withColumn('PostHistoryTypeId', F.col('PostHistoryTypeId').cast('int')) \\\n",
    "    .withColumn('PostId', F.col('PostId').cast('int')) \\\n",
    "    .withColumn('UserId', F.col('UserId').cast('int')) \n",
    "\n",
    "df.count()"
   ]
  },
  {
   "cell_type": "code",
   "execution_count": null,
   "id": "3c04b18c",
   "metadata": {},
   "outputs": [],
   "source": []
  },
  {
   "cell_type": "code",
   "execution_count": null,
   "id": "8c4eaaab",
   "metadata": {},
   "outputs": [],
   "source": [
    "\n",
    "# Convert the RDD to a DataFrame\n",
    "df = parsed_rdd.toDF(schema_posthistory)\n",
    "\n",
    "# Dataset path \n",
    "output_bucket = 's3://stackoverflow-dataset-2023/dataset/raw-processed'\n",
    "output_folder_name = f\"{output_bucket}/PostHistory-parquet\"\n",
    "\n",
    "# save dataframe as csv\n",
    "df.write \\\n",
    "  .format('parquet') \\\n",
    "  .option('header', True) \\\n",
    "  .mode('overwrite') \\\n",
    "  .save(output_folder_name)\n",
    "\n",
    "df.show()"
   ]
  }
 ],
 "metadata": {
  "kernelspec": {
   "display_name": "Python 3 (ipykernel)",
   "language": "python",
   "name": "python3"
  },
  "language_info": {
   "codemirror_mode": {
    "name": "ipython",
    "version": 3
   },
   "file_extension": ".py",
   "mimetype": "text/x-python",
   "name": "python",
   "nbconvert_exporter": "python",
   "pygments_lexer": "ipython3",
   "version": "3.7.16"
  }
 },
 "nbformat": 4,
 "nbformat_minor": 5
}
