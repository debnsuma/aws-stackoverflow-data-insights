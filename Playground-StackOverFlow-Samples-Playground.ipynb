{
 "cells": [
  {
   "cell_type": "code",
   "execution_count": 1,
   "id": "97ac1d3f",
   "metadata": {},
   "outputs": [
    {
     "data": {
      "text/html": [
       "\n",
       "            <div>\n",
       "                <p><b>SparkSession - hive</b></p>\n",
       "                \n",
       "        <div>\n",
       "            <p><b>SparkContext</b></p>\n",
       "\n",
       "            <p><a href=\"http://ip-172-31-2-35.us-east-2.compute.internal:4040\">Spark UI</a></p>\n",
       "\n",
       "            <dl>\n",
       "              <dt>Version</dt>\n",
       "                <dd><code>v3.3.0-amzn-1</code></dd>\n",
       "              <dt>Master</dt>\n",
       "                <dd><code>yarn</code></dd>\n",
       "              <dt>AppName</dt>\n",
       "                <dd><code>PySparkShell</code></dd>\n",
       "            </dl>\n",
       "        </div>\n",
       "        \n",
       "            </div>\n",
       "        "
      ],
      "text/plain": [
       "<pyspark.sql.session.SparkSession at 0x7ff5fc0d7ad0>"
      ]
     },
     "execution_count": 1,
     "metadata": {},
     "output_type": "execute_result"
    }
   ],
   "source": [
    "spark"
   ]
  },
  {
   "cell_type": "markdown",
   "id": "7bced328",
   "metadata": {},
   "source": [
    "## Processing `Comments.xml`"
   ]
  },
  {
   "cell_type": "code",
   "execution_count": 1,
   "id": "dbdfb075",
   "metadata": {},
   "outputs": [],
   "source": [
    "import pyspark.sql.functions as F\n",
    "from pyspark.sql.types import StructType, StructField, IntegerType, StringType, TimestampType, LongType\n",
    "from datetime import datetime"
   ]
  },
  {
   "cell_type": "code",
   "execution_count": 2,
   "id": "682af470",
   "metadata": {},
   "outputs": [],
   "source": [
    "# Dataset path \n",
    "dataset_bucket = 's3://stackoverflow-dataset-2023/dataset/raw-samples/'\n",
    "dataset_comments = f\"{dataset_bucket}Comments-sample.xml\""
   ]
  },
  {
   "cell_type": "code",
   "execution_count": 4,
   "id": "b8883e4b",
   "metadata": {},
   "outputs": [],
   "source": [
    "# Load the data as an RDD\n",
    "rdd = spark.sparkContext.textFile(dataset_comments)\n",
    "\n",
    "parsed_rdd = rdd.map(lambda row: row.strip()) \\\n",
    "   .filter(lambda row: row.startswith(\"<row\")) \\\n",
    "   .filter(lambda row: \"UserDisplayName=\" not in row) \\\n",
    "   .map(lambda row: row[4:-3]) \\\n",
    "   .map(lambda row: row.strip()) \\\n",
    "   .map(lambda row: (int(row.split('\"')[1]), int(row.split('\"')[3]), int(row.split('\"')[5]), row.split('\"')[7], datetime.strptime(row.split('\"')[9], \"%Y-%m-%dT%H:%M:%S.%f\"), int(row.split('\"')[11]), row.split('\"')[13])) \n"
   ]
  },
  {
   "cell_type": "code",
   "execution_count": 4,
   "id": "56d6860b",
   "metadata": {},
   "outputs": [],
   "source": [
    "# Load the data as an RDD\n",
    "rdd = spark.sparkContext.textFile(dataset_comments)\n",
    "\n",
    "parsed_rdd = rdd.map(lambda row: row.strip()) \\\n",
    "   .filter(lambda row: row.startswith(\"<row\")) \\\n",
    "   .filter(lambda row: \"UserDisplayName=\" not in row) \\\n",
    "   .map(lambda row: row[4:-3]) \\\n",
    "   .map(lambda row: row.strip())"
   ]
  },
  {
   "cell_type": "code",
   "execution_count": 5,
   "id": "3f7a8514",
   "metadata": {},
   "outputs": [
    {
     "name": "stderr",
     "output_type": "stream",
     "text": [
      "                                                                                \r"
     ]
    },
    {
     "data": {
      "text/plain": [
       "['Id=\"10\" PostId=\"45651\" Score=\"6\" Text=\"It will help if you give some details of which database you are using as techniques vary.\" CreationDate=\"2008-09-06T13:38:23.647\" UserId=\"242\" ContentLicense=\"CC BY-SA 2.5\"',\n",
       " 'Id=\"12\" PostId=\"47428\" Score=\"3\" Text=\"One of the things that make a url user-friendly is \\'discover-ability\\', meaning you can take a guess at url\\'s simply from the address bar. http://i.love.pets.com/search/cats+dogs could easily lead to http://i.love.pets.com/search/pug+puppies etc\" CreationDate=\"2008-09-06T13:51:47.843\" UserId=\"4642\" ContentLicense=\"CC BY-SA 2.5\"',\n",
       " 'Id=\"14\" PostId=\"47481\" Score=\"0\" Text=\"I agree, both CodeRush and RefactorPro are visually impressive (most of which can be turned off BTW), but for navigating and refactoring Resharper is much better in my opinion of using both products.\" CreationDate=\"2008-09-06T14:15:46.897\" UserId=\"4642\" ContentLicense=\"CC BY-SA 2.5\"']"
      ]
     },
     "execution_count": 5,
     "metadata": {},
     "output_type": "execute_result"
    }
   ],
   "source": [
    "parsed_rdd.take(3)"
   ]
  },
  {
   "cell_type": "code",
   "execution_count": 6,
   "id": "83d947c2",
   "metadata": {},
   "outputs": [],
   "source": [
    "a = 'Id=\"10\" PostId=\"45651\" Score=\"6\" Text=\"It will help if you give some details of which database you are using as techniques vary.\" CreationDate=\"2008-09-06T13:38:23.647\" UserId=\"242\" ContentLicense=\"CC BY-SA 2.5\"'"
   ]
  },
  {
   "cell_type": "code",
   "execution_count": 7,
   "id": "9e91f596",
   "metadata": {},
   "outputs": [
    {
     "name": "stdout",
     "output_type": "stream",
     "text": [
      "0 Id=\n",
      "1 10\n",
      "2  PostId=\n",
      "3 45651\n",
      "4  Score=\n",
      "5 6\n",
      "6  Text=\n",
      "7 It will help if you give some details of which database you are using as techniques vary.\n",
      "8  CreationDate=\n",
      "9 2008-09-06T13:38:23.647\n",
      "10  UserId=\n",
      "11 242\n",
      "12  ContentLicense=\n",
      "13 CC BY-SA 2.5\n",
      "14 \n"
     ]
    }
   ],
   "source": [
    "for i, j in enumerate(a.split('\"')):\n",
    "    print(i, j)"
   ]
  },
  {
   "cell_type": "code",
   "execution_count": null,
   "id": "76ca033f",
   "metadata": {},
   "outputs": [],
   "source": []
  },
  {
   "cell_type": "code",
   "execution_count": null,
   "id": "dbb405a4",
   "metadata": {},
   "outputs": [],
   "source": []
  },
  {
   "cell_type": "code",
   "execution_count": null,
   "id": "650f0ddc",
   "metadata": {},
   "outputs": [],
   "source": []
  },
  {
   "cell_type": "code",
   "execution_count": null,
   "id": "bbbde902",
   "metadata": {},
   "outputs": [],
   "source": []
  },
  {
   "cell_type": "code",
   "execution_count": null,
   "id": "20f4a214",
   "metadata": {},
   "outputs": [],
   "source": []
  },
  {
   "cell_type": "code",
   "execution_count": 5,
   "id": "3684af50",
   "metadata": {},
   "outputs": [
    {
     "name": "stderr",
     "output_type": "stream",
     "text": [
      "                                                                                \r"
     ]
    },
    {
     "data": {
      "text/plain": [
       "1989"
      ]
     },
     "execution_count": 5,
     "metadata": {},
     "output_type": "execute_result"
    }
   ],
   "source": [
    "parsed_rdd.count()"
   ]
  },
  {
   "cell_type": "code",
   "execution_count": null,
   "id": "f0927ec1",
   "metadata": {},
   "outputs": [],
   "source": []
  },
  {
   "cell_type": "code",
   "execution_count": 6,
   "id": "8e55c53a",
   "metadata": {},
   "outputs": [],
   "source": [
    "# Define the schema for the DataFrame\n",
    "my_schema = StructType([\n",
    "    StructField(\"Id\", LongType()),\n",
    "    StructField(\"PostId\", LongType()),\n",
    "    StructField(\"Score\", LongType()),\n",
    "    StructField(\"Text\", StringType()),\n",
    "    StructField(\"CreationDate\", TimestampType()),\n",
    "    StructField(\"UserId\", LongType()),\n",
    "    StructField(\"ContentLicense\", StringType())\n",
    "])\n",
    "\n",
    "# Convert the RDD to a DataFrame\n",
    "df = parsed_rdd.toDF(my_schema)"
   ]
  },
  {
   "cell_type": "code",
   "execution_count": 7,
   "id": "e286eb59",
   "metadata": {},
   "outputs": [
    {
     "name": "stderr",
     "output_type": "stream",
     "text": [
      "                                                                                \r"
     ]
    },
    {
     "data": {
      "text/plain": [
       "1989"
      ]
     },
     "execution_count": 7,
     "metadata": {},
     "output_type": "execute_result"
    }
   ],
   "source": [
    "df.count()"
   ]
  },
  {
   "cell_type": "code",
   "execution_count": 8,
   "id": "8a56a81d",
   "metadata": {},
   "outputs": [
    {
     "name": "stdout",
     "output_type": "stream",
     "text": [
      "root\n",
      " |-- Id: long (nullable = true)\n",
      " |-- PostId: long (nullable = true)\n",
      " |-- Score: long (nullable = true)\n",
      " |-- Text: string (nullable = true)\n",
      " |-- CreationDate: timestamp (nullable = true)\n",
      " |-- UserId: long (nullable = true)\n",
      " |-- ContentLicense: string (nullable = true)\n",
      "\n"
     ]
    }
   ],
   "source": [
    "df.printSchema()"
   ]
  },
  {
   "cell_type": "code",
   "execution_count": 9,
   "id": "73134b6e",
   "metadata": {},
   "outputs": [
    {
     "name": "stderr",
     "output_type": "stream",
     "text": [
      "                                                                                \r"
     ]
    }
   ],
   "source": [
    "# Dataset path \n",
    "output_bucket = 's3://stackoverflow-dataset-2023/dataset/raw-samples-processed/'\n",
    "output_folder_name = f\"{output_bucket}Comments-sample-parquet\"\n",
    "\n",
    "# save dataframe as csv\n",
    "df.write \\\n",
    "  .format('parquet') \\\n",
    "  .option('header', True) \\\n",
    "  .mode('overwrite') \\\n",
    "  .save(output_folder_name)"
   ]
  },
  {
   "cell_type": "markdown",
   "id": "615bb987",
   "metadata": {},
   "source": [
    "## Verifying the data by reading from S3"
   ]
  },
  {
   "cell_type": "code",
   "execution_count": 10,
   "id": "d81f9f17",
   "metadata": {},
   "outputs": [],
   "source": [
    "df = spark.read \\\n",
    "         .option(\"header\", True) \\\n",
    "         .option(\"inferSchema\", True) \\\n",
    "         .parquet(output_folder_name)"
   ]
  },
  {
   "cell_type": "code",
   "execution_count": 11,
   "id": "7c766055",
   "metadata": {},
   "outputs": [
    {
     "name": "stdout",
     "output_type": "stream",
     "text": [
      "root\n",
      " |-- Id: long (nullable = true)\n",
      " |-- PostId: long (nullable = true)\n",
      " |-- Score: long (nullable = true)\n",
      " |-- Text: string (nullable = true)\n",
      " |-- CreationDate: timestamp (nullable = true)\n",
      " |-- UserId: long (nullable = true)\n",
      " |-- ContentLicense: string (nullable = true)\n",
      "\n"
     ]
    }
   ],
   "source": [
    "df.printSchema()"
   ]
  },
  {
   "cell_type": "code",
   "execution_count": 12,
   "id": "a0078bd2",
   "metadata": {},
   "outputs": [
    {
     "name": "stderr",
     "output_type": "stream",
     "text": [
      "\r",
      "[Stage 6:>                                                          (0 + 1) / 1]\r"
     ]
    },
    {
     "name": "stdout",
     "output_type": "stream",
     "text": [
      "+---------+--------+-----+--------------------+--------------------+--------+--------------+\n",
      "|       Id|  PostId|Score|                Text|        CreationDate|  UserId|ContentLicense|\n",
      "+---------+--------+-----+--------------------+--------------------+--------+--------------+\n",
      "|131809104|74679059|    0|Thanks for this, ...|2022-12-04 17:35:...| 2451763|  CC BY-SA 4.0|\n",
      "|131809105|74679059|    0|That being said, ...|2022-12-04 17:35:...| 2451763|  CC BY-SA 4.0|\n",
      "|131809107|74671427|    0|I follow the step...|2022-12-04 17:35:...|20432719|  CC BY-SA 4.0|\n",
      "|131809108|74606162|    0|Your answer could...|2022-12-04 17:35:...|      -1|  CC BY-SA 4.0|\n",
      "|131809109|74679006|    0|I want the data t...|2022-12-04 17:35:...|19874197|  CC BY-SA 4.0|\n",
      "|131809110|74677453|    0|see https://stack...|2022-12-04 17:35:...|10802527|  CC BY-SA 4.0|\n",
      "|131809111|74679042|    0|I added the &quot...|2022-12-04 17:35:...|20431208|  CC BY-SA 4.0|\n",
      "|131809113|74678997|    0|What would be the...|2022-12-04 17:35:...| 2836621|  CC BY-SA 4.0|\n",
      "|131809114|74679094|    0|@curlywei Not sur...|2022-12-04 17:35:...| 2189130|  CC BY-SA 4.0|\n",
      "|131809115|74678164|    0|@ChrisHamilton - ...|2022-12-04 17:35:...|20683291|  CC BY-SA 4.0|\n",
      "|131809116|74679061|    0|do you want me to...|2022-12-04 17:35:...|19561914|  CC BY-SA 4.0|\n",
      "|131809117|74678404|    0|the red squiggly ...|2022-12-04 17:35:...| 2109233|  CC BY-SA 4.0|\n",
      "|131809119|74662043|    0|This issue seems ...|2022-12-04 17:35:...|15747414|  CC BY-SA 4.0|\n",
      "|131809121|74679008|    0|yes the transferr...|2022-12-04 17:35:...|20683790|  CC BY-SA 4.0|\n",
      "|131809122|74679052|    0|make minimal and ...|2022-12-04 17:35:...|20430449|  CC BY-SA 4.0|\n",
      "|131809123|74663786|    0|No. I understand ...|2022-12-04 17:35:...|  947889|  CC BY-SA 4.0|\n",
      "|131809126|74638534|    1|@StavBodik If you...|2022-12-04 17:36:...|17167312|  CC BY-SA 4.0|\n",
      "|131809127|74671712|    0|Thank you @MarkB....|2022-12-04 17:36:...| 2325014|  CC BY-SA 4.0|\n",
      "|131809128|74670445|    0|@r2evans-GONAVYBE...|2022-12-04 17:36:...|12505251|  CC BY-SA 4.0|\n",
      "|131809129|74679139|    0|Please do not off...|2022-12-04 17:36:...|  277267|  CC BY-SA 4.0|\n",
      "+---------+--------+-----+--------------------+--------------------+--------+--------------+\n",
      "only showing top 20 rows\n",
      "\n"
     ]
    },
    {
     "name": "stderr",
     "output_type": "stream",
     "text": [
      "\r",
      "                                                                                \r"
     ]
    }
   ],
   "source": [
    "df.show()"
   ]
  },
  {
   "cell_type": "code",
   "execution_count": 13,
   "id": "d92abbc3",
   "metadata": {},
   "outputs": [
    {
     "name": "stderr",
     "output_type": "stream",
     "text": [
      "                                                                                \r"
     ]
    },
    {
     "data": {
      "text/plain": [
       "1989"
      ]
     },
     "execution_count": 13,
     "metadata": {},
     "output_type": "execute_result"
    }
   ],
   "source": [
    "df.count()"
   ]
  },
  {
   "cell_type": "code",
   "execution_count": null,
   "id": "382d24e1",
   "metadata": {},
   "outputs": [],
   "source": []
  }
 ],
 "metadata": {
  "kernelspec": {
   "display_name": "Python 3 (ipykernel)",
   "language": "python",
   "name": "python3"
  },
  "language_info": {
   "codemirror_mode": {
    "name": "ipython",
    "version": 3
   },
   "file_extension": ".py",
   "mimetype": "text/x-python",
   "name": "python",
   "nbconvert_exporter": "python",
   "pygments_lexer": "ipython3",
   "version": "3.7.16"
  }
 },
 "nbformat": 4,
 "nbformat_minor": 5
}
