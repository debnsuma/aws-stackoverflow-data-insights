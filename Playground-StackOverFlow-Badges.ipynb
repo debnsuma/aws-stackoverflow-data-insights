{
 "cells": [
  {
   "cell_type": "code",
   "execution_count": 1,
   "id": "97ac1d3f",
   "metadata": {},
   "outputs": [
    {
     "data": {
      "text/html": [
       "\n",
       "            <div>\n",
       "                <p><b>SparkSession - hive</b></p>\n",
       "                \n",
       "        <div>\n",
       "            <p><b>SparkContext</b></p>\n",
       "\n",
       "            <p><a href=\"http://ip-172-31-2-35.us-east-2.compute.internal:4040\">Spark UI</a></p>\n",
       "\n",
       "            <dl>\n",
       "              <dt>Version</dt>\n",
       "                <dd><code>v3.3.0-amzn-1</code></dd>\n",
       "              <dt>Master</dt>\n",
       "                <dd><code>yarn</code></dd>\n",
       "              <dt>AppName</dt>\n",
       "                <dd><code>PySparkShell</code></dd>\n",
       "            </dl>\n",
       "        </div>\n",
       "        \n",
       "            </div>\n",
       "        "
      ],
      "text/plain": [
       "<pyspark.sql.session.SparkSession at 0x7f7171257ad0>"
      ]
     },
     "execution_count": 1,
     "metadata": {},
     "output_type": "execute_result"
    }
   ],
   "source": [
    "spark"
   ]
  },
  {
   "cell_type": "markdown",
   "id": "7bced328",
   "metadata": {},
   "source": [
    "## Processing `Badges.xml`"
   ]
  },
  {
   "cell_type": "code",
   "execution_count": 20,
   "id": "dbdfb075",
   "metadata": {},
   "outputs": [],
   "source": [
    "import pyspark.sql.functions as F\n",
    "from pyspark.sql.types import StructType, StructField, IntegerType, StringType, TimestampType, LongType, BooleanType\n",
    "from datetime import datetime"
   ]
  },
  {
   "cell_type": "code",
   "execution_count": 29,
   "id": "682af470",
   "metadata": {},
   "outputs": [],
   "source": [
    "# Dataset path \n",
    "dataset_bucket = 's3://stackoverflow-dataset-2023/dataset/raw'\n",
    "dataset_comments = f\"{dataset_bucket}/Badges.xml\""
   ]
  },
  {
   "cell_type": "code",
   "execution_count": 30,
   "id": "0996fa5a",
   "metadata": {},
   "outputs": [],
   "source": [
    "rdd = spark.sparkContext.textFile(dataset_comments)\n"
   ]
  },
  {
   "cell_type": "code",
   "execution_count": 44,
   "id": "5a2e6bd9",
   "metadata": {},
   "outputs": [],
   "source": [
    "def row_parser(row):\n",
    "    \n",
    "    fields = [\n",
    "                \"Id=\",\n",
    "                \"UserId=\",\n",
    "                \"Name=\",\n",
    "                \"Date=\",\n",
    "                \"Class=\",\n",
    "                \"TagBased=\"\n",
    "            ]\n",
    "    \n",
    "    row_field = dict.fromkeys(fields, None)\n",
    "    row_list = [ i.strip() for i in row.split('\"')[:-1] ]\n",
    "    \n",
    "    for i in range(0, len(row_list), 2):\n",
    "        if row_list[i] == 'Date=':\n",
    "            row_field[row_list[i]] = datetime.strptime(row_list[i+1], \"%Y-%m-%dT%H:%M:%S.%f\")\n",
    "        elif row_list[i] == 'TagBased=':\n",
    "            row_field[row_list[i]] = True if row_list[i+1].lower() == 'true'  else False \n",
    "        \n",
    "        else:\n",
    "            row_field[row_list[i]] = row_list[i+1]\n",
    "        \n",
    "    \n",
    "    return tuple(row_field.values())"
   ]
  },
  {
   "cell_type": "code",
   "execution_count": 45,
   "id": "77011c38",
   "metadata": {},
   "outputs": [
    {
     "name": "stderr",
     "output_type": "stream",
     "text": [
      "                                                                                \r"
     ]
    },
    {
     "data": {
      "text/plain": [
       "47062506"
      ]
     },
     "execution_count": 45,
     "metadata": {},
     "output_type": "execute_result"
    }
   ],
   "source": [
    "parsed_rdd = rdd.map(lambda row: row.strip()) \\\n",
    "   .filter(lambda row: row.startswith(\"<row\")) \\\n",
    "   .map(lambda row: row[4:-3]) \\\n",
    "   .map(lambda row: row.strip()) \\\n",
    "   .map(row_parser)\n",
    "\n",
    "parsed_rdd.count()"
   ]
  },
  {
   "cell_type": "code",
   "execution_count": null,
   "id": "f5cde733",
   "metadata": {},
   "outputs": [],
   "source": []
  },
  {
   "cell_type": "code",
   "execution_count": 46,
   "id": "7823787c",
   "metadata": {},
   "outputs": [],
   "source": [
    "# Define the schema for the DataFrame\n",
    "schema_badges = StructType([\n",
    "    StructField(\"Id\", StringType()),\n",
    "    StructField(\"UserId\", StringType()),\n",
    "    StructField(\"Name\", StringType()),\n",
    "    StructField(\"Date\", TimestampType()),\n",
    "    StructField(\"Class\", StringType()),\n",
    "    StructField(\"TagBased\", BooleanType()),\n",
    "])\n"
   ]
  },
  {
   "cell_type": "code",
   "execution_count": 41,
   "id": "3c5c0b18",
   "metadata": {},
   "outputs": [],
   "source": [
    "# Convert the RDD to a DataFrame\n",
    "df = parsed_rdd.toDF(schema_badges)"
   ]
  },
  {
   "cell_type": "code",
   "execution_count": 42,
   "id": "8f651973",
   "metadata": {},
   "outputs": [
    {
     "name": "stdout",
     "output_type": "stream",
     "text": [
      "root\n",
      " |-- Id: string (nullable = true)\n",
      " |-- UserId: string (nullable = true)\n",
      " |-- Name: string (nullable = true)\n",
      " |-- Date: timestamp (nullable = true)\n",
      " |-- Class: string (nullable = true)\n",
      " |-- TagBased: string (nullable = true)\n",
      "\n"
     ]
    }
   ],
   "source": [
    "df.printSchema()"
   ]
  },
  {
   "cell_type": "code",
   "execution_count": 43,
   "id": "0edf3752",
   "metadata": {},
   "outputs": [
    {
     "name": "stderr",
     "output_type": "stream",
     "text": [
      "\r",
      "[Stage 33:>                                                         (0 + 1) / 1]\r"
     ]
    },
    {
     "name": "stdout",
     "output_type": "stream",
     "text": [
      "+-----+------+-------+--------------------+-----+--------+\n",
      "|   Id|UserId|   Name|                Date|Class|TagBased|\n",
      "+-----+------+-------+--------------------+-----+--------+\n",
      "|82946|  3718|Teacher|2008-09-15 08:55:...|    3|   False|\n",
      "|82947|   994|Teacher|2008-09-15 08:55:...|    3|   False|\n",
      "|82949|  3893|Teacher|2008-09-15 08:55:...|    3|   False|\n",
      "|82950|  4591|Teacher|2008-09-15 08:55:...|    3|   False|\n",
      "|82951|  5196|Teacher|2008-09-15 08:55:...|    3|   False|\n",
      "|82952|  2635|Teacher|2008-09-15 08:55:...|    3|   False|\n",
      "|82953|  1113|Teacher|2008-09-15 08:55:...|    3|   False|\n",
      "|82954|  4182|Teacher|2008-09-15 08:55:...|    3|   False|\n",
      "|82955|   164|Teacher|2008-09-15 08:55:...|    3|   False|\n",
      "|82956|   652|Teacher|2008-09-15 08:55:...|    3|   False|\n",
      "|82957|  5246|Teacher|2008-09-15 08:55:...|    3|   False|\n",
      "|82958|   509|Teacher|2008-09-15 08:55:...|    3|   False|\n",
      "|82959|   670|Teacher|2008-09-15 08:55:...|    3|   False|\n",
      "|82960|  5024|Teacher|2008-09-15 08:55:...|    3|   False|\n",
      "|82961|  1284|Teacher|2008-09-15 08:55:...|    3|   False|\n",
      "|82962|  2907|Teacher|2008-09-15 08:55:...|    3|   False|\n",
      "|82963|  4097|Teacher|2008-09-15 08:55:...|    3|   False|\n",
      "|82964|  3205|Teacher|2008-09-15 08:55:...|    3|   False|\n",
      "|82965|   986|Teacher|2008-09-15 08:55:...|    3|   False|\n",
      "|82966|  4666|Teacher|2008-09-15 08:55:...|    3|   False|\n",
      "+-----+------+-------+--------------------+-----+--------+\n",
      "only showing top 20 rows\n",
      "\n"
     ]
    },
    {
     "name": "stderr",
     "output_type": "stream",
     "text": [
      "\r",
      "                                                                                \r"
     ]
    }
   ],
   "source": [
    "df.show()"
   ]
  },
  {
   "cell_type": "code",
   "execution_count": 47,
   "id": "fb4d9718",
   "metadata": {},
   "outputs": [
    {
     "name": "stderr",
     "output_type": "stream",
     "text": [
      "                                                                                \r"
     ]
    },
    {
     "data": {
      "text/plain": [
       "47062506"
      ]
     },
     "execution_count": 47,
     "metadata": {},
     "output_type": "execute_result"
    }
   ],
   "source": [
    "df = df \\\n",
    "    .withColumn('Id', F.col('Id').cast('int')) \\\n",
    "    .withColumn('UserId', F.col('UserId').cast('int')) \n",
    "df.count()"
   ]
  },
  {
   "cell_type": "code",
   "execution_count": 19,
   "id": "fcabeea0",
   "metadata": {},
   "outputs": [
    {
     "name": "stderr",
     "output_type": "stream",
     "text": [
      "[Stage 6:>                                                          (0 + 1) / 1]\r"
     ]
    },
    {
     "name": "stdout",
     "output_type": "stream",
     "text": [
      "+-----+------+-------+--------------------+-----+--------+\n",
      "|   Id|UserId|   Name|                Date|Class|TagBased|\n",
      "+-----+------+-------+--------------------+-----+--------+\n",
      "|82946|  3718|Teacher|2008-09-15 08:55:...|    3|    null|\n",
      "|82947|   994|Teacher|2008-09-15 08:55:...|    3|    null|\n",
      "|82949|  3893|Teacher|2008-09-15 08:55:...|    3|    null|\n",
      "|82950|  4591|Teacher|2008-09-15 08:55:...|    3|    null|\n",
      "|82951|  5196|Teacher|2008-09-15 08:55:...|    3|    null|\n",
      "|82952|  2635|Teacher|2008-09-15 08:55:...|    3|    null|\n",
      "|82953|  1113|Teacher|2008-09-15 08:55:...|    3|    null|\n",
      "|82954|  4182|Teacher|2008-09-15 08:55:...|    3|    null|\n",
      "|82955|   164|Teacher|2008-09-15 08:55:...|    3|    null|\n",
      "|82956|   652|Teacher|2008-09-15 08:55:...|    3|    null|\n",
      "|82957|  5246|Teacher|2008-09-15 08:55:...|    3|    null|\n",
      "|82958|   509|Teacher|2008-09-15 08:55:...|    3|    null|\n",
      "|82959|   670|Teacher|2008-09-15 08:55:...|    3|    null|\n",
      "|82960|  5024|Teacher|2008-09-15 08:55:...|    3|    null|\n",
      "|82961|  1284|Teacher|2008-09-15 08:55:...|    3|    null|\n",
      "|82962|  2907|Teacher|2008-09-15 08:55:...|    3|    null|\n",
      "|82963|  4097|Teacher|2008-09-15 08:55:...|    3|    null|\n",
      "|82964|  3205|Teacher|2008-09-15 08:55:...|    3|    null|\n",
      "|82965|   986|Teacher|2008-09-15 08:55:...|    3|    null|\n",
      "|82966|  4666|Teacher|2008-09-15 08:55:...|    3|    null|\n",
      "+-----+------+-------+--------------------+-----+--------+\n",
      "only showing top 20 rows\n",
      "\n"
     ]
    },
    {
     "name": "stderr",
     "output_type": "stream",
     "text": [
      "\r",
      "                                                                                \r"
     ]
    }
   ],
   "source": [
    "\n",
    "# Convert the RDD to a DataFrame\n",
    "df = parsed_rdd.toDF(schema_badges)\n",
    "\n",
    "# Dataset path \n",
    "output_bucket = 's3://stackoverflow-dataset-2023/dataset/raw-processed'\n",
    "output_folder_name = f\"{output_bucket}/Badges-parquet\"\n",
    "\n",
    "# save dataframe as csv\n",
    "df.write \\\n",
    "  .format('parquet') \\\n",
    "  .option('header', True) \\\n",
    "  .mode('overwrite') \\\n",
    "  .save(output_folder_name)\n",
    "\n",
    "df.show()"
   ]
  },
  {
   "cell_type": "code",
   "execution_count": null,
   "id": "8c4eaaab",
   "metadata": {},
   "outputs": [],
   "source": []
  }
 ],
 "metadata": {
  "kernelspec": {
   "display_name": "Python 3 (ipykernel)",
   "language": "python",
   "name": "python3"
  },
  "language_info": {
   "codemirror_mode": {
    "name": "ipython",
    "version": 3
   },
   "file_extension": ".py",
   "mimetype": "text/x-python",
   "name": "python",
   "nbconvert_exporter": "python",
   "pygments_lexer": "ipython3",
   "version": "3.7.16"
  }
 },
 "nbformat": 4,
 "nbformat_minor": 5
}
